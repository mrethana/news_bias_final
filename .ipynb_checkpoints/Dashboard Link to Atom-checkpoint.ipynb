{
 "cells": [
  {
   "cell_type": "code",
   "execution_count": 2,
   "metadata": {
    "extensions": {
     "jupyter_dashboards": {
      "version": 1,
      "views": {
       "grid_default": {
        "hidden": true
       },
       "report_default": {
        "hidden": true
       }
      }
     }
    }
   },
   "outputs": [],
   "source": [
    "import ipywidgets as widgets\n",
    "from ipywidgets import interact, interactive, fixed, interact_manual\n",
    "import ipywidgets as widgets\n",
    "from IPython.display import Image\n",
    "from IPython.core.display import HTML \n",
    "import time\n",
    "from ipywidgets import FloatProgress\n",
    "from IPython.display import display\n",
    "from bs4 import BeautifulSoup\n",
    "import requests\n",
    "import re\n",
    "from os import path\n",
    "from PIL import Image\n",
    "import pandas as pd\n",
    "import warnings\n",
    "warnings.filterwarnings(\"ignore\")\n",
    "from jupyter_dash import *\n",
    "from d2v_func import *\n",
    "from model_evaluation import *\n",
    "from pca_func import *"
   ]
  },
  {
   "cell_type": "markdown",
   "metadata": {
    "extensions": {
     "jupyter_dashboards": {
      "version": 1,
      "views": {
       "grid_default": {
        "col": 0,
        "height": 3,
        "hidden": false,
        "row": 0,
        "width": 4
       },
       "report_default": {}
      }
     }
    }
   },
   "source": [
    "# Live Search"
   ]
  },
  {
   "cell_type": "code",
   "execution_count": 3,
   "metadata": {
    "extensions": {
     "jupyter_dashboards": {
      "version": 1,
      "views": {
       "grid_default": {
        "col": 0,
        "height": 6,
        "hidden": false,
        "row": 3,
        "width": 4
       },
       "report_default": {}
      }
     }
    }
   },
   "outputs": [
    {
     "data": {
      "application/vnd.jupyter.widget-view+json": {
       "model_id": "a0834c7995aa4973a8d1b383023dc6c7",
       "version_major": 2,
       "version_minor": 0
      },
      "text/plain": [
       "interactive(children=(Text(value='', continuous_update=False, description='Search:', placeholder='Search News'…"
      ]
     },
     "metadata": {},
     "output_type": "display_data"
    }
   ],
   "source": [
    "search_widget = widgets.Text(placeholder = 'Search News', description='Search:', disabled=False,continuous_update=False)\n",
    "interact(quick_search, parameter=search_widget);"
   ]
  },
  {
   "cell_type": "code",
   "execution_count": 4,
   "metadata": {
    "extensions": {
     "jupyter_dashboards": {
      "version": 1,
      "views": {
       "grid_default": {
        "col": 4,
        "height": 25,
        "hidden": false,
        "row": 0,
        "width": 8
       },
       "report_default": {
        "hidden": true
       }
      }
     }
    }
   },
   "outputs": [
    {
     "data": {
      "application/vnd.jupyter.widget-view+json": {
       "model_id": "560d1554cd2e4ae8adb22ad381910412",
       "version_major": 2,
       "version_minor": 0
      },
      "text/plain": [
       "interactive(children=(IntSlider(value=1, description='Limit', max=20, min=1), ToggleButtons(description='Mediu…"
      ]
     },
     "metadata": {},
     "output_type": "display_data"
    }
   ],
   "source": [
    "Limit_widgetq = widgets.IntSlider(min=1, max=20, step=1, value=1)\n",
    "Medium_widgetq = widgets.ToggleButtons(options = ['Text', 'Audio','Video'], description ='Medium', button_style='')\n",
    "\n",
    "\n",
    "interact(quick_pull_content,Limit = Limit_widgetq, Medium = Medium_widgetq);\n"
   ]
  },
  {
   "cell_type": "code",
   "execution_count": 5,
   "metadata": {
    "extensions": {
     "jupyter_dashboards": {
      "version": 1,
      "views": {
       "grid_default": {
        "col": 0,
        "height": 8,
        "hidden": true,
        "row": 42,
        "width": 12
       },
       "report_default": {
        "hidden": true
       }
      }
     }
    }
   },
   "outputs": [],
   "source": [
    "# search_news('Brett Kavanaugh')\n",
    "# search_news('Russian hacking')\n",
    "# search_news('Donald Trump')"
   ]
  },
  {
   "cell_type": "code",
   "execution_count": 6,
   "metadata": {
    "extensions": {
     "jupyter_dashboards": {
      "version": 1,
      "views": {
       "grid_default": {
        "col": 0,
        "height": 3,
        "hidden": true,
        "row": 184,
        "width": 10
       },
       "report_default": {
        "hidden": false
       }
      }
     }
    }
   },
   "outputs": [],
   "source": [
    "# pd.read_csv('Archive_CSV/Russian_hackingcurrent_search.csv')"
   ]
  },
  {
   "cell_type": "markdown",
   "metadata": {
    "extensions": {
     "jupyter_dashboards": {
      "version": 1,
      "views": {
       "grid_default": {
        "col": 0,
        "height": 8,
        "hidden": false,
        "row": 9,
        "width": 4
       },
       "report_default": {}
      }
     }
    }
   },
   "source": [
    "# Followed Stories\n",
    "# 1. Brett Kavanaugh\n",
    "# 2. Russia Investigation\n",
    "# 3. Donald Trump\n"
   ]
  },
  {
   "cell_type": "code",
   "execution_count": 7,
   "metadata": {
    "extensions": {
     "jupyter_dashboards": {
      "version": 1,
      "views": {
       "grid_default": {
        "col": 0,
        "height": 8,
        "hidden": false,
        "row": 17,
        "width": 4
       },
       "report_default": {}
      }
     }
    }
   },
   "outputs": [
    {
     "data": {
      "application/vnd.jupyter.widget-view+json": {
       "model_id": "68b7e6a1af5e4f7192668df73d98fdaf",
       "version_major": 2,
       "version_minor": 0
      },
      "text/plain": [
       "interactive(children=(Text(value='', continuous_update=False, description='Topic 1:', placeholder='Search News…"
      ]
     },
     "metadata": {},
     "output_type": "display_data"
    },
    {
     "data": {
      "application/vnd.jupyter.widget-view+json": {
       "model_id": "7f34bff4da2548e0b87374359fe09c62",
       "version_major": 2,
       "version_minor": 0
      },
      "text/plain": [
       "interactive(children=(Text(value='', continuous_update=False, description='Topic 2:', placeholder='Search News…"
      ]
     },
     "metadata": {},
     "output_type": "display_data"
    },
    {
     "data": {
      "application/vnd.jupyter.widget-view+json": {
       "model_id": "587b7140b8df412cbcd8c7df9464a976",
       "version_major": 2,
       "version_minor": 0
      },
      "text/plain": [
       "interactive(children=(Text(value='', continuous_update=False, description='Topic 3:', placeholder='Search News…"
      ]
     },
     "metadata": {},
     "output_type": "display_data"
    }
   ],
   "source": [
    "search_widget_follow1 = widgets.Text(placeholder = 'Search News', description='Topic 1:', disabled=False,continuous_update=False)\n",
    "follow_widget = widgets.ToggleButtons(options = ['1'], description = '1', button_style='')\n",
    "interact(search_news, parameter=search_widget_follow1, follow_order = follow_widget);\n",
    "\n",
    "search_widget_follow2 = widgets.Text(placeholder = 'Search News', description='Topic 2:', disabled=False,continuous_update=False)\n",
    "follow_widget2 = widgets.ToggleButtons(options = ['2'], description = '2', button_style='')\n",
    "interact(search_news, parameter=search_widget_follow2, follow_order = follow_widget2);\n",
    "\n",
    "search_widget_follow3 = widgets.Text(placeholder = 'Search News', description='Topic 3:', disabled=False,continuous_update=False)\n",
    "follow_widget3 = widgets.ToggleButtons(options = ['3'], description = '3', button_style='')\n",
    "interact(search_news, parameter=search_widget_follow3, follow_order = follow_widget3);\n"
   ]
  },
  {
   "cell_type": "markdown",
   "metadata": {
    "extensions": {
     "jupyter_dashboards": {
      "version": 1,
      "views": {
       "grid_default": {
        "col": 0,
        "height": 3,
        "hidden": false,
        "row": 25,
        "width": 12
       },
       "report_default": {
        "hidden": false
       }
      }
     }
    }
   },
   "source": [
    "# Brett Kavanaugh"
   ]
  },
  {
   "cell_type": "code",
   "execution_count": 8,
   "metadata": {
    "extensions": {
     "jupyter_dashboards": {
      "version": 1,
      "views": {
       "grid_default": {
        "col": 0,
        "height": 12,
        "hidden": true,
        "row": 50,
        "width": 12
       },
       "report_default": {
        "hidden": true
       }
      }
     }
    }
   },
   "outputs": [],
   "source": [
    "# pd.read_csv('current_search.csv')"
   ]
  },
  {
   "cell_type": "code",
   "execution_count": 9,
   "metadata": {
    "extensions": {
     "jupyter_dashboards": {
      "version": 1,
      "views": {
       "grid_default": {
        "col": 0,
        "height": 17,
        "hidden": false,
        "row": 28,
        "width": 4
       },
       "report_default": {
        "hidden": true
       }
      }
     }
    },
    "scrolled": false
   },
   "outputs": [
    {
     "data": {
      "application/vnd.jupyter.widget-view+json": {
       "model_id": "f25fc51bc265464283e07d087378b93c",
       "version_major": 2,
       "version_minor": 0
      },
      "text/plain": [
       "interactive(children=(IntRangeSlider(value=(5, 50), description='Length', max=50), Dropdown(description='Persp…"
      ]
     },
     "metadata": {},
     "output_type": "display_data"
    }
   ],
   "source": [
    "# df = pd.read_csv('Archive_CSV/'+'Brett_Kavanaugh'+'current_search.csv', index_col=0)\n",
    "Length_widget1 = widgets.IntRangeSlider(min=0, max=50, step=1, value = [5,50])\n",
    "Perspective_widget1 = widgets.Dropdown(options=['right','left','center'],value = 'left',description = 'Perspective', disabled = False)\n",
    "Limit_widget1 = widgets.IntSlider(min=1, max=20, step=1, value=1)\n",
    "Medium_widget1 = widgets.ToggleButtons(options = ['Text', 'Audio','Video'], description ='Medium', button_style='')\n",
    "topic_widget1 = widgets.Dropdown(options = ['1'],value='1', description ='Topic', disabled=False)\n",
    "\n",
    "\n",
    "\n",
    "interact(pull_content,Length=Length_widget1, Perspective=Perspective_widget1, Limit = Limit_widget1, Medium = Medium_widget1, follow_order=topic_widget1);"
   ]
  },
  {
   "cell_type": "code",
   "execution_count": 10,
   "metadata": {
    "extensions": {
     "jupyter_dashboards": {
      "version": 1,
      "views": {
       "grid_default": {
        "col": 8,
        "height": 17,
        "hidden": false,
        "row": 28,
        "width": 4
       },
       "report_default": {}
      }
     }
    }
   },
   "outputs": [
    {
     "data": {
      "application/vnd.jupyter.widget-view+json": {
       "model_id": "da9fac5d6adf4582a316924cbc840d7f",
       "version_major": 2,
       "version_minor": 0
      },
      "text/plain": [
       "interactive(children=(IntRangeSlider(value=(5, 50), description='Length', max=50), Dropdown(description='Persp…"
      ]
     },
     "metadata": {},
     "output_type": "display_data"
    }
   ],
   "source": [
    "Length_widget1_2 = widgets.IntRangeSlider(min=0, max=50, step=1, value = [5,50])\n",
    "Perspective_widget1_2 = widgets.Dropdown(options=['right','left','center'],value = 'right',description = 'Perspective', disabled = False)\n",
    "Limit_widget1_2 = widgets.IntSlider(min=1, max=20, step=1, value=1)\n",
    "Medium_widget1_2 = widgets.ToggleButtons(options = ['Text', 'Audio','Video'], description ='Medium', button_style='')\n",
    "topic_widget1_2 = widgets.Dropdown(options = ['1'],value='1', description ='Topic', disabled=False)\n",
    "\n",
    "\n",
    "\n",
    "interact(pull_content,Length=Length_widget1_2, Perspective=Perspective_widget1_2, Limit = Limit_widget1_2, Medium = Medium_widget1_2, follow_order=topic_widget1_2);\n",
    "\n"
   ]
  },
  {
   "cell_type": "code",
   "execution_count": 11,
   "metadata": {
    "extensions": {
     "jupyter_dashboards": {
      "version": 1,
      "views": {
       "grid_default": {
        "col": 4,
        "height": 17,
        "hidden": false,
        "row": 28,
        "width": 4
       },
       "report_default": {}
      }
     }
    }
   },
   "outputs": [
    {
     "data": {
      "application/vnd.jupyter.widget-view+json": {
       "model_id": "e9e7c0a2abeb45dca393279c72b71efc",
       "version_major": 2,
       "version_minor": 0
      },
      "text/plain": [
       "interactive(children=(IntRangeSlider(value=(5, 50), description='Length', max=50), Dropdown(description='Persp…"
      ]
     },
     "metadata": {},
     "output_type": "display_data"
    }
   ],
   "source": [
    "Length_widget1_3 = widgets.IntRangeSlider(min=0, max=50, step=1, value = [5,50])\n",
    "Perspective_widget1_3 = widgets.Dropdown(options=['right','left','center'],value = 'center',description = 'Perspective', disabled = False)\n",
    "Limit_widget1_3 = widgets.IntSlider(min=1, max=20, step=1, value=1)\n",
    "Medium_widget1_3 = widgets.ToggleButtons(options = ['Text', 'Audio','Video'], description ='Medium', button_style='')\n",
    "topic_widget1_3 = widgets.Dropdown(options = ['1'],value='1', description ='Topic', disabled=False)\n",
    "\n",
    "\n",
    "\n",
    "interact(pull_content,Length=Length_widget1_3, Perspective=Perspective_widget1_3, Limit = Limit_widget1_3, Medium = Medium_widget1_3, follow_order=topic_widget1_3);\n",
    "\n"
   ]
  },
  {
   "cell_type": "code",
   "execution_count": 12,
   "metadata": {
    "extensions": {
     "jupyter_dashboards": {
      "version": 1,
      "views": {
       "grid_default": {
        "col": 0,
        "height": 19,
        "hidden": false,
        "row": 45,
        "width": 12
       },
       "report_default": {
        "hidden": false
       }
      }
     }
    }
   },
   "outputs": [
    {
     "data": {
      "text/html": [
       "<iframe id=\"igraph\" scrolling=\"no\" style=\"border:none;\" seamless=\"seamless\" src=\"https://plot.ly/~mrethana/90.embed\" height=\"525px\" width=\"100%\"></iframe>"
      ],
      "text/plain": [
       "<plotly.tools.PlotlyDisplay object>"
      ]
     },
     "execution_count": 12,
     "metadata": {},
     "output_type": "execute_result"
    }
   ],
   "source": [
    "\n",
    "def plot_metrics_vs_topics_side(metric, title):\n",
    "    plot_data = []\n",
    "    perspective = []\n",
    "    master_df = pd.read_csv('Archive_CSV/1current_search.csv',index_col=0)\n",
    "    for perspective in ['left','center','right']:\n",
    "        plot_data.append(master_df[metric][(master_df.label == perspective)])\n",
    "    trace0 = go.Box(y=plot_data[0],name = 'Left',marker = dict(color = 'blue'))\n",
    "    trace1 = go.Box(y=plot_data[1],name = 'Center',marker = dict(color = 'green'))\n",
    "    trace2 = go.Box(y=plot_data[2],name = 'Right',marker = dict(color = 'red'))\n",
    "    data = [trace0, trace1, trace2]\n",
    "    layout = go.Layout(title = \"% Opinion in Articles About Brett Kavanaugh by Political Leaning\",\n",
    "                       margin=go.Margin(l=25,r=25,b=50,t=50,pad=4))\n",
    "    fig = go.Figure(data=data,layout=layout)\n",
    "    return py.iplot(fig, filename = \"plot from API (20)\")\n",
    "plot_metrics_vs_topics_side('percent_opinion', 'Brett Kavanaugh')"
   ]
  },
  {
   "cell_type": "markdown",
   "metadata": {
    "extensions": {
     "jupyter_dashboards": {
      "version": 1,
      "views": {
       "grid_default": {
        "col": 0,
        "height": 4,
        "hidden": false,
        "row": 64,
        "width": 12
       },
       "report_default": {
        "hidden": false
       }
      }
     }
    }
   },
   "source": [
    "# Russia Investigation"
   ]
  },
  {
   "cell_type": "code",
   "execution_count": 13,
   "metadata": {
    "extensions": {
     "jupyter_dashboards": {
      "version": 1,
      "views": {
       "grid_default": {
        "col": 0,
        "height": 16,
        "hidden": false,
        "row": 68,
        "width": 4
       },
       "report_default": {
        "hidden": false
       }
      }
     }
    },
    "scrolled": false
   },
   "outputs": [
    {
     "data": {
      "application/vnd.jupyter.widget-view+json": {
       "model_id": "3b872d8ece744e629e834d7c1995749d",
       "version_major": 2,
       "version_minor": 0
      },
      "text/plain": [
       "interactive(children=(IntRangeSlider(value=(5, 50), description='Length', max=50), Dropdown(description='Persp…"
      ]
     },
     "metadata": {},
     "output_type": "display_data"
    }
   ],
   "source": [
    "Length_widget2 = widgets.IntRangeSlider(min=0, max=50, step=1, value = [5,50])\n",
    "Perspective_widget2 = widgets.Dropdown(options=['right','left','center'],value = 'left',description = 'Perspective', disabled = False)\n",
    "Limit_widget2 = widgets.IntSlider(min=1, max=20, step=1, value=1)\n",
    "Medium_widget2 = widgets.ToggleButtons(options = ['Text', 'Audio','Video'], description ='Medium', button_style='')\n",
    "topic_widget2 = widgets.Dropdown(options = ['2'],value='2', description ='Topic', disabled=False)\n",
    "\n",
    "\n",
    "interact(pull_content,Length=Length_widget2, Perspective=Perspective_widget2, Limit = Limit_widget2, Medium = Medium_widget2, follow_order=topic_widget2);"
   ]
  },
  {
   "cell_type": "code",
   "execution_count": 14,
   "metadata": {
    "extensions": {
     "jupyter_dashboards": {
      "version": 1,
      "views": {
       "grid_default": {
        "col": 4,
        "height": 16,
        "hidden": false,
        "row": 68,
        "width": 4
       },
       "report_default": {}
      }
     }
    }
   },
   "outputs": [
    {
     "data": {
      "application/vnd.jupyter.widget-view+json": {
       "model_id": "f2691e44d4b145be920d6b5b644660a0",
       "version_major": 2,
       "version_minor": 0
      },
      "text/plain": [
       "interactive(children=(IntRangeSlider(value=(5, 50), description='Length', max=50), Dropdown(description='Persp…"
      ]
     },
     "metadata": {},
     "output_type": "display_data"
    }
   ],
   "source": [
    "Length_widget2_2 = widgets.IntRangeSlider(min=0, max=50, step=1, value = [5,50])\n",
    "Perspective_widget2_2 = widgets.Dropdown(options=['right','left','center'],value = 'center',description = 'Perspective', disabled = False)\n",
    "Limit_widget2_2 = widgets.IntSlider(min=1, max=20, step=1, value=1)\n",
    "Medium_widget2_2 = widgets.ToggleButtons(options = ['Text', 'Audio','Video'], description ='Medium', button_style='')\n",
    "topic_widget2_2 = widgets.Dropdown(options = ['2'],value='2', description ='Topic', disabled=False)\n",
    "\n",
    "\n",
    "interact(pull_content,Length=Length_widget2_2, Perspective=Perspective_widget2_2, Limit = Limit_widget2_2, Medium = Medium_widget2_2, follow_order=topic_widget2_2);"
   ]
  },
  {
   "cell_type": "code",
   "execution_count": 15,
   "metadata": {
    "extensions": {
     "jupyter_dashboards": {
      "version": 1,
      "views": {
       "grid_default": {
        "col": 8,
        "height": 16,
        "hidden": false,
        "row": 68,
        "width": 4
       },
       "report_default": {}
      }
     }
    }
   },
   "outputs": [
    {
     "data": {
      "application/vnd.jupyter.widget-view+json": {
       "model_id": "60c7274b6678499b8a5ab585097fbbaa",
       "version_major": 2,
       "version_minor": 0
      },
      "text/plain": [
       "interactive(children=(IntRangeSlider(value=(5, 50), description='Length', max=50), Dropdown(description='Persp…"
      ]
     },
     "metadata": {},
     "output_type": "display_data"
    }
   ],
   "source": [
    "Length_widget2_3 = widgets.IntRangeSlider(min=0, max=50, step=1, value = [5,50])\n",
    "Perspective_widget2_3 = widgets.Dropdown(options=['right','left','center'],value = 'right',description = 'Perspective', disabled = False)\n",
    "Limit_widget2_3 = widgets.IntSlider(min=1, max=20, step=1, value=1)\n",
    "Medium_widget2_3 = widgets.ToggleButtons(options = ['Text', 'Audio','Video'], description ='Medium', button_style='')\n",
    "topic_widget2_3 = widgets.Dropdown(options = ['2'],value='2', description ='Topic', disabled=False)\n",
    "\n",
    "\n",
    "interact(pull_content,Length=Length_widget2_3, Perspective=Perspective_widget2_3, Limit = Limit_widget2_3, Medium = Medium_widget2_3, follow_order=topic_widget2_3);"
   ]
  },
  {
   "cell_type": "code",
   "execution_count": 16,
   "metadata": {
    "extensions": {
     "jupyter_dashboards": {
      "version": 1,
      "views": {
       "grid_default": {
        "col": 0,
        "height": 19,
        "hidden": false,
        "row": 84,
        "width": 12
       },
       "report_default": {
        "hidden": false
       }
      }
     }
    }
   },
   "outputs": [
    {
     "data": {
      "text/html": [
       "<iframe id=\"igraph\" scrolling=\"no\" style=\"border:none;\" seamless=\"seamless\" src=\"https://plot.ly/~mrethana/90.embed\" height=\"525px\" width=\"100%\"></iframe>"
      ],
      "text/plain": [
       "<plotly.tools.PlotlyDisplay object>"
      ]
     },
     "execution_count": 16,
     "metadata": {},
     "output_type": "execute_result"
    }
   ],
   "source": [
    "def plot_metrics_vs_topics_side(metric, title):\n",
    "    plot_data = []\n",
    "    perspective = []\n",
    "    master_df = pd.read_csv('Archive_CSV/2current_search.csv',index_col=0)\n",
    "    for perspective in ['left','center','right']:\n",
    "        plot_data.append(master_df[metric][(master_df.label == perspective)])\n",
    "    trace0 = go.Box(y=plot_data[0],name = 'Left',marker = dict(color = 'blue'))\n",
    "    trace1 = go.Box(y=plot_data[1],name = 'Center',marker = dict(color = 'green'))\n",
    "    trace2 = go.Box(y=plot_data[2],name = 'Right',marker = dict(color = 'red'))\n",
    "    data = [trace0, trace1, trace2]\n",
    "    layout = go.Layout(title = \"% Opinion in Articles About Russia Investigation by Political Leaning\",\n",
    "                       margin=go.Margin(l=25,r=25,b=50,t=50,pad=4))\n",
    "    fig = go.Figure(data=data,layout=layout)\n",
    "    return py.iplot(fig, filename = \"plot from API (20)\")\n",
    "plot_metrics_vs_topics_side('percent_opinion', 'Russian Hacking')"
   ]
  },
  {
   "cell_type": "markdown",
   "metadata": {
    "extensions": {
     "jupyter_dashboards": {
      "version": 1,
      "views": {
       "grid_default": {
        "col": 0,
        "height": 4,
        "hidden": false,
        "row": 103,
        "width": 12
       },
       "report_default": {
        "hidden": false
       }
      }
     }
    }
   },
   "source": [
    "# Donald Trump"
   ]
  },
  {
   "cell_type": "code",
   "execution_count": 17,
   "metadata": {
    "extensions": {
     "jupyter_dashboards": {
      "version": 1,
      "views": {
       "grid_default": {
        "col": 0,
        "height": 17,
        "hidden": false,
        "row": 107,
        "width": 4
       },
       "report_default": {
        "hidden": false
       }
      }
     }
    },
    "scrolled": false
   },
   "outputs": [
    {
     "data": {
      "application/vnd.jupyter.widget-view+json": {
       "model_id": "cf94d3121ab14205b73813f6e0fae1ea",
       "version_major": 2,
       "version_minor": 0
      },
      "text/plain": [
       "interactive(children=(IntRangeSlider(value=(5, 50), description='Length', max=50), Dropdown(description='Persp…"
      ]
     },
     "metadata": {},
     "output_type": "display_data"
    }
   ],
   "source": [
    "Length_widget3 = widgets.IntRangeSlider(min=0, max=50, step=1, value = [5,50])\n",
    "Perspective_widget3 = widgets.Dropdown(options=['right','left','center'],value = 'left',description = 'Perspective', disabled = False)\n",
    "Limit_widget3 = widgets.IntSlider(min=1, max=20, step=1, value=1)\n",
    "Medium_widget3 = widgets.ToggleButtons(options = ['Text', 'Audio','Video'], description ='Medium', button_style='')\n",
    "topic_widget3 = widgets.Dropdown(options = ['3'],value='3', description ='Topic', disabled=False)\n",
    "\n",
    "\n",
    "\n",
    "interact(pull_content,Length=Length_widget3, Perspective=Perspective_widget3, Limit = Limit_widget3, Medium = Medium_widget3, follow_order=topic_widget3);\n"
   ]
  },
  {
   "cell_type": "code",
   "execution_count": 18,
   "metadata": {
    "extensions": {
     "jupyter_dashboards": {
      "version": 1,
      "views": {
       "grid_default": {
        "col": 4,
        "height": 17,
        "hidden": false,
        "row": 107,
        "width": 4
       },
       "report_default": {}
      }
     }
    }
   },
   "outputs": [
    {
     "data": {
      "application/vnd.jupyter.widget-view+json": {
       "model_id": "7a29cb75b51c4b1ca78f679331b43b6a",
       "version_major": 2,
       "version_minor": 0
      },
      "text/plain": [
       "interactive(children=(IntRangeSlider(value=(5, 50), description='Length', max=50), Dropdown(description='Persp…"
      ]
     },
     "metadata": {},
     "output_type": "display_data"
    }
   ],
   "source": [
    "Length_widget3_2 = widgets.IntRangeSlider(min=0, max=50, step=1, value = [5,50])\n",
    "Perspective_widget3_2 = widgets.Dropdown(options=['right','left','center'],value = 'center',description = 'Perspective', disabled = False)\n",
    "Limit_widget3_2 = widgets.IntSlider(min=1, max=20, step=1, value=1)\n",
    "Medium_widget3_2 = widgets.ToggleButtons(options = ['Text', 'Audio','Video'], description ='Medium', button_style='')\n",
    "topic_widget3_2 = widgets.Dropdown(options = ['3'],value='3', description ='Topic', disabled=False)\n",
    "\n",
    "\n",
    "\n",
    "interact(pull_content,Length=Length_widget3_2, Perspective=Perspective_widget3_2, Limit = Limit_widget3_2, Medium = Medium_widget3_2, follow_order=topic_widget3_2);\n"
   ]
  },
  {
   "cell_type": "code",
   "execution_count": 19,
   "metadata": {
    "extensions": {
     "jupyter_dashboards": {
      "version": 1,
      "views": {
       "grid_default": {
        "col": 8,
        "height": 17,
        "hidden": false,
        "row": 107,
        "width": 4
       },
       "report_default": {}
      }
     }
    }
   },
   "outputs": [
    {
     "data": {
      "application/vnd.jupyter.widget-view+json": {
       "model_id": "69e15fc060a948a0bacb7099e97e2c7b",
       "version_major": 2,
       "version_minor": 0
      },
      "text/plain": [
       "interactive(children=(IntRangeSlider(value=(5, 50), description='Length', max=50), Dropdown(description='Persp…"
      ]
     },
     "metadata": {},
     "output_type": "display_data"
    }
   ],
   "source": [
    "Length_widget3_3 = widgets.IntRangeSlider(min=0, max=50, step=1, value = [5,50])\n",
    "Perspective_widget3_3 = widgets.Dropdown(options=['right','left','center'],value = 'right',description = 'Perspective', disabled = False)\n",
    "Limit_widget3_3 = widgets.IntSlider(min=1, max=20, step=1, value=1)\n",
    "Medium_widget3_3 = widgets.ToggleButtons(options = ['Text', 'Audio','Video'], description ='Medium', button_style='')\n",
    "topic_widget3_3 = widgets.Dropdown(options = ['3'],value='3', description ='Topic', disabled=False)\n",
    "\n",
    "\n",
    "\n",
    "interact(pull_content,Length=Length_widget3_3, Perspective=Perspective_widget3_3, Limit = Limit_widget3_3, Medium = Medium_widget3_3, follow_order=topic_widget3_3);\n"
   ]
  },
  {
   "cell_type": "code",
   "execution_count": 20,
   "metadata": {
    "extensions": {
     "jupyter_dashboards": {
      "version": 1,
      "views": {
       "grid_default": {
        "col": 0,
        "height": 19,
        "hidden": false,
        "row": 124,
        "width": 12
       },
       "report_default": {
        "hidden": false
       }
      }
     }
    }
   },
   "outputs": [
    {
     "data": {
      "text/html": [
       "<iframe id=\"igraph\" scrolling=\"no\" style=\"border:none;\" seamless=\"seamless\" src=\"https://plot.ly/~mrethana/90.embed\" height=\"525px\" width=\"100%\"></iframe>"
      ],
      "text/plain": [
       "<plotly.tools.PlotlyDisplay object>"
      ]
     },
     "execution_count": 20,
     "metadata": {},
     "output_type": "execute_result"
    }
   ],
   "source": [
    "def plot_metrics_vs_topics_side(metric, title):\n",
    "    plot_data = []\n",
    "    perspective = []\n",
    "    master_df = pd.read_csv('Archive_CSV/3current_search.csv',index_col=0)\n",
    "    for perspective in ['left','center','right']:\n",
    "        plot_data.append(master_df[metric][(master_df.label == perspective)])\n",
    "    trace0 = go.Box(y=plot_data[0],name = 'Left',marker = dict(color = 'blue'))\n",
    "    trace1 = go.Box(y=plot_data[1],name = 'Center',marker = dict(color = 'green'))\n",
    "    trace2 = go.Box(y=plot_data[2],name = 'Right',marker = dict(color = 'red'))\n",
    "    data = [trace0, trace1, trace2]\n",
    "    \n",
    "    layout = go.Layout(title = \"% Opinion in Articles About Donald Trump by Political Leaning\",\n",
    "                       margin=go.Margin(l=25,r=25,b=50,t=50,pad=4))\n",
    "    fig = go.Figure(data=data,layout=layout)\n",
    "    return py.iplot(fig, filename = \"plot from API (20)\")\n",
    "plot_metrics_vs_topics_side('percent_opinion', 'Donald Trump')"
   ]
  },
  {
   "cell_type": "markdown",
   "metadata": {
    "extensions": {
     "jupyter_dashboards": {
      "version": 1,
      "views": {
       "grid_default": {
        "col": 0,
        "height": 4,
        "hidden": false,
        "row": 143,
        "width": 12
       },
       "report_default": {
        "hidden": true
       }
      }
     }
    }
   },
   "source": [
    "# Perspective Metrics"
   ]
  },
  {
   "cell_type": "code",
   "execution_count": 18,
   "metadata": {
    "extensions": {
     "jupyter_dashboards": {
      "version": 1,
      "views": {
       "grid_default": {
        "hidden": true
       },
       "report_default": {
        "hidden": true
       }
      }
     }
    }
   },
   "outputs": [],
   "source": [
    "Trigram_DBOW = Doc2Vec.load(\"D2V_models/TRI_d2v_dbow100.model\")\n"
   ]
  },
  {
   "cell_type": "code",
   "execution_count": 19,
   "metadata": {
    "extensions": {
     "jupyter_dashboards": {
      "version": 1,
      "views": {
       "grid_default": {
        "col": 0,
        "height": 41,
        "hidden": false,
        "row": 147,
        "width": 12
       },
       "report_default": {
        "hidden": false
       }
      }
     }
    }
   },
   "outputs": [
    {
     "data": {
      "application/vnd.jupyter.widget-view+json": {
       "model_id": "91c550e59833403cb80af09febaa4cf4",
       "version_major": 2,
       "version_minor": 0
      },
      "text/plain": [
       "interactive(children=(ToggleButtons(description='Stats', options=('PCA', 'CM'), value='PCA'), Output()), _dom_…"
      ]
     },
     "metadata": {},
     "output_type": "display_data"
    }
   ],
   "source": [
    "Metric_widget = widgets.ToggleButtons(options = ['PCA', 'CM'], description ='Stats', button_style='')\n",
    "\n",
    "def choose_metric(metric):\n",
    "    if metric == 'PCA':\n",
    "        return dynamic_PCA(Trigram_DBOW,100)\n",
    "    else:\n",
    "        return evaluate_classifier_model('Trigram_DBOW', RF_fixed)\n",
    "\n",
    "interact(choose_metric, metric = Metric_widget);"
   ]
  },
  {
   "cell_type": "code",
   "execution_count": null,
   "metadata": {
    "extensions": {
     "jupyter_dashboards": {
      "version": 1,
      "views": {
       "grid_default": {
        "hidden": true
       },
       "report_default": {
        "hidden": true
       }
      }
     }
    }
   },
   "outputs": [],
   "source": [
    "# labels = all_df.set_index('source_name')['label'].to_dict()"
   ]
  },
  {
   "cell_type": "code",
   "execution_count": null,
   "metadata": {
    "extensions": {
     "jupyter_dashboards": {
      "version": 1,
      "views": {
       "grid_default": {
        "hidden": true
       },
       "report_default": {
        "hidden": true
       }
      }
     }
    }
   },
   "outputs": [],
   "source": [
    "# scraped_df = pd.read_csv('scraped_df.csv',index_col = 0)"
   ]
  },
  {
   "cell_type": "code",
   "execution_count": null,
   "metadata": {
    "extensions": {
     "jupyter_dashboards": {
      "version": 1,
      "views": {
       "grid_default": {
        "hidden": true
       },
       "report_default": {
        "hidden": true
       }
      }
     }
    }
   },
   "outputs": [],
   "source": [
    "# def label_scraped_data(label_dict,scraped_data):\n",
    "#     label_list = []\n",
    "#     for index, row in scraped_data.iterrows():\n",
    "#         if row.source_name in list(label_dict.keys()):\n",
    "#             label_list.append(label_dict[row.source_name])\n",
    "#         else:\n",
    "#             label_list.append('na')\n",
    "#     scraped_data['labels'] = label_list\n",
    "#     return scraped_data"
   ]
  },
  {
   "cell_type": "markdown",
   "metadata": {
    "extensions": {
     "jupyter_dashboards": {
      "version": 1,
      "views": {
       "grid_default": {
        "col": 0,
        "height": 4,
        "hidden": true,
        "row": 99,
        "width": 12
       },
       "report_default": {
        "hidden": false
       }
      }
     }
    }
   },
   "source": [
    "# Conclusion: Sources with similar political bias' generally provide a similar type of coverage regardless of subject matter, therefore news aggregators should diversify type of content pushed to users"
   ]
  }
 ],
 "metadata": {
  "extensions": {
   "jupyter_dashboards": {
    "activeView": "grid_default",
    "version": 1,
    "views": {
     "grid_default": {
      "cellMargin": 10,
      "defaultCellHeight": 20,
      "maxColumns": 12,
      "name": "grid",
      "type": "grid"
     },
     "report_default": {
      "name": "report",
      "type": "report"
     }
    }
   }
  },
  "kernelspec": {
   "display_name": "Python 3",
   "language": "python",
   "name": "python3"
  },
  "language_info": {
   "codemirror_mode": {
    "name": "ipython",
    "version": 3
   },
   "file_extension": ".py",
   "mimetype": "text/x-python",
   "name": "python",
   "nbconvert_exporter": "python",
   "pygments_lexer": "ipython3",
   "version": "3.6.5"
  }
 },
 "nbformat": 4,
 "nbformat_minor": 2
}
