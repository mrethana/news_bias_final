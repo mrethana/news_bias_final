{
 "cells": [
  {
   "cell_type": "code",
   "execution_count": 1,
   "metadata": {
    "extensions": {
     "jupyter_dashboards": {
      "version": 1,
      "views": {
       "grid_default": {
        "hidden": true
       },
       "report_default": {
        "hidden": true
       }
      }
     }
    }
   },
   "outputs": [
    {
     "name": "stderr",
     "output_type": "stream",
     "text": [
      "/anaconda3/lib/python3.6/importlib/_bootstrap.py:219: RuntimeWarning:\n",
      "\n",
      "numpy.dtype size changed, may indicate binary incompatibility. Expected 96, got 88\n",
      "\n",
      "/anaconda3/lib/python3.6/importlib/_bootstrap.py:219: ImportWarning:\n",
      "\n",
      "can't resolve package from __spec__ or __package__, falling back on __name__ and __path__\n",
      "\n",
      "/anaconda3/lib/python3.6/site-packages/nltk/twitter/__init__.py:20: UserWarning:\n",
      "\n",
      "The twython library has not been installed. Some functionality from the twitter package will not be available.\n",
      "\n",
      "/anaconda3/lib/python3.6/site-packages/wordcloud/wordcloud.py:30: ResourceWarning:\n",
      "\n",
      "unclosed file <_io.TextIOWrapper name='/anaconda3/lib/python3.6/site-packages/wordcloud/stopwords' mode='r' encoding='UTF-8'>\n",
      "\n"
     ]
    },
    {
     "name": "stdout",
     "output_type": "stream",
     "text": [
      "[nltk_data] Downloading package maxent_ne_chunker to\n",
      "[nltk_data]     /Users/markrethana/nltk_data...\n",
      "[nltk_data]   Package maxent_ne_chunker is already up-to-date!\n",
      "[nltk_data] Downloading package maxent_ne_chunker to\n",
      "[nltk_data]     /Users/markrethana/nltk_data...\n",
      "[nltk_data]   Package maxent_ne_chunker is already up-to-date!\n",
      "[nltk_data] Downloading package words to\n",
      "[nltk_data]     /Users/markrethana/nltk_data...\n",
      "[nltk_data]   Package words is already up-to-date!\n"
     ]
    },
    {
     "name": "stderr",
     "output_type": "stream",
     "text": [
      "/anaconda3/lib/python3.6/site-packages/nltk/corpus/reader/wordlist.py:28: ResourceWarning:\n",
      "\n",
      "unclosed file <_io.BufferedReader name='/Users/markrethana/nltk_data/corpora/stopwords/english'>\n",
      "\n"
     ]
    }
   ],
   "source": [
    "import ipywidgets as widgets\n",
    "from ipywidgets import interact, interactive, fixed, interact_manual\n",
    "import ipywidgets as widgets\n",
    "from IPython.display import Image\n",
    "from IPython.core.display import HTML \n",
    "import time\n",
    "from ipywidgets import FloatProgress\n",
    "from IPython.display import display\n",
    "from bs4 import BeautifulSoup\n",
    "import requests\n",
    "import re\n",
    "from os import path\n",
    "from PIL import Image\n",
    "import pandas as pd\n",
    "import warnings\n",
    "warnings.filterwarnings(\"ignore\")\n",
    "from jupyter_dash import *\n",
    "from d2v_func import *\n",
    "from model_evaluation import *\n",
    "from pca_func import *"
   ]
  },
  {
   "cell_type": "code",
   "execution_count": 2,
   "metadata": {
    "extensions": {
     "jupyter_dashboards": {
      "version": 1,
      "views": {
       "grid_default": {
        "col": 0,
        "height": 3,
        "hidden": false,
        "row": 0,
        "width": 12
       },
       "report_default": {
        "hidden": true
       }
      }
     }
    }
   },
   "outputs": [
    {
     "data": {
      "application/vnd.jupyter.widget-view+json": {
       "model_id": "67478ad9d72f4961806f1fe9eadaf15d",
       "version_major": 2,
       "version_minor": 0
      },
      "text/plain": [
       "interactive(children=(Text(value='', description='Search:', placeholder='Search News'), Output()), _dom_classe…"
      ]
     },
     "metadata": {},
     "output_type": "display_data"
    }
   ],
   "source": [
    "search_widget = widgets.Text(placeholder = 'Search News', description='Search:', disabled=False)\n",
    "\n",
    "\n",
    "interact(search_news, parameter=search_widget);"
   ]
  },
  {
   "cell_type": "code",
   "execution_count": 3,
   "metadata": {
    "extensions": {
     "jupyter_dashboards": {
      "version": 1,
      "views": {
       "grid_default": {
        "col": 0,
        "height": 8,
        "hidden": true,
        "row": 42,
        "width": 12
       },
       "report_default": {
        "hidden": true
       }
      }
     }
    }
   },
   "outputs": [],
   "source": [
    "# search_news('Brett Kavanaugh')\n",
    "# search_news('Russian hacking')\n",
    "# search_news('Donald Trump')"
   ]
  },
  {
   "cell_type": "code",
   "execution_count": 29,
   "metadata": {
    "extensions": {
     "jupyter_dashboards": {
      "version": 1,
      "views": {
       "grid_default": {
        "col": 0,
        "height": 3,
        "hidden": true,
        "row": 184,
        "width": 10
       },
       "report_default": {
        "hidden": false
       }
      }
     }
    }
   },
   "outputs": [],
   "source": [
    "# pd.read_csv('Archive_CSV/Russian_hackingcurrent_search.csv')"
   ]
  },
  {
   "cell_type": "markdown",
   "metadata": {
    "extensions": {
     "jupyter_dashboards": {
      "version": 1,
      "views": {
       "grid_default": {
        "col": 0,
        "height": 3,
        "hidden": false,
        "row": 3,
        "width": 12
       },
       "report_default": {
        "hidden": false
       }
      }
     }
    }
   },
   "source": [
    "# Brett Kavanaugh"
   ]
  },
  {
   "cell_type": "code",
   "execution_count": 4,
   "metadata": {
    "extensions": {
     "jupyter_dashboards": {
      "version": 1,
      "views": {
       "grid_default": {
        "col": 0,
        "height": 12,
        "hidden": true,
        "row": 50,
        "width": 12
       },
       "report_default": {
        "hidden": true
       }
      }
     }
    }
   },
   "outputs": [],
   "source": [
    "# pd.read_csv('current_search.csv')"
   ]
  },
  {
   "cell_type": "code",
   "execution_count": 30,
   "metadata": {
    "extensions": {
     "jupyter_dashboards": {
      "version": 1,
      "views": {
       "grid_default": {
        "col": 0,
        "height": 17,
        "hidden": false,
        "row": 6,
        "width": 4
       },
       "report_default": {
        "hidden": true
       }
      }
     }
    },
    "scrolled": false
   },
   "outputs": [
    {
     "data": {
      "application/vnd.jupyter.widget-view+json": {
       "model_id": "65442713e3e9409ab4b5365e01f115b2",
       "version_major": 2,
       "version_minor": 0
      },
      "text/plain": [
       "interactive(children=(IntRangeSlider(value=(5, 50), description='Length', max=50), Dropdown(description='Persp…"
      ]
     },
     "metadata": {},
     "output_type": "display_data"
    }
   ],
   "source": [
    "# df = pd.read_csv('Archive_CSV/'+'Brett_Kavanaugh'+'current_search.csv', index_col=0)\n",
    "Length_widget1 = widgets.IntRangeSlider(min=0, max=50, step=1, value = [5,50])\n",
    "Perspective_widget1 = widgets.Dropdown(options=['right','left','center'],value = 'left',description = 'Perspective', disabled = False)\n",
    "Limit_widget1 = widgets.IntSlider(min=1, max=20, step=1, value=1)\n",
    "Medium_widget1 = widgets.ToggleButtons(options = ['Text', 'Audio','Video'], description ='Medium', button_style='')\n",
    "topic_widget1 = widgets.Dropdown(options = ['Brett_Kavanaugh', 'Russian_hacking','Donald_Trump'],value='Brett_Kavanaugh', description ='Topic', disabled=False)\n",
    "\n",
    "\n",
    "\n",
    "interact(pull_content,Length=Length_widget1, Perspective=Perspective_widget1, Limit = Limit_widget1, Medium = Medium_widget1, topic_string=topic_widget1);"
   ]
  },
  {
   "cell_type": "code",
   "execution_count": 31,
   "metadata": {
    "extensions": {
     "jupyter_dashboards": {
      "version": 1,
      "views": {
       "grid_default": {
        "col": 8,
        "height": 17,
        "hidden": false,
        "row": 6,
        "width": 4
       },
       "report_default": {}
      }
     }
    }
   },
   "outputs": [
    {
     "data": {
      "application/vnd.jupyter.widget-view+json": {
       "model_id": "4871b0ae3a84426dbe817409165a9089",
       "version_major": 2,
       "version_minor": 0
      },
      "text/plain": [
       "interactive(children=(IntRangeSlider(value=(5, 50), description='Length', max=50), Dropdown(description='Persp…"
      ]
     },
     "metadata": {},
     "output_type": "display_data"
    }
   ],
   "source": [
    "Length_widget1_2 = widgets.IntRangeSlider(min=0, max=50, step=1, value = [5,50])\n",
    "Perspective_widget1_2 = widgets.Dropdown(options=['right','left','center'],value = 'right',description = 'Perspective', disabled = False)\n",
    "Limit_widget1_2 = widgets.IntSlider(min=1, max=20, step=1, value=1)\n",
    "Medium_widget1_2 = widgets.ToggleButtons(options = ['Text', 'Audio','Video'], description ='Medium', button_style='')\n",
    "topic_widget1_2 = widgets.Dropdown(options = ['Brett_Kavanaugh', 'Russian_hacking','Donald_Trump'],value='Brett_Kavanaugh', description ='Topic', disabled=False)\n",
    "\n",
    "\n",
    "\n",
    "interact(pull_content,Length=Length_widget1_2, Perspective=Perspective_widget1_2, Limit = Limit_widget1_2, Medium = Medium_widget1_2, topic_string=topic_widget1_2);\n",
    "\n"
   ]
  },
  {
   "cell_type": "code",
   "execution_count": 32,
   "metadata": {
    "extensions": {
     "jupyter_dashboards": {
      "version": 1,
      "views": {
       "grid_default": {
        "col": 4,
        "height": 17,
        "hidden": false,
        "row": 6,
        "width": 4
       },
       "report_default": {}
      }
     }
    }
   },
   "outputs": [
    {
     "data": {
      "application/vnd.jupyter.widget-view+json": {
       "model_id": "961619eae6ff43a9836e4c8449c495ad",
       "version_major": 2,
       "version_minor": 0
      },
      "text/plain": [
       "interactive(children=(IntRangeSlider(value=(5, 50), description='Length', max=50), Dropdown(description='Persp…"
      ]
     },
     "metadata": {},
     "output_type": "display_data"
    }
   ],
   "source": [
    "Length_widget1_3 = widgets.IntRangeSlider(min=0, max=50, step=1, value = [5,50])\n",
    "Perspective_widget1_3 = widgets.Dropdown(options=['right','left','center'],value = 'center',description = 'Perspective', disabled = False)\n",
    "Limit_widget1_3 = widgets.IntSlider(min=1, max=20, step=1, value=1)\n",
    "Medium_widget1_3 = widgets.ToggleButtons(options = ['Text', 'Audio','Video'], description ='Medium', button_style='')\n",
    "topic_widget1_3 = widgets.Dropdown(options = ['Brett_Kavanaugh', 'Russian_hacking','Donald_Trump'],value='Brett_Kavanaugh', description ='Topic', disabled=False)\n",
    "\n",
    "\n",
    "\n",
    "interact(pull_content,Length=Length_widget1_3, Perspective=Perspective_widget1_3, Limit = Limit_widget1_3, Medium = Medium_widget1_3, topic_string=topic_widget1_3);\n",
    "\n"
   ]
  },
  {
   "cell_type": "code",
   "execution_count": 28,
   "metadata": {
    "extensions": {
     "jupyter_dashboards": {
      "version": 1,
      "views": {
       "grid_default": {
        "col": 0,
        "height": 19,
        "hidden": false,
        "row": 23,
        "width": 12
       },
       "report_default": {
        "hidden": false
       }
      }
     }
    }
   },
   "outputs": [
    {
     "name": "stderr",
     "output_type": "stream",
     "text": [
      "/anaconda3/lib/python3.6/site-packages/plotly/graph_objs/_deprecations.py:396: DeprecationWarning:\n",
      "\n",
      "plotly.graph_objs.Margin is deprecated.\n",
      "Please replace it with one of the following more specific types\n",
      "  - plotly.graph_objs.layout.Margin\n",
      "\n",
      "\n"
     ]
    },
    {
     "data": {
      "text/html": [
       "<iframe id=\"igraph\" scrolling=\"no\" style=\"border:none;\" seamless=\"seamless\" src=\"https://plot.ly/~mrethana/90.embed\" height=\"525px\" width=\"100%\"></iframe>"
      ],
      "text/plain": [
       "<plotly.tools.PlotlyDisplay object>"
      ]
     },
     "execution_count": 28,
     "metadata": {},
     "output_type": "execute_result"
    }
   ],
   "source": [
    "\n",
    "def plot_metrics_vs_topics_side(metric, title):\n",
    "    plot_data = []\n",
    "    perspective = []\n",
    "    master_df = pd.read_csv('Archive_CSV/Brett_Kavanaughcurrent_search.csv',index_col=0)\n",
    "    for perspective in ['right', 'left', 'center']:\n",
    "        plot_data.append(master_df[metric][(master_df.label == perspective)])\n",
    "    trace0 = go.Box(y=plot_data[0],name = 'Right',marker = dict(color = 'red'))\n",
    "    trace1 = go.Box(y=plot_data[1],name = 'Left',marker = dict(color = 'blue'))\n",
    "    trace2 = go.Box(y=plot_data[2],name = 'Center',marker = dict(color = 'green'))\n",
    "    data = [trace0, trace1, trace2]\n",
    "    layout = go.Layout(title = \"% Opinion in Articles About Brett Kavanaugh by Political Leaning\",\n",
    "                       margin=go.Margin(l=25,r=25,b=50,t=50,pad=4))\n",
    "    fig = go.Figure(data=data,layout=layout)\n",
    "    return py.iplot(fig, filename = \"plot from API (20)\")\n",
    "plot_metrics_vs_topics_side('percent_opinion', 'Brett Kavanaugh')"
   ]
  },
  {
   "cell_type": "markdown",
   "metadata": {
    "extensions": {
     "jupyter_dashboards": {
      "version": 1,
      "views": {
       "grid_default": {
        "col": 0,
        "height": 4,
        "hidden": false,
        "row": 42,
        "width": 12
       },
       "report_default": {
        "hidden": false
       }
      }
     }
    }
   },
   "source": [
    "# Russia Investigation"
   ]
  },
  {
   "cell_type": "code",
   "execution_count": 33,
   "metadata": {
    "extensions": {
     "jupyter_dashboards": {
      "version": 1,
      "views": {
       "grid_default": {
        "col": 0,
        "height": 16,
        "hidden": false,
        "row": 46,
        "width": 4
       },
       "report_default": {
        "hidden": false
       }
      }
     }
    },
    "scrolled": false
   },
   "outputs": [
    {
     "data": {
      "application/vnd.jupyter.widget-view+json": {
       "model_id": "d47f99cc992543f2a9b3041e2ac182f9",
       "version_major": 2,
       "version_minor": 0
      },
      "text/plain": [
       "interactive(children=(IntRangeSlider(value=(5, 50), description='Length', max=50), Dropdown(description='Persp…"
      ]
     },
     "metadata": {},
     "output_type": "display_data"
    }
   ],
   "source": [
    "Length_widget2 = widgets.IntRangeSlider(min=0, max=50, step=1, value = [5,50])\n",
    "Perspective_widget2 = widgets.Dropdown(options=['right','left','center'],value = 'left',description = 'Perspective', disabled = False)\n",
    "Limit_widget2 = widgets.IntSlider(min=1, max=20, step=1, value=1)\n",
    "Medium_widget2 = widgets.ToggleButtons(options = ['Text', 'Audio','Video'], description ='Medium', button_style='')\n",
    "topic_widget2 = widgets.Dropdown(options = ['Brett_Kavanaugh', 'Russian_hacking','Donald_Trump'],value='Russian_hacking', description ='Topic', disabled=False)\n",
    "\n",
    "\n",
    "interact(pull_content,Length=Length_widget2, Perspective=Perspective_widget2, Limit = Limit_widget2, Medium = Medium_widget2, topic_string=topic_widget2);"
   ]
  },
  {
   "cell_type": "code",
   "execution_count": 34,
   "metadata": {
    "extensions": {
     "jupyter_dashboards": {
      "version": 1,
      "views": {
       "grid_default": {
        "col": 4,
        "height": 16,
        "hidden": false,
        "row": 46,
        "width": 4
       },
       "report_default": {}
      }
     }
    }
   },
   "outputs": [
    {
     "data": {
      "application/vnd.jupyter.widget-view+json": {
       "model_id": "d7a0298b2d7c430f8df147f0d09e5d2d",
       "version_major": 2,
       "version_minor": 0
      },
      "text/plain": [
       "interactive(children=(IntRangeSlider(value=(5, 50), description='Length', max=50), Dropdown(description='Persp…"
      ]
     },
     "metadata": {},
     "output_type": "display_data"
    }
   ],
   "source": [
    "Length_widget2_2 = widgets.IntRangeSlider(min=0, max=50, step=1, value = [5,50])\n",
    "Perspective_widget2_2 = widgets.Dropdown(options=['right','left','center'],value = 'center',description = 'Perspective', disabled = False)\n",
    "Limit_widget2_2 = widgets.IntSlider(min=1, max=20, step=1, value=1)\n",
    "Medium_widget2_2 = widgets.ToggleButtons(options = ['Text', 'Audio','Video'], description ='Medium', button_style='')\n",
    "topic_widget2_2 = widgets.Dropdown(options = ['Brett_Kavanaugh', 'Russian_hacking','Donald_Trump'],value='Russian_hacking', description ='Topic', disabled=False)\n",
    "\n",
    "\n",
    "interact(pull_content,Length=Length_widget2_2, Perspective=Perspective_widget2_2, Limit = Limit_widget2_2, Medium = Medium_widget2_2, topic_string=topic_widget2_2);"
   ]
  },
  {
   "cell_type": "code",
   "execution_count": 35,
   "metadata": {
    "extensions": {
     "jupyter_dashboards": {
      "version": 1,
      "views": {
       "grid_default": {
        "col": 8,
        "height": 16,
        "hidden": false,
        "row": 46,
        "width": 4
       },
       "report_default": {}
      }
     }
    }
   },
   "outputs": [
    {
     "data": {
      "application/vnd.jupyter.widget-view+json": {
       "model_id": "904a4fc770af4b16aff2ae0cd377f8b0",
       "version_major": 2,
       "version_minor": 0
      },
      "text/plain": [
       "interactive(children=(IntRangeSlider(value=(5, 50), description='Length', max=50), Dropdown(description='Persp…"
      ]
     },
     "metadata": {},
     "output_type": "display_data"
    }
   ],
   "source": [
    "Length_widget2_3 = widgets.IntRangeSlider(min=0, max=50, step=1, value = [5,50])\n",
    "Perspective_widget2_3 = widgets.Dropdown(options=['right','left','center'],value = 'right',description = 'Perspective', disabled = False)\n",
    "Limit_widget2_3 = widgets.IntSlider(min=1, max=20, step=1, value=1)\n",
    "Medium_widget2_3 = widgets.ToggleButtons(options = ['Text', 'Audio','Video'], description ='Medium', button_style='')\n",
    "topic_widget2_3 = widgets.Dropdown(options = ['Brett_Kavanaugh', 'Russian_hacking','Donald_Trump'],value='Russian_hacking', description ='Topic', disabled=False)\n",
    "\n",
    "\n",
    "interact(pull_content,Length=Length_widget2_3, Perspective=Perspective_widget2_3, Limit = Limit_widget2_3, Medium = Medium_widget2_3, topic_string=topic_widget2_3);"
   ]
  },
  {
   "cell_type": "code",
   "execution_count": 43,
   "metadata": {
    "extensions": {
     "jupyter_dashboards": {
      "version": 1,
      "views": {
       "grid_default": {
        "col": 0,
        "height": 19,
        "hidden": false,
        "row": 62,
        "width": 12
       },
       "report_default": {
        "hidden": false
       }
      }
     }
    }
   },
   "outputs": [
    {
     "name": "stderr",
     "output_type": "stream",
     "text": [
      "/anaconda3/lib/python3.6/site-packages/plotly/graph_objs/_deprecations.py:396: DeprecationWarning:\n",
      "\n",
      "plotly.graph_objs.Margin is deprecated.\n",
      "Please replace it with one of the following more specific types\n",
      "  - plotly.graph_objs.layout.Margin\n",
      "\n",
      "\n"
     ]
    },
    {
     "data": {
      "text/html": [
       "<iframe id=\"igraph\" scrolling=\"no\" style=\"border:none;\" seamless=\"seamless\" src=\"https://plot.ly/~mrethana/90.embed\" height=\"525px\" width=\"100%\"></iframe>"
      ],
      "text/plain": [
       "<plotly.tools.PlotlyDisplay object>"
      ]
     },
     "execution_count": 43,
     "metadata": {},
     "output_type": "execute_result"
    }
   ],
   "source": [
    "def plot_metrics_vs_topics_side(metric, title):\n",
    "    plot_data = []\n",
    "    perspective = []\n",
    "    master_df = pd.read_csv('Archive_CSV/Russian_hackingcurrent_search.csv',index_col=0)\n",
    "    for perspective in ['right', 'left', 'center']:\n",
    "        plot_data.append(master_df[metric][(master_df.label == perspective)])\n",
    "    trace0 = go.Box(y=plot_data[0],name = 'Right',marker = dict(color = 'red'))\n",
    "    trace1 = go.Box(y=plot_data[1],name = 'Left',marker = dict(color = 'blue'))\n",
    "    trace2 = go.Box(y=plot_data[2],name = 'Center',marker = dict(color = 'green'))\n",
    "    data = [trace0, trace1, trace2]\n",
    "    layout = go.Layout(title = \"% Opinion in Articles About Russia Investigation by Political Leaning\",\n",
    "                       margin=go.Margin(l=25,r=25,b=50,t=50,pad=4))\n",
    "    fig = go.Figure(data=data,layout=layout)\n",
    "    return py.iplot(fig, filename = \"plot from API (20)\")\n",
    "plot_metrics_vs_topics_side('percent_opinion', 'Russian Hacking')"
   ]
  },
  {
   "cell_type": "markdown",
   "metadata": {
    "extensions": {
     "jupyter_dashboards": {
      "version": 1,
      "views": {
       "grid_default": {
        "col": 0,
        "height": 4,
        "hidden": false,
        "row": 81,
        "width": 12
       },
       "report_default": {
        "hidden": false
       }
      }
     }
    }
   },
   "source": [
    "# Donald Trump"
   ]
  },
  {
   "cell_type": "code",
   "execution_count": 37,
   "metadata": {
    "extensions": {
     "jupyter_dashboards": {
      "version": 1,
      "views": {
       "grid_default": {
        "col": 0,
        "height": 17,
        "hidden": false,
        "row": 85,
        "width": 4
       },
       "report_default": {
        "hidden": false
       }
      }
     }
    },
    "scrolled": false
   },
   "outputs": [
    {
     "data": {
      "application/vnd.jupyter.widget-view+json": {
       "model_id": "a61f91f3031e4938a940bd4d54076412",
       "version_major": 2,
       "version_minor": 0
      },
      "text/plain": [
       "interactive(children=(IntRangeSlider(value=(5, 50), description='Length', max=50), Dropdown(description='Persp…"
      ]
     },
     "metadata": {},
     "output_type": "display_data"
    }
   ],
   "source": [
    "Length_widget3 = widgets.IntRangeSlider(min=0, max=50, step=1, value = [5,50])\n",
    "Perspective_widget3 = widgets.Dropdown(options=['right','left','center'],value = 'left',description = 'Perspective', disabled = False)\n",
    "Limit_widget3 = widgets.IntSlider(min=1, max=20, step=1, value=1)\n",
    "Medium_widget3 = widgets.ToggleButtons(options = ['Text', 'Audio','Video'], description ='Medium', button_style='')\n",
    "topic_widget3 = widgets.Dropdown(options = ['Brett_Kavanaugh', 'Russian_hacking','Donald_Trump'],value='Donald_Trump', description ='Topic', disabled=False)\n",
    "\n",
    "\n",
    "\n",
    "interact(pull_content,Length=Length_widget3, Perspective=Perspective_widget3, Limit = Limit_widget3, Medium = Medium_widget3, topic_string=topic_widget3);\n"
   ]
  },
  {
   "cell_type": "code",
   "execution_count": 38,
   "metadata": {
    "extensions": {
     "jupyter_dashboards": {
      "version": 1,
      "views": {
       "grid_default": {
        "col": 4,
        "height": 17,
        "hidden": false,
        "row": 85,
        "width": 4
       },
       "report_default": {}
      }
     }
    }
   },
   "outputs": [
    {
     "data": {
      "application/vnd.jupyter.widget-view+json": {
       "model_id": "475c62b28c804bb28d9f2745360e9151",
       "version_major": 2,
       "version_minor": 0
      },
      "text/plain": [
       "interactive(children=(IntRangeSlider(value=(5, 50), description='Length', max=50), Dropdown(description='Persp…"
      ]
     },
     "metadata": {},
     "output_type": "display_data"
    }
   ],
   "source": [
    "Length_widget3_2 = widgets.IntRangeSlider(min=0, max=50, step=1, value = [5,50])\n",
    "Perspective_widget3_2 = widgets.Dropdown(options=['right','left','center'],value = 'center',description = 'Perspective', disabled = False)\n",
    "Limit_widget3_2 = widgets.IntSlider(min=1, max=20, step=1, value=1)\n",
    "Medium_widget3_2 = widgets.ToggleButtons(options = ['Text', 'Audio','Video'], description ='Medium', button_style='')\n",
    "topic_widget3_2 = widgets.Dropdown(options = ['Brett_Kavanaugh', 'Russian_hacking','Donald_Trump'],value='Donald_Trump', description ='Topic', disabled=False)\n",
    "\n",
    "\n",
    "\n",
    "interact(pull_content,Length=Length_widget3_2, Perspective=Perspective_widget3_2, Limit = Limit_widget3_2, Medium = Medium_widget3_2, topic_string=topic_widget3_2);\n"
   ]
  },
  {
   "cell_type": "code",
   "execution_count": 41,
   "metadata": {
    "extensions": {
     "jupyter_dashboards": {
      "version": 1,
      "views": {
       "grid_default": {
        "col": 8,
        "height": 17,
        "hidden": false,
        "row": 85,
        "width": 4
       },
       "report_default": {}
      }
     }
    }
   },
   "outputs": [
    {
     "data": {
      "application/vnd.jupyter.widget-view+json": {
       "model_id": "bbd2be822c4842acb36c7e854c2a7569",
       "version_major": 2,
       "version_minor": 0
      },
      "text/plain": [
       "interactive(children=(IntRangeSlider(value=(5, 50), description='Length', max=50), Dropdown(description='Persp…"
      ]
     },
     "metadata": {},
     "output_type": "display_data"
    }
   ],
   "source": [
    "Length_widget3_3 = widgets.IntRangeSlider(min=0, max=50, step=1, value = [5,50])\n",
    "Perspective_widget3_3 = widgets.Dropdown(options=['right','left','center'],value = 'right',description = 'Perspective', disabled = False)\n",
    "Limit_widget3_3 = widgets.IntSlider(min=1, max=20, step=1, value=1)\n",
    "Medium_widget3_3 = widgets.ToggleButtons(options = ['Text', 'Audio','Video'], description ='Medium', button_style='')\n",
    "topic_widget3_3 = widgets.Dropdown(options = ['Brett_Kavanaugh', 'Russian_hacking','Donald_Trump'],value='Donald_Trump', description ='Topic', disabled=False)\n",
    "\n",
    "\n",
    "\n",
    "interact(pull_content,Length=Length_widget3_3, Perspective=Perspective_widget3_3, Limit = Limit_widget3_3, Medium = Medium_widget3_3, topic_string=topic_widget3_3);\n"
   ]
  },
  {
   "cell_type": "code",
   "execution_count": 42,
   "metadata": {
    "extensions": {
     "jupyter_dashboards": {
      "version": 1,
      "views": {
       "grid_default": {
        "col": 0,
        "height": 19,
        "hidden": false,
        "row": 102,
        "width": 12
       },
       "report_default": {
        "hidden": false
       }
      }
     }
    }
   },
   "outputs": [
    {
     "name": "stderr",
     "output_type": "stream",
     "text": [
      "/anaconda3/lib/python3.6/site-packages/plotly/graph_objs/_deprecations.py:396: DeprecationWarning:\n",
      "\n",
      "plotly.graph_objs.Margin is deprecated.\n",
      "Please replace it with one of the following more specific types\n",
      "  - plotly.graph_objs.layout.Margin\n",
      "\n",
      "\n"
     ]
    },
    {
     "data": {
      "text/html": [
       "<iframe id=\"igraph\" scrolling=\"no\" style=\"border:none;\" seamless=\"seamless\" src=\"https://plot.ly/~mrethana/90.embed\" height=\"525px\" width=\"100%\"></iframe>"
      ],
      "text/plain": [
       "<plotly.tools.PlotlyDisplay object>"
      ]
     },
     "execution_count": 42,
     "metadata": {},
     "output_type": "execute_result"
    }
   ],
   "source": [
    "def plot_metrics_vs_topics_side(metric, title):\n",
    "    plot_data = []\n",
    "    perspective = []\n",
    "    master_df = pd.read_csv('Archive_CSV/Donald_Trumpcurrent_search.csv',index_col=0)\n",
    "    for perspective in ['right', 'left', 'center']:\n",
    "        plot_data.append(master_df[metric][(master_df.label == perspective)])\n",
    "    trace0 = go.Box(y=plot_data[0],name = 'Right',marker = dict(color = 'red'))\n",
    "    trace1 = go.Box(y=plot_data[1],name = 'Left',marker = dict(color = 'blue'))\n",
    "    trace2 = go.Box(y=plot_data[2],name = 'Center',marker = dict(color = 'green'))\n",
    "    data = [trace0, trace1, trace2]\n",
    "    layout = go.Layout(title = \"% Opinion in Articles About Donald Trump by Political Leaning\",\n",
    "                       margin=go.Margin(l=25,r=25,b=50,t=50,pad=4))\n",
    "    fig = go.Figure(data=data,layout=layout)\n",
    "    return py.iplot(fig, filename = \"plot from API (20)\")\n",
    "plot_metrics_vs_topics_side('percent_opinion', 'Donald Trump')"
   ]
  },
  {
   "cell_type": "markdown",
   "metadata": {
    "extensions": {
     "jupyter_dashboards": {
      "version": 1,
      "views": {
       "grid_default": {
        "col": 0,
        "height": 4,
        "hidden": false,
        "row": 121,
        "width": 12
       },
       "report_default": {
        "hidden": true
       }
      }
     }
    }
   },
   "source": [
    "# Perspective Metrics"
   ]
  },
  {
   "cell_type": "code",
   "execution_count": 10,
   "metadata": {
    "extensions": {
     "jupyter_dashboards": {
      "version": 1,
      "views": {
       "grid_default": {
        "hidden": true
       },
       "report_default": {
        "hidden": true
       }
      }
     }
    }
   },
   "outputs": [],
   "source": [
    "Trigram_DBOW = Doc2Vec.load(\"D2V_models/TRI_d2v_dbow100.model\")\n"
   ]
  },
  {
   "cell_type": "code",
   "execution_count": 11,
   "metadata": {
    "extensions": {
     "jupyter_dashboards": {
      "version": 1,
      "views": {
       "grid_default": {
        "col": 0,
        "height": 41,
        "hidden": false,
        "row": 125,
        "width": 12
       },
       "report_default": {
        "hidden": false
       }
      }
     }
    }
   },
   "outputs": [
    {
     "data": {
      "application/vnd.jupyter.widget-view+json": {
       "model_id": "7bf3e1f63c7346bf80240aa02305c97b",
       "version_major": 2,
       "version_minor": 0
      },
      "text/plain": [
       "interactive(children=(ToggleButtons(description='Stats', options=('PCA', 'CM'), value='PCA'), Output()), _dom_…"
      ]
     },
     "metadata": {},
     "output_type": "display_data"
    }
   ],
   "source": [
    "Metric_widget = widgets.ToggleButtons(options = ['PCA', 'CM'], description ='Stats', button_style='')\n",
    "\n",
    "def choose_metric(metric):\n",
    "    if metric == 'PCA':\n",
    "        return dynamic_PCA(Trigram_DBOW,100)\n",
    "    else:\n",
    "        return evaluate_classifier_model('Trigram_DBOW', RF_fixed)\n",
    "\n",
    "interact(choose_metric, metric = Metric_widget);"
   ]
  },
  {
   "cell_type": "code",
   "execution_count": null,
   "metadata": {
    "extensions": {
     "jupyter_dashboards": {
      "version": 1,
      "views": {
       "grid_default": {
        "hidden": true
       },
       "report_default": {
        "hidden": true
       }
      }
     }
    }
   },
   "outputs": [],
   "source": [
    "# labels = all_df.set_index('source_name')['label'].to_dict()"
   ]
  },
  {
   "cell_type": "code",
   "execution_count": null,
   "metadata": {
    "extensions": {
     "jupyter_dashboards": {
      "version": 1,
      "views": {
       "grid_default": {
        "hidden": true
       },
       "report_default": {
        "hidden": true
       }
      }
     }
    }
   },
   "outputs": [],
   "source": [
    "# scraped_df = pd.read_csv('scraped_df.csv',index_col = 0)"
   ]
  },
  {
   "cell_type": "code",
   "execution_count": null,
   "metadata": {
    "extensions": {
     "jupyter_dashboards": {
      "version": 1,
      "views": {
       "grid_default": {
        "hidden": true
       },
       "report_default": {
        "hidden": true
       }
      }
     }
    }
   },
   "outputs": [],
   "source": [
    "# def label_scraped_data(label_dict,scraped_data):\n",
    "#     label_list = []\n",
    "#     for index, row in scraped_data.iterrows():\n",
    "#         if row.source_name in list(label_dict.keys()):\n",
    "#             label_list.append(label_dict[row.source_name])\n",
    "#         else:\n",
    "#             label_list.append('na')\n",
    "#     scraped_data['labels'] = label_list\n",
    "#     return scraped_data"
   ]
  },
  {
   "cell_type": "markdown",
   "metadata": {
    "extensions": {
     "jupyter_dashboards": {
      "version": 1,
      "views": {
       "grid_default": {
        "col": 0,
        "height": 4,
        "hidden": true,
        "row": 99,
        "width": 12
       },
       "report_default": {
        "hidden": false
       }
      }
     }
    }
   },
   "source": [
    "# Conclusion: Sources with similar political bias' generally provide a similar type of coverage regardless of subject matter, therefore news aggregators should diversify type of content pushed to users"
   ]
  }
 ],
 "metadata": {
  "extensions": {
   "jupyter_dashboards": {
    "activeView": "grid_default",
    "version": 1,
    "views": {
     "grid_default": {
      "cellMargin": 10,
      "defaultCellHeight": 20,
      "maxColumns": 12,
      "name": "grid",
      "type": "grid"
     },
     "report_default": {
      "name": "report",
      "type": "report"
     }
    }
   }
  },
  "kernelspec": {
   "display_name": "Python 3",
   "language": "python",
   "name": "python3"
  },
  "language_info": {
   "codemirror_mode": {
    "name": "ipython",
    "version": 3
   },
   "file_extension": ".py",
   "mimetype": "text/x-python",
   "name": "python",
   "nbconvert_exporter": "python",
   "pygments_lexer": "ipython3",
   "version": "3.6.5"
  }
 },
 "nbformat": 4,
 "nbformat_minor": 2
}
