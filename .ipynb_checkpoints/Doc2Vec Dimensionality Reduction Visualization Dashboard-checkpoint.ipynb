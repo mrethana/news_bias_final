{
 "cells": [
  {
   "cell_type": "code",
   "execution_count": 1,
   "metadata": {
    "extensions": {
     "jupyter_dashboards": {
      "version": 1,
      "views": {
       "grid_default": {
        "hidden": true
       },
       "report_default": {
        "hidden": true
       }
      }
     }
    }
   },
   "outputs": [],
   "source": [
    "import ipywidgets as widgets\n",
    "from ipywidgets import interact, interactive, fixed, interact_manual\n",
    "import ipywidgets as widgets\n",
    "from IPython.display import Image\n",
    "from IPython.core.display import HTML \n",
    "import time\n",
    "from ipywidgets import FloatProgress\n",
    "from IPython.display import display\n",
    "from bs4 import BeautifulSoup\n",
    "import requests\n",
    "import re\n",
    "from os import path\n",
    "from PIL import Image\n",
    "import pandas as pd\n",
    "import warnings\n",
    "warnings.filterwarnings(\"ignore\")\n",
    "from pca_func import *"
   ]
  },
  {
   "cell_type": "code",
   "execution_count": 5,
   "metadata": {
    "extensions": {
     "jupyter_dashboards": {
      "version": 1,
      "views": {
       "grid_default": {
        "hidden": true
       },
       "report_default": {
        "hidden": true
       }
      }
     }
    }
   },
   "outputs": [],
   "source": [
    "sample_df = pd.read_csv('Archive_CSV/sample_df_for_training.csv',index_col=0)\n",
    "Bigram_DBOW= Doc2Vec.load(\"D2V_models/d2v.model\")\n",
    "Bigram_DMM = Doc2Vec.load(\"D2V_models/d2v_DMM.model\")\n",
    "Bigram_DMC = Doc2Vec.load(\"D2V_models/d2v_DMC.model\")\n",
    "Bigram_DBOW200 = Doc2Vec.load(\"D2V_models/d2v_dbow200.model\")\n",
    "Trigram_DBOW = Doc2Vec.load(\"D2V_models/TRI_d2v_dbow100.model\")\n",
    "Trigram_DMC = Doc2Vec.load(\"D2V_models/TRI_d2v_DMC.model\")\n",
    "Trigram_DMM = Doc2Vec.load(\"D2V_models/TRI_d2v_DMM.model\")\n",
    "All_models = [Bigram_DBOW,Bigram_DMC,Bigram_DMM, Bigram_DBOW200, Trigram_DBOW, Trigram_DMC, Trigram_DMM]"
   ]
  },
  {
   "cell_type": "markdown",
   "metadata": {
    "extensions": {
     "jupyter_dashboards": {
      "version": 1,
      "views": {
       "grid_default": {},
       "report_default": {
        "hidden": false
       }
      }
     }
    }
   },
   "source": [
    "# Single Models "
   ]
  },
  {
   "cell_type": "code",
   "execution_count": 3,
   "metadata": {
    "extensions": {
     "jupyter_dashboards": {
      "version": 1,
      "views": {
       "grid_default": {
        "col": 0,
        "height": 32,
        "hidden": false,
        "row": 0,
        "width": 4
       },
       "report_default": {
        "hidden": false
       }
      }
     }
    },
    "scrolled": false
   },
   "outputs": [
    {
     "data": {
      "application/vnd.jupyter.widget-view+json": {
       "model_id": "d5f814f5a57045698c833facc148bbc7",
       "version_major": 2,
       "version_minor": 0
      },
      "text/plain": [
       "interactive(children=(Dropdown(description='Model', options=(<gensim.models.doc2vec.Doc2Vec object at 0x1a198b…"
      ]
     },
     "metadata": {},
     "output_type": "display_data"
    },
    {
     "data": {
      "application/vnd.jupyter.widget-view+json": {
       "model_id": "736c6a61c86547fa92c6257a17d8cb8b",
       "version_major": 2,
       "version_minor": 0
      },
      "text/plain": [
       "interactive(children=(Text(value='', description='Search:', placeholder='Compare Similarity of docs'), Dropdow…"
      ]
     },
     "metadata": {},
     "output_type": "display_data"
    },
    {
     "data": {
      "application/vnd.jupyter.widget-view+json": {
       "model_id": "3256dec1ea434c5aa9240cf11e46c9f8",
       "version_major": 2,
       "version_minor": 0
      },
      "text/plain": [
       "interactive(children=(Text(value='', description='Search:', placeholder='Compare Similarity of words'), Dropdo…"
      ]
     },
     "metadata": {},
     "output_type": "display_data"
    }
   ],
   "source": [
    "Model_widget = widgets.Dropdown(options=All_models,value = Bigram_DBOW,description = 'Model', disabled = False)\n",
    "Size_widget = widgets.ToggleButtons(options = [100,200], description ='Vector Size', button_style='')\n",
    "search_widget_doc = widgets.Text(placeholder = 'Compare Similarity of docs', description='Search:', disabled=False)\n",
    "search_widget_word = widgets.Text(placeholder = 'Compare Similarity of words', description='Search:', disabled=False)\n",
    "\n",
    "# def doc_similarity(parameter,model_name):\n",
    "#     if len(parameter) > 0:\n",
    "#         time.sleep(5)\n",
    "#         return model_name.docvecs.most_similar((parameter))\n",
    "# def word_similarity(parameter, model_name):\n",
    "#     if len(str(parameter)) > 0:\n",
    "#         time.sleep(5)\n",
    "#         return model_name.most_similar(parameter)\n",
    "\n",
    "interact(dynamic_PCA, model=Model_widget, vec_size=Size_widget);\n",
    "interact(doc_similarity, parameter=search_widget_doc, model = Model_widget);\n",
    "interact(word_similarity, parameter=search_widget_word, model=Model_widget);"
   ]
  },
  {
   "cell_type": "markdown",
   "metadata": {
    "extensions": {
     "jupyter_dashboards": {
      "version": 1,
      "views": {
       "grid_default": {},
       "report_default": {
        "hidden": false
       }
      }
     }
    }
   },
   "source": [
    "# Hybrid Models"
   ]
  },
  {
   "cell_type": "code",
   "execution_count": 4,
   "metadata": {
    "extensions": {
     "jupyter_dashboards": {
      "version": 1,
      "views": {
       "grid_default": {},
       "report_default": {
        "hidden": false
       }
      }
     }
    }
   },
   "outputs": [
    {
     "data": {
      "application/vnd.jupyter.widget-view+json": {
       "model_id": "dad5a6f5c5424cce9c508bbfcf624381",
       "version_major": 2,
       "version_minor": 0
      },
      "text/plain": [
       "interactive(children=(Dropdown(description='Model 1', options=(<gensim.models.doc2vec.Doc2Vec object at 0x1a19…"
      ]
     },
     "metadata": {},
     "output_type": "display_data"
    }
   ],
   "source": [
    "Model_widgetH1 = widgets.Dropdown(options=All_models,value = Bigram_DBOW,description = 'Model 1', disabled = False)\n",
    "Model_widgetH2 = widgets.Dropdown(options=All_models,value = Bigram_DMM,description = 'Model 2', disabled = False)\n",
    "Size_widgetH = widgets.ToggleButtons(options = [200], description ='Vector Size', button_style='')\n",
    "\n",
    "\n",
    "def dynamic_PCA_concat(model_1,model_2, vec_size):\n",
    "    sample_df = pd.read_csv('Archive_CSV/sample_df_for_training.csv',index_col=0)\n",
    "    model1_pvecs = get_perspective_vectors_concat(model_1,model_2, vec_size)\n",
    "    model1_svecs = get_source_vectors_concat(model_1,model_2, sample_df, vec_size)\n",
    "    model1_avecs = get_all_vectors_labels_concat(model_1,model_2, vec_size,sample_df)\n",
    "    all_vecs = model1_avecs.append(model1_svecs)\n",
    "    all_vecs = all_vecs.append(model1_pvecs)\n",
    "    pc_df = PCA_modeling(all_vecs,vec_size)\n",
    "    return PCA_plot(pc_df)\n",
    "    \n",
    "interact(dynamic_PCA_concat,model_1=Model_widgetH1,model_2=Model_widgetH2, vec_size=Size_widgetH);  "
   ]
  },
  {
   "cell_type": "code",
   "execution_count": null,
   "metadata": {
    "extensions": {
     "jupyter_dashboards": {
      "version": 1,
      "views": {
       "grid_default": {},
       "report_default": {
        "hidden": true
       }
      }
     }
    }
   },
   "outputs": [],
   "source": []
  }
 ],
 "metadata": {
  "extensions": {
   "jupyter_dashboards": {
    "activeView": "report_default",
    "version": 1,
    "views": {
     "grid_default": {
      "cellMargin": 10,
      "defaultCellHeight": 20,
      "maxColumns": 12,
      "name": "grid",
      "type": "grid"
     },
     "report_default": {
      "name": "report",
      "type": "report"
     }
    }
   }
  },
  "kernelspec": {
   "display_name": "Python 3",
   "language": "python",
   "name": "python3"
  },
  "language_info": {
   "codemirror_mode": {
    "name": "ipython",
    "version": 3
   },
   "file_extension": ".py",
   "mimetype": "text/x-python",
   "name": "python",
   "nbconvert_exporter": "python",
   "pygments_lexer": "ipython3",
   "version": "3.6.5"
  }
 },
 "nbformat": 4,
 "nbformat_minor": 2
}
