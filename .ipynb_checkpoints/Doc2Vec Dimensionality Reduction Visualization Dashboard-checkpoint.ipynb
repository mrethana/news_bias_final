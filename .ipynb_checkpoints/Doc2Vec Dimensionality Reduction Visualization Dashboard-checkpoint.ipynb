{
 "cells": [
  {
   "cell_type": "code",
   "execution_count": 1,
   "metadata": {
    "extensions": {
     "jupyter_dashboards": {
      "version": 1,
      "views": {
       "grid_default": {
        "hidden": true
       },
       "report_default": {
        "hidden": true
       }
      }
     }
    }
   },
   "outputs": [],
   "source": [
    "import ipywidgets as widgets\n",
    "from ipywidgets import interact, interactive, fixed, interact_manual\n",
    "import ipywidgets as widgets\n",
    "from IPython.display import Image\n",
    "from IPython.core.display import HTML \n",
    "import time\n",
    "from ipywidgets import FloatProgress\n",
    "from IPython.display import display\n",
    "from bs4 import BeautifulSoup\n",
    "import requests\n",
    "import re\n",
    "from os import path\n",
    "from PIL import Image\n",
    "import pandas as pd\n",
    "import warnings\n",
    "warnings.filterwarnings(\"ignore\")\n",
    "from pca_func import *"
   ]
  },
  {
   "cell_type": "code",
   "execution_count": 2,
   "metadata": {
    "extensions": {
     "jupyter_dashboards": {
      "version": 1,
      "views": {
       "grid_default": {
        "hidden": true
       },
       "report_default": {
        "hidden": true
       }
      }
     }
    }
   },
   "outputs": [],
   "source": [
    "sample_df = pd.read_csv('Archive_CSV/sample_df_for_training.csv',index_col=0)\n",
    "Bigram_DBOW= Doc2Vec.load(\"D2V_models/d2v.model\")\n",
    "Bigram_DMM = Doc2Vec.load(\"D2V_models/d2v_DMM.model\")\n",
    "Bigram_DMC = Doc2Vec.load(\"D2V_models/d2v_DMC.model\")\n",
    "Bigram_DBOW200 = Doc2Vec.load(\"D2V_models/d2v_dbow200.model\")\n",
    "Trigram_DBOW = Doc2Vec.load(\"D2V_models/TRI_d2v_dbow100.model\")\n",
    "Trigram_DMC = Doc2Vec.load(\"D2V_models/TRI_d2v_DMC.model\")\n",
    "Trigram_DMM = Doc2Vec.load(\"D2V_models/TRI_d2v_DMM.model\")\n",
    "All_models = [Bigram_DBOW,Bigram_DMC,Bigram_DMM, Bigram_DBOW200, Trigram_DBOW, Trigram_DMC, Trigram_DMM]"
   ]
  },
  {
   "cell_type": "markdown",
   "metadata": {
    "extensions": {
     "jupyter_dashboards": {
      "version": 1,
      "views": {
       "grid_default": {},
       "report_default": {
        "hidden": false
       }
      }
     }
    }
   },
   "source": [
    "# Single Models "
   ]
  },
  {
   "cell_type": "code",
   "execution_count": 3,
   "metadata": {
    "extensions": {
     "jupyter_dashboards": {
      "version": 1,
      "views": {
       "grid_default": {
        "col": 0,
        "height": 32,
        "hidden": false,
        "row": 0,
        "width": 4
       },
       "report_default": {
        "hidden": false
       }
      }
     }
    },
    "scrolled": false
   },
   "outputs": [
    {
     "data": {
      "application/vnd.jupyter.widget-view+json": {
       "model_id": "bd1dd8a97bb54f43b77b36229e63281b",
       "version_major": 2,
       "version_minor": 0
      },
      "text/plain": [
       "interactive(children=(Dropdown(description='Model', options=(<gensim.models.doc2vec.Doc2Vec object at 0x1a24bf…"
      ]
     },
     "metadata": {},
     "output_type": "display_data"
    },
    {
     "data": {
      "application/vnd.jupyter.widget-view+json": {
       "model_id": "887aef18d8c449ff932aafb400204942",
       "version_major": 2,
       "version_minor": 0
      },
      "text/plain": [
       "interactive(children=(Text(value='', description='Search:', placeholder='Compare Similarity of docs'), Dropdow…"
      ]
     },
     "metadata": {},
     "output_type": "display_data"
    },
    {
     "data": {
      "application/vnd.jupyter.widget-view+json": {
       "model_id": "6b79651628754c84af60fe5dfc2a4ce4",
       "version_major": 2,
       "version_minor": 0
      },
      "text/plain": [
       "interactive(children=(Text(value='', description='Search:', placeholder='Compare Similarity of words'), Dropdo…"
      ]
     },
     "metadata": {},
     "output_type": "display_data"
    }
   ],
   "source": [
    "Model_widget = widgets.Dropdown(options=All_models,value = Bigram_DBOW,description = 'Model', disabled = False)\n",
    "Size_widget = widgets.ToggleButtons(options = [100,200], description ='Vector Size', button_style='')\n",
    "search_widget_doc = widgets.Text(placeholder = 'Compare Similarity of docs', description='Search:', disabled=False)\n",
    "search_widget_word = widgets.Text(placeholder = 'Compare Similarity of words', description='Search:', disabled=False)\n",
    "\n",
    "\n",
    "interact(dynamic_PCA, model=Model_widget, vec_size=Size_widget);\n",
    "interact(doc_similarity, parameter=search_widget_doc, model = Model_widget);\n",
    "interact(word_similarity, parameter=search_widget_word, model=Model_widget);"
   ]
  },
  {
   "cell_type": "markdown",
   "metadata": {
    "extensions": {
     "jupyter_dashboards": {
      "version": 1,
      "views": {
       "grid_default": {},
       "report_default": {
        "hidden": false
       }
      }
     }
    }
   },
   "source": [
    "# Hybrid Models"
   ]
  },
  {
   "cell_type": "code",
   "execution_count": 4,
   "metadata": {
    "extensions": {
     "jupyter_dashboards": {
      "version": 1,
      "views": {
       "grid_default": {},
       "report_default": {
        "hidden": false
       }
      }
     }
    }
   },
   "outputs": [
    {
     "data": {
      "application/vnd.jupyter.widget-view+json": {
       "model_id": "84d7ac27dd6c43498cd4e8a1bef28fd7",
       "version_major": 2,
       "version_minor": 0
      },
      "text/plain": [
       "interactive(children=(Dropdown(description='Model 1', options=(<gensim.models.doc2vec.Doc2Vec object at 0x1a24…"
      ]
     },
     "metadata": {},
     "output_type": "display_data"
    }
   ],
   "source": [
    "Model_widgetH1 = widgets.Dropdown(options=All_models,value = Bigram_DBOW,description = 'Model 1', disabled = False)\n",
    "Model_widgetH2 = widgets.Dropdown(options=All_models,value = Bigram_DMM,description = 'Model 2', disabled = False)\n",
    "Size_widgetH = widgets.ToggleButtons(options = [200], description ='Vector Size', button_style='')\n",
    "\n",
    "\n",
    "    \n",
    "interact(dynamic_PCA_concat,model_1=Model_widgetH1,model_2=Model_widgetH2, vec_size=Size_widgetH);  "
   ]
  },
  {
   "cell_type": "code",
   "execution_count": null,
   "metadata": {
    "extensions": {
     "jupyter_dashboards": {
      "version": 1,
      "views": {
       "grid_default": {},
       "report_default": {
        "hidden": true
       }
      }
     }
    }
   },
   "outputs": [],
   "source": []
  }
 ],
 "metadata": {
  "extensions": {
   "jupyter_dashboards": {
    "activeView": "report_default",
    "version": 1,
    "views": {
     "grid_default": {
      "cellMargin": 10,
      "defaultCellHeight": 20,
      "maxColumns": 12,
      "name": "grid",
      "type": "grid"
     },
     "report_default": {
      "name": "report",
      "type": "report"
     }
    }
   }
  },
  "kernelspec": {
   "display_name": "Python 3",
   "language": "python",
   "name": "python3"
  },
  "language_info": {
   "codemirror_mode": {
    "name": "ipython",
    "version": 3
   },
   "file_extension": ".py",
   "mimetype": "text/x-python",
   "name": "python",
   "nbconvert_exporter": "python",
   "pygments_lexer": "ipython3",
   "version": "3.6.5"
  }
 },
 "nbformat": 4,
 "nbformat_minor": 2
}
