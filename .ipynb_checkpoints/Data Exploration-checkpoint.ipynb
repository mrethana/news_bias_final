{
 "cells": [
  {
   "cell_type": "code",
   "execution_count": 1,
   "metadata": {},
   "outputs": [
    {
     "name": "stderr",
     "output_type": "stream",
     "text": [
      "/anaconda3/lib/python3.6/site-packages/nltk/twitter/__init__.py:20: UserWarning: The twython library has not been installed. Some functionality from the twitter package will not be available.\n",
      "  warnings.warn(\"The twython library has not been installed. \"\n"
     ]
    }
   ],
   "source": [
    "from bs4 import BeautifulSoup\n",
    "import requests\n",
    "import re\n",
    "import pandas as pd\n",
    "import matplotlib.pyplot as plt\n",
    "import numpy as np\n",
    "from __future__ import print_function\n",
    "import time\n",
    "import pafy\n",
    "from bs4 import BeautifulSoup\n",
    "import requests\n",
    "import re\n",
    "import webbrowser\n",
    "import nltk\n",
    "from nltk.corpus import stopwords\n",
    "from nltk.tokenize import sent_tokenize, word_tokenize\n",
    "from nltk.sentiment.vader import SentimentIntensityAnalyzer\n",
    "import matplotlib\n",
    "import matplotlib.pyplot as plt\n",
    "from ipywidgets import interact, interactive, fixed, interact_manual\n",
    "import ipywidgets as widgets\n",
    "from IPython.display import Image\n",
    "from IPython.core.display import HTML \n",
    "import time\n",
    "from ipywidgets import FloatProgress\n",
    "from IPython.display import display\n",
    "from textblob import TextBlob\n",
    "import numpy as np\n",
    "import pandas as pd\n",
    "from os import path\n",
    "from PIL import Image\n",
    "from wordcloud import WordCloud, STOPWORDS, ImageColorGenerator\n",
    "from IPython.display import Image\n",
    "from nltk.tokenize import RegexpTokenizer"
   ]
  },
  {
   "cell_type": "code",
   "execution_count": 60,
   "metadata": {},
   "outputs": [],
   "source": [
    "df = pd.read_csv('new_search.csv', index_col=0)\n",
    "df2 = pd.read_csv('current_search.csv', index_col=0)"
   ]
  },
  {
   "cell_type": "code",
   "execution_count": 61,
   "metadata": {},
   "outputs": [],
   "source": [
    "df = df.drop(['polarity','length','article_similarity', 'source_similarity','cosine_similarity','subject_matter','cluster'], axis =1)"
   ]
  },
  {
   "cell_type": "code",
   "execution_count": 62,
   "metadata": {},
   "outputs": [],
   "source": [
    "def df_all_articles(articles_df):\n",
    "    articles_df['text'] = np.nan\n",
    "    for i in range(0, len(articles_df)):\n",
    "        if articles_df['source_id'][i] == 'the-huffington-post':\n",
    "            pass\n",
    "        else:\n",
    "            html_page = requests.get(articles_df['url'][i]) \n",
    "            soup = BeautifulSoup(html_page.content, 'html.parser', from_encoding=\"iso-8859-1\")\n",
    "            article = soup.findAll('p')\n",
    "            str_list = []\n",
    "            list_ = []\n",
    "            for j in range(0,len(article)):\n",
    "                clean = article[j].text\n",
    "                str_list.append(clean)\n",
    "            article_ = ' '.join(str_list)\n",
    "            item = article_.encode(\"ascii\", \"ignore\")\n",
    "            clean_article = item.decode(\"utf-8\")\n",
    "            clean_article = clean_article.strip('\\n')\n",
    "            articles_df['text'][i] = clean_article\n",
    "    return articles_df"
   ]
  },
  {
   "cell_type": "code",
   "execution_count": 88,
   "metadata": {},
   "outputs": [],
   "source": [
    "# df_all_articles(df)"
   ]
  },
  {
   "cell_type": "code",
   "execution_count": 64,
   "metadata": {},
   "outputs": [],
   "source": [
    "df = df.dropna()"
   ]
  },
  {
   "cell_type": "code",
   "execution_count": 65,
   "metadata": {},
   "outputs": [],
   "source": [
    "df = df.reset_index()\n",
    "df = df.drop('index',axis = 1)"
   ]
  },
  {
   "cell_type": "code",
   "execution_count": 68,
   "metadata": {},
   "outputs": [],
   "source": [
    "df = df[(df.source_id != 'abc-news')]\n",
    "df = df.reset_index()"
   ]
  },
  {
   "cell_type": "code",
   "execution_count": 70,
   "metadata": {},
   "outputs": [],
   "source": [
    "df = df.drop('index',axis = 1)"
   ]
  },
  {
   "cell_type": "code",
   "execution_count": 46,
   "metadata": {},
   "outputs": [],
   "source": [
    "# df = df.drop('level_0',axis = 1)"
   ]
  },
  {
   "cell_type": "code",
   "execution_count": 72,
   "metadata": {},
   "outputs": [
    {
     "name": "stdout",
     "output_type": "stream",
     "text": [
      "[nltk_data] Downloading package vader_lexicon to\n",
      "[nltk_data]     /Users/markrethana/nltk_data...\n",
      "[nltk_data]   Package vader_lexicon is already up-to-date!\n"
     ]
    }
   ],
   "source": [
    "nltk.download('vader_lexicon')\n",
    "sid = SentimentIntensityAnalyzer()\n",
    "\n",
    "def df_with_polarity_score(art_df):\n",
    "    art_df['neg'] = np.nan\n",
    "    art_df['neu'] = np.nan\n",
    "    art_df['pos'] = np.nan\n",
    "    art_df['compound'] = np.nan\n",
    "    art_df = art_df.reset_index(drop=True)\n",
    "    for i in range(0, len(art_df)):\n",
    "        scores = sid.polarity_scores(art_df['text'][i])\n",
    "        art_df['neg'][i] = scores['neg']\n",
    "        art_df['neu'][i] = scores['neu']\n",
    "        art_df['pos'][i] = scores['pos']\n",
    "        art_df['compound'][i] = scores['compound']\n",
    "    return art_df"
   ]
  },
  {
   "cell_type": "code",
   "execution_count": 73,
   "metadata": {},
   "outputs": [],
   "source": [
    "# from sklearn.feature_extraction.text import CountVectorizer\n",
    "# cvec = CountVectorizer()\n",
    "# cvec.fit(my_df.text)\n",
    "# neg_doc_matrix = cvec.transform(my_df[my_df.target == 0].text)\n",
    "# pos_doc_matrix = cvec.transform(my_df[my_df.target == 1].text)\n",
    "# neg_tf = np.sum(neg_doc_matrix,axis=0)\n",
    "# pos_tf = np.sum(pos_doc_matrix,axis=0)\n",
    "# neg = np.squeeze(np.asarray(neg_tf))\n",
    "# pos = np.squeeze(np.asarray(pos_tf))\n",
    "# term_freq_df = pd.DataFrame([neg,pos],columns=cvec.get_feature_names()).transpose()"
   ]
  },
  {
   "cell_type": "code",
   "execution_count": 74,
   "metadata": {},
   "outputs": [],
   "source": [
    "def df_with_subjectivity(df):\n",
    "    df['subjectivity'] = np.nan\n",
    "    for i in range(0, len(df)):\n",
    "        analysis = TextBlob((df['text'][i]))\n",
    "        df['subjectivity'][i] =  analysis.sentiment.subjectivity\n",
    "    return df\n",
    "                            "
   ]
  },
  {
   "cell_type": "code",
   "execution_count": 87,
   "metadata": {},
   "outputs": [],
   "source": [
    "# final_df = df_with_polarity_score(df)"
   ]
  },
  {
   "cell_type": "code",
   "execution_count": 86,
   "metadata": {},
   "outputs": [],
   "source": [
    "# final_df = df_with_subjectivity(final_df)"
   ]
  },
  {
   "cell_type": "code",
   "execution_count": 77,
   "metadata": {},
   "outputs": [],
   "source": [
    "def get_vocab(df):\n",
    "    tokenizer = RegexpTokenizer('[a-z]\\w+')\n",
    "    all_text = []\n",
    "    for blob in df.text:\n",
    "        new_blob = blob.lower()\n",
    "        all_text.append(new_blob)\n",
    "    corpus = '-'.join(all_text)\n",
    "    token = tokenizer.tokenize(corpus)\n",
    "    vocab = sorted(set(token))\n",
    "    return vocab"
   ]
  },
  {
   "cell_type": "code",
   "execution_count": 79,
   "metadata": {},
   "outputs": [],
   "source": [
    "def word_metrics(vocab):\n",
    "    all_metrics = []\n",
    "    for word in vocab:\n",
    "        analysis = TextBlob(word)\n",
    "        metric = {'word':word,'subjectivity':analysis.sentiment.subjectivity,'polarity':analysis.sentiment.polarity}\n",
    "        all_metrics.append(metric)\n",
    "    return pd.DataFrame(all_metrics)"
   ]
  },
  {
   "cell_type": "code",
   "execution_count": null,
   "metadata": {},
   "outputs": [],
   "source": [
    "# html_page = requests.get('https://www.youtube.com/results?search_query='+split[0]+'+'+'+'+split[1])\n",
    "# soup = BeautifulSoup(html_page.content, 'html.parser', from_encoding='utf-8')\n",
    "# videos = soup.findAll('a')"
   ]
  },
  {
   "cell_type": "code",
   "execution_count": 85,
   "metadata": {},
   "outputs": [],
   "source": [
    "# final_df.to_csv('bk_corpus.csv')"
   ]
  },
  {
   "cell_type": "markdown",
   "metadata": {},
   "source": [
    "# Corpus Exploration"
   ]
  },
  {
   "cell_type": "code",
   "execution_count": 93,
   "metadata": {},
   "outputs": [],
   "source": [
    "corpus_df = pd.read_csv('bk_corpus.csv', index_col=0)"
   ]
  },
  {
   "cell_type": "code",
   "execution_count": 107,
   "metadata": {},
   "outputs": [],
   "source": [
    "corpus_df.medium = corpus_df.medium.fillna('text')"
   ]
  },
  {
   "cell_type": "code",
   "execution_count": 116,
   "metadata": {},
   "outputs": [],
   "source": [
    "corpus_df = corpus_df.dropna()\n",
    "# corpus_df = corpus_df.reset_index()\n",
    "corpus_df = corpus_df.drop('index',axis = 1)"
   ]
  },
  {
   "cell_type": "code",
   "execution_count": 132,
   "metadata": {},
   "outputs": [],
   "source": [
    "corpus_df['overall_sent'] = np.where(corpus_df['compound']>=0, 'positive', 'negative')"
   ]
  },
  {
   "cell_type": "code",
   "execution_count": 142,
   "metadata": {},
   "outputs": [],
   "source": [
    "all_words = get_vocab(corpus_df)"
   ]
  },
  {
   "cell_type": "code",
   "execution_count": null,
   "metadata": {},
   "outputs": [],
   "source": []
  },
  {
   "cell_type": "code",
   "execution_count": 147,
   "metadata": {},
   "outputs": [
    {
     "data": {
      "text/plain": [
       "CountVectorizer(analyzer='word', binary=False, decode_error='strict',\n",
       "        dtype=<class 'numpy.int64'>, encoding='utf-8', input='content',\n",
       "        lowercase=True, max_df=1.0, max_features=None, min_df=1,\n",
       "        ngram_range=(1, 1), preprocessor=None, stop_words=None,\n",
       "        strip_accents=None, token_pattern='[A-Za-z]\\\\w+', tokenizer=None,\n",
       "        vocabulary=None)"
      ]
     },
     "execution_count": 147,
     "metadata": {},
     "output_type": "execute_result"
    }
   ],
   "source": [
    "from sklearn.feature_extraction.text import CountVectorizer\n",
    "cvec = CountVectorizer(token_pattern=r'[A-Za-z]\\w+',)\n",
    "cvec.fit(corpus_df.text)"
   ]
  },
  {
   "cell_type": "code",
   "execution_count": null,
   "metadata": {},
   "outputs": [],
   "source": []
  },
  {
   "cell_type": "code",
   "execution_count": 170,
   "metadata": {},
   "outputs": [],
   "source": [
    "neg_doc_matrix = cvec.transform(corpus_df[corpus_df.overall_sent == 'negative'].text)\n",
    "pos_doc_matrix = cvec.transform(corpus_df[corpus_df.overall_sent == 'positive'].text)\n",
    "neg_tf = np.sum(neg_doc_matrix,axis=0)\n",
    "pos_tf = np.sum(pos_doc_matrix,axis=0)\n",
    "neg = np.squeeze(np.asarray(neg_tf))\n",
    "pos = np.squeeze(np.asarray(pos_tf))\n",
    "term_freq_df = pd.DataFrame([neg,pos],columns=cvec.get_feature_names()).transpose()\n",
    "term_freq_df = term_freq_df.rename({0:'negative',1:'positive'}, axis='columns')"
   ]
  },
  {
   "cell_type": "code",
   "execution_count": 175,
   "metadata": {},
   "outputs": [],
   "source": [
    "# term_freq_df.sort_values(by=['negative'], ascending=False)"
   ]
  },
  {
   "cell_type": "code",
   "execution_count": 240,
   "metadata": {},
   "outputs": [],
   "source": [
    "from gensim.models.doc2vec import Doc2Vec, TaggedDocument\n",
    "from nltk.tokenize import word_tokenize\n",
    "import multiprocessing\n",
    "import gensim.models.doc2vec\n",
    "# cores = multiprocessing.cpu_count()"
   ]
  },
  {
   "cell_type": "code",
   "execution_count": 183,
   "metadata": {},
   "outputs": [
    {
     "name": "stdout",
     "output_type": "stream",
     "text": [
      "0\n",
      "1\n",
      "2\n",
      "3\n"
     ]
    }
   ],
   "source": [
    "for i, d in enumerate(data):\n",
    "    print(i)"
   ]
  },
  {
   "cell_type": "code",
   "execution_count": 225,
   "metadata": {},
   "outputs": [],
   "source": [
    "data = list(corpus_df.text)\n",
    "sources = list(corpus_df.source_name)\n",
    "\n",
    "tagged_data = [TaggedDocument(words=word_tokenize(word.lower()), tags=[sources[index]]) for index, word in enumerate(data)]\n",
    "    "
   ]
  },
  {
   "cell_type": "code",
   "execution_count": 226,
   "metadata": {},
   "outputs": [
    {
     "data": {
      "text/plain": [
       "TaggedDocument(words=['the', 'senate', 'confirmation', 'hearing', 'for', 'brett', 'kavanaugh', ',', 'president', 'donald', 'trump', \"'s\", 'u.s.', 'supreme', 'court', 'pick', ',', 'descended', 'into', 'chaos', 'on', 'tuesday', ',', 'as', 'democrats', 'protested', 'about', 'republicans', 'blocking', 'access', 'to', 'documents', 'concerning', 'the', 'nominee', \"'s\", 'white', 'house', 'work', 'more', 'than', 'a', 'decade', 'ago', '.', 'democratic', 'senators', 'repeatedly', 'interrupted', 'the', 'judiciary', 'committee', \"'s\", 'republican', 'chairman', 'chuck', 'grassley', 'at', 'the', 'outset', 'of', 'the', 'hearing', 'and', 'dozens', 'of', 'shouting', 'protesters', 'were', 'removed', 'one', 'by', 'one', 'by', 'security', 'personnel', '.', 'some', 'seven', 'hours', 'after', 'the', 'hearing', 'began', ',', 'kavanaugh', 'the', 'conservative', 'federal', 'appeals', 'court', 'judge', 'picked', 'by', 'trump', 'for', 'a', 'lifetime', 'job', 'on', 'the', 'top', 'u.s.', 'judicial', 'body', 'finally', 'made', 'his', 'opening', 'remarks', '.', 'kavanaugh', ',', 'nominated', 'by', 'a', 'president', 'who', 'has', 'sharply', 'criticized', 'the', 'federal', 'judiciary', ',', 'told', 'the', 'senators', 'that', '``', 'a', 'judge', 'must', 'be', 'independent', ',', 'not', 'swayed', 'by', 'public', 'pressure', '.', 'our', 'independent', 'judiciary', 'is', 'the', 'crown', 'jewel', 'of', 'our', 'constitutional', 'republic', '.', \"''\", '``', 'the', 'supreme', 'court', 'must', 'never', 'be', 'viewed', 'as', 'a', 'partisan', 'institution', ',', \"''\", 'kavanaugh', 'said', '.', '``', 'a', 'judge', 'must', 'be', 'independent', 'and', 'must', 'interpret', 'the', 'law', ',', 'not', 'make', 'the', 'law', ',', \"''\", 'he', 'said', '.', '``', 'a', 'good', 'judge', 'must', 'be', 'an', 'umpire', 'a', 'neutral', 'and', 'impartial', 'arbiter', 'who', 'favours', 'no', 'litigant', 'or', 'policy', '.', \"''\", 'in', 'his', 'remarks', 'to', 'the', 'committee', ',', 'kavanaugh', 'saidif', 'he', 'is', 'confirmed', 'to', 'the', 'top', 'court', ',', 'he', 'will', '``', 'keep', 'an', 'open', 'mind', 'in', 'every', 'case', '.', 'i', 'will', 'do', 'equal', 'right', 'to', 'the', 'poor', 'and', 'to', 'the', 'rich', '.', \"''\", 'the', 'hearing', 'got', 'off', 'to', 'a', 'rocky', 'start', ',', 'with', 'democrats', 'decrying', 'the', 'withholding', 'of', 'the', 'documents', 'and', 'asking', 'to', 'have', 'the', 'proceedings', 'adjourned', 'as', 'grassley', 'struggled', 'to', 'maintain', 'order', '.', '``', 'this', 'is', 'the', 'first', 'confirmation', 'for', 'a', 'supreme', 'court', 'justice', 'i', \"'ve\", 'seen', ',', 'basically', ',', 'according', 'to', 'mob', 'rule', ',', \"''\", 'republican', 'sen.', 'john', 'cornyn', 'said', ',', 'a', 'characterization', 'democrats', 'rejected', '.', '``', 'what', 'we', \"'ve\", 'heard', 'is', 'the', 'noise', 'of', 'democracy', '.', 'this', 'is', 'what', 'happens', 'in', 'a', 'free', 'country', 'when', 'people', 'can', 'stand', 'up', 'and', 'speak', 'and', 'not', 'be', 'jailed', ',', 'imprisoned', ',', 'tortured', 'and', 'killed', 'because', 'of', 'it', ',', \"''\", 'democratic', 'sen.', 'dick', 'durbin', 'said', '.', 'news', 'photographers', 'clicked', 'pictures', 'of', 'a', 'smiling', 'kavanaugh', 'the', 'conservative', 'federal', 'appeals', 'court', 'judge', 'picked', 'by', 'trump', 'for', 'a', 'lifetime', 'job', 'on', 'the', 'top', 'u.s.', 'judicial', 'body', 'as', 'he', 'entered', 'the', 'hearing', 'room', 'along', 'with', 'family', 'members', '.', 'but', 'moments', 'after', 'grassley', 'opened', 'the', 'session', ',', 'democrats', 'decried', 'the', 'withholding', 'of', 'the', 'documents', 'and', 'asked', 'to', 'have', 'the', 'proceedings', 'adjourned', '.', 'protesters', 'took', 'turns', 'yelling', 'as', 'senators', 'spoke', ',', 'shouting', ',', '``', 'this', 'is', 'a', 'travesty', 'of', 'justice', ',', \"''\", '``', 'our', 'democracy', 'is', 'broken', \"''\", 'and', '``', 'vote', 'no', 'on', 'kavanaugh', '.', \"''\", '``', 'we', 'can', 'not', 'possibly', 'move', 'forward', '.', 'we', 'have', 'not', 'had', 'an', 'opportunity', 'to', 'have', 'a', 'meaningful', 'hearing', ',', \"''\", 'democratic', 'sen.', 'kamala', 'harris', 'said', '.', 'democratic', 'sen.', 'cory', 'booker', 'appealed', 'to', 'grassley', \"'s\", '``', 'sense', 'of', 'decency', 'and', 'integrity', \"''\", 'and', 'said', 'the', 'withholding', 'of', 'the', 'documents', 'by', 'republicans', 'and', 'the', 'white', 'house', 'left', 'lawmakers', 'unable', 'to', 'properly', 'vet', 'kavanaugh', '.', 'watch', 'part', 'of', 'kavanaugh', \"'s\", 'statement', '(', 'and', 'see', 'his', 'full', 'statement', 'at', 'the', 'bottom', 'of', 'this', 'story', ')', '.', 'if', 'confirmed', ',', 'kavanaugh', 'is', 'expected', 'to', 'move', 'the', 'court', ',', 'which', 'already', 'had', 'a', 'conservative', 'majority', ',', 'further', 'to', 'the', 'right', '.', 'senate', 'democratic', 'leaders', 'have', 'vowed', 'a', 'fierce', 'fight', 'to', 'try', 'to', 'block', 'his', 'confirmation', '.', 'democrats', 'signalled', 'they', 'would', 'press', 'kavanaugh', 'on', 'abortion', 'and', 'gun', 'rights', ',', 'among', 'other', 'issues', ',', 'when', 'they', 'get', 'to', 'question', 'him', 'on', 'wednesday', '.', 'grassley', 'ignored', 'the', 'democrats', \"'\", 'request', 'to', 'halt', 'the', 'hearing', ',', 'saying', 'it', 'was', '``', 'out', 'of', 'order', \"''\", 'and', 'accused', 'them', 'of', 'obstruction', '.', 'republicans', 'hold', 'a', 'slim', 'senate', 'majority', 'and', 'can', 'confirm', 'kavanaugh', 'if', 'they', 'stay', 'united', '.', 'there', 'were', 'no', 'signs', 'of', 'republican', 'defections', '.', 'republican', 'orrin', 'hatch', 'accused', 'democratic', 'senators', 'of', 'political', 'opportunism', ',', 'noting', ',', '``', 'we', 'have', 'folks', 'who', 'want', 'to', 'run', 'for', 'president', ',', \"''\", 'though', 'he', 'did', 'not', 'mention', 'any', 'by', 'name', '.', 'there', 'has', 'been', 'speculation', 'booker', 'and', 'harris', 'might', 'consider', '2020', 'presidential', 'runs', '.', 'hatch', 'grew', 'visibly', 'irritated', 'as', 'protesters', 'interrupted', 'him', '.', '``', 'i', 'think', 'we', 'ought', 'to', 'have', 'this', 'loudmouth', 'removed', '.', 'we', 'should', \"n't\", 'have', 'to', 'put', 'up', 'with', 'this', 'kind', 'of', 'stuff', ',', \"''\", 'hatch', 'said', '.', 'sen.', 'ted', 'cruz', 'accused', 'democrats', 'of', '``', 'an', 'attempt', 'to', 'relitigate', 'the', '2016', 'election', \"''\", 'won', 'by', 'fellow', 'republican', 'trump', '.', 'as', 'the', 'hearing', 'paused', 'for', 'a', 'lunch', 'break', ',', 'fred', 'guttenberg', ',', 'whose', 'daughter', 'who', 'was', 'killed', 'in', 'the', 'parkland', ',', 'fla.', ',', 'high', 'school', 'mass', 'shooting', 'in', 'february', ',', 'tried', 'to', 'talk', 'to', 'kavanaugh', 'but', 'the', 'nominee', 'turned', 'away', '.', 'video', 'of', 'the', 'encounter', 'was', 'shared', 'widely', 'on', 'social', 'media', '.', '``', 'i', 'guess', 'he', 'did', 'not', 'want', 'to', 'deal', 'with', 'the', 'reality', 'of', 'gun', 'violence', ',', \"''\", 'guttenberg', 'wrote', 'on', 'twitter', 'afterward', '.', 'white', 'house', 'spokespersonraj', 'shah', 'said', 'security', 'intervened', 'before', 'kavanaugh', 'could', 'shake', 'guttenberg', \"'s\", 'hand', '.', 'trump', 'nominated', 'kavanaugh', ',', '53', ',', 'to', 'replace', 'justice', 'anthony', 'kennedy', ',', 'who', 'announced', 'his', 'retirement', 'on', 'june', '27.', 'democrats', 'have', 'demanded', 'in', 'vain', 'to', 'see', 'documents', 'relating', 'kavanaugh', \"'s\", 'time', 'as', 'staff', 'secretary', 'to', 'republican', 'former', 'president', 'george', 'w.', 'bush', 'from', '2003', 'to', '2006.', 'that', 'job', 'involved', 'managing', 'paper', 'flow', 'from', 'advisers', 'to', 'bush', '.', 'republicans', 'also', 'have', 'released', 'some', ',', 'but', 'not', 'all', ',', 'of', 'the', 'existing', 'documents', 'concerning', 'kavanaugh', \"'s\", 'two', 'prior', 'years', 'as', 'a', 'lawyer', 'in', 'bush', \"'s\", 'white', 'house', 'counsel', \"'s\", 'office', '.', 'republicans', 'have', 'said', 'democrats', 'have', 'more', 'than', 'enough', 'documents', 'to', 'assess', 'kavanaugh', \"'s\", 'record', ',', 'including', 'his', '12', 'years', 'of', 'judicial', 'opinions', 'as', 'a', 'judge', 'on', 'the', 'u.s.', 'court', 'of', 'appeals', 'for', 'the', 'district', 'of', 'columbia', 'circuit', '.', 'kavanaugh', 'sat', ',', 'fingers', 'intertwined', ',', 'quietly', 'staring', 'ahead', 'at', 'the', 'committee', 'members', 'as', 'protesters', 'in', 'the', 'audience', 'screamed', 'while', 'being', 'dragged', 'out', 'of', 'the', 'hearing', 'room', '.', 'he', 'occasionally', 'jotted', 'notes', 'on', 'paper', '.', 'there', 'is', 'a', 'long', 'history', 'of', 'heated', 'fights', 'over', 'u.s.', 'supreme', 'court', 'nominations', ',', 'with', 'anger', 'in', 'both', 'parties', '.', 'but', 'the', 'democratic', 'frustrations', 'that', 'boiled', 'over', 'on', 'tuesday', 'had', 'been', 'simmering', 'for', 'more', 'than', 'two', 'years', '.', 'democrats', 'have', 'accused', 'senate', 'republican', 'leaders', 'of', 'stealing', 'a', 'supreme', 'court', 'seat', 'by', 'refusing', 'to', 'consider', 'democratic', 'former', 'president', 'barack', 'obama', \"'s\", 'nominee', 'to', 'the', 'high', 'court', 'merrick', 'garland', 'in', '2016', ',', 'allowing', 'trump', 'to', 'fill', 'a', 'supreme', 'court', 'vacancy', 'instead', '.', 'republicans', 'also', 'last', 'year', 'reduced', 'the', 'margin', 'for', 'advancing', 'supreme', 'court', 'nominations', 'from', '60', 'votes', 'in', 'the', '100-seat', 'senate', 'to', 'a', 'simple', 'majority', 'in', 'order', 'to', 'force', 'through', 'the', 'confirmation', 'of', 'trump', \"'s\", 'first', 'high', 'court', 'nominee', 'neil', 'gorsuch', '.', 'grassley', 'sought', 'to', 'turn', 'the', 'attention', 'to', 'kavanaugh', \"'s\", 'qualifications', ',', 'calling', 'him', '``', 'one', 'of', 'the', 'most', 'qualified', 'nominees', 'if', 'not', 'the', 'most', 'qualified', 'nominee', 'i', 'have', 'seen', '.', \"''\", 'the', 'senate', 'is', 'likely', 'to', 'vote', 'on', 'confirmation', 'by', 'the', 'end', 'of', 'the', 'month', '.', 'the', 'court', 'begins', 'its', 'next', 'term', 'in', 'october', '.', '``', 'a', 'good', 'judge', 'must', 'be', 'an', 'umpire', 'a', 'neutral', 'and', 'impartial', 'arbiter', 'who', 'favours', 'no', 'litigant', 'or', 'policy', ',', \"''\", 'kavanaugh', 'said', 'in', 'written', 'remarks', 'released', 'in', 'advance', 'of', 'the', 'hearing', '.', '``', 'i', 'do', \"n't\", 'decide', 'cases', 'based', 'on', 'personal', 'or', 'policy', 'preferences', '.', \"''\", 'the', 'hearing', 'gave', 'democrats', 'a', 'chance', 'to', 'make', 'their', 'case', 'against', 'kavanaugh', 'ahead', 'of', 'november', \"'s\", 'congressional', 'elections', 'in', 'which', 'they', 'are', 'seeking', 'to', 'seize', 'control', 'of', 'congress', 'from', 'republicans', '.', 'liberals', 'are', 'concerned', 'kavanaugh', 'could', 'provide', 'a', 'decisive', 'fifth', 'vote', 'on', 'the', 'nine-justice', 'court', 'to', 'overturn', 'or', 'weaken', 'the', 'landmark', '1973', 'roe', 'v.', 'wade', 'ruling', 'that', 'legalized', 'abortion', 'nationwide', '.', 'kennedy', 'was', 'a', 'solid', 'conservative', 'but', 'sided', 'with', 'the', 'court', \"'s\", 'liberals', 'on', 'some', 'issues', ',', 'including', 'abortion', 'and', 'gay', 'rights', '.', 'kavanaugh', 'also', 'is', 'likely', 'to', 'be', 'questioned', 'by', 'senators', 'about', 'his', 'views', 'on', 'investigating', 'sitting', 'presidents', 'and', 'the', 'ongoing', 'probe', 'by', 'special', 'counsel', 'robert', 'mueller', 'into', 'russian', 'meddling', 'in', 'the', '2016', 'u.s.', 'presidential', 'election', 'and', 'possible', 'collusion', 'between', 'moscow', 'and', 'trump', \"'s\", '2016', 'campaign', '.', '``', 'i', 'find', 'it', 'difficult', 'to', 'imagine', 'that', 'your', 'views', 'on', 'this', 'subject', 'escaped', 'the', 'attention', 'of', 'president', 'trump', ',', 'who', 'seems', 'increasingly', 'fixated', 'on', 'his', 'own', 'ballooning', 'legal', 'jeopardy', ',', \"''\", 'democrat', 'sen.', 'patrick', 'leahy', 'said', '.', 'watch', 'brett', 'kavanaugh', \"'s\", 'opening', 'statement', '.', 'with', 'files', 'from', 'the', 'associated', 'press', 'and', 'cbc', 'news', 'audience', 'relations', ',', 'cbc', 'p.o', '.', 'box', '500', 'station', 'a', 'toronto', ',', 'on', 'canada', ',', 'm5w', '1e6', 'toll-free', '(', 'canada', 'only', ')', ':', '1-866-306-4636', 'tty/teletype', 'writer', ':', '1-866-220-6045', 'it', 'is', 'a', 'priority', 'for', 'cbc', 'to', 'create', 'a', 'website', 'that', 'is', 'accessible', 'to', 'all', 'canadians', 'including', 'people', 'with', 'visual', ',', 'hearing', ',', 'motor', 'and', 'cognitive', 'challenges', '.', 'closed', 'captioning', 'and', 'described', 'video', 'is', 'available', 'for', 'many', 'cbc-tv', 'shows', 'offered', 'on', 'cbc', 'watch', '.'], tags=['CBC News'])"
      ]
     },
     "execution_count": 226,
     "metadata": {},
     "output_type": "execute_result"
    }
   ],
   "source": [
    "tagged_data[0]"
   ]
  },
  {
   "cell_type": "code",
   "execution_count": 254,
   "metadata": {},
   "outputs": [
    {
     "name": "stderr",
     "output_type": "stream",
     "text": [
      "/anaconda3/lib/python3.6/site-packages/gensim/models/doc2vec.py:570: UserWarning: The parameter `size` is deprecated, will be removed in 4.0.0, use `vector_size` instead.\n",
      "  warnings.warn(\"The parameter `size` is deprecated, will be removed in 4.0.0, use `vector_size` instead.\")\n"
     ]
    },
    {
     "name": "stdout",
     "output_type": "stream",
     "text": [
      "iteration 0\n"
     ]
    },
    {
     "name": "stderr",
     "output_type": "stream",
     "text": [
      "/anaconda3/lib/python3.6/site-packages/ipykernel_launcher.py:19: DeprecationWarning: Call to deprecated `iter` (Attribute will be removed in 4.0.0, use self.epochs instead).\n"
     ]
    },
    {
     "name": "stdout",
     "output_type": "stream",
     "text": [
      "iteration 1\n",
      "iteration 2\n",
      "iteration 3\n",
      "iteration 4\n",
      "iteration 5\n",
      "iteration 6\n",
      "iteration 7\n",
      "iteration 8\n",
      "iteration 9\n",
      "iteration 10\n",
      "iteration 11\n",
      "iteration 12\n",
      "iteration 13\n",
      "iteration 14\n",
      "iteration 15\n",
      "iteration 16\n",
      "iteration 17\n",
      "iteration 18\n",
      "iteration 19\n",
      "iteration 20\n",
      "iteration 21\n",
      "iteration 22\n",
      "iteration 23\n",
      "iteration 24\n",
      "iteration 25\n",
      "iteration 26\n",
      "iteration 27\n",
      "iteration 28\n",
      "iteration 29\n",
      "iteration 30\n",
      "iteration 31\n",
      "iteration 32\n",
      "iteration 33\n",
      "iteration 34\n",
      "iteration 35\n",
      "iteration 36\n",
      "iteration 37\n",
      "iteration 38\n",
      "iteration 39\n",
      "iteration 40\n",
      "iteration 41\n",
      "iteration 42\n",
      "iteration 43\n",
      "iteration 44\n",
      "iteration 45\n",
      "iteration 46\n",
      "iteration 47\n",
      "iteration 48\n",
      "iteration 49\n",
      "iteration 50\n",
      "iteration 51\n",
      "iteration 52\n",
      "iteration 53\n",
      "iteration 54\n",
      "iteration 55\n",
      "iteration 56\n",
      "iteration 57\n",
      "iteration 58\n",
      "iteration 59\n",
      "iteration 60\n",
      "iteration 61\n",
      "iteration 62\n",
      "iteration 63\n",
      "iteration 64\n",
      "iteration 65\n",
      "iteration 66\n",
      "iteration 67\n",
      "iteration 68\n",
      "iteration 69\n",
      "iteration 70\n",
      "iteration 71\n",
      "iteration 72\n",
      "iteration 73\n",
      "iteration 74\n",
      "iteration 75\n",
      "iteration 76\n",
      "iteration 77\n",
      "iteration 78\n",
      "iteration 79\n",
      "iteration 80\n",
      "iteration 81\n",
      "iteration 82\n",
      "iteration 83\n",
      "iteration 84\n",
      "iteration 85\n",
      "iteration 86\n",
      "iteration 87\n",
      "iteration 88\n",
      "iteration 89\n",
      "iteration 90\n",
      "iteration 91\n",
      "iteration 92\n",
      "iteration 93\n",
      "iteration 94\n",
      "iteration 95\n",
      "iteration 96\n",
      "iteration 97\n",
      "iteration 98\n",
      "iteration 99\n",
      "iteration 100\n",
      "iteration 101\n",
      "iteration 102\n",
      "iteration 103\n",
      "iteration 104\n",
      "iteration 105\n",
      "iteration 106\n",
      "iteration 107\n",
      "iteration 108\n",
      "iteration 109\n",
      "iteration 110\n",
      "iteration 111\n",
      "iteration 112\n",
      "iteration 113\n",
      "iteration 114\n",
      "iteration 115\n",
      "iteration 116\n",
      "iteration 117\n",
      "iteration 118\n",
      "iteration 119\n",
      "iteration 120\n",
      "iteration 121\n",
      "iteration 122\n",
      "iteration 123\n",
      "iteration 124\n",
      "iteration 125\n",
      "iteration 126\n",
      "iteration 127\n",
      "iteration 128\n",
      "iteration 129\n",
      "iteration 130\n",
      "iteration 131\n",
      "iteration 132\n",
      "iteration 133\n",
      "iteration 134\n",
      "iteration 135\n",
      "iteration 136\n",
      "iteration 137\n",
      "iteration 138\n",
      "iteration 139\n",
      "iteration 140\n",
      "iteration 141\n",
      "iteration 142\n",
      "iteration 143\n",
      "iteration 144\n",
      "iteration 145\n",
      "iteration 146\n",
      "iteration 147\n",
      "iteration 148\n",
      "iteration 149\n",
      "iteration 150\n",
      "iteration 151\n",
      "iteration 152\n",
      "iteration 153\n",
      "iteration 154\n",
      "iteration 155\n",
      "iteration 156\n",
      "iteration 157\n",
      "iteration 158\n",
      "iteration 159\n",
      "iteration 160\n",
      "iteration 161\n",
      "iteration 162\n",
      "iteration 163\n",
      "iteration 164\n",
      "iteration 165\n",
      "iteration 166\n",
      "iteration 167\n",
      "iteration 168\n",
      "iteration 169\n",
      "iteration 170\n",
      "iteration 171\n",
      "iteration 172\n",
      "iteration 173\n",
      "iteration 174\n",
      "iteration 175\n",
      "iteration 176\n",
      "iteration 177\n",
      "iteration 178\n",
      "iteration 179\n",
      "iteration 180\n",
      "iteration 181\n",
      "iteration 182\n",
      "iteration 183\n",
      "iteration 184\n",
      "iteration 185\n",
      "iteration 186\n",
      "iteration 187\n",
      "iteration 188\n",
      "iteration 189\n",
      "iteration 190\n",
      "iteration 191\n",
      "iteration 192\n",
      "iteration 193\n",
      "iteration 194\n",
      "iteration 195\n",
      "iteration 196\n",
      "iteration 197\n",
      "iteration 198\n",
      "iteration 199\n",
      "Model Saved\n"
     ]
    }
   ],
   "source": [
    "assert gensim.models.doc2vec.FAST_VERSION > -1\n",
    "max_epochs = 200\n",
    "vec_size = 100\n",
    "alpha = 0.025\n",
    "cores = multiprocessing.cpu_count()\n",
    "\n",
    "model = Doc2Vec(size=vec_size,\n",
    "                alpha=alpha, \n",
    "                min_alpha=0.00025,\n",
    "                min_count=2,\n",
    "                dm =0, workers=cores)\n",
    "  \n",
    "model.build_vocab(tagged_data)\n",
    "\n",
    "for epoch in range(max_epochs):\n",
    "    print('iteration {0}'.format(epoch))\n",
    "    model.train(tagged_data,\n",
    "                total_examples=model.corpus_count,\n",
    "                epochs=model.iter)\n",
    "    # decrease the learning rate\n",
    "    model.alpha -= 0.0002\n",
    "    # fix the learning rate, no decay\n",
    "    model.min_alpha = model.alpha\n",
    "\n",
    "model.save(\"d2v.model\")\n",
    "print(\"Model Saved\")\n"
   ]
  },
  {
   "cell_type": "code",
   "execution_count": 253,
   "metadata": {},
   "outputs": [
    {
     "name": "stderr",
     "output_type": "stream",
     "text": [
      "/anaconda3/lib/python3.6/site-packages/ipykernel_launcher.py:1: DeprecationWarning: Call to deprecated `iter` (Attribute will be removed in 4.0.0, use self.epochs instead).\n",
      "  \"\"\"Entry point for launching an IPython kernel.\n"
     ]
    },
    {
     "data": {
      "text/plain": [
       "5"
      ]
     },
     "execution_count": 253,
     "metadata": {},
     "output_type": "execute_result"
    }
   ],
   "source": [
    "model.iter"
   ]
  },
  {
   "cell_type": "code",
   "execution_count": 257,
   "metadata": {},
   "outputs": [
    {
     "name": "stderr",
     "output_type": "stream",
     "text": [
      "/anaconda3/lib/python3.6/site-packages/ipykernel_launcher.py:1: DeprecationWarning: Call to deprecated `most_similar` (Method will be removed in 4.0.0, use self.wv.most_similar() instead).\n",
      "  \"\"\"Entry point for launching an IPython kernel.\n",
      "/anaconda3/lib/python3.6/site-packages/gensim/matutils.py:737: FutureWarning: Conversion of the second argument of issubdtype from `int` to `np.signedinteger` is deprecated. In future, it will be treated as `np.int64 == np.dtype(int).type`.\n",
      "  if np.issubdtype(vec.dtype, np.int):\n"
     ]
    },
    {
     "data": {
      "text/plain": [
       "[('63', 0.34307003021240234),\n",
       " ('thoughts', 0.3347507119178772),\n",
       " ('antipathy', 0.333181232213974),\n",
       " ('banning', 0.33054009079933167),\n",
       " ('introduce', 0.324016273021698),\n",
       " ('angus', 0.3207557201385498),\n",
       " ('tossup', 0.31640058755874634),\n",
       " ('mostly', 0.3114963471889496),\n",
       " ('rooted', 0.3056873679161072),\n",
       " ('consist', 0.3020482361316681)]"
      ]
     },
     "execution_count": 257,
     "metadata": {},
     "output_type": "execute_result"
    }
   ],
   "source": [
    "model.most_similar('democrat')"
   ]
  },
  {
   "cell_type": "code",
   "execution_count": 258,
   "metadata": {},
   "outputs": [
    {
     "name": "stdout",
     "output_type": "stream",
     "text": [
      "[('Time', 0.7444280385971069), ('BBC News', 0.7008002400398254), ('Business Insider', 0.6946393847465515), ('The Telegraph', 0.6722674369812012), ('Vice News', 0.6688388586044312), ('ABC News', 0.6360713839530945), ('The Guardian (AU)', 0.6355329751968384), ('NBC News', 0.6308814287185669), ('CNN', 0.6269000172615051), ('New York Magazine', 0.6130892038345337)]\n"
     ]
    },
    {
     "name": "stderr",
     "output_type": "stream",
     "text": [
      "/anaconda3/lib/python3.6/site-packages/gensim/matutils.py:737: FutureWarning: Conversion of the second argument of issubdtype from `int` to `np.signedinteger` is deprecated. In future, it will be treated as `np.int64 == np.dtype(int).type`.\n",
      "  if np.issubdtype(vec.dtype, np.int):\n"
     ]
    }
   ],
   "source": [
    "# to find most similar doc using tags\n",
    "similar_doc = model.docvecs.most_similar('The New York Times')\n",
    "print(similar_doc)\n",
    "\n",
    "\n",
    "\n",
    "# print(model.docvecs['1']) #print doc vector"
   ]
  },
  {
   "cell_type": "code",
   "execution_count": 259,
   "metadata": {},
   "outputs": [
    {
     "name": "stdout",
     "output_type": "stream",
     "text": [
      "[('BBC News', 0.8105869293212891), ('Business Insider', 0.8018974661827087), ('The Telegraph', 0.7758575081825256), ('Vice News', 0.769325315952301), ('ABC News', 0.7505406141281128), ('The New York Times', 0.7444280385971069), ('NBC News', 0.7301639914512634), ('The Guardian (AU)', 0.7238157987594604), ('New York Magazine', 0.7086154222488403), ('Mashable', 0.6647524237632751)]\n"
     ]
    },
    {
     "name": "stderr",
     "output_type": "stream",
     "text": [
      "/anaconda3/lib/python3.6/site-packages/gensim/matutils.py:737: FutureWarning: Conversion of the second argument of issubdtype from `int` to `np.signedinteger` is deprecated. In future, it will be treated as `np.int64 == np.dtype(int).type`.\n",
      "  if np.issubdtype(vec.dtype, np.int):\n"
     ]
    }
   ],
   "source": [
    "similar_doc = model.docvecs.most_similar('Time')\n",
    "print(similar_doc)"
   ]
  },
  {
   "cell_type": "code",
   "execution_count": 260,
   "metadata": {},
   "outputs": [
    {
     "name": "stdout",
     "output_type": "stream",
     "text": [
      "[('National Review', 0.7998780608177185), ('USA Today', 0.7808328866958618), ('CBC News', 0.7581006288528442), ('The Washington Times', -0.608645498752594), ('Reuters', -0.6432740092277527), ('CNN', -0.644241988658905), ('Mashable', -0.6445731520652771), ('The Washington Post', -0.6553245186805725), ('CBS News', -0.6608672738075256), ('Associated Press', -0.6701783537864685)]\n"
     ]
    },
    {
     "name": "stderr",
     "output_type": "stream",
     "text": [
      "/anaconda3/lib/python3.6/site-packages/gensim/matutils.py:737: FutureWarning: Conversion of the second argument of issubdtype from `int` to `np.signedinteger` is deprecated. In future, it will be treated as `np.int64 == np.dtype(int).type`.\n",
      "  if np.issubdtype(vec.dtype, np.int):\n"
     ]
    }
   ],
   "source": [
    "similar_doc = model.docvecs.most_similar('Fox News')\n",
    "print(similar_doc)"
   ]
  },
  {
   "cell_type": "code",
   "execution_count": 216,
   "metadata": {},
   "outputs": [
    {
     "data": {
      "text/plain": [
       "'USA Today'"
      ]
     },
     "execution_count": 216,
     "metadata": {},
     "output_type": "execute_result"
    }
   ],
   "source": [
    "list(corpus_df.source_name)[113]"
   ]
  },
  {
   "cell_type": "code",
   "execution_count": null,
   "metadata": {},
   "outputs": [],
   "source": []
  }
 ],
 "metadata": {
  "kernelspec": {
   "display_name": "Python 3",
   "language": "python",
   "name": "python3"
  },
  "language_info": {
   "codemirror_mode": {
    "name": "ipython",
    "version": 3
   },
   "file_extension": ".py",
   "mimetype": "text/x-python",
   "name": "python",
   "nbconvert_exporter": "python",
   "pygments_lexer": "ipython3",
   "version": "3.6.5"
  }
 },
 "nbformat": 4,
 "nbformat_minor": 2
}
