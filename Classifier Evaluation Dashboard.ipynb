{
 "cells": [
  {
   "cell_type": "code",
   "execution_count": 1,
   "metadata": {
    "extensions": {
     "jupyter_dashboards": {
      "version": 1,
      "views": {
       "grid_default": {
        "hidden": true
       },
       "report_default": {
        "hidden": true
       }
      }
     }
    }
   },
   "outputs": [],
   "source": [
    "import ipywidgets as widgets\n",
    "from ipywidgets import interact, interactive, fixed, interact_manual\n",
    "import ipywidgets as widgets\n",
    "from IPython.display import Image\n",
    "from IPython.core.display import HTML \n",
    "import time\n",
    "from ipywidgets import FloatProgress\n",
    "from IPython.display import display\n",
    "from bs4 import BeautifulSoup\n",
    "import requests\n",
    "import re\n",
    "from os import path\n",
    "from PIL import Image\n",
    "import pandas as pd\n",
    "from model_evaluation import *\n",
    "from d2v_func import *\n",
    "import pickle\n",
    "pd.set_option('display.max_rows', 500)\n",
    "pd.set_option('display.max_columns', 500)"
   ]
  },
  {
   "cell_type": "markdown",
   "metadata": {
    "extensions": {
     "jupyter_dashboards": {
      "version": 1,
      "views": {
       "grid_default": {},
       "report_default": {
        "hidden": false
       }
      }
     }
    }
   },
   "source": [
    "# Logistic Regression Evaluation"
   ]
  },
  {
   "cell_type": "markdown",
   "metadata": {
    "extensions": {
     "jupyter_dashboards": {
      "version": 1,
      "views": {
       "grid_default": {},
       "report_default": {
        "hidden": false
       }
      }
     }
    }
   },
   "source": [
    "# Best Grid Search Across All Doc2Vec Models 37.3% Test Accuracy"
   ]
  },
  {
   "cell_type": "code",
   "execution_count": 2,
   "metadata": {
    "extensions": {
     "jupyter_dashboards": {
      "version": 1,
      "views": {
       "grid_default": {},
       "report_default": {
        "hidden": false
       }
      }
     }
    },
    "scrolled": false
   },
   "outputs": [
    {
     "data": {
      "text/html": [
       "<div>\n",
       "<style scoped>\n",
       "    .dataframe tbody tr th:only-of-type {\n",
       "        vertical-align: middle;\n",
       "    }\n",
       "\n",
       "    .dataframe tbody tr th {\n",
       "        vertical-align: top;\n",
       "    }\n",
       "\n",
       "    .dataframe thead th {\n",
       "        text-align: right;\n",
       "    }\n",
       "</style>\n",
       "<table border=\"1\" class=\"dataframe\">\n",
       "  <thead>\n",
       "    <tr style=\"text-align: right;\">\n",
       "      <th></th>\n",
       "      <th>mean_train_score</th>\n",
       "      <th>mean_test_score</th>\n",
       "      <th>std_train_score</th>\n",
       "      <th>std_test_score</th>\n",
       "      <th>param_C</th>\n",
       "      <th>param_class_weight</th>\n",
       "      <th>param_multi_class</th>\n",
       "      <th>param_penalty</th>\n",
       "      <th>param_solver</th>\n",
       "    </tr>\n",
       "    <tr>\n",
       "      <th>model_name</th>\n",
       "      <th></th>\n",
       "      <th></th>\n",
       "      <th></th>\n",
       "      <th></th>\n",
       "      <th></th>\n",
       "      <th></th>\n",
       "      <th></th>\n",
       "      <th></th>\n",
       "      <th></th>\n",
       "    </tr>\n",
       "  </thead>\n",
       "  <tbody>\n",
       "    <tr>\n",
       "      <th>Bigram_DMC</th>\n",
       "      <td>0.399045</td>\n",
       "      <td>0.370774</td>\n",
       "      <td>0.003683</td>\n",
       "      <td>0.015855</td>\n",
       "      <td>10.000</td>\n",
       "      <td>balanced</td>\n",
       "      <td>multinomial</td>\n",
       "      <td>l2</td>\n",
       "      <td>sag</td>\n",
       "    </tr>\n",
       "    <tr>\n",
       "      <th>Trigram_DMM</th>\n",
       "      <td>0.399660</td>\n",
       "      <td>0.364470</td>\n",
       "      <td>0.002705</td>\n",
       "      <td>0.017602</td>\n",
       "      <td>100.000</td>\n",
       "      <td>NaN</td>\n",
       "      <td>multinomial</td>\n",
       "      <td>l2</td>\n",
       "      <td>lbfgs</td>\n",
       "    </tr>\n",
       "    <tr>\n",
       "      <th>Trigram_DMM</th>\n",
       "      <td>0.399660</td>\n",
       "      <td>0.364470</td>\n",
       "      <td>0.002705</td>\n",
       "      <td>0.017602</td>\n",
       "      <td>100.000</td>\n",
       "      <td>balanced</td>\n",
       "      <td>multinomial</td>\n",
       "      <td>l2</td>\n",
       "      <td>lbfgs</td>\n",
       "    </tr>\n",
       "    <tr>\n",
       "      <th>Trigram_DBOW_DMM</th>\n",
       "      <td>0.402632</td>\n",
       "      <td>0.367144</td>\n",
       "      <td>0.002496</td>\n",
       "      <td>0.016176</td>\n",
       "      <td>100.000</td>\n",
       "      <td>NaN</td>\n",
       "      <td>multinomial</td>\n",
       "      <td>l2</td>\n",
       "      <td>sag</td>\n",
       "    </tr>\n",
       "    <tr>\n",
       "      <th>Trigram_DMC</th>\n",
       "      <td>0.403141</td>\n",
       "      <td>0.368768</td>\n",
       "      <td>0.002307</td>\n",
       "      <td>0.013544</td>\n",
       "      <td>100.000</td>\n",
       "      <td>NaN</td>\n",
       "      <td>multinomial</td>\n",
       "      <td>l2</td>\n",
       "      <td>sag</td>\n",
       "    </tr>\n",
       "    <tr>\n",
       "      <th>Bigram_DBOW_DMM</th>\n",
       "      <td>0.398504</td>\n",
       "      <td>0.365998</td>\n",
       "      <td>0.002687</td>\n",
       "      <td>0.014653</td>\n",
       "      <td>10.000</td>\n",
       "      <td>balanced</td>\n",
       "      <td>multinomial</td>\n",
       "      <td>l2</td>\n",
       "      <td>saga</td>\n",
       "    </tr>\n",
       "    <tr>\n",
       "      <th>Bigram_DBOW_200</th>\n",
       "      <td>0.406166</td>\n",
       "      <td>0.371920</td>\n",
       "      <td>0.002075</td>\n",
       "      <td>0.013236</td>\n",
       "      <td>1.000</td>\n",
       "      <td>balanced</td>\n",
       "      <td>multinomial</td>\n",
       "      <td>l2</td>\n",
       "      <td>sag</td>\n",
       "    </tr>\n",
       "    <tr>\n",
       "      <th>Bigram_DBOW_DMC</th>\n",
       "      <td>0.403205</td>\n",
       "      <td>0.371633</td>\n",
       "      <td>0.001728</td>\n",
       "      <td>0.018384</td>\n",
       "      <td>100.000</td>\n",
       "      <td>balanced</td>\n",
       "      <td>multinomial</td>\n",
       "      <td>l2</td>\n",
       "      <td>sag</td>\n",
       "    </tr>\n",
       "    <tr>\n",
       "      <th>Bigram_DMM</th>\n",
       "      <td>0.400096</td>\n",
       "      <td>0.370010</td>\n",
       "      <td>0.001876</td>\n",
       "      <td>0.018108</td>\n",
       "      <td>100.000</td>\n",
       "      <td>NaN</td>\n",
       "      <td>multinomial</td>\n",
       "      <td>l2</td>\n",
       "      <td>lbfgs</td>\n",
       "    </tr>\n",
       "    <tr>\n",
       "      <th>Bigram_DMM</th>\n",
       "      <td>0.400361</td>\n",
       "      <td>0.370010</td>\n",
       "      <td>0.002476</td>\n",
       "      <td>0.016714</td>\n",
       "      <td>100.000</td>\n",
       "      <td>NaN</td>\n",
       "      <td>multinomial</td>\n",
       "      <td>l2</td>\n",
       "      <td>newton-cg</td>\n",
       "    </tr>\n",
       "    <tr>\n",
       "      <th>Bigram_DMM</th>\n",
       "      <td>0.400096</td>\n",
       "      <td>0.370010</td>\n",
       "      <td>0.001876</td>\n",
       "      <td>0.018108</td>\n",
       "      <td>100.000</td>\n",
       "      <td>balanced</td>\n",
       "      <td>multinomial</td>\n",
       "      <td>l2</td>\n",
       "      <td>lbfgs</td>\n",
       "    </tr>\n",
       "    <tr>\n",
       "      <th>Bigram_DMM</th>\n",
       "      <td>0.400361</td>\n",
       "      <td>0.370010</td>\n",
       "      <td>0.002476</td>\n",
       "      <td>0.016714</td>\n",
       "      <td>100.000</td>\n",
       "      <td>balanced</td>\n",
       "      <td>multinomial</td>\n",
       "      <td>l2</td>\n",
       "      <td>newton-cg</td>\n",
       "    </tr>\n",
       "    <tr>\n",
       "      <th>Bigram_DMM</th>\n",
       "      <td>0.400265</td>\n",
       "      <td>0.370010</td>\n",
       "      <td>0.002280</td>\n",
       "      <td>0.017001</td>\n",
       "      <td>100.000</td>\n",
       "      <td>balanced</td>\n",
       "      <td>multinomial</td>\n",
       "      <td>l2</td>\n",
       "      <td>sag</td>\n",
       "    </tr>\n",
       "    <tr>\n",
       "      <th>Trigram_DBOW</th>\n",
       "      <td>0.403746</td>\n",
       "      <td>0.373161</td>\n",
       "      <td>0.002299</td>\n",
       "      <td>0.018901</td>\n",
       "      <td>100.000</td>\n",
       "      <td>NaN</td>\n",
       "      <td>multinomial</td>\n",
       "      <td>l2</td>\n",
       "      <td>saga</td>\n",
       "    </tr>\n",
       "    <tr>\n",
       "      <th>Bigram_DBOW</th>\n",
       "      <td>0.394811</td>\n",
       "      <td>0.369150</td>\n",
       "      <td>0.002783</td>\n",
       "      <td>0.013105</td>\n",
       "      <td>0.001</td>\n",
       "      <td>balanced</td>\n",
       "      <td>multinomial</td>\n",
       "      <td>l2</td>\n",
       "      <td>saga</td>\n",
       "    </tr>\n",
       "  </tbody>\n",
       "</table>\n",
       "</div>"
      ],
      "text/plain": [
       "                  mean_train_score  mean_test_score  std_train_score  \\\n",
       "model_name                                                             \n",
       "Bigram_DMC                0.399045         0.370774         0.003683   \n",
       "Trigram_DMM               0.399660         0.364470         0.002705   \n",
       "Trigram_DMM               0.399660         0.364470         0.002705   \n",
       "Trigram_DBOW_DMM          0.402632         0.367144         0.002496   \n",
       "Trigram_DMC               0.403141         0.368768         0.002307   \n",
       "Bigram_DBOW_DMM           0.398504         0.365998         0.002687   \n",
       "Bigram_DBOW_200           0.406166         0.371920         0.002075   \n",
       "Bigram_DBOW_DMC           0.403205         0.371633         0.001728   \n",
       "Bigram_DMM                0.400096         0.370010         0.001876   \n",
       "Bigram_DMM                0.400361         0.370010         0.002476   \n",
       "Bigram_DMM                0.400096         0.370010         0.001876   \n",
       "Bigram_DMM                0.400361         0.370010         0.002476   \n",
       "Bigram_DMM                0.400265         0.370010         0.002280   \n",
       "Trigram_DBOW              0.403746         0.373161         0.002299   \n",
       "Bigram_DBOW               0.394811         0.369150         0.002783   \n",
       "\n",
       "                  std_test_score  param_C param_class_weight  \\\n",
       "model_name                                                     \n",
       "Bigram_DMC              0.015855   10.000           balanced   \n",
       "Trigram_DMM             0.017602  100.000                NaN   \n",
       "Trigram_DMM             0.017602  100.000           balanced   \n",
       "Trigram_DBOW_DMM        0.016176  100.000                NaN   \n",
       "Trigram_DMC             0.013544  100.000                NaN   \n",
       "Bigram_DBOW_DMM         0.014653   10.000           balanced   \n",
       "Bigram_DBOW_200         0.013236    1.000           balanced   \n",
       "Bigram_DBOW_DMC         0.018384  100.000           balanced   \n",
       "Bigram_DMM              0.018108  100.000                NaN   \n",
       "Bigram_DMM              0.016714  100.000                NaN   \n",
       "Bigram_DMM              0.018108  100.000           balanced   \n",
       "Bigram_DMM              0.016714  100.000           balanced   \n",
       "Bigram_DMM              0.017001  100.000           balanced   \n",
       "Trigram_DBOW            0.018901  100.000                NaN   \n",
       "Bigram_DBOW             0.013105    0.001           balanced   \n",
       "\n",
       "                 param_multi_class param_penalty param_solver  \n",
       "model_name                                                     \n",
       "Bigram_DMC             multinomial            l2          sag  \n",
       "Trigram_DMM            multinomial            l2        lbfgs  \n",
       "Trigram_DMM            multinomial            l2        lbfgs  \n",
       "Trigram_DBOW_DMM       multinomial            l2          sag  \n",
       "Trigram_DMC            multinomial            l2          sag  \n",
       "Bigram_DBOW_DMM        multinomial            l2         saga  \n",
       "Bigram_DBOW_200        multinomial            l2          sag  \n",
       "Bigram_DBOW_DMC        multinomial            l2          sag  \n",
       "Bigram_DMM             multinomial            l2        lbfgs  \n",
       "Bigram_DMM             multinomial            l2    newton-cg  \n",
       "Bigram_DMM             multinomial            l2        lbfgs  \n",
       "Bigram_DMM             multinomial            l2    newton-cg  \n",
       "Bigram_DMM             multinomial            l2          sag  \n",
       "Trigram_DBOW           multinomial            l2         saga  \n",
       "Bigram_DBOW            multinomial            l2         saga  "
      ]
     },
     "metadata": {},
     "output_type": "display_data"
    },
    {
     "data": {
      "text/html": [
       "<iframe id=\"igraph\" scrolling=\"no\" style=\"border:none;\" seamless=\"seamless\" src=\"https://plot.ly/~mrethana/78.embed\" height=\"525px\" width=\"100%\"></iframe>"
      ],
      "text/plain": [
       "<plotly.tools.PlotlyDisplay object>"
      ]
     },
     "execution_count": 2,
     "metadata": {},
     "output_type": "execute_result"
    }
   ],
   "source": [
    "plot_best_grid_search(models)"
   ]
  },
  {
   "cell_type": "markdown",
   "metadata": {
    "extensions": {
     "jupyter_dashboards": {
      "version": 1,
      "views": {
       "grid_default": {},
       "report_default": {
        "hidden": false
       }
      }
     }
    }
   },
   "source": [
    "# Logistic Regression Grid Search by Doc2Vec Model"
   ]
  },
  {
   "cell_type": "code",
   "execution_count": 3,
   "metadata": {
    "extensions": {
     "jupyter_dashboards": {
      "version": 1,
      "views": {
       "grid_default": {
        "col": 0,
        "height": 32,
        "hidden": false,
        "row": 0,
        "width": 4
       },
       "report_default": {
        "hidden": false
       }
      }
     }
    },
    "scrolled": false
   },
   "outputs": [
    {
     "data": {
      "application/vnd.jupyter.widget-view+json": {
       "model_id": "7eac3569893b4c26b4d3e9d167fdad8c",
       "version_major": 2,
       "version_minor": 0
      },
      "text/plain": [
       "interactive(children=(Dropdown(description='Model Name', options=('Bigram_DMC', 'Trigram_DMM', 'Trigram_DBOW_D…"
      ]
     },
     "metadata": {},
     "output_type": "display_data"
    }
   ],
   "source": [
    "Model_widget = widgets.Dropdown(options=models,value = 'Bigram_DMC',description = 'Model Name', disabled = False)\n",
    "\n",
    "    \n",
    "interact(evaluate_logreg_model,model_name=Model_widget);  "
   ]
  },
  {
   "cell_type": "code",
   "execution_count": null,
   "metadata": {
    "extensions": {
     "jupyter_dashboards": {
      "version": 1,
      "views": {
       "grid_default": {},
       "report_default": {
        "hidden": true
       }
      }
     }
    }
   },
   "outputs": [],
   "source": []
  }
 ],
 "metadata": {
  "extensions": {
   "jupyter_dashboards": {
    "activeView": "report_default",
    "version": 1,
    "views": {
     "grid_default": {
      "cellMargin": 10,
      "defaultCellHeight": 20,
      "maxColumns": 12,
      "name": "grid",
      "type": "grid"
     },
     "report_default": {
      "name": "report",
      "type": "report"
     }
    }
   }
  },
  "kernelspec": {
   "display_name": "Python 3",
   "language": "python",
   "name": "python3"
  },
  "language_info": {
   "codemirror_mode": {
    "name": "ipython",
    "version": 3
   },
   "file_extension": ".py",
   "mimetype": "text/x-python",
   "name": "python",
   "nbconvert_exporter": "python",
   "pygments_lexer": "ipython3",
   "version": "3.6.5"
  }
 },
 "nbformat": 4,
 "nbformat_minor": 2
}
