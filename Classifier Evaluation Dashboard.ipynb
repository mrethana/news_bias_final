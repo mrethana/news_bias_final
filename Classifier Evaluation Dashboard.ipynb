{
 "cells": [
  {
   "cell_type": "code",
   "execution_count": 3,
   "metadata": {
    "extensions": {
     "jupyter_dashboards": {
      "version": 1,
      "views": {
       "grid_default": {
        "hidden": true
       },
       "report_default": {
        "hidden": true
       }
      }
     }
    }
   },
   "outputs": [],
   "source": [
    "import ipywidgets as widgets\n",
    "from ipywidgets import interact, interactive, fixed, interact_manual\n",
    "import ipywidgets as widgets\n",
    "from IPython.display import Image\n",
    "from IPython.core.display import HTML \n",
    "import time\n",
    "from ipywidgets import FloatProgress\n",
    "from IPython.display import display\n",
    "from bs4 import BeautifulSoup\n",
    "import requests\n",
    "import re\n",
    "from os import path\n",
    "from PIL import Image\n",
    "import pandas as pd\n",
    "from model_evaluation import *\n",
    "from d2v_func import *"
   ]
  },
  {
   "cell_type": "code",
   "execution_count": 4,
   "metadata": {
    "extensions": {
     "jupyter_dashboards": {
      "version": 1,
      "views": {
       "grid_default": {
        "hidden": true
       },
       "report_default": {
        "hidden": true
       }
      }
     }
    }
   },
   "outputs": [],
   "source": [
    "sample_df = pd.read_csv('Archive_CSV/sample_df_for_training.csv',index_col=0)\n",
    "Bigram_DBOW= Doc2Vec.load(\"D2V_models/d2v.model\")\n",
    "Bigram_DMM = Doc2Vec.load(\"D2V_models/d2v_DMM.model\")\n",
    "Bigram_DMC = Doc2Vec.load(\"D2V_models/d2v_DMC.model\")\n",
    "Bigram_DBOW200 = Doc2Vec.load(\"D2V_models/d2v_dbow200.model\")\n",
    "Bigram_models = [Bigram_DBOW,Bigram_DMC,Bigram_DMM, Bigram_DBOW200]"
   ]
  },
  {
   "cell_type": "code",
   "execution_count": null,
   "metadata": {},
   "outputs": [],
   "source": []
  },
  {
   "cell_type": "code",
   "execution_count": 7,
   "metadata": {
    "extensions": {
     "jupyter_dashboards": {
      "version": 1,
      "views": {
       "grid_default": {
        "col": 0,
        "height": 32,
        "hidden": false,
        "row": 0,
        "width": 4
       },
       "report_default": {
        "hidden": false
       }
      }
     }
    },
    "scrolled": false
   },
   "outputs": [
    {
     "data": {
      "application/vnd.jupyter.widget-view+json": {
       "model_id": "a8b6e2819a1f4fae9ecbbbc454d0eb4b",
       "version_major": 2,
       "version_minor": 0
      },
      "text/plain": [
       "interactive(children=(ToggleButtons(description='Model', options=(<gensim.models.doc2vec.Doc2Vec object at 0x1…"
      ]
     },
     "metadata": {},
     "output_type": "display_data"
    }
   ],
   "source": [
    "Size_widget = widgets.Dropdown(options=[100,200],value = 100,description = 'Vector Size', disabled = False)\n",
    "Model_widget = widgets.ToggleButtons(options = Bigram_models, description ='Model', button_style='')\n",
    "\n",
    "\n",
    "# def dynamic_PCA(model, vec_size):\n",
    "#     sample_df = pd.read_csv('Archive_CSV/sample_df_for_training.csv',index_col=0)\n",
    "#     model1_pvecs = get_perspective_vectors(model, vec_size)\n",
    "#     model1_svecs = get_source_vectors(model, sample_df, vec_size)\n",
    "#     model1_avecs = get_all_vectors_labels(model, vec_size,sample_df)\n",
    "#     all_vecs = model1_avecs.append(model1_svecs)\n",
    "#     all_vecs = all_vecs.append(model1_pvecs)\n",
    "#     pc_df = PCA_modeling(all_vecs,vec_size)\n",
    "#     return PCA_plot(pc_df)\n",
    "    \n",
    "interact(dynamic_PCA,model=Model_widget, vec_size=Size_widget);  "
   ]
  },
  {
   "cell_type": "code",
   "execution_count": null,
   "metadata": {
    "extensions": {
     "jupyter_dashboards": {
      "version": 1,
      "views": {
       "grid_default": {},
       "report_default": {
        "hidden": true
       }
      }
     }
    }
   },
   "outputs": [],
   "source": []
  }
 ],
 "metadata": {
  "extensions": {
   "jupyter_dashboards": {
    "activeView": "report_default",
    "version": 1,
    "views": {
     "grid_default": {
      "cellMargin": 10,
      "defaultCellHeight": 20,
      "maxColumns": 12,
      "name": "grid",
      "type": "grid"
     },
     "report_default": {
      "name": "report",
      "type": "report"
     }
    }
   }
  },
  "kernelspec": {
   "display_name": "Python 3",
   "language": "python",
   "name": "python3"
  },
  "language_info": {
   "codemirror_mode": {
    "name": "ipython",
    "version": 3
   },
   "file_extension": ".py",
   "mimetype": "text/x-python",
   "name": "python",
   "nbconvert_exporter": "python",
   "pygments_lexer": "ipython3",
   "version": "3.6.5"
  }
 },
 "nbformat": 4,
 "nbformat_minor": 2
}
