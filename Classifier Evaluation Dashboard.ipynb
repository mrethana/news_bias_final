{
 "cells": [
  {
   "cell_type": "code",
   "execution_count": 1,
   "metadata": {
    "extensions": {
     "jupyter_dashboards": {
      "version": 1,
      "views": {
       "grid_default": {
        "hidden": true
       },
       "report_default": {
        "hidden": true
       }
      }
     }
    }
   },
   "outputs": [
    {
     "name": "stderr",
     "output_type": "stream",
     "text": [
      "/anaconda3/lib/python3.6/importlib/_bootstrap.py:219: RuntimeWarning:\n",
      "\n",
      "numpy.dtype size changed, may indicate binary incompatibility. Expected 96, got 88\n",
      "\n",
      "/anaconda3/lib/python3.6/importlib/_bootstrap.py:219: ImportWarning:\n",
      "\n",
      "can't resolve package from __spec__ or __package__, falling back on __name__ and __path__\n",
      "\n"
     ]
    }
   ],
   "source": [
    "import ipywidgets as widgets\n",
    "from ipywidgets import interact, interactive, fixed, interact_manual\n",
    "import ipywidgets as widgets\n",
    "from IPython.display import Image\n",
    "from IPython.core.display import HTML \n",
    "import time\n",
    "from ipywidgets import FloatProgress\n",
    "from IPython.display import display\n",
    "from bs4 import BeautifulSoup\n",
    "import requests\n",
    "import re\n",
    "from os import path\n",
    "from PIL import Image\n",
    "import pandas as pd\n",
    "from model_evaluation import *\n",
    "from d2v_func import *\n",
    "import pickle\n",
    "pd.set_option('display.max_rows', 500)\n",
    "pd.set_option('display.max_columns', 500)"
   ]
  },
  {
   "cell_type": "code",
   "execution_count": 2,
   "metadata": {
    "extensions": {
     "jupyter_dashboards": {
      "version": 1,
      "views": {
       "grid_default": {},
       "report_default": {
        "hidden": true
       }
      }
     }
    }
   },
   "outputs": [],
   "source": [
    "pd.set_option('max_colwidth', 800)"
   ]
  },
  {
   "cell_type": "markdown",
   "metadata": {
    "extensions": {
     "jupyter_dashboards": {
      "version": 1,
      "views": {
       "grid_default": {},
       "report_default": {
        "hidden": false
       }
      }
     }
    }
   },
   "source": [
    "# Logistic Regression Evaluation"
   ]
  },
  {
   "cell_type": "markdown",
   "metadata": {
    "extensions": {
     "jupyter_dashboards": {
      "version": 1,
      "views": {
       "grid_default": {},
       "report_default": {
        "hidden": false
       }
      }
     }
    }
   },
   "source": [
    "# Best Grid Search Across All Doc2Vec Models 37.3% Test Accuracy"
   ]
  },
  {
   "cell_type": "code",
   "execution_count": 3,
   "metadata": {
    "extensions": {
     "jupyter_dashboards": {
      "version": 1,
      "views": {
       "grid_default": {},
       "report_default": {
        "hidden": false
       }
      }
     }
    },
    "scrolled": false
   },
   "outputs": [
    {
     "data": {
      "text/html": [
       "<div>\n",
       "<style scoped>\n",
       "    .dataframe tbody tr th:only-of-type {\n",
       "        vertical-align: middle;\n",
       "    }\n",
       "\n",
       "    .dataframe tbody tr th {\n",
       "        vertical-align: top;\n",
       "    }\n",
       "\n",
       "    .dataframe thead th {\n",
       "        text-align: right;\n",
       "    }\n",
       "</style>\n",
       "<table border=\"1\" class=\"dataframe\">\n",
       "  <thead>\n",
       "    <tr style=\"text-align: right;\">\n",
       "      <th></th>\n",
       "      <th>mean_train_score</th>\n",
       "      <th>mean_test_score</th>\n",
       "      <th>std_train_score</th>\n",
       "      <th>std_test_score</th>\n",
       "      <th>params</th>\n",
       "    </tr>\n",
       "    <tr>\n",
       "      <th>model_name</th>\n",
       "      <th></th>\n",
       "      <th></th>\n",
       "      <th></th>\n",
       "      <th></th>\n",
       "      <th></th>\n",
       "    </tr>\n",
       "  </thead>\n",
       "  <tbody>\n",
       "    <tr>\n",
       "      <th>Trigram_DBOW</th>\n",
       "      <td>0.403746</td>\n",
       "      <td>0.373161</td>\n",
       "      <td>0.002299</td>\n",
       "      <td>0.018901</td>\n",
       "      <td>{'C': 100, 'class_weight': None, 'multi_class': 'multinomial', 'penalty': 'l2', 'solver': 'saga'}</td>\n",
       "    </tr>\n",
       "    <tr>\n",
       "      <th>Bigram_DBOW_200</th>\n",
       "      <td>0.406166</td>\n",
       "      <td>0.371920</td>\n",
       "      <td>0.002075</td>\n",
       "      <td>0.013236</td>\n",
       "      <td>{'C': 1, 'class_weight': 'balanced', 'multi_class': 'multinomial', 'penalty': 'l2', 'solver': 'sag'}</td>\n",
       "    </tr>\n",
       "    <tr>\n",
       "      <th>Bigram_DBOW_DMC</th>\n",
       "      <td>0.403205</td>\n",
       "      <td>0.371633</td>\n",
       "      <td>0.001728</td>\n",
       "      <td>0.018384</td>\n",
       "      <td>{'C': 100, 'class_weight': 'balanced', 'multi_class': 'multinomial', 'penalty': 'l2', 'solver': 'sag'}</td>\n",
       "    </tr>\n",
       "    <tr>\n",
       "      <th>Bigram_DMC</th>\n",
       "      <td>0.399045</td>\n",
       "      <td>0.370774</td>\n",
       "      <td>0.003683</td>\n",
       "      <td>0.015855</td>\n",
       "      <td>{'C': 10, 'class_weight': 'balanced', 'multi_class': 'multinomial', 'penalty': 'l2', 'solver': 'sag'}</td>\n",
       "    </tr>\n",
       "    <tr>\n",
       "      <th>Bigram_DMM</th>\n",
       "      <td>0.400096</td>\n",
       "      <td>0.370010</td>\n",
       "      <td>0.001876</td>\n",
       "      <td>0.018108</td>\n",
       "      <td>{'C': 100, 'class_weight': None, 'multi_class': 'multinomial', 'penalty': 'l2', 'solver': 'lbfgs'}</td>\n",
       "    </tr>\n",
       "    <tr>\n",
       "      <th>Bigram_DBOW</th>\n",
       "      <td>0.394811</td>\n",
       "      <td>0.369150</td>\n",
       "      <td>0.002783</td>\n",
       "      <td>0.013105</td>\n",
       "      <td>{'C': 0.001, 'class_weight': 'balanced', 'multi_class': 'multinomial', 'penalty': 'l2', 'solver': 'saga'}</td>\n",
       "    </tr>\n",
       "    <tr>\n",
       "      <th>Trigram_DMC</th>\n",
       "      <td>0.403141</td>\n",
       "      <td>0.368768</td>\n",
       "      <td>0.002307</td>\n",
       "      <td>0.013544</td>\n",
       "      <td>{'C': 100, 'class_weight': None, 'multi_class': 'multinomial', 'penalty': 'l2', 'solver': 'sag'}</td>\n",
       "    </tr>\n",
       "    <tr>\n",
       "      <th>Trigram_DBOW_DMM</th>\n",
       "      <td>0.402632</td>\n",
       "      <td>0.367144</td>\n",
       "      <td>0.002496</td>\n",
       "      <td>0.016176</td>\n",
       "      <td>{'C': 100, 'class_weight': None, 'multi_class': 'multinomial', 'penalty': 'l2', 'solver': 'sag'}</td>\n",
       "    </tr>\n",
       "    <tr>\n",
       "      <th>Bigram_DBOW_DMM</th>\n",
       "      <td>0.398504</td>\n",
       "      <td>0.365998</td>\n",
       "      <td>0.002687</td>\n",
       "      <td>0.014653</td>\n",
       "      <td>{'C': 10, 'class_weight': 'balanced', 'multi_class': 'multinomial', 'penalty': 'l2', 'solver': 'saga'}</td>\n",
       "    </tr>\n",
       "    <tr>\n",
       "      <th>Trigram_DMM</th>\n",
       "      <td>0.399660</td>\n",
       "      <td>0.364470</td>\n",
       "      <td>0.002705</td>\n",
       "      <td>0.017602</td>\n",
       "      <td>{'C': 100, 'class_weight': None, 'multi_class': 'multinomial', 'penalty': 'l2', 'solver': 'lbfgs'}</td>\n",
       "    </tr>\n",
       "  </tbody>\n",
       "</table>\n",
       "</div>"
      ],
      "text/plain": [
       "                  mean_train_score  mean_test_score  std_train_score  \\\n",
       "model_name                                                             \n",
       "Trigram_DBOW              0.403746         0.373161         0.002299   \n",
       "Bigram_DBOW_200           0.406166         0.371920         0.002075   \n",
       "Bigram_DBOW_DMC           0.403205         0.371633         0.001728   \n",
       "Bigram_DMC                0.399045         0.370774         0.003683   \n",
       "Bigram_DMM                0.400096         0.370010         0.001876   \n",
       "Bigram_DBOW               0.394811         0.369150         0.002783   \n",
       "Trigram_DMC               0.403141         0.368768         0.002307   \n",
       "Trigram_DBOW_DMM          0.402632         0.367144         0.002496   \n",
       "Bigram_DBOW_DMM           0.398504         0.365998         0.002687   \n",
       "Trigram_DMM               0.399660         0.364470         0.002705   \n",
       "\n",
       "                  std_test_score  \\\n",
       "model_name                         \n",
       "Trigram_DBOW            0.018901   \n",
       "Bigram_DBOW_200         0.013236   \n",
       "Bigram_DBOW_DMC         0.018384   \n",
       "Bigram_DMC              0.015855   \n",
       "Bigram_DMM              0.018108   \n",
       "Bigram_DBOW             0.013105   \n",
       "Trigram_DMC             0.013544   \n",
       "Trigram_DBOW_DMM        0.016176   \n",
       "Bigram_DBOW_DMM         0.014653   \n",
       "Trigram_DMM             0.017602   \n",
       "\n",
       "                                                                                                                     params  \n",
       "model_name                                                                                                                   \n",
       "Trigram_DBOW              {'C': 100, 'class_weight': None, 'multi_class': 'multinomial', 'penalty': 'l2', 'solver': 'saga'}  \n",
       "Bigram_DBOW_200        {'C': 1, 'class_weight': 'balanced', 'multi_class': 'multinomial', 'penalty': 'l2', 'solver': 'sag'}  \n",
       "Bigram_DBOW_DMC      {'C': 100, 'class_weight': 'balanced', 'multi_class': 'multinomial', 'penalty': 'l2', 'solver': 'sag'}  \n",
       "Bigram_DMC            {'C': 10, 'class_weight': 'balanced', 'multi_class': 'multinomial', 'penalty': 'l2', 'solver': 'sag'}  \n",
       "Bigram_DMM               {'C': 100, 'class_weight': None, 'multi_class': 'multinomial', 'penalty': 'l2', 'solver': 'lbfgs'}  \n",
       "Bigram_DBOW       {'C': 0.001, 'class_weight': 'balanced', 'multi_class': 'multinomial', 'penalty': 'l2', 'solver': 'saga'}  \n",
       "Trigram_DMC                {'C': 100, 'class_weight': None, 'multi_class': 'multinomial', 'penalty': 'l2', 'solver': 'sag'}  \n",
       "Trigram_DBOW_DMM           {'C': 100, 'class_weight': None, 'multi_class': 'multinomial', 'penalty': 'l2', 'solver': 'sag'}  \n",
       "Bigram_DBOW_DMM      {'C': 10, 'class_weight': 'balanced', 'multi_class': 'multinomial', 'penalty': 'l2', 'solver': 'saga'}  \n",
       "Trigram_DMM              {'C': 100, 'class_weight': None, 'multi_class': 'multinomial', 'penalty': 'l2', 'solver': 'lbfgs'}  "
      ]
     },
     "metadata": {},
     "output_type": "display_data"
    }
   ],
   "source": [
    "plot_best_grid_search(models,Logistic_dict)"
   ]
  },
  {
   "cell_type": "markdown",
   "metadata": {
    "extensions": {
     "jupyter_dashboards": {
      "version": 1,
      "views": {
       "grid_default": {},
       "report_default": {
        "hidden": false
       }
      }
     }
    }
   },
   "source": [
    "# Logistic Regression Grid Search by Doc2Vec Model"
   ]
  },
  {
   "cell_type": "code",
   "execution_count": 4,
   "metadata": {
    "extensions": {
     "jupyter_dashboards": {
      "version": 1,
      "views": {
       "grid_default": {
        "col": 0,
        "height": 32,
        "hidden": false,
        "row": 0,
        "width": 4
       },
       "report_default": {
        "hidden": false
       }
      }
     }
    },
    "scrolled": false
   },
   "outputs": [
    {
     "data": {
      "application/vnd.jupyter.widget-view+json": {
       "model_id": "7c7b12af863342999691ada80342bb6c",
       "version_major": 2,
       "version_minor": 0
      },
      "text/plain": [
       "interactive(children=(Dropdown(description='Model Name', options=('Bigram_DMC', 'Trigram_DMM', 'Trigram_DBOW_D…"
      ]
     },
     "metadata": {},
     "output_type": "display_data"
    }
   ],
   "source": [
    "Model_widget = widgets.Dropdown(options=models,value = 'Bigram_DMC',description = 'Model Name', disabled = False)\n",
    "model_type_widget1 = widgets.ToggleButtons(options = [Logistic_dict], description ='Classifier Type', button_style='')\n",
    "\n",
    "    \n",
    "interact(evaluate_classifier_model,model_name=Model_widget, model_name_dict = model_type_widget1);  "
   ]
  },
  {
   "cell_type": "markdown",
   "metadata": {
    "extensions": {
     "jupyter_dashboards": {
      "version": 1,
      "views": {
       "grid_default": {
        "hidden": true
       },
       "report_default": {
        "hidden": false
       }
      }
     }
    }
   },
   "source": [
    "# Decision Tree Evaluation"
   ]
  },
  {
   "cell_type": "markdown",
   "metadata": {
    "extensions": {
     "jupyter_dashboards": {
      "version": 1,
      "views": {
       "grid_default": {
        "hidden": true
       },
       "report_default": {
        "hidden": false
       }
      }
     }
    }
   },
   "source": [
    "# Best Grid Search Across All Doc2Vec Models 45% Test Accuracy"
   ]
  },
  {
   "cell_type": "code",
   "execution_count": 5,
   "metadata": {
    "extensions": {
     "jupyter_dashboards": {
      "version": 1,
      "views": {
       "grid_default": {
        "hidden": true
       },
       "report_default": {
        "hidden": false
       }
      }
     }
    },
    "scrolled": false
   },
   "outputs": [
    {
     "data": {
      "text/html": [
       "<div>\n",
       "<style scoped>\n",
       "    .dataframe tbody tr th:only-of-type {\n",
       "        vertical-align: middle;\n",
       "    }\n",
       "\n",
       "    .dataframe tbody tr th {\n",
       "        vertical-align: top;\n",
       "    }\n",
       "\n",
       "    .dataframe thead th {\n",
       "        text-align: right;\n",
       "    }\n",
       "</style>\n",
       "<table border=\"1\" class=\"dataframe\">\n",
       "  <thead>\n",
       "    <tr style=\"text-align: right;\">\n",
       "      <th></th>\n",
       "      <th>mean_train_score</th>\n",
       "      <th>mean_test_score</th>\n",
       "      <th>std_train_score</th>\n",
       "      <th>std_test_score</th>\n",
       "      <th>params</th>\n",
       "    </tr>\n",
       "    <tr>\n",
       "      <th>model_name</th>\n",
       "      <th></th>\n",
       "      <th></th>\n",
       "      <th></th>\n",
       "      <th></th>\n",
       "      <th></th>\n",
       "    </tr>\n",
       "  </thead>\n",
       "  <tbody>\n",
       "    <tr>\n",
       "      <th>Bigram_DBOW</th>\n",
       "      <td>1.000000</td>\n",
       "      <td>0.451194</td>\n",
       "      <td>0.000000</td>\n",
       "      <td>0.025856</td>\n",
       "      <td>{'criterion': 'entropy', 'max_depth': None, 'min_samples_leaf': 1, 'min_samples_split': 2}</td>\n",
       "    </tr>\n",
       "    <tr>\n",
       "      <th>Bigram_DBOW_200</th>\n",
       "      <td>0.987488</td>\n",
       "      <td>0.450907</td>\n",
       "      <td>0.001345</td>\n",
       "      <td>0.025466</td>\n",
       "      <td>{'criterion': 'entropy', 'max_depth': None, 'min_samples_leaf': 1, 'min_samples_split': 5}</td>\n",
       "    </tr>\n",
       "    <tr>\n",
       "      <th>Trigram_DMM</th>\n",
       "      <td>1.000000</td>\n",
       "      <td>0.449761</td>\n",
       "      <td>0.000000</td>\n",
       "      <td>0.024228</td>\n",
       "      <td>{'criterion': 'entropy', 'max_depth': None, 'min_samples_leaf': 1, 'min_samples_split': 2}</td>\n",
       "    </tr>\n",
       "    <tr>\n",
       "      <th>Trigram_DBOW</th>\n",
       "      <td>1.000000</td>\n",
       "      <td>0.449666</td>\n",
       "      <td>0.000000</td>\n",
       "      <td>0.019343</td>\n",
       "      <td>{'criterion': 'entropy', 'max_depth': None, 'min_samples_leaf': 1, 'min_samples_split': 2}</td>\n",
       "    </tr>\n",
       "    <tr>\n",
       "      <th>Bigram_DBOW_DMM</th>\n",
       "      <td>1.000000</td>\n",
       "      <td>0.449570</td>\n",
       "      <td>0.000000</td>\n",
       "      <td>0.025813</td>\n",
       "      <td>{'criterion': 'entropy', 'max_depth': None, 'min_samples_leaf': 1, 'min_samples_split': 2}</td>\n",
       "    </tr>\n",
       "    <tr>\n",
       "      <th>Bigram_DMM</th>\n",
       "      <td>0.948764</td>\n",
       "      <td>0.449284</td>\n",
       "      <td>0.002331</td>\n",
       "      <td>0.017813</td>\n",
       "      <td>{'criterion': 'gini', 'max_depth': None, 'min_samples_leaf': 2, 'min_samples_split': 2}</td>\n",
       "    </tr>\n",
       "    <tr>\n",
       "      <th>Trigram_DMC</th>\n",
       "      <td>0.969458</td>\n",
       "      <td>0.447660</td>\n",
       "      <td>0.001510</td>\n",
       "      <td>0.030813</td>\n",
       "      <td>{'criterion': 'gini', 'max_depth': None, 'min_samples_leaf': 1, 'min_samples_split': 5}</td>\n",
       "    </tr>\n",
       "    <tr>\n",
       "      <th>Bigram_DBOW_DMC</th>\n",
       "      <td>1.000000</td>\n",
       "      <td>0.446800</td>\n",
       "      <td>0.000000</td>\n",
       "      <td>0.029223</td>\n",
       "      <td>{'criterion': 'gini', 'max_depth': None, 'min_samples_leaf': 1, 'min_samples_split': 2}</td>\n",
       "    </tr>\n",
       "    <tr>\n",
       "      <th>Bigram_DMC</th>\n",
       "      <td>0.969903</td>\n",
       "      <td>0.446609</td>\n",
       "      <td>0.000967</td>\n",
       "      <td>0.018983</td>\n",
       "      <td>{'criterion': 'gini', 'max_depth': None, 'min_samples_leaf': 1, 'min_samples_split': 5}</td>\n",
       "    </tr>\n",
       "    <tr>\n",
       "      <th>Trigram_DBOW_DMM</th>\n",
       "      <td>1.000000</td>\n",
       "      <td>0.443553</td>\n",
       "      <td>0.000000</td>\n",
       "      <td>0.018027</td>\n",
       "      <td>{'criterion': 'gini', 'max_depth': None, 'min_samples_leaf': 1, 'min_samples_split': 2}</td>\n",
       "    </tr>\n",
       "  </tbody>\n",
       "</table>\n",
       "</div>"
      ],
      "text/plain": [
       "                  mean_train_score  mean_test_score  std_train_score  \\\n",
       "model_name                                                             \n",
       "Bigram_DBOW               1.000000         0.451194         0.000000   \n",
       "Bigram_DBOW_200           0.987488         0.450907         0.001345   \n",
       "Trigram_DMM               1.000000         0.449761         0.000000   \n",
       "Trigram_DBOW              1.000000         0.449666         0.000000   \n",
       "Bigram_DBOW_DMM           1.000000         0.449570         0.000000   \n",
       "Bigram_DMM                0.948764         0.449284         0.002331   \n",
       "Trigram_DMC               0.969458         0.447660         0.001510   \n",
       "Bigram_DBOW_DMC           1.000000         0.446800         0.000000   \n",
       "Bigram_DMC                0.969903         0.446609         0.000967   \n",
       "Trigram_DBOW_DMM          1.000000         0.443553         0.000000   \n",
       "\n",
       "                  std_test_score  \\\n",
       "model_name                         \n",
       "Bigram_DBOW             0.025856   \n",
       "Bigram_DBOW_200         0.025466   \n",
       "Trigram_DMM             0.024228   \n",
       "Trigram_DBOW            0.019343   \n",
       "Bigram_DBOW_DMM         0.025813   \n",
       "Bigram_DMM              0.017813   \n",
       "Trigram_DMC             0.030813   \n",
       "Bigram_DBOW_DMC         0.029223   \n",
       "Bigram_DMC              0.018983   \n",
       "Trigram_DBOW_DMM        0.018027   \n",
       "\n",
       "                                                                                                      params  \n",
       "model_name                                                                                                    \n",
       "Bigram_DBOW       {'criterion': 'entropy', 'max_depth': None, 'min_samples_leaf': 1, 'min_samples_split': 2}  \n",
       "Bigram_DBOW_200   {'criterion': 'entropy', 'max_depth': None, 'min_samples_leaf': 1, 'min_samples_split': 5}  \n",
       "Trigram_DMM       {'criterion': 'entropy', 'max_depth': None, 'min_samples_leaf': 1, 'min_samples_split': 2}  \n",
       "Trigram_DBOW      {'criterion': 'entropy', 'max_depth': None, 'min_samples_leaf': 1, 'min_samples_split': 2}  \n",
       "Bigram_DBOW_DMM   {'criterion': 'entropy', 'max_depth': None, 'min_samples_leaf': 1, 'min_samples_split': 2}  \n",
       "Bigram_DMM           {'criterion': 'gini', 'max_depth': None, 'min_samples_leaf': 2, 'min_samples_split': 2}  \n",
       "Trigram_DMC          {'criterion': 'gini', 'max_depth': None, 'min_samples_leaf': 1, 'min_samples_split': 5}  \n",
       "Bigram_DBOW_DMC      {'criterion': 'gini', 'max_depth': None, 'min_samples_leaf': 1, 'min_samples_split': 2}  \n",
       "Bigram_DMC           {'criterion': 'gini', 'max_depth': None, 'min_samples_leaf': 1, 'min_samples_split': 5}  \n",
       "Trigram_DBOW_DMM     {'criterion': 'gini', 'max_depth': None, 'min_samples_leaf': 1, 'min_samples_split': 2}  "
      ]
     },
     "metadata": {},
     "output_type": "display_data"
    }
   ],
   "source": [
    "plot_best_grid_search(models,Decision_Tree_dict)"
   ]
  },
  {
   "cell_type": "markdown",
   "metadata": {
    "extensions": {
     "jupyter_dashboards": {
      "version": 1,
      "views": {
       "grid_default": {},
       "report_default": {
        "hidden": false
       }
      }
     }
    }
   },
   "source": [
    "# Above Models are all overfit due to 0 Max Depth in Decision Tree"
   ]
  },
  {
   "cell_type": "markdown",
   "metadata": {
    "extensions": {
     "jupyter_dashboards": {
      "version": 1,
      "views": {
       "grid_default": {},
       "report_default": {
        "hidden": false
       }
      }
     }
    }
   },
   "source": [
    "# Best Deicision Tree Model with Max Depth Set is 37.7% (Bigram DBOW 200)"
   ]
  },
  {
   "cell_type": "code",
   "execution_count": 6,
   "metadata": {
    "extensions": {
     "jupyter_dashboards": {
      "version": 1,
      "views": {
       "grid_default": {},
       "report_default": {
        "hidden": false
       }
      }
     }
    }
   },
   "outputs": [
    {
     "data": {
      "text/html": [
       "<div>\n",
       "<style scoped>\n",
       "    .dataframe tbody tr th:only-of-type {\n",
       "        vertical-align: middle;\n",
       "    }\n",
       "\n",
       "    .dataframe tbody tr th {\n",
       "        vertical-align: top;\n",
       "    }\n",
       "\n",
       "    .dataframe thead th {\n",
       "        text-align: right;\n",
       "    }\n",
       "</style>\n",
       "<table border=\"1\" class=\"dataframe\">\n",
       "  <thead>\n",
       "    <tr style=\"text-align: right;\">\n",
       "      <th></th>\n",
       "      <th>mean_train_score</th>\n",
       "      <th>mean_test_score</th>\n",
       "      <th>std_train_score</th>\n",
       "      <th>std_test_score</th>\n",
       "      <th>params</th>\n",
       "    </tr>\n",
       "    <tr>\n",
       "      <th>model_name</th>\n",
       "      <th></th>\n",
       "      <th></th>\n",
       "      <th></th>\n",
       "      <th></th>\n",
       "      <th></th>\n",
       "    </tr>\n",
       "  </thead>\n",
       "  <tbody>\n",
       "    <tr>\n",
       "      <th>Bigram_DBOW_200</th>\n",
       "      <td>0.382203</td>\n",
       "      <td>0.376504</td>\n",
       "      <td>0.000932</td>\n",
       "      <td>0.011460</td>\n",
       "      <td>{'criterion': 'gini', 'max_depth': 6, 'min_samples_leaf': 1, 'min_samples_split': 10}</td>\n",
       "    </tr>\n",
       "    <tr>\n",
       "      <th>Bigram_DBOW_DMM</th>\n",
       "      <td>0.381726</td>\n",
       "      <td>0.365712</td>\n",
       "      <td>0.005817</td>\n",
       "      <td>0.014266</td>\n",
       "      <td>{'criterion': 'gini', 'max_depth': 6, 'min_samples_leaf': 2, 'min_samples_split': 10}</td>\n",
       "    </tr>\n",
       "    <tr>\n",
       "      <th>Trigram_DMM</th>\n",
       "      <td>0.375772</td>\n",
       "      <td>0.364852</td>\n",
       "      <td>0.002518</td>\n",
       "      <td>0.009010</td>\n",
       "      <td>{'criterion': 'entropy', 'max_depth': 6, 'min_samples_leaf': 1, 'min_samples_split': 5}</td>\n",
       "    </tr>\n",
       "    <tr>\n",
       "      <th>Bigram_DMM</th>\n",
       "      <td>0.378415</td>\n",
       "      <td>0.363706</td>\n",
       "      <td>0.005757</td>\n",
       "      <td>0.011805</td>\n",
       "      <td>{'criterion': 'entropy', 'max_depth': 6, 'min_samples_leaf': 2, 'min_samples_split': 5}</td>\n",
       "    </tr>\n",
       "    <tr>\n",
       "      <th>Trigram_DBOW</th>\n",
       "      <td>0.381131</td>\n",
       "      <td>0.363324</td>\n",
       "      <td>0.007787</td>\n",
       "      <td>0.010244</td>\n",
       "      <td>{'criterion': 'gini', 'max_depth': 6, 'min_samples_leaf': 1, 'min_samples_split': 2}</td>\n",
       "    </tr>\n",
       "    <tr>\n",
       "      <th>Bigram_DBOW_DMC</th>\n",
       "      <td>0.382171</td>\n",
       "      <td>0.360076</td>\n",
       "      <td>0.008939</td>\n",
       "      <td>0.010063</td>\n",
       "      <td>{'criterion': 'gini', 'max_depth': 6, 'min_samples_leaf': 6, 'min_samples_split': 2}</td>\n",
       "    </tr>\n",
       "    <tr>\n",
       "      <th>Trigram_DMC</th>\n",
       "      <td>0.376356</td>\n",
       "      <td>0.359026</td>\n",
       "      <td>0.006110</td>\n",
       "      <td>0.005222</td>\n",
       "      <td>{'criterion': 'entropy', 'max_depth': 6, 'min_samples_leaf': 2, 'min_samples_split': 10}</td>\n",
       "    </tr>\n",
       "    <tr>\n",
       "      <th>Bigram_DMC</th>\n",
       "      <td>0.381673</td>\n",
       "      <td>0.358548</td>\n",
       "      <td>0.008247</td>\n",
       "      <td>0.008196</td>\n",
       "      <td>{'criterion': 'gini', 'max_depth': 6, 'min_samples_leaf': 6, 'min_samples_split': 10}</td>\n",
       "    </tr>\n",
       "    <tr>\n",
       "      <th>Trigram_DBOW_DMM</th>\n",
       "      <td>0.376090</td>\n",
       "      <td>0.357498</td>\n",
       "      <td>0.006081</td>\n",
       "      <td>0.007760</td>\n",
       "      <td>{'criterion': 'entropy', 'max_depth': 6, 'min_samples_leaf': 5, 'min_samples_split': 5}</td>\n",
       "    </tr>\n",
       "    <tr>\n",
       "      <th>Bigram_DBOW</th>\n",
       "      <td>0.358124</td>\n",
       "      <td>0.356829</td>\n",
       "      <td>0.000576</td>\n",
       "      <td>0.005473</td>\n",
       "      <td>{'criterion': 'entropy', 'max_depth': 3, 'min_samples_leaf': 1, 'min_samples_split': 5}</td>\n",
       "    </tr>\n",
       "  </tbody>\n",
       "</table>\n",
       "</div>"
      ],
      "text/plain": [
       "                  mean_train_score  mean_test_score  std_train_score  \\\n",
       "model_name                                                             \n",
       "Bigram_DBOW_200           0.382203         0.376504         0.000932   \n",
       "Bigram_DBOW_DMM           0.381726         0.365712         0.005817   \n",
       "Trigram_DMM               0.375772         0.364852         0.002518   \n",
       "Bigram_DMM                0.378415         0.363706         0.005757   \n",
       "Trigram_DBOW              0.381131         0.363324         0.007787   \n",
       "Bigram_DBOW_DMC           0.382171         0.360076         0.008939   \n",
       "Trigram_DMC               0.376356         0.359026         0.006110   \n",
       "Bigram_DMC                0.381673         0.358548         0.008247   \n",
       "Trigram_DBOW_DMM          0.376090         0.357498         0.006081   \n",
       "Bigram_DBOW               0.358124         0.356829         0.000576   \n",
       "\n",
       "                  std_test_score  \\\n",
       "model_name                         \n",
       "Bigram_DBOW_200         0.011460   \n",
       "Bigram_DBOW_DMM         0.014266   \n",
       "Trigram_DMM             0.009010   \n",
       "Bigram_DMM              0.011805   \n",
       "Trigram_DBOW            0.010244   \n",
       "Bigram_DBOW_DMC         0.010063   \n",
       "Trigram_DMC             0.005222   \n",
       "Bigram_DMC              0.008196   \n",
       "Trigram_DBOW_DMM        0.007760   \n",
       "Bigram_DBOW             0.005473   \n",
       "\n",
       "                                                                                                    params  \n",
       "model_name                                                                                                  \n",
       "Bigram_DBOW_200      {'criterion': 'gini', 'max_depth': 6, 'min_samples_leaf': 1, 'min_samples_split': 10}  \n",
       "Bigram_DBOW_DMM      {'criterion': 'gini', 'max_depth': 6, 'min_samples_leaf': 2, 'min_samples_split': 10}  \n",
       "Trigram_DMM        {'criterion': 'entropy', 'max_depth': 6, 'min_samples_leaf': 1, 'min_samples_split': 5}  \n",
       "Bigram_DMM         {'criterion': 'entropy', 'max_depth': 6, 'min_samples_leaf': 2, 'min_samples_split': 5}  \n",
       "Trigram_DBOW          {'criterion': 'gini', 'max_depth': 6, 'min_samples_leaf': 1, 'min_samples_split': 2}  \n",
       "Bigram_DBOW_DMC       {'criterion': 'gini', 'max_depth': 6, 'min_samples_leaf': 6, 'min_samples_split': 2}  \n",
       "Trigram_DMC       {'criterion': 'entropy', 'max_depth': 6, 'min_samples_leaf': 2, 'min_samples_split': 10}  \n",
       "Bigram_DMC           {'criterion': 'gini', 'max_depth': 6, 'min_samples_leaf': 6, 'min_samples_split': 10}  \n",
       "Trigram_DBOW_DMM   {'criterion': 'entropy', 'max_depth': 6, 'min_samples_leaf': 5, 'min_samples_split': 5}  \n",
       "Bigram_DBOW        {'criterion': 'entropy', 'max_depth': 3, 'min_samples_leaf': 1, 'min_samples_split': 5}  "
      ]
     },
     "metadata": {},
     "output_type": "display_data"
    }
   ],
   "source": [
    "fix_DT_overfit(models, Decision_Tree_dict)"
   ]
  },
  {
   "cell_type": "markdown",
   "metadata": {
    "extensions": {
     "jupyter_dashboards": {
      "version": 1,
      "views": {
       "grid_default": {
        "hidden": true
       },
       "report_default": {
        "hidden": false
       }
      }
     }
    }
   },
   "source": [
    "# Decision Tree Grid Search by Doc2Vec Model"
   ]
  },
  {
   "cell_type": "code",
   "execution_count": 7,
   "metadata": {
    "extensions": {
     "jupyter_dashboards": {
      "version": 1,
      "views": {
       "grid_default": {
        "hidden": true
       },
       "report_default": {
        "hidden": false
       }
      }
     }
    },
    "scrolled": false
   },
   "outputs": [
    {
     "data": {
      "application/vnd.jupyter.widget-view+json": {
       "model_id": "1bb801cd595049a4872ee19e7acb9de2",
       "version_major": 2,
       "version_minor": 0
      },
      "text/plain": [
       "interactive(children=(Dropdown(description='Model Name', options=('Bigram_DMC', 'Trigram_DMM', 'Trigram_DBOW_D…"
      ]
     },
     "metadata": {},
     "output_type": "display_data"
    }
   ],
   "source": [
    "Model_widget = widgets.Dropdown(options=models,value = 'Bigram_DMC',description = 'Model Name', disabled = False)\n",
    "model_type_widget2 = widgets.ToggleButtons(options = [Decision_Tree_dict], description ='Classifier Type', button_style='')\n",
    "\n",
    "    \n",
    "interact(evaluate_classifier_model,model_name=Model_widget, model_name_dict = model_type_widget2);  "
   ]
  },
  {
   "cell_type": "markdown",
   "metadata": {
    "extensions": {
     "jupyter_dashboards": {
      "version": 1,
      "views": {
       "grid_default": {
        "hidden": true
       },
       "report_default": {
        "hidden": false
       }
      }
     }
    }
   },
   "source": [
    "# Random Forest Evaluation"
   ]
  },
  {
   "cell_type": "markdown",
   "metadata": {
    "extensions": {
     "jupyter_dashboards": {
      "version": 1,
      "views": {
       "grid_default": {
        "hidden": true
       },
       "report_default": {
        "hidden": false
       }
      }
     }
    }
   },
   "source": [
    "# Best Grid Search Across All Doc2Vec Models 45% Test Accuracy"
   ]
  },
  {
   "cell_type": "code",
   "execution_count": 8,
   "metadata": {
    "extensions": {
     "jupyter_dashboards": {
      "version": 1,
      "views": {
       "grid_default": {
        "hidden": true
       },
       "report_default": {
        "hidden": false
       }
      }
     }
    },
    "scrolled": false
   },
   "outputs": [
    {
     "data": {
      "text/html": [
       "<div>\n",
       "<style scoped>\n",
       "    .dataframe tbody tr th:only-of-type {\n",
       "        vertical-align: middle;\n",
       "    }\n",
       "\n",
       "    .dataframe tbody tr th {\n",
       "        vertical-align: top;\n",
       "    }\n",
       "\n",
       "    .dataframe thead th {\n",
       "        text-align: right;\n",
       "    }\n",
       "</style>\n",
       "<table border=\"1\" class=\"dataframe\">\n",
       "  <thead>\n",
       "    <tr style=\"text-align: right;\">\n",
       "      <th></th>\n",
       "      <th>mean_train_score</th>\n",
       "      <th>mean_test_score</th>\n",
       "      <th>std_train_score</th>\n",
       "      <th>std_test_score</th>\n",
       "      <th>params</th>\n",
       "    </tr>\n",
       "    <tr>\n",
       "      <th>model_name</th>\n",
       "      <th></th>\n",
       "      <th></th>\n",
       "      <th></th>\n",
       "      <th></th>\n",
       "      <th></th>\n",
       "    </tr>\n",
       "  </thead>\n",
       "  <tbody>\n",
       "    <tr>\n",
       "      <th>Bigram_DBOW_DMM</th>\n",
       "      <td>1.000000</td>\n",
       "      <td>0.486819</td>\n",
       "      <td>0.0000</td>\n",
       "      <td>0.071888</td>\n",
       "      <td>{'criterion': 'entropy', 'max_depth': None, 'min_samples_leaf': 1, 'min_samples_split': 10, 'n_estimators': 100}</td>\n",
       "    </tr>\n",
       "    <tr>\n",
       "      <th>Trigram_DBOW_DMM</th>\n",
       "      <td>1.000000</td>\n",
       "      <td>0.485387</td>\n",
       "      <td>0.0000</td>\n",
       "      <td>0.064153</td>\n",
       "      <td>{'criterion': 'entropy', 'max_depth': None, 'min_samples_leaf': 1, 'min_samples_split': 10, 'n_estimators': 100}</td>\n",
       "    </tr>\n",
       "    <tr>\n",
       "      <th>Bigram_DBOW_200</th>\n",
       "      <td>1.000000</td>\n",
       "      <td>0.484909</td>\n",
       "      <td>0.0000</td>\n",
       "      <td>0.063156</td>\n",
       "      <td>{'criterion': 'entropy', 'max_depth': None, 'min_samples_leaf': 1, 'min_samples_split': 10, 'n_estimators': 100}</td>\n",
       "    </tr>\n",
       "    <tr>\n",
       "      <th>Bigram_DMM</th>\n",
       "      <td>1.000000</td>\n",
       "      <td>0.483477</td>\n",
       "      <td>0.0000</td>\n",
       "      <td>0.063220</td>\n",
       "      <td>{'criterion': 'gini', 'max_depth': None, 'min_samples_leaf': 2, 'min_samples_split': 10, 'n_estimators': 100}</td>\n",
       "    </tr>\n",
       "    <tr>\n",
       "      <th>Trigram_DBOW</th>\n",
       "      <td>1.000000</td>\n",
       "      <td>0.482521</td>\n",
       "      <td>0.0000</td>\n",
       "      <td>0.067268</td>\n",
       "      <td>{'criterion': 'entropy', 'max_depth': None, 'min_samples_leaf': 1, 'min_samples_split': 10, 'n_estimators': 100}</td>\n",
       "    </tr>\n",
       "    <tr>\n",
       "      <th>Trigram_DMC</th>\n",
       "      <td>0.999798</td>\n",
       "      <td>0.480802</td>\n",
       "      <td>0.0001</td>\n",
       "      <td>0.066424</td>\n",
       "      <td>{'criterion': 'entropy', 'max_depth': None, 'min_samples_leaf': 5, 'min_samples_split': 20, 'n_estimators': 100}</td>\n",
       "    </tr>\n",
       "    <tr>\n",
       "      <th>Bigram_DBOW_DMC</th>\n",
       "      <td>1.000000</td>\n",
       "      <td>0.480134</td>\n",
       "      <td>0.0000</td>\n",
       "      <td>0.064035</td>\n",
       "      <td>{'criterion': 'gini', 'max_depth': None, 'min_samples_leaf': 1, 'min_samples_split': 20, 'n_estimators': 100}</td>\n",
       "    </tr>\n",
       "    <tr>\n",
       "      <th>Bigram_DBOW</th>\n",
       "      <td>1.000000</td>\n",
       "      <td>0.479465</td>\n",
       "      <td>0.0000</td>\n",
       "      <td>0.066494</td>\n",
       "      <td>{'criterion': 'entropy', 'max_depth': None, 'min_samples_leaf': 2, 'min_samples_split': 10, 'n_estimators': 100}</td>\n",
       "    </tr>\n",
       "    <tr>\n",
       "      <th>Bigram_DMC</th>\n",
       "      <td>1.000000</td>\n",
       "      <td>0.479179</td>\n",
       "      <td>0.0000</td>\n",
       "      <td>0.066498</td>\n",
       "      <td>{'criterion': 'gini', 'max_depth': None, 'min_samples_leaf': 2, 'min_samples_split': 10, 'n_estimators': 100}</td>\n",
       "    </tr>\n",
       "    <tr>\n",
       "      <th>Trigram_DMM</th>\n",
       "      <td>1.000000</td>\n",
       "      <td>0.477555</td>\n",
       "      <td>0.0000</td>\n",
       "      <td>0.066597</td>\n",
       "      <td>{'criterion': 'gini', 'max_depth': None, 'min_samples_leaf': 2, 'min_samples_split': 10, 'n_estimators': 100}</td>\n",
       "    </tr>\n",
       "  </tbody>\n",
       "</table>\n",
       "</div>"
      ],
      "text/plain": [
       "                  mean_train_score  mean_test_score  std_train_score  \\\n",
       "model_name                                                             \n",
       "Bigram_DBOW_DMM           1.000000         0.486819           0.0000   \n",
       "Trigram_DBOW_DMM          1.000000         0.485387           0.0000   \n",
       "Bigram_DBOW_200           1.000000         0.484909           0.0000   \n",
       "Bigram_DMM                1.000000         0.483477           0.0000   \n",
       "Trigram_DBOW              1.000000         0.482521           0.0000   \n",
       "Trigram_DMC               0.999798         0.480802           0.0001   \n",
       "Bigram_DBOW_DMC           1.000000         0.480134           0.0000   \n",
       "Bigram_DBOW               1.000000         0.479465           0.0000   \n",
       "Bigram_DMC                1.000000         0.479179           0.0000   \n",
       "Trigram_DMM               1.000000         0.477555           0.0000   \n",
       "\n",
       "                  std_test_score  \\\n",
       "model_name                         \n",
       "Bigram_DBOW_DMM         0.071888   \n",
       "Trigram_DBOW_DMM        0.064153   \n",
       "Bigram_DBOW_200         0.063156   \n",
       "Bigram_DMM              0.063220   \n",
       "Trigram_DBOW            0.067268   \n",
       "Trigram_DMC             0.066424   \n",
       "Bigram_DBOW_DMC         0.064035   \n",
       "Bigram_DBOW             0.066494   \n",
       "Bigram_DMC              0.066498   \n",
       "Trigram_DMM             0.066597   \n",
       "\n",
       "                                                                                                                            params  \n",
       "model_name                                                                                                                          \n",
       "Bigram_DBOW_DMM   {'criterion': 'entropy', 'max_depth': None, 'min_samples_leaf': 1, 'min_samples_split': 10, 'n_estimators': 100}  \n",
       "Trigram_DBOW_DMM  {'criterion': 'entropy', 'max_depth': None, 'min_samples_leaf': 1, 'min_samples_split': 10, 'n_estimators': 100}  \n",
       "Bigram_DBOW_200   {'criterion': 'entropy', 'max_depth': None, 'min_samples_leaf': 1, 'min_samples_split': 10, 'n_estimators': 100}  \n",
       "Bigram_DMM           {'criterion': 'gini', 'max_depth': None, 'min_samples_leaf': 2, 'min_samples_split': 10, 'n_estimators': 100}  \n",
       "Trigram_DBOW      {'criterion': 'entropy', 'max_depth': None, 'min_samples_leaf': 1, 'min_samples_split': 10, 'n_estimators': 100}  \n",
       "Trigram_DMC       {'criterion': 'entropy', 'max_depth': None, 'min_samples_leaf': 5, 'min_samples_split': 20, 'n_estimators': 100}  \n",
       "Bigram_DBOW_DMC      {'criterion': 'gini', 'max_depth': None, 'min_samples_leaf': 1, 'min_samples_split': 20, 'n_estimators': 100}  \n",
       "Bigram_DBOW       {'criterion': 'entropy', 'max_depth': None, 'min_samples_leaf': 2, 'min_samples_split': 10, 'n_estimators': 100}  \n",
       "Bigram_DMC           {'criterion': 'gini', 'max_depth': None, 'min_samples_leaf': 2, 'min_samples_split': 10, 'n_estimators': 100}  \n",
       "Trigram_DMM          {'criterion': 'gini', 'max_depth': None, 'min_samples_leaf': 2, 'min_samples_split': 10, 'n_estimators': 100}  "
      ]
     },
     "metadata": {},
     "output_type": "display_data"
    }
   ],
   "source": [
    "plot_best_grid_search(models,Random_Forest_dict)"
   ]
  },
  {
   "cell_type": "markdown",
   "metadata": {
    "extensions": {
     "jupyter_dashboards": {
      "version": 1,
      "views": {
       "grid_default": {
        "hidden": true
       },
       "report_default": {
        "hidden": false
       }
      }
     }
    }
   },
   "source": [
    "# Above Models are all overfit due to too high Max Depth in Random Forest"
   ]
  },
  {
   "cell_type": "markdown",
   "metadata": {
    "extensions": {
     "jupyter_dashboards": {
      "version": 1,
      "views": {
       "grid_default": {
        "hidden": true
       },
       "report_default": {
        "hidden": false
       }
      }
     }
    }
   },
   "source": [
    "# Best Random Forest Model with Max Depth Set to 2 is 37.1% (Bigram DBOW 200)"
   ]
  },
  {
   "cell_type": "code",
   "execution_count": 13,
   "metadata": {
    "extensions": {
     "jupyter_dashboards": {
      "version": 1,
      "views": {
       "grid_default": {
        "hidden": true
       },
       "report_default": {
        "hidden": false
       }
      }
     }
    }
   },
   "outputs": [
    {
     "data": {
      "text/html": [
       "<div>\n",
       "<style scoped>\n",
       "    .dataframe tbody tr th:only-of-type {\n",
       "        vertical-align: middle;\n",
       "    }\n",
       "\n",
       "    .dataframe tbody tr th {\n",
       "        vertical-align: top;\n",
       "    }\n",
       "\n",
       "    .dataframe thead th {\n",
       "        text-align: right;\n",
       "    }\n",
       "</style>\n",
       "<table border=\"1\" class=\"dataframe\">\n",
       "  <thead>\n",
       "    <tr style=\"text-align: right;\">\n",
       "      <th></th>\n",
       "      <th>mean_train_score</th>\n",
       "      <th>mean_test_score</th>\n",
       "      <th>std_train_score</th>\n",
       "      <th>std_test_score</th>\n",
       "      <th>params</th>\n",
       "    </tr>\n",
       "    <tr>\n",
       "      <th>model_name</th>\n",
       "      <th></th>\n",
       "      <th></th>\n",
       "      <th></th>\n",
       "      <th></th>\n",
       "      <th></th>\n",
       "    </tr>\n",
       "  </thead>\n",
       "  <tbody>\n",
       "    <tr>\n",
       "      <th>Bigram_DBOW_200</th>\n",
       "      <td>0.396689</td>\n",
       "      <td>0.370774</td>\n",
       "      <td>0.004377</td>\n",
       "      <td>0.009540</td>\n",
       "      <td>{'criterion': 'gini', 'max_depth': 2, 'min_samples_leaf': 1, 'min_samples_split': 20, 'n_estimators': 100}</td>\n",
       "    </tr>\n",
       "    <tr>\n",
       "      <th>Trigram_DBOW</th>\n",
       "      <td>0.389611</td>\n",
       "      <td>0.370105</td>\n",
       "      <td>0.007667</td>\n",
       "      <td>0.008208</td>\n",
       "      <td>{'criterion': 'entropy', 'max_depth': 2, 'min_samples_leaf': 1, 'min_samples_split': 10, 'n_estimators': 100}</td>\n",
       "    </tr>\n",
       "    <tr>\n",
       "      <th>Bigram_DBOW</th>\n",
       "      <td>0.392465</td>\n",
       "      <td>0.369436</td>\n",
       "      <td>0.006263</td>\n",
       "      <td>0.013129</td>\n",
       "      <td>{'criterion': 'gini', 'max_depth': 2, 'min_samples_leaf': 2, 'min_samples_split': 20, 'n_estimators': 100}</td>\n",
       "    </tr>\n",
       "    <tr>\n",
       "      <th>Bigram_DMC</th>\n",
       "      <td>0.380675</td>\n",
       "      <td>0.368481</td>\n",
       "      <td>0.004498</td>\n",
       "      <td>0.020657</td>\n",
       "      <td>{'criterion': 'gini', 'max_depth': 2, 'min_samples_leaf': 5, 'min_samples_split': 20, 'n_estimators': 30}</td>\n",
       "    </tr>\n",
       "    <tr>\n",
       "      <th>Trigram_DMC</th>\n",
       "      <td>0.390385</td>\n",
       "      <td>0.367526</td>\n",
       "      <td>0.002411</td>\n",
       "      <td>0.014973</td>\n",
       "      <td>{'criterion': 'entropy', 'max_depth': 2, 'min_samples_leaf': 1, 'min_samples_split': 10, 'n_estimators': 100}</td>\n",
       "    </tr>\n",
       "    <tr>\n",
       "      <th>Bigram_DBOW_DMM</th>\n",
       "      <td>0.385376</td>\n",
       "      <td>0.367240</td>\n",
       "      <td>0.003688</td>\n",
       "      <td>0.013717</td>\n",
       "      <td>{'criterion': 'gini', 'max_depth': 2, 'min_samples_leaf': 5, 'min_samples_split': 10, 'n_estimators': 100}</td>\n",
       "    </tr>\n",
       "    <tr>\n",
       "      <th>Bigram_DMM</th>\n",
       "      <td>0.388051</td>\n",
       "      <td>0.366094</td>\n",
       "      <td>0.002584</td>\n",
       "      <td>0.012409</td>\n",
       "      <td>{'criterion': 'entropy', 'max_depth': 2, 'min_samples_leaf': 2, 'min_samples_split': 10, 'n_estimators': 100}</td>\n",
       "    </tr>\n",
       "    <tr>\n",
       "      <th>Bigram_DBOW_DMC</th>\n",
       "      <td>0.370636</td>\n",
       "      <td>0.365903</td>\n",
       "      <td>0.003846</td>\n",
       "      <td>0.014481</td>\n",
       "      <td>{'criterion': 'gini', 'max_depth': 2, 'min_samples_leaf': 2, 'min_samples_split': 20, 'n_estimators': 10}</td>\n",
       "    </tr>\n",
       "    <tr>\n",
       "      <th>Trigram_DMM</th>\n",
       "      <td>0.381673</td>\n",
       "      <td>0.364756</td>\n",
       "      <td>0.005053</td>\n",
       "      <td>0.015038</td>\n",
       "      <td>{'criterion': 'gini', 'max_depth': 2, 'min_samples_leaf': 5, 'min_samples_split': 20, 'n_estimators': 30}</td>\n",
       "    </tr>\n",
       "    <tr>\n",
       "      <th>Trigram_DBOW_DMM</th>\n",
       "      <td>0.384326</td>\n",
       "      <td>0.364756</td>\n",
       "      <td>0.007265</td>\n",
       "      <td>0.008852</td>\n",
       "      <td>{'criterion': 'entropy', 'max_depth': 2, 'min_samples_leaf': 1, 'min_samples_split': 10, 'n_estimators': 100}</td>\n",
       "    </tr>\n",
       "  </tbody>\n",
       "</table>\n",
       "</div>"
      ],
      "text/plain": [
       "                  mean_train_score  mean_test_score  std_train_score  \\\n",
       "model_name                                                             \n",
       "Bigram_DBOW_200           0.396689         0.370774         0.004377   \n",
       "Trigram_DBOW              0.389611         0.370105         0.007667   \n",
       "Bigram_DBOW               0.392465         0.369436         0.006263   \n",
       "Bigram_DMC                0.380675         0.368481         0.004498   \n",
       "Trigram_DMC               0.390385         0.367526         0.002411   \n",
       "Bigram_DBOW_DMM           0.385376         0.367240         0.003688   \n",
       "Bigram_DMM                0.388051         0.366094         0.002584   \n",
       "Bigram_DBOW_DMC           0.370636         0.365903         0.003846   \n",
       "Trigram_DMM               0.381673         0.364756         0.005053   \n",
       "Trigram_DBOW_DMM          0.384326         0.364756         0.007265   \n",
       "\n",
       "                  std_test_score  \\\n",
       "model_name                         \n",
       "Bigram_DBOW_200         0.009540   \n",
       "Trigram_DBOW            0.008208   \n",
       "Bigram_DBOW             0.013129   \n",
       "Bigram_DMC              0.020657   \n",
       "Trigram_DMC             0.014973   \n",
       "Bigram_DBOW_DMM         0.013717   \n",
       "Bigram_DMM              0.012409   \n",
       "Bigram_DBOW_DMC         0.014481   \n",
       "Trigram_DMM             0.015038   \n",
       "Trigram_DBOW_DMM        0.008852   \n",
       "\n",
       "                                                                                                                         params  \n",
       "model_name                                                                                                                       \n",
       "Bigram_DBOW_200      {'criterion': 'gini', 'max_depth': 2, 'min_samples_leaf': 1, 'min_samples_split': 20, 'n_estimators': 100}  \n",
       "Trigram_DBOW      {'criterion': 'entropy', 'max_depth': 2, 'min_samples_leaf': 1, 'min_samples_split': 10, 'n_estimators': 100}  \n",
       "Bigram_DBOW          {'criterion': 'gini', 'max_depth': 2, 'min_samples_leaf': 2, 'min_samples_split': 20, 'n_estimators': 100}  \n",
       "Bigram_DMC            {'criterion': 'gini', 'max_depth': 2, 'min_samples_leaf': 5, 'min_samples_split': 20, 'n_estimators': 30}  \n",
       "Trigram_DMC       {'criterion': 'entropy', 'max_depth': 2, 'min_samples_leaf': 1, 'min_samples_split': 10, 'n_estimators': 100}  \n",
       "Bigram_DBOW_DMM      {'criterion': 'gini', 'max_depth': 2, 'min_samples_leaf': 5, 'min_samples_split': 10, 'n_estimators': 100}  \n",
       "Bigram_DMM        {'criterion': 'entropy', 'max_depth': 2, 'min_samples_leaf': 2, 'min_samples_split': 10, 'n_estimators': 100}  \n",
       "Bigram_DBOW_DMC       {'criterion': 'gini', 'max_depth': 2, 'min_samples_leaf': 2, 'min_samples_split': 20, 'n_estimators': 10}  \n",
       "Trigram_DMM           {'criterion': 'gini', 'max_depth': 2, 'min_samples_leaf': 5, 'min_samples_split': 20, 'n_estimators': 30}  \n",
       "Trigram_DBOW_DMM  {'criterion': 'entropy', 'max_depth': 2, 'min_samples_leaf': 1, 'min_samples_split': 10, 'n_estimators': 100}  "
      ]
     },
     "metadata": {},
     "output_type": "display_data"
    }
   ],
   "source": [
    "fix_RF_overfit(models, Random_Forest_dict)"
   ]
  },
  {
   "cell_type": "markdown",
   "metadata": {
    "extensions": {
     "jupyter_dashboards": {
      "version": 1,
      "views": {
       "grid_default": {
        "hidden": true
       },
       "report_default": {
        "hidden": false
       }
      }
     }
    }
   },
   "source": [
    "# Random Forest Grid Search by Doc2Vec Model"
   ]
  },
  {
   "cell_type": "code",
   "execution_count": 14,
   "metadata": {
    "extensions": {
     "jupyter_dashboards": {
      "version": 1,
      "views": {
       "grid_default": {
        "hidden": true
       },
       "report_default": {
        "hidden": false
       }
      }
     }
    },
    "scrolled": false
   },
   "outputs": [
    {
     "data": {
      "application/vnd.jupyter.widget-view+json": {
       "model_id": "b979286741f648d7b43e9e9cae4e61ba",
       "version_major": 2,
       "version_minor": 0
      },
      "text/plain": [
       "interactive(children=(Dropdown(description='Model Name', options=('Bigram_DMC', 'Trigram_DMM', 'Trigram_DBOW_D…"
      ]
     },
     "metadata": {},
     "output_type": "display_data"
    },
    {
     "data": {
      "application/vnd.jupyter.widget-view+json": {
       "model_id": "e7268fcac03c4b758b24a22eafabe81b",
       "version_major": 2,
       "version_minor": 0
      },
      "text/plain": [
       "interactive(children=(Dropdown(description='Model Name', options=('Bigram_DMC', 'Trigram_DMM', 'Trigram_DBOW_D…"
      ]
     },
     "metadata": {},
     "output_type": "display_data"
    }
   ],
   "source": [
    "Model_widget = widgets.Dropdown(options=models,value = 'Bigram_DMC',description = 'Model Name', disabled = False)\n",
    "model_type_widget2 = widgets.ToggleButtons(options = [Random_Forest_dict], description ='Classifier Type', button_style='')\n",
    "\n",
    "    \n",
    "interact(evaluate_classifier_model,model_name=Model_widget, model_name_dict = model_type_widget2);\n",
    "interact(plot_feature_importances,model_name=Model_widget, dictionary = model_type_widget2);"
   ]
  },
  {
   "cell_type": "markdown",
   "metadata": {
    "extensions": {
     "jupyter_dashboards": {
      "version": 1,
      "views": {
       "grid_default": {},
       "report_default": {
        "hidden": false
       }
      }
     }
    }
   },
   "source": [
    "# AdaBoost"
   ]
  },
  {
   "cell_type": "markdown",
   "metadata": {
    "extensions": {
     "jupyter_dashboards": {
      "version": 1,
      "views": {
       "grid_default": {
        "hidden": true
       },
       "report_default": {
        "hidden": false
       }
      }
     }
    }
   },
   "source": [
    "# Best Grid Search Across All Doc2Vec Models 38.9% Test Accuracy"
   ]
  },
  {
   "cell_type": "code",
   "execution_count": 15,
   "metadata": {
    "extensions": {
     "jupyter_dashboards": {
      "version": 1,
      "views": {
       "grid_default": {
        "hidden": true
       },
       "report_default": {
        "hidden": false
       }
      }
     }
    },
    "scrolled": false
   },
   "outputs": [
    {
     "data": {
      "text/html": [
       "<div>\n",
       "<style scoped>\n",
       "    .dataframe tbody tr th:only-of-type {\n",
       "        vertical-align: middle;\n",
       "    }\n",
       "\n",
       "    .dataframe tbody tr th {\n",
       "        vertical-align: top;\n",
       "    }\n",
       "\n",
       "    .dataframe thead th {\n",
       "        text-align: right;\n",
       "    }\n",
       "</style>\n",
       "<table border=\"1\" class=\"dataframe\">\n",
       "  <thead>\n",
       "    <tr style=\"text-align: right;\">\n",
       "      <th></th>\n",
       "      <th>mean_train_score</th>\n",
       "      <th>mean_test_score</th>\n",
       "      <th>std_train_score</th>\n",
       "      <th>std_test_score</th>\n",
       "      <th>params</th>\n",
       "    </tr>\n",
       "    <tr>\n",
       "      <th>model_name</th>\n",
       "      <th></th>\n",
       "      <th></th>\n",
       "      <th></th>\n",
       "      <th></th>\n",
       "      <th></th>\n",
       "    </tr>\n",
       "  </thead>\n",
       "  <tbody>\n",
       "    <tr>\n",
       "      <th>Bigram_DBOW_DMM</th>\n",
       "      <td>0.514698</td>\n",
       "      <td>0.388730</td>\n",
       "      <td>0.001785</td>\n",
       "      <td>0.016789</td>\n",
       "      <td>{'learning_rate': 1.0, 'n_estimators': 250}</td>\n",
       "    </tr>\n",
       "    <tr>\n",
       "      <th>Trigram_DMC</th>\n",
       "      <td>0.513902</td>\n",
       "      <td>0.388634</td>\n",
       "      <td>0.004148</td>\n",
       "      <td>0.017163</td>\n",
       "      <td>{'learning_rate': 0.5, 'n_estimators': 250}</td>\n",
       "    </tr>\n",
       "    <tr>\n",
       "      <th>Bigram_DBOW_200</th>\n",
       "      <td>0.536400</td>\n",
       "      <td>0.388539</td>\n",
       "      <td>0.003804</td>\n",
       "      <td>0.016431</td>\n",
       "      <td>{'learning_rate': 0.5, 'n_estimators': 250}</td>\n",
       "    </tr>\n",
       "    <tr>\n",
       "      <th>Bigram_DMC</th>\n",
       "      <td>0.514910</td>\n",
       "      <td>0.386055</td>\n",
       "      <td>0.003595</td>\n",
       "      <td>0.018671</td>\n",
       "      <td>{'learning_rate': 1.0, 'n_estimators': 250}</td>\n",
       "    </tr>\n",
       "    <tr>\n",
       "      <th>Bigram_DBOW</th>\n",
       "      <td>0.513955</td>\n",
       "      <td>0.385387</td>\n",
       "      <td>0.002647</td>\n",
       "      <td>0.013380</td>\n",
       "      <td>{'learning_rate': 1.0, 'n_estimators': 250}</td>\n",
       "    </tr>\n",
       "    <tr>\n",
       "      <th>Trigram_DBOW_DMM</th>\n",
       "      <td>0.518837</td>\n",
       "      <td>0.383572</td>\n",
       "      <td>0.004176</td>\n",
       "      <td>0.013515</td>\n",
       "      <td>{'learning_rate': 1.0, 'n_estimators': 250}</td>\n",
       "    </tr>\n",
       "    <tr>\n",
       "      <th>Trigram_DBOW</th>\n",
       "      <td>0.511058</td>\n",
       "      <td>0.380898</td>\n",
       "      <td>0.003223</td>\n",
       "      <td>0.018206</td>\n",
       "      <td>{'learning_rate': 0.5, 'n_estimators': 250}</td>\n",
       "    </tr>\n",
       "    <tr>\n",
       "      <th>Trigram_DMM</th>\n",
       "      <td>0.516407</td>\n",
       "      <td>0.380802</td>\n",
       "      <td>0.005446</td>\n",
       "      <td>0.008723</td>\n",
       "      <td>{'learning_rate': 1.0, 'n_estimators': 250}</td>\n",
       "    </tr>\n",
       "    <tr>\n",
       "      <th>Bigram_DBOW_DMC</th>\n",
       "      <td>0.515940</td>\n",
       "      <td>0.380802</td>\n",
       "      <td>0.003030</td>\n",
       "      <td>0.015448</td>\n",
       "      <td>{'learning_rate': 1.0, 'n_estimators': 250}</td>\n",
       "    </tr>\n",
       "    <tr>\n",
       "      <th>Bigram_DMM</th>\n",
       "      <td>0.514051</td>\n",
       "      <td>0.379656</td>\n",
       "      <td>0.004110</td>\n",
       "      <td>0.016616</td>\n",
       "      <td>{'learning_rate': 0.5, 'n_estimators': 250}</td>\n",
       "    </tr>\n",
       "  </tbody>\n",
       "</table>\n",
       "</div>"
      ],
      "text/plain": [
       "                  mean_train_score  mean_test_score  std_train_score  \\\n",
       "model_name                                                             \n",
       "Bigram_DBOW_DMM           0.514698         0.388730         0.001785   \n",
       "Trigram_DMC               0.513902         0.388634         0.004148   \n",
       "Bigram_DBOW_200           0.536400         0.388539         0.003804   \n",
       "Bigram_DMC                0.514910         0.386055         0.003595   \n",
       "Bigram_DBOW               0.513955         0.385387         0.002647   \n",
       "Trigram_DBOW_DMM          0.518837         0.383572         0.004176   \n",
       "Trigram_DBOW              0.511058         0.380898         0.003223   \n",
       "Trigram_DMM               0.516407         0.380802         0.005446   \n",
       "Bigram_DBOW_DMC           0.515940         0.380802         0.003030   \n",
       "Bigram_DMM                0.514051         0.379656         0.004110   \n",
       "\n",
       "                  std_test_score                                       params  \n",
       "model_name                                                                     \n",
       "Bigram_DBOW_DMM         0.016789  {'learning_rate': 1.0, 'n_estimators': 250}  \n",
       "Trigram_DMC             0.017163  {'learning_rate': 0.5, 'n_estimators': 250}  \n",
       "Bigram_DBOW_200         0.016431  {'learning_rate': 0.5, 'n_estimators': 250}  \n",
       "Bigram_DMC              0.018671  {'learning_rate': 1.0, 'n_estimators': 250}  \n",
       "Bigram_DBOW             0.013380  {'learning_rate': 1.0, 'n_estimators': 250}  \n",
       "Trigram_DBOW_DMM        0.013515  {'learning_rate': 1.0, 'n_estimators': 250}  \n",
       "Trigram_DBOW            0.018206  {'learning_rate': 0.5, 'n_estimators': 250}  \n",
       "Trigram_DMM             0.008723  {'learning_rate': 1.0, 'n_estimators': 250}  \n",
       "Bigram_DBOW_DMC         0.015448  {'learning_rate': 1.0, 'n_estimators': 250}  \n",
       "Bigram_DMM              0.016616  {'learning_rate': 0.5, 'n_estimators': 250}  "
      ]
     },
     "metadata": {},
     "output_type": "display_data"
    }
   ],
   "source": [
    "plot_best_grid_search(models,Ada_Boost_dict)"
   ]
  },
  {
   "cell_type": "markdown",
   "metadata": {
    "extensions": {
     "jupyter_dashboards": {
      "version": 1,
      "views": {
       "grid_default": {
        "hidden": true
       },
       "report_default": {
        "hidden": false
       }
      }
     }
    }
   },
   "source": [
    "# AdaBoost Grid Search by Doc2Vec Model"
   ]
  },
  {
   "cell_type": "code",
   "execution_count": 16,
   "metadata": {
    "extensions": {
     "jupyter_dashboards": {
      "version": 1,
      "views": {
       "grid_default": {
        "hidden": true
       },
       "report_default": {
        "hidden": false
       }
      }
     }
    },
    "scrolled": false
   },
   "outputs": [
    {
     "data": {
      "application/vnd.jupyter.widget-view+json": {
       "model_id": "ed835ac0765542659cb678d7cbf82c4f",
       "version_major": 2,
       "version_minor": 0
      },
      "text/plain": [
       "interactive(children=(Dropdown(description='Model Name', options=('Bigram_DMC', 'Trigram_DMM', 'Trigram_DBOW_D…"
      ]
     },
     "metadata": {},
     "output_type": "display_data"
    },
    {
     "data": {
      "application/vnd.jupyter.widget-view+json": {
       "model_id": "3f6dd3433cab4b9eaedccb01d99edd98",
       "version_major": 2,
       "version_minor": 0
      },
      "text/plain": [
       "interactive(children=(Dropdown(description='Model Name', options=('Bigram_DMC', 'Trigram_DMM', 'Trigram_DBOW_D…"
      ]
     },
     "metadata": {},
     "output_type": "display_data"
    }
   ],
   "source": [
    "Model_widget = widgets.Dropdown(options=models,value = 'Bigram_DMC',description = 'Model Name', disabled = False)\n",
    "model_type_widget1 = widgets.ToggleButtons(options = [Ada_Boost_dict], description ='Classifier Type', button_style='')\n",
    "\n",
    "    \n",
    "interact(evaluate_classifier_model,model_name=Model_widget, model_name_dict = model_type_widget1);  \n",
    "interact(plot_feature_importances,model_name=Model_widget, dictionary = model_type_widget2);"
   ]
  },
  {
   "cell_type": "code",
   "execution_count": 17,
   "metadata": {
    "extensions": {
     "jupyter_dashboards": {
      "version": 1,
      "views": {
       "grid_default": {},
       "report_default": {
        "hidden": false
       }
      }
     }
    }
   },
   "outputs": [],
   "source": [
    "# all_df = pd.read_csv('Archive_CSV/ALL_rows_scraped.csv',index_col=0)\n",
    "# labels = all_df.set_index('source_id')['label'].to_dict()"
   ]
  },
  {
   "cell_type": "code",
   "execution_count": 18,
   "metadata": {
    "extensions": {
     "jupyter_dashboards": {
      "version": 1,
      "views": {
       "grid_default": {},
       "report_default": {
        "hidden": false
       }
      }
     }
    }
   },
   "outputs": [],
   "source": [
    "# labels"
   ]
  },
  {
   "cell_type": "markdown",
   "metadata": {
    "extensions": {
     "jupyter_dashboards": {
      "version": 1,
      "views": {
       "grid_default": {
        "hidden": true
       },
       "report_default": {
        "hidden": true
       }
      }
     }
    }
   },
   "source": [
    "# SVM"
   ]
  },
  {
   "cell_type": "markdown",
   "metadata": {
    "extensions": {
     "jupyter_dashboards": {
      "version": 1,
      "views": {
       "grid_default": {
        "hidden": true
       },
       "report_default": {
        "hidden": true
       }
      }
     }
    }
   },
   "source": [
    "# Best Grid Search Across All Doc2Vec Models 38.9% Test Accuracy"
   ]
  },
  {
   "cell_type": "code",
   "execution_count": 19,
   "metadata": {
    "extensions": {
     "jupyter_dashboards": {
      "version": 1,
      "views": {
       "grid_default": {
        "hidden": true
       },
       "report_default": {
        "hidden": true
       }
      }
     }
    },
    "scrolled": false
   },
   "outputs": [
    {
     "data": {
      "text/html": [
       "<div>\n",
       "<style scoped>\n",
       "    .dataframe tbody tr th:only-of-type {\n",
       "        vertical-align: middle;\n",
       "    }\n",
       "\n",
       "    .dataframe tbody tr th {\n",
       "        vertical-align: top;\n",
       "    }\n",
       "\n",
       "    .dataframe thead th {\n",
       "        text-align: right;\n",
       "    }\n",
       "</style>\n",
       "<table border=\"1\" class=\"dataframe\">\n",
       "  <thead>\n",
       "    <tr style=\"text-align: right;\">\n",
       "      <th></th>\n",
       "      <th>mean_train_score</th>\n",
       "      <th>mean_test_score</th>\n",
       "      <th>std_train_score</th>\n",
       "      <th>std_test_score</th>\n",
       "      <th>params</th>\n",
       "    </tr>\n",
       "    <tr>\n",
       "      <th>model_name</th>\n",
       "      <th></th>\n",
       "      <th></th>\n",
       "      <th></th>\n",
       "      <th></th>\n",
       "      <th></th>\n",
       "    </tr>\n",
       "  </thead>\n",
       "  <tbody>\n",
       "    <tr>\n",
       "      <th>Bigram_DBOW_DMM</th>\n",
       "      <td>0.377937</td>\n",
       "      <td>0.363610</td>\n",
       "      <td>0.003346</td>\n",
       "      <td>0.009021</td>\n",
       "      <td>{'C': 10, 'gamma': 1}</td>\n",
       "    </tr>\n",
       "    <tr>\n",
       "      <th>Trigram_DBOW_DMM</th>\n",
       "      <td>0.379433</td>\n",
       "      <td>0.362942</td>\n",
       "      <td>0.002882</td>\n",
       "      <td>0.007160</td>\n",
       "      <td>{'C': 10, 'gamma': 1}</td>\n",
       "    </tr>\n",
       "    <tr>\n",
       "      <th>Bigram_DMC</th>\n",
       "      <td>0.371230</td>\n",
       "      <td>0.362369</td>\n",
       "      <td>0.003342</td>\n",
       "      <td>0.008566</td>\n",
       "      <td>{'C': 0.001, 'gamma': 0.01}</td>\n",
       "    </tr>\n",
       "    <tr>\n",
       "      <th>Trigram_DMM</th>\n",
       "      <td>0.366603</td>\n",
       "      <td>0.362178</td>\n",
       "      <td>0.003461</td>\n",
       "      <td>0.006503</td>\n",
       "      <td>{'C': 0.001, 'gamma': 0.01}</td>\n",
       "    </tr>\n",
       "    <tr>\n",
       "      <th>Bigram_DBOW_200</th>\n",
       "      <td>0.353741</td>\n",
       "      <td>0.353009</td>\n",
       "      <td>0.001743</td>\n",
       "      <td>0.004585</td>\n",
       "      <td>{'C': 0.001, 'gamma': 0.01}</td>\n",
       "    </tr>\n",
       "  </tbody>\n",
       "</table>\n",
       "</div>"
      ],
      "text/plain": [
       "                  mean_train_score  mean_test_score  std_train_score  \\\n",
       "model_name                                                             \n",
       "Bigram_DBOW_DMM           0.377937         0.363610         0.003346   \n",
       "Trigram_DBOW_DMM          0.379433         0.362942         0.002882   \n",
       "Bigram_DMC                0.371230         0.362369         0.003342   \n",
       "Trigram_DMM               0.366603         0.362178         0.003461   \n",
       "Bigram_DBOW_200           0.353741         0.353009         0.001743   \n",
       "\n",
       "                  std_test_score                       params  \n",
       "model_name                                                     \n",
       "Bigram_DBOW_DMM         0.009021        {'C': 10, 'gamma': 1}  \n",
       "Trigram_DBOW_DMM        0.007160        {'C': 10, 'gamma': 1}  \n",
       "Bigram_DMC              0.008566  {'C': 0.001, 'gamma': 0.01}  \n",
       "Trigram_DMM             0.006503  {'C': 0.001, 'gamma': 0.01}  \n",
       "Bigram_DBOW_200         0.004585  {'C': 0.001, 'gamma': 0.01}  "
      ]
     },
     "metadata": {},
     "output_type": "display_data"
    }
   ],
   "source": [
    "plot_best_grid_search_SVM(models,SVM_dict)"
   ]
  },
  {
   "cell_type": "markdown",
   "metadata": {
    "extensions": {
     "jupyter_dashboards": {
      "version": 1,
      "views": {
       "grid_default": {
        "hidden": true
       },
       "report_default": {
        "hidden": true
       }
      }
     }
    }
   },
   "source": [
    "# SVM Grid Search by Doc2Vec Model"
   ]
  },
  {
   "cell_type": "code",
   "execution_count": 20,
   "metadata": {
    "extensions": {
     "jupyter_dashboards": {
      "version": 1,
      "views": {
       "grid_default": {
        "hidden": true
       },
       "report_default": {
        "hidden": true
       }
      }
     }
    },
    "scrolled": false
   },
   "outputs": [
    {
     "data": {
      "application/vnd.jupyter.widget-view+json": {
       "model_id": "0dbfcbf1441f4756b694caedebd5f6d5",
       "version_major": 2,
       "version_minor": 0
      },
      "text/plain": [
       "interactive(children=(Dropdown(description='Model Name', options=('Bigram_DMC', 'Trigram_DMM', 'Trigram_DBOW_D…"
      ]
     },
     "metadata": {},
     "output_type": "display_data"
    }
   ],
   "source": [
    "Model_widget = widgets.Dropdown(options=models,value = 'Bigram_DMC',description = 'Model Name', disabled = False)\n",
    "model_type_widget1 = widgets.ToggleButtons(options = [SVM_dict], description ='Classifier Type', button_style='')\n",
    "\n",
    "    \n",
    "interact(evaluate_classifier_model,model_name=Model_widget, model_name_dict = model_type_widget1);  "
   ]
  },
  {
   "cell_type": "code",
   "execution_count": null,
   "metadata": {},
   "outputs": [],
   "source": []
  }
 ],
 "metadata": {
  "extensions": {
   "jupyter_dashboards": {
    "activeView": "report_default",
    "version": 1,
    "views": {
     "grid_default": {
      "cellMargin": 10,
      "defaultCellHeight": 20,
      "maxColumns": 12,
      "name": "grid",
      "type": "grid"
     },
     "report_default": {
      "name": "report",
      "type": "report"
     }
    }
   }
  },
  "kernelspec": {
   "display_name": "Python 3",
   "language": "python",
   "name": "python3"
  },
  "language_info": {
   "codemirror_mode": {
    "name": "ipython",
    "version": 3
   },
   "file_extension": ".py",
   "mimetype": "text/x-python",
   "name": "python",
   "nbconvert_exporter": "python",
   "pygments_lexer": "ipython3",
   "version": "3.6.5"
  }
 },
 "nbformat": 4,
 "nbformat_minor": 2
}
