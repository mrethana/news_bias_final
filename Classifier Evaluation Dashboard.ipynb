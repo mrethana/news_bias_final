{
 "cells": [
  {
   "cell_type": "code",
   "execution_count": 1,
   "metadata": {
    "extensions": {
     "jupyter_dashboards": {
      "version": 1,
      "views": {
       "grid_default": {
        "hidden": true
       },
       "report_default": {
        "hidden": true
       }
      }
     }
    }
   },
   "outputs": [
    {
     "name": "stderr",
     "output_type": "stream",
     "text": [
      "/anaconda3/lib/python3.6/importlib/_bootstrap.py:219: RuntimeWarning:\n",
      "\n",
      "numpy.dtype size changed, may indicate binary incompatibility. Expected 96, got 88\n",
      "\n",
      "/anaconda3/lib/python3.6/importlib/_bootstrap.py:219: ImportWarning:\n",
      "\n",
      "can't resolve package from __spec__ or __package__, falling back on __name__ and __path__\n",
      "\n"
     ]
    }
   ],
   "source": [
    "import ipywidgets as widgets\n",
    "from ipywidgets import interact, interactive, fixed, interact_manual\n",
    "import ipywidgets as widgets\n",
    "from IPython.display import Image\n",
    "from IPython.core.display import HTML \n",
    "import time\n",
    "from ipywidgets import FloatProgress\n",
    "from IPython.display import display\n",
    "from bs4 import BeautifulSoup\n",
    "import requests\n",
    "import re\n",
    "from os import path\n",
    "from PIL import Image\n",
    "import pandas as pd\n",
    "from model_evaluation import *\n",
    "from d2v_func import *\n",
    "import pickle\n",
    "pd.set_option('display.max_rows', 500)\n",
    "pd.set_option('display.max_columns', 500)"
   ]
  },
  {
   "cell_type": "code",
   "execution_count": 2,
   "metadata": {
    "extensions": {
     "jupyter_dashboards": {
      "version": 1,
      "views": {
       "grid_default": {},
       "report_default": {
        "hidden": true
       }
      }
     }
    }
   },
   "outputs": [],
   "source": [
    "pd.set_option('max_colwidth', 800)"
   ]
  },
  {
   "cell_type": "markdown",
   "metadata": {
    "extensions": {
     "jupyter_dashboards": {
      "version": 1,
      "views": {
       "grid_default": {},
       "report_default": {
        "hidden": false
       }
      }
     }
    }
   },
   "source": [
    "# Logistic Regression Evaluation"
   ]
  },
  {
   "cell_type": "markdown",
   "metadata": {
    "extensions": {
     "jupyter_dashboards": {
      "version": 1,
      "views": {
       "grid_default": {},
       "report_default": {
        "hidden": false
       }
      }
     }
    }
   },
   "source": [
    "# Best Grid Search Across All Doc2Vec Models 37.3% Test Accuracy"
   ]
  },
  {
   "cell_type": "code",
   "execution_count": 3,
   "metadata": {
    "extensions": {
     "jupyter_dashboards": {
      "version": 1,
      "views": {
       "grid_default": {},
       "report_default": {
        "hidden": false
       }
      }
     }
    },
    "scrolled": false
   },
   "outputs": [
    {
     "data": {
      "text/html": [
       "<div>\n",
       "<style scoped>\n",
       "    .dataframe tbody tr th:only-of-type {\n",
       "        vertical-align: middle;\n",
       "    }\n",
       "\n",
       "    .dataframe tbody tr th {\n",
       "        vertical-align: top;\n",
       "    }\n",
       "\n",
       "    .dataframe thead th {\n",
       "        text-align: right;\n",
       "    }\n",
       "</style>\n",
       "<table border=\"1\" class=\"dataframe\">\n",
       "  <thead>\n",
       "    <tr style=\"text-align: right;\">\n",
       "      <th></th>\n",
       "      <th>mean_train_score</th>\n",
       "      <th>mean_test_score</th>\n",
       "      <th>std_train_score</th>\n",
       "      <th>std_test_score</th>\n",
       "      <th>params</th>\n",
       "    </tr>\n",
       "    <tr>\n",
       "      <th>model_name</th>\n",
       "      <th></th>\n",
       "      <th></th>\n",
       "      <th></th>\n",
       "      <th></th>\n",
       "      <th></th>\n",
       "    </tr>\n",
       "  </thead>\n",
       "  <tbody>\n",
       "    <tr>\n",
       "      <th>Bigram_DMC</th>\n",
       "      <td>0.399045</td>\n",
       "      <td>0.370774</td>\n",
       "      <td>0.003683</td>\n",
       "      <td>0.015855</td>\n",
       "      <td>{'C': 10, 'class_weight': 'balanced', 'multi_class': 'multinomial', 'penalty': 'l2', 'solver': 'sag'}</td>\n",
       "    </tr>\n",
       "    <tr>\n",
       "      <th>Trigram_DMM</th>\n",
       "      <td>0.399660</td>\n",
       "      <td>0.364470</td>\n",
       "      <td>0.002705</td>\n",
       "      <td>0.017602</td>\n",
       "      <td>{'C': 100, 'class_weight': None, 'multi_class': 'multinomial', 'penalty': 'l2', 'solver': 'lbfgs'}</td>\n",
       "    </tr>\n",
       "    <tr>\n",
       "      <th>Trigram_DBOW_DMM</th>\n",
       "      <td>0.402632</td>\n",
       "      <td>0.367144</td>\n",
       "      <td>0.002496</td>\n",
       "      <td>0.016176</td>\n",
       "      <td>{'C': 100, 'class_weight': None, 'multi_class': 'multinomial', 'penalty': 'l2', 'solver': 'sag'}</td>\n",
       "    </tr>\n",
       "    <tr>\n",
       "      <th>Trigram_DMC</th>\n",
       "      <td>0.403141</td>\n",
       "      <td>0.368768</td>\n",
       "      <td>0.002307</td>\n",
       "      <td>0.013544</td>\n",
       "      <td>{'C': 100, 'class_weight': None, 'multi_class': 'multinomial', 'penalty': 'l2', 'solver': 'sag'}</td>\n",
       "    </tr>\n",
       "    <tr>\n",
       "      <th>Bigram_DBOW_DMM</th>\n",
       "      <td>0.398504</td>\n",
       "      <td>0.365998</td>\n",
       "      <td>0.002687</td>\n",
       "      <td>0.014653</td>\n",
       "      <td>{'C': 10, 'class_weight': 'balanced', 'multi_class': 'multinomial', 'penalty': 'l2', 'solver': 'saga'}</td>\n",
       "    </tr>\n",
       "    <tr>\n",
       "      <th>Bigram_DBOW_200</th>\n",
       "      <td>0.406166</td>\n",
       "      <td>0.371920</td>\n",
       "      <td>0.002075</td>\n",
       "      <td>0.013236</td>\n",
       "      <td>{'C': 1, 'class_weight': 'balanced', 'multi_class': 'multinomial', 'penalty': 'l2', 'solver': 'sag'}</td>\n",
       "    </tr>\n",
       "    <tr>\n",
       "      <th>Bigram_DBOW_DMC</th>\n",
       "      <td>0.403205</td>\n",
       "      <td>0.371633</td>\n",
       "      <td>0.001728</td>\n",
       "      <td>0.018384</td>\n",
       "      <td>{'C': 100, 'class_weight': 'balanced', 'multi_class': 'multinomial', 'penalty': 'l2', 'solver': 'sag'}</td>\n",
       "    </tr>\n",
       "    <tr>\n",
       "      <th>Bigram_DMM</th>\n",
       "      <td>0.400096</td>\n",
       "      <td>0.370010</td>\n",
       "      <td>0.001876</td>\n",
       "      <td>0.018108</td>\n",
       "      <td>{'C': 100, 'class_weight': None, 'multi_class': 'multinomial', 'penalty': 'l2', 'solver': 'lbfgs'}</td>\n",
       "    </tr>\n",
       "    <tr>\n",
       "      <th>Trigram_DBOW</th>\n",
       "      <td>0.403746</td>\n",
       "      <td>0.373161</td>\n",
       "      <td>0.002299</td>\n",
       "      <td>0.018901</td>\n",
       "      <td>{'C': 100, 'class_weight': None, 'multi_class': 'multinomial', 'penalty': 'l2', 'solver': 'saga'}</td>\n",
       "    </tr>\n",
       "    <tr>\n",
       "      <th>Bigram_DBOW</th>\n",
       "      <td>0.394811</td>\n",
       "      <td>0.369150</td>\n",
       "      <td>0.002783</td>\n",
       "      <td>0.013105</td>\n",
       "      <td>{'C': 0.001, 'class_weight': 'balanced', 'multi_class': 'multinomial', 'penalty': 'l2', 'solver': 'saga'}</td>\n",
       "    </tr>\n",
       "  </tbody>\n",
       "</table>\n",
       "</div>"
      ],
      "text/plain": [
       "                  mean_train_score  mean_test_score  std_train_score  \\\n",
       "model_name                                                             \n",
       "Bigram_DMC                0.399045         0.370774         0.003683   \n",
       "Trigram_DMM               0.399660         0.364470         0.002705   \n",
       "Trigram_DBOW_DMM          0.402632         0.367144         0.002496   \n",
       "Trigram_DMC               0.403141         0.368768         0.002307   \n",
       "Bigram_DBOW_DMM           0.398504         0.365998         0.002687   \n",
       "Bigram_DBOW_200           0.406166         0.371920         0.002075   \n",
       "Bigram_DBOW_DMC           0.403205         0.371633         0.001728   \n",
       "Bigram_DMM                0.400096         0.370010         0.001876   \n",
       "Trigram_DBOW              0.403746         0.373161         0.002299   \n",
       "Bigram_DBOW               0.394811         0.369150         0.002783   \n",
       "\n",
       "                  std_test_score  \\\n",
       "model_name                         \n",
       "Bigram_DMC              0.015855   \n",
       "Trigram_DMM             0.017602   \n",
       "Trigram_DBOW_DMM        0.016176   \n",
       "Trigram_DMC             0.013544   \n",
       "Bigram_DBOW_DMM         0.014653   \n",
       "Bigram_DBOW_200         0.013236   \n",
       "Bigram_DBOW_DMC         0.018384   \n",
       "Bigram_DMM              0.018108   \n",
       "Trigram_DBOW            0.018901   \n",
       "Bigram_DBOW             0.013105   \n",
       "\n",
       "                                                                                                                     params  \n",
       "model_name                                                                                                                   \n",
       "Bigram_DMC            {'C': 10, 'class_weight': 'balanced', 'multi_class': 'multinomial', 'penalty': 'l2', 'solver': 'sag'}  \n",
       "Trigram_DMM              {'C': 100, 'class_weight': None, 'multi_class': 'multinomial', 'penalty': 'l2', 'solver': 'lbfgs'}  \n",
       "Trigram_DBOW_DMM           {'C': 100, 'class_weight': None, 'multi_class': 'multinomial', 'penalty': 'l2', 'solver': 'sag'}  \n",
       "Trigram_DMC                {'C': 100, 'class_weight': None, 'multi_class': 'multinomial', 'penalty': 'l2', 'solver': 'sag'}  \n",
       "Bigram_DBOW_DMM      {'C': 10, 'class_weight': 'balanced', 'multi_class': 'multinomial', 'penalty': 'l2', 'solver': 'saga'}  \n",
       "Bigram_DBOW_200        {'C': 1, 'class_weight': 'balanced', 'multi_class': 'multinomial', 'penalty': 'l2', 'solver': 'sag'}  \n",
       "Bigram_DBOW_DMC      {'C': 100, 'class_weight': 'balanced', 'multi_class': 'multinomial', 'penalty': 'l2', 'solver': 'sag'}  \n",
       "Bigram_DMM               {'C': 100, 'class_weight': None, 'multi_class': 'multinomial', 'penalty': 'l2', 'solver': 'lbfgs'}  \n",
       "Trigram_DBOW              {'C': 100, 'class_weight': None, 'multi_class': 'multinomial', 'penalty': 'l2', 'solver': 'saga'}  \n",
       "Bigram_DBOW       {'C': 0.001, 'class_weight': 'balanced', 'multi_class': 'multinomial', 'penalty': 'l2', 'solver': 'saga'}  "
      ]
     },
     "metadata": {},
     "output_type": "display_data"
    },
    {
     "data": {
      "text/html": [
       "<iframe id=\"igraph\" scrolling=\"no\" style=\"border:none;\" seamless=\"seamless\" src=\"https://plot.ly/~mrethana/78.embed\" height=\"525px\" width=\"100%\"></iframe>"
      ],
      "text/plain": [
       "<plotly.tools.PlotlyDisplay object>"
      ]
     },
     "execution_count": 3,
     "metadata": {},
     "output_type": "execute_result"
    }
   ],
   "source": [
    "plot_best_grid_search(models,Logistic_dict)"
   ]
  },
  {
   "cell_type": "markdown",
   "metadata": {
    "extensions": {
     "jupyter_dashboards": {
      "version": 1,
      "views": {
       "grid_default": {},
       "report_default": {
        "hidden": false
       }
      }
     }
    }
   },
   "source": [
    "# Logistic Regression Grid Search by Doc2Vec Model"
   ]
  },
  {
   "cell_type": "code",
   "execution_count": 4,
   "metadata": {
    "extensions": {
     "jupyter_dashboards": {
      "version": 1,
      "views": {
       "grid_default": {
        "col": 0,
        "height": 32,
        "hidden": false,
        "row": 0,
        "width": 4
       },
       "report_default": {
        "hidden": false
       }
      }
     }
    },
    "scrolled": false
   },
   "outputs": [
    {
     "data": {
      "application/vnd.jupyter.widget-view+json": {
       "model_id": "21cd5c7774a44bd59490ab9261568c6a",
       "version_major": 2,
       "version_minor": 0
      },
      "text/plain": [
       "interactive(children=(Dropdown(description='Model Name', options=('Bigram_DMC', 'Trigram_DMM', 'Trigram_DBOW_D…"
      ]
     },
     "metadata": {},
     "output_type": "display_data"
    }
   ],
   "source": [
    "Model_widget = widgets.Dropdown(options=models,value = 'Bigram_DMC',description = 'Model Name', disabled = False)\n",
    "model_type_widget1 = widgets.ToggleButtons(options = [Logistic_dict], description ='Classifier Type', button_style='')\n",
    "\n",
    "    \n",
    "interact(evaluate_classifier_model,model_name=Model_widget, model_name_dict = model_type_widget1);  "
   ]
  },
  {
   "cell_type": "markdown",
   "metadata": {
    "extensions": {
     "jupyter_dashboards": {
      "version": 1,
      "views": {
       "grid_default": {
        "hidden": true
       },
       "report_default": {
        "hidden": false
       }
      }
     }
    }
   },
   "source": [
    "# Decision Tree Evaluation"
   ]
  },
  {
   "cell_type": "markdown",
   "metadata": {
    "extensions": {
     "jupyter_dashboards": {
      "version": 1,
      "views": {
       "grid_default": {
        "hidden": true
       },
       "report_default": {
        "hidden": false
       }
      }
     }
    }
   },
   "source": [
    "# Best Grid Search Across All Doc2Vec Models 45% Test Accuracy"
   ]
  },
  {
   "cell_type": "code",
   "execution_count": 5,
   "metadata": {
    "extensions": {
     "jupyter_dashboards": {
      "version": 1,
      "views": {
       "grid_default": {
        "hidden": true
       },
       "report_default": {
        "hidden": false
       }
      }
     }
    },
    "scrolled": false
   },
   "outputs": [
    {
     "data": {
      "text/html": [
       "<div>\n",
       "<style scoped>\n",
       "    .dataframe tbody tr th:only-of-type {\n",
       "        vertical-align: middle;\n",
       "    }\n",
       "\n",
       "    .dataframe tbody tr th {\n",
       "        vertical-align: top;\n",
       "    }\n",
       "\n",
       "    .dataframe thead th {\n",
       "        text-align: right;\n",
       "    }\n",
       "</style>\n",
       "<table border=\"1\" class=\"dataframe\">\n",
       "  <thead>\n",
       "    <tr style=\"text-align: right;\">\n",
       "      <th></th>\n",
       "      <th>mean_train_score</th>\n",
       "      <th>mean_test_score</th>\n",
       "      <th>std_train_score</th>\n",
       "      <th>std_test_score</th>\n",
       "      <th>params</th>\n",
       "    </tr>\n",
       "    <tr>\n",
       "      <th>model_name</th>\n",
       "      <th></th>\n",
       "      <th></th>\n",
       "      <th></th>\n",
       "      <th></th>\n",
       "      <th></th>\n",
       "    </tr>\n",
       "  </thead>\n",
       "  <tbody>\n",
       "    <tr>\n",
       "      <th>Bigram_DMC</th>\n",
       "      <td>0.969903</td>\n",
       "      <td>0.446609</td>\n",
       "      <td>0.000967</td>\n",
       "      <td>0.018983</td>\n",
       "      <td>{'criterion': 'gini', 'max_depth': None, 'min_samples_leaf': 1, 'min_samples_split': 5}</td>\n",
       "    </tr>\n",
       "    <tr>\n",
       "      <th>Trigram_DMM</th>\n",
       "      <td>1.000000</td>\n",
       "      <td>0.449761</td>\n",
       "      <td>0.000000</td>\n",
       "      <td>0.024228</td>\n",
       "      <td>{'criterion': 'entropy', 'max_depth': None, 'min_samples_leaf': 1, 'min_samples_split': 2}</td>\n",
       "    </tr>\n",
       "    <tr>\n",
       "      <th>Trigram_DBOW_DMM</th>\n",
       "      <td>1.000000</td>\n",
       "      <td>0.443553</td>\n",
       "      <td>0.000000</td>\n",
       "      <td>0.018027</td>\n",
       "      <td>{'criterion': 'gini', 'max_depth': None, 'min_samples_leaf': 1, 'min_samples_split': 2}</td>\n",
       "    </tr>\n",
       "    <tr>\n",
       "      <th>Trigram_DMC</th>\n",
       "      <td>0.969458</td>\n",
       "      <td>0.447660</td>\n",
       "      <td>0.001510</td>\n",
       "      <td>0.030813</td>\n",
       "      <td>{'criterion': 'gini', 'max_depth': None, 'min_samples_leaf': 1, 'min_samples_split': 5}</td>\n",
       "    </tr>\n",
       "    <tr>\n",
       "      <th>Bigram_DBOW_DMM</th>\n",
       "      <td>1.000000</td>\n",
       "      <td>0.449570</td>\n",
       "      <td>0.000000</td>\n",
       "      <td>0.025813</td>\n",
       "      <td>{'criterion': 'entropy', 'max_depth': None, 'min_samples_leaf': 1, 'min_samples_split': 2}</td>\n",
       "    </tr>\n",
       "    <tr>\n",
       "      <th>Bigram_DBOW_200</th>\n",
       "      <td>0.987488</td>\n",
       "      <td>0.450907</td>\n",
       "      <td>0.001345</td>\n",
       "      <td>0.025466</td>\n",
       "      <td>{'criterion': 'entropy', 'max_depth': None, 'min_samples_leaf': 1, 'min_samples_split': 5}</td>\n",
       "    </tr>\n",
       "    <tr>\n",
       "      <th>Bigram_DBOW_DMC</th>\n",
       "      <td>1.000000</td>\n",
       "      <td>0.446800</td>\n",
       "      <td>0.000000</td>\n",
       "      <td>0.029223</td>\n",
       "      <td>{'criterion': 'gini', 'max_depth': None, 'min_samples_leaf': 1, 'min_samples_split': 2}</td>\n",
       "    </tr>\n",
       "    <tr>\n",
       "      <th>Bigram_DMM</th>\n",
       "      <td>0.948764</td>\n",
       "      <td>0.449284</td>\n",
       "      <td>0.002331</td>\n",
       "      <td>0.017813</td>\n",
       "      <td>{'criterion': 'gini', 'max_depth': None, 'min_samples_leaf': 2, 'min_samples_split': 2}</td>\n",
       "    </tr>\n",
       "    <tr>\n",
       "      <th>Trigram_DBOW</th>\n",
       "      <td>1.000000</td>\n",
       "      <td>0.449666</td>\n",
       "      <td>0.000000</td>\n",
       "      <td>0.019343</td>\n",
       "      <td>{'criterion': 'entropy', 'max_depth': None, 'min_samples_leaf': 1, 'min_samples_split': 2}</td>\n",
       "    </tr>\n",
       "    <tr>\n",
       "      <th>Bigram_DBOW</th>\n",
       "      <td>1.000000</td>\n",
       "      <td>0.451194</td>\n",
       "      <td>0.000000</td>\n",
       "      <td>0.025856</td>\n",
       "      <td>{'criterion': 'entropy', 'max_depth': None, 'min_samples_leaf': 1, 'min_samples_split': 2}</td>\n",
       "    </tr>\n",
       "  </tbody>\n",
       "</table>\n",
       "</div>"
      ],
      "text/plain": [
       "                  mean_train_score  mean_test_score  std_train_score  \\\n",
       "model_name                                                             \n",
       "Bigram_DMC                0.969903         0.446609         0.000967   \n",
       "Trigram_DMM               1.000000         0.449761         0.000000   \n",
       "Trigram_DBOW_DMM          1.000000         0.443553         0.000000   \n",
       "Trigram_DMC               0.969458         0.447660         0.001510   \n",
       "Bigram_DBOW_DMM           1.000000         0.449570         0.000000   \n",
       "Bigram_DBOW_200           0.987488         0.450907         0.001345   \n",
       "Bigram_DBOW_DMC           1.000000         0.446800         0.000000   \n",
       "Bigram_DMM                0.948764         0.449284         0.002331   \n",
       "Trigram_DBOW              1.000000         0.449666         0.000000   \n",
       "Bigram_DBOW               1.000000         0.451194         0.000000   \n",
       "\n",
       "                  std_test_score  \\\n",
       "model_name                         \n",
       "Bigram_DMC              0.018983   \n",
       "Trigram_DMM             0.024228   \n",
       "Trigram_DBOW_DMM        0.018027   \n",
       "Trigram_DMC             0.030813   \n",
       "Bigram_DBOW_DMM         0.025813   \n",
       "Bigram_DBOW_200         0.025466   \n",
       "Bigram_DBOW_DMC         0.029223   \n",
       "Bigram_DMM              0.017813   \n",
       "Trigram_DBOW            0.019343   \n",
       "Bigram_DBOW             0.025856   \n",
       "\n",
       "                                                                                                      params  \n",
       "model_name                                                                                                    \n",
       "Bigram_DMC           {'criterion': 'gini', 'max_depth': None, 'min_samples_leaf': 1, 'min_samples_split': 5}  \n",
       "Trigram_DMM       {'criterion': 'entropy', 'max_depth': None, 'min_samples_leaf': 1, 'min_samples_split': 2}  \n",
       "Trigram_DBOW_DMM     {'criterion': 'gini', 'max_depth': None, 'min_samples_leaf': 1, 'min_samples_split': 2}  \n",
       "Trigram_DMC          {'criterion': 'gini', 'max_depth': None, 'min_samples_leaf': 1, 'min_samples_split': 5}  \n",
       "Bigram_DBOW_DMM   {'criterion': 'entropy', 'max_depth': None, 'min_samples_leaf': 1, 'min_samples_split': 2}  \n",
       "Bigram_DBOW_200   {'criterion': 'entropy', 'max_depth': None, 'min_samples_leaf': 1, 'min_samples_split': 5}  \n",
       "Bigram_DBOW_DMC      {'criterion': 'gini', 'max_depth': None, 'min_samples_leaf': 1, 'min_samples_split': 2}  \n",
       "Bigram_DMM           {'criterion': 'gini', 'max_depth': None, 'min_samples_leaf': 2, 'min_samples_split': 2}  \n",
       "Trigram_DBOW      {'criterion': 'entropy', 'max_depth': None, 'min_samples_leaf': 1, 'min_samples_split': 2}  \n",
       "Bigram_DBOW       {'criterion': 'entropy', 'max_depth': None, 'min_samples_leaf': 1, 'min_samples_split': 2}  "
      ]
     },
     "metadata": {},
     "output_type": "display_data"
    },
    {
     "data": {
      "text/html": [
       "<iframe id=\"igraph\" scrolling=\"no\" style=\"border:none;\" seamless=\"seamless\" src=\"https://plot.ly/~mrethana/78.embed\" height=\"525px\" width=\"100%\"></iframe>"
      ],
      "text/plain": [
       "<plotly.tools.PlotlyDisplay object>"
      ]
     },
     "execution_count": 5,
     "metadata": {},
     "output_type": "execute_result"
    }
   ],
   "source": [
    "plot_best_grid_search(models,Decision_Tree_dict)"
   ]
  },
  {
   "cell_type": "markdown",
   "metadata": {
    "extensions": {
     "jupyter_dashboards": {
      "version": 1,
      "views": {
       "grid_default": {},
       "report_default": {
        "hidden": false
       }
      }
     }
    }
   },
   "source": [
    "# Above Models are all overfit due to 0 Max Depth in Decision Tree"
   ]
  },
  {
   "cell_type": "markdown",
   "metadata": {
    "extensions": {
     "jupyter_dashboards": {
      "version": 1,
      "views": {
       "grid_default": {},
       "report_default": {
        "hidden": false
       }
      }
     }
    }
   },
   "source": [
    "# Best Deicision Tree Model with Max Depth Set is 37.7% (Bigram DBOW 200)"
   ]
  },
  {
   "cell_type": "code",
   "execution_count": 6,
   "metadata": {
    "extensions": {
     "jupyter_dashboards": {
      "version": 1,
      "views": {
       "grid_default": {},
       "report_default": {
        "hidden": false
       }
      }
     }
    }
   },
   "outputs": [
    {
     "data": {
      "text/html": [
       "<div>\n",
       "<style scoped>\n",
       "    .dataframe tbody tr th:only-of-type {\n",
       "        vertical-align: middle;\n",
       "    }\n",
       "\n",
       "    .dataframe tbody tr th {\n",
       "        vertical-align: top;\n",
       "    }\n",
       "\n",
       "    .dataframe thead th {\n",
       "        text-align: right;\n",
       "    }\n",
       "</style>\n",
       "<table border=\"1\" class=\"dataframe\">\n",
       "  <thead>\n",
       "    <tr style=\"text-align: right;\">\n",
       "      <th></th>\n",
       "      <th>mean_train_score</th>\n",
       "      <th>mean_test_score</th>\n",
       "      <th>std_train_score</th>\n",
       "      <th>std_test_score</th>\n",
       "      <th>params</th>\n",
       "    </tr>\n",
       "    <tr>\n",
       "      <th>model_name</th>\n",
       "      <th></th>\n",
       "      <th></th>\n",
       "      <th></th>\n",
       "      <th></th>\n",
       "      <th></th>\n",
       "    </tr>\n",
       "  </thead>\n",
       "  <tbody>\n",
       "    <tr>\n",
       "      <th>Bigram_DMC</th>\n",
       "      <td>0.381673</td>\n",
       "      <td>0.358548</td>\n",
       "      <td>0.008247</td>\n",
       "      <td>0.008196</td>\n",
       "      <td>{'criterion': 'gini', 'max_depth': 6, 'min_samples_leaf': 6, 'min_samples_split': 10}</td>\n",
       "    </tr>\n",
       "    <tr>\n",
       "      <th>Trigram_DMM</th>\n",
       "      <td>0.375772</td>\n",
       "      <td>0.364852</td>\n",
       "      <td>0.002518</td>\n",
       "      <td>0.009010</td>\n",
       "      <td>{'criterion': 'entropy', 'max_depth': 6, 'min_samples_leaf': 1, 'min_samples_split': 5}</td>\n",
       "    </tr>\n",
       "    <tr>\n",
       "      <th>Trigram_DBOW_DMM</th>\n",
       "      <td>0.376090</td>\n",
       "      <td>0.357498</td>\n",
       "      <td>0.006081</td>\n",
       "      <td>0.007760</td>\n",
       "      <td>{'criterion': 'entropy', 'max_depth': 6, 'min_samples_leaf': 5, 'min_samples_split': 5}</td>\n",
       "    </tr>\n",
       "    <tr>\n",
       "      <th>Trigram_DMC</th>\n",
       "      <td>0.376356</td>\n",
       "      <td>0.359026</td>\n",
       "      <td>0.006110</td>\n",
       "      <td>0.005222</td>\n",
       "      <td>{'criterion': 'entropy', 'max_depth': 6, 'min_samples_leaf': 2, 'min_samples_split': 10}</td>\n",
       "    </tr>\n",
       "    <tr>\n",
       "      <th>Bigram_DBOW_DMM</th>\n",
       "      <td>0.381726</td>\n",
       "      <td>0.365712</td>\n",
       "      <td>0.005817</td>\n",
       "      <td>0.014266</td>\n",
       "      <td>{'criterion': 'gini', 'max_depth': 6, 'min_samples_leaf': 2, 'min_samples_split': 10}</td>\n",
       "    </tr>\n",
       "    <tr>\n",
       "      <th>Bigram_DBOW_200</th>\n",
       "      <td>0.382203</td>\n",
       "      <td>0.376504</td>\n",
       "      <td>0.000932</td>\n",
       "      <td>0.011460</td>\n",
       "      <td>{'criterion': 'gini', 'max_depth': 6, 'min_samples_leaf': 1, 'min_samples_split': 10}</td>\n",
       "    </tr>\n",
       "    <tr>\n",
       "      <th>Bigram_DBOW_DMC</th>\n",
       "      <td>0.382171</td>\n",
       "      <td>0.360076</td>\n",
       "      <td>0.008939</td>\n",
       "      <td>0.010063</td>\n",
       "      <td>{'criterion': 'gini', 'max_depth': 6, 'min_samples_leaf': 6, 'min_samples_split': 2}</td>\n",
       "    </tr>\n",
       "    <tr>\n",
       "      <th>Bigram_DMM</th>\n",
       "      <td>0.378415</td>\n",
       "      <td>0.363706</td>\n",
       "      <td>0.005757</td>\n",
       "      <td>0.011805</td>\n",
       "      <td>{'criterion': 'entropy', 'max_depth': 6, 'min_samples_leaf': 2, 'min_samples_split': 5}</td>\n",
       "    </tr>\n",
       "    <tr>\n",
       "      <th>Trigram_DBOW</th>\n",
       "      <td>0.381131</td>\n",
       "      <td>0.363324</td>\n",
       "      <td>0.007787</td>\n",
       "      <td>0.010244</td>\n",
       "      <td>{'criterion': 'gini', 'max_depth': 6, 'min_samples_leaf': 1, 'min_samples_split': 2}</td>\n",
       "    </tr>\n",
       "    <tr>\n",
       "      <th>Bigram_DBOW</th>\n",
       "      <td>0.358124</td>\n",
       "      <td>0.356829</td>\n",
       "      <td>0.000576</td>\n",
       "      <td>0.005473</td>\n",
       "      <td>{'criterion': 'entropy', 'max_depth': 3, 'min_samples_leaf': 1, 'min_samples_split': 5}</td>\n",
       "    </tr>\n",
       "  </tbody>\n",
       "</table>\n",
       "</div>"
      ],
      "text/plain": [
       "                  mean_train_score  mean_test_score  std_train_score  \\\n",
       "model_name                                                             \n",
       "Bigram_DMC                0.381673         0.358548         0.008247   \n",
       "Trigram_DMM               0.375772         0.364852         0.002518   \n",
       "Trigram_DBOW_DMM          0.376090         0.357498         0.006081   \n",
       "Trigram_DMC               0.376356         0.359026         0.006110   \n",
       "Bigram_DBOW_DMM           0.381726         0.365712         0.005817   \n",
       "Bigram_DBOW_200           0.382203         0.376504         0.000932   \n",
       "Bigram_DBOW_DMC           0.382171         0.360076         0.008939   \n",
       "Bigram_DMM                0.378415         0.363706         0.005757   \n",
       "Trigram_DBOW              0.381131         0.363324         0.007787   \n",
       "Bigram_DBOW               0.358124         0.356829         0.000576   \n",
       "\n",
       "                  std_test_score  \\\n",
       "model_name                         \n",
       "Bigram_DMC              0.008196   \n",
       "Trigram_DMM             0.009010   \n",
       "Trigram_DBOW_DMM        0.007760   \n",
       "Trigram_DMC             0.005222   \n",
       "Bigram_DBOW_DMM         0.014266   \n",
       "Bigram_DBOW_200         0.011460   \n",
       "Bigram_DBOW_DMC         0.010063   \n",
       "Bigram_DMM              0.011805   \n",
       "Trigram_DBOW            0.010244   \n",
       "Bigram_DBOW             0.005473   \n",
       "\n",
       "                                                                                                    params  \n",
       "model_name                                                                                                  \n",
       "Bigram_DMC           {'criterion': 'gini', 'max_depth': 6, 'min_samples_leaf': 6, 'min_samples_split': 10}  \n",
       "Trigram_DMM        {'criterion': 'entropy', 'max_depth': 6, 'min_samples_leaf': 1, 'min_samples_split': 5}  \n",
       "Trigram_DBOW_DMM   {'criterion': 'entropy', 'max_depth': 6, 'min_samples_leaf': 5, 'min_samples_split': 5}  \n",
       "Trigram_DMC       {'criterion': 'entropy', 'max_depth': 6, 'min_samples_leaf': 2, 'min_samples_split': 10}  \n",
       "Bigram_DBOW_DMM      {'criterion': 'gini', 'max_depth': 6, 'min_samples_leaf': 2, 'min_samples_split': 10}  \n",
       "Bigram_DBOW_200      {'criterion': 'gini', 'max_depth': 6, 'min_samples_leaf': 1, 'min_samples_split': 10}  \n",
       "Bigram_DBOW_DMC       {'criterion': 'gini', 'max_depth': 6, 'min_samples_leaf': 6, 'min_samples_split': 2}  \n",
       "Bigram_DMM         {'criterion': 'entropy', 'max_depth': 6, 'min_samples_leaf': 2, 'min_samples_split': 5}  \n",
       "Trigram_DBOW          {'criterion': 'gini', 'max_depth': 6, 'min_samples_leaf': 1, 'min_samples_split': 2}  \n",
       "Bigram_DBOW        {'criterion': 'entropy', 'max_depth': 3, 'min_samples_leaf': 1, 'min_samples_split': 5}  "
      ]
     },
     "metadata": {},
     "output_type": "display_data"
    },
    {
     "data": {
      "text/html": [
       "<iframe id=\"igraph\" scrolling=\"no\" style=\"border:none;\" seamless=\"seamless\" src=\"https://plot.ly/~mrethana/78.embed\" height=\"525px\" width=\"100%\"></iframe>"
      ],
      "text/plain": [
       "<plotly.tools.PlotlyDisplay object>"
      ]
     },
     "execution_count": 6,
     "metadata": {},
     "output_type": "execute_result"
    }
   ],
   "source": [
    "fix_DT_overfit(models, Decision_Tree_dict)"
   ]
  },
  {
   "cell_type": "markdown",
   "metadata": {
    "extensions": {
     "jupyter_dashboards": {
      "version": 1,
      "views": {
       "grid_default": {
        "hidden": true
       },
       "report_default": {
        "hidden": false
       }
      }
     }
    }
   },
   "source": [
    "# Decision Tree Grid Search by Doc2Vec Model"
   ]
  },
  {
   "cell_type": "code",
   "execution_count": 7,
   "metadata": {
    "extensions": {
     "jupyter_dashboards": {
      "version": 1,
      "views": {
       "grid_default": {
        "hidden": true
       },
       "report_default": {
        "hidden": false
       }
      }
     }
    },
    "scrolled": false
   },
   "outputs": [
    {
     "data": {
      "application/vnd.jupyter.widget-view+json": {
       "model_id": "d574340d5c38423884baf128b86905b0",
       "version_major": 2,
       "version_minor": 0
      },
      "text/plain": [
       "interactive(children=(Dropdown(description='Model Name', options=('Bigram_DMC', 'Trigram_DMM', 'Trigram_DBOW_D…"
      ]
     },
     "metadata": {},
     "output_type": "display_data"
    }
   ],
   "source": [
    "Model_widget = widgets.Dropdown(options=models,value = 'Bigram_DMC',description = 'Model Name', disabled = False)\n",
    "model_type_widget2 = widgets.ToggleButtons(options = [Decision_Tree_dict], description ='Classifier Type', button_style='')\n",
    "\n",
    "    \n",
    "interact(evaluate_classifier_model,model_name=Model_widget, model_name_dict = model_type_widget2);  "
   ]
  },
  {
   "cell_type": "code",
   "execution_count": 8,
   "metadata": {
    "extensions": {
     "jupyter_dashboards": {
      "version": 1,
      "views": {
       "grid_default": {},
       "report_default": {
        "hidden": false
       }
      }
     }
    }
   },
   "outputs": [],
   "source": [
    "# val_set_data = pd.read_csv('Archive_CSV/bk_corpus.csv', index_col=0)"
   ]
  },
  {
   "cell_type": "code",
   "execution_count": 9,
   "metadata": {
    "extensions": {
     "jupyter_dashboards": {
      "version": 1,
      "views": {
       "grid_default": {},
       "report_default": {
        "hidden": true
       }
      }
     }
    }
   },
   "outputs": [],
   "source": [
    "# scraped_df = pd.read_csv('scraped_df.csv',index_col = 0)"
   ]
  },
  {
   "cell_type": "code",
   "execution_count": 10,
   "metadata": {
    "extensions": {
     "jupyter_dashboards": {
      "version": 1,
      "views": {
       "grid_default": {},
       "report_default": {
        "hidden": true
       }
      }
     }
    }
   },
   "outputs": [],
   "source": [
    "# all_df = pd.read_csv('Archive_CSV/ALL_rows_scraped.csv',index_col=0)\n",
    "# labels = all_df.set_index('source_name')['label'].to_dict()"
   ]
  },
  {
   "cell_type": "code",
   "execution_count": 11,
   "metadata": {
    "extensions": {
     "jupyter_dashboards": {
      "version": 1,
      "views": {
       "grid_default": {},
       "report_default": {
        "hidden": true
       }
      }
     }
    }
   },
   "outputs": [],
   "source": [
    "# Bigram_DBOW= Doc2Vec.load(\"D2V_models/d2v.model\")\n",
    "# Bigram_DMM = Doc2Vec.load(\"D2V_models/d2v_DMM.model\")\n",
    "# Bigram_DMC = Doc2Vec.load(\"D2V_models/d2v_DMC.model\")\n",
    "# Bigram_DBOW200 = Doc2Vec.load(\"D2V_models/d2v_dbow200.model\")\n",
    "# Trigram_DBOW = Doc2Vec.load(\"D2V_models/TRI_d2v_dbow100.model\")\n",
    "# Trigram_DMC = Doc2Vec.load(\"D2V_models/TRI_d2v_DMC.model\")\n",
    "# Trigram_DMM = Doc2Vec.load(\"D2V_models/TRI_d2v_DMM.model\")\n",
    "# All_models = [Bigram_DBOW,Bigram_DMC,Bigram_DMM, Bigram_DBOW200, Trigram_DBOW, Trigram_DMC, Trigram_DMM]"
   ]
  },
  {
   "cell_type": "code",
   "execution_count": 12,
   "metadata": {
    "extensions": {
     "jupyter_dashboards": {
      "version": 1,
      "views": {
       "grid_default": {},
       "report_default": {
        "hidden": true
       }
      }
     }
    }
   },
   "outputs": [],
   "source": [
    "# def infer_vecs_for_val(d2v_model, d2v_model_name, model_name_dict, d2v_model):\n",
    "#     val_df = pd.read_csv('Archive_CSV/validation_set.csv',index_col=0)\n",
    "#     full_df, all_vectors_df = get_all_vectors_and_data(False)\n",
    "#     length_dict = all_vectors_df.set_index('model_name')['vector_size'].to_dict()\n",
    "#     size = length_dict[d2v_model_name]\n",
    "#     vectors = infer_vectors(d2v_model,val_df,size)\n",
    "#     return vectors\n",
    "    \n",
    "    "
   ]
  },
  {
   "cell_type": "code",
   "execution_count": 13,
   "metadata": {
    "extensions": {
     "jupyter_dashboards": {
      "version": 1,
      "views": {
       "grid_default": {},
       "report_default": {
        "hidden": true
       }
      }
     }
    }
   },
   "outputs": [],
   "source": [
    "# def infer_vecs_for_val(d2v_model, d2v_model_name, model_name_dict):\n",
    "#     val_df = pd.read_csv('Archive_CSV/validation_set.csv',index_col=0)\n",
    "#     full_df, all_vectors_df = get_all_vectors_and_data(False)\n",
    "#     length_dict = all_vectors_df.set_index('model_name')['vector_size'].to_dict()\n",
    "#     size = length_dict[d2v_model_name]\n",
    "#     val_df.text = val_df.text.astype(str)\n",
    "#     vectors = infer_vectors(d2v_model,val_df.text,size)\n",
    "#     return val_df, vectors"
   ]
  },
  {
   "cell_type": "code",
   "execution_count": null,
   "metadata": {
    "extensions": {
     "jupyter_dashboards": {
      "version": 1,
      "views": {
       "grid_default": {},
       "report_default": {
        "hidden": true
       }
      }
     }
    }
   },
   "outputs": [],
   "source": []
  }
 ],
 "metadata": {
  "extensions": {
   "jupyter_dashboards": {
    "activeView": "report_default",
    "version": 1,
    "views": {
     "grid_default": {
      "cellMargin": 10,
      "defaultCellHeight": 20,
      "maxColumns": 12,
      "name": "grid",
      "type": "grid"
     },
     "report_default": {
      "name": "report",
      "type": "report"
     }
    }
   }
  },
  "kernelspec": {
   "display_name": "Python 3",
   "language": "python",
   "name": "python3"
  },
  "language_info": {
   "codemirror_mode": {
    "name": "ipython",
    "version": 3
   },
   "file_extension": ".py",
   "mimetype": "text/x-python",
   "name": "python",
   "nbconvert_exporter": "python",
   "pygments_lexer": "ipython3",
   "version": "3.6.5"
  }
 },
 "nbformat": 4,
 "nbformat_minor": 2
}
