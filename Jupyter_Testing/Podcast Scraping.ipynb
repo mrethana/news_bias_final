{
 "cells": [
  {
   "cell_type": "code",
   "execution_count": 1,
   "metadata": {},
   "outputs": [],
   "source": [
    "import ipywidgets as widgets\n",
    "from bs4 import BeautifulSoup\n",
    "import requests\n",
    "import re\n",
    "import pandas as pd\n",
    "import matplotlib.pyplot as plt\n",
    "import numpy as np\n",
    "from __future__ import print_function\n",
    "from ipywidgets import interact, interactive, fixed, interact_manual\n",
    "import ipywidgets as widgets\n",
    "from IPython.display import Image\n",
    "from IPython.core.display import HTML \n",
    "import time\n",
    "from ipywidgets import FloatProgress\n",
    "from IPython.display import display\n",
    "import pafy\n",
    "from bs4 import BeautifulSoup\n",
    "import requests\n",
    "import re\n",
    "from IPython.display import HTML\n",
    "import numpy as np\n",
    "import pandas as pd\n",
    "from os import path\n",
    "from PIL import Image\n",
    "from wordcloud import WordCloud, STOPWORDS, ImageColorGenerator\n",
    "from IPython.display import Image"
   ]
  },
  {
   "cell_type": "code",
   "execution_count": null,
   "metadata": {},
   "outputs": [],
   "source": [
    "https://tunein.com/search/?query=Brett%20Kavanaugh"
   ]
  },
  {
   "cell_type": "code",
   "execution_count": 14,
   "metadata": {},
   "outputs": [
    {
     "data": {
      "text/html": [
       "<iframe src=\"https://tunein.com/embed/player/t124928465/\" style=\"width:100%; height:100px;\" scrolling=\"no\" frameborder=\"no\"></iframe>"
      ],
      "text/plain": [
       "<IPython.core.display.HTML object>"
      ]
     },
     "metadata": {},
     "output_type": "display_data"
    }
   ],
   "source": [
    "display(HTML(\"\"\"<iframe src=\"https://tunein.com/embed/player/t124928465/\" style=\"width:100%; height:100px;\" scrolling=\"no\" frameborder=\"no\"></iframe>\"\"\"))"
   ]
  },
  {
   "cell_type": "code",
   "execution_count": 15,
   "metadata": {},
   "outputs": [],
   "source": [
    "html_page = requests.get('https://tunein.com/search/?query=Jimmy%20Butler')\n",
    "soup = BeautifulSoup(html_page.content, 'html.parser', from_encoding='utf-8')\n",
    "pods = soup.findAll('a')"
   ]
  },
  {
   "cell_type": "code",
   "execution_count": 16,
   "metadata": {},
   "outputs": [],
   "source": [
    "x = [pod.get('href') for pod in pods]"
   ]
  },
  {
   "cell_type": "code",
   "execution_count": 34,
   "metadata": {},
   "outputs": [
    {
     "data": {
      "text/plain": [
       "['/',\n",
       " '/search/',\n",
       " None,\n",
       " None,\n",
       " '/',\n",
       " '/search/',\n",
       " '/radio/home/',\n",
       " '/radio/local/',\n",
       " '/radio/recents/',\n",
       " '/radio/trending/',\n",
       " '/radio/music/',\n",
       " '/radio/sports/',\n",
       " '/radio/News-c57922/',\n",
       " '/radio/talk/',\n",
       " '/podcasts/',\n",
       " '/radio/regions/',\n",
       " '/radio/languages/',\n",
       " '/radio/Open-Floor-SIs-NBA-Podcast-p869035/?topicId=105761977',\n",
       " '/radio/Open-Floor-SIs-NBA-Podcast-p869035/?topicId=105761977',\n",
       " '/radio/The-Dan-LeBatard-Show-with-Stugotz-p182499/?topicId=124860913',\n",
       " '/radio/The-Dan-LeBatard-Show-with-Stugotz-p182499/?topicId=124860913',\n",
       " '/radio/Off-Top-NBA-Podcast-p1091820/?topicId=124964297',\n",
       " '/radio/Off-Top-NBA-Podcast-p1091820/?topicId=124964297',\n",
       " '/radio/Waddle--Silvy-p129507/?topicId=47751137',\n",
       " '/radio/Waddle--Silvy-p129507/?topicId=47751137',\n",
       " '/radio/The-Jump-p999655/?topicId=123730923',\n",
       " '/radio/The-Jump-p999655/?topicId=123730923',\n",
       " '/radio/Waddle--Silvy-p129507/?topicId=100550029',\n",
       " '/radio/Waddle--Silvy-p129507/?topicId=100550029',\n",
       " '/radio/The-Jump-p999655/?topicId=124872986',\n",
       " '/radio/The-Jump-p999655/?topicId=124872986',\n",
       " '/radio/USA-TODAY-Podcasts-p721187/?topicId=100040667',\n",
       " '/radio/USA-TODAY-Podcasts-p721187/?topicId=100040667',\n",
       " '/radio/Dead-End-Sports-p1125547/?topicId=124865725',\n",
       " '/radio/Dead-End-Sports-p1125547/?topicId=124865725',\n",
       " None,\n",
       " '/artist/Jimmy-Butler-m357293/',\n",
       " '/artist/Jimmy-Butler-m357293/',\n",
       " '/radio/home/',\n",
       " '/radio/sports/',\n",
       " '/radio/music/',\n",
       " '/radio/News-c57922/',\n",
       " '/podcasts/',\n",
       " '/radio/premium/',\n",
       " 'https://tunein.com/about/',\n",
       " 'https://tunein.com/contact/',\n",
       " 'https://tunein.com/careers/',\n",
       " 'https://tunein.com/press/',\n",
       " 'http://help.tunein.com',\n",
       " 'https://tunein.com/get-tunein/',\n",
       " 'https://tunein.com/business/',\n",
       " 'https://tunein.com/broadcasters/',\n",
       " 'https://tunein.com/podcasters/',\n",
       " 'https://tunein.com/policies/privacy/',\n",
       " 'https://tunein.com/policies/',\n",
       " 'https://tunein.com/sitemap/',\n",
       " 'https://facebook.com/tunein',\n",
       " 'https://instagram.com/tunein',\n",
       " 'https://twitter.com/tunein',\n",
       " 'http://blog.tunein.com']"
      ]
     },
     "execution_count": 34,
     "metadata": {},
     "output_type": "execute_result"
    }
   ],
   "source": [
    "x"
   ]
  },
  {
   "cell_type": "code",
   "execution_count": 27,
   "metadata": {},
   "outputs": [
    {
     "data": {
      "text/plain": [
       "[0, 1, 2, 3, 4, 5, 6, 7, 8, 9]"
      ]
     },
     "execution_count": 27,
     "metadata": {},
     "output_type": "execute_result"
    }
   ],
   "source": [
    "list(range(0,10))"
   ]
  },
  {
   "cell_type": "code",
   "execution_count": 45,
   "metadata": {},
   "outputs": [
    {
     "data": {
      "text/plain": [
       "'105761977'"
      ]
     },
     "execution_count": 45,
     "metadata": {},
     "output_type": "execute_result"
    }
   ],
   "source": [
    "x[17][-9:]"
   ]
  },
  {
   "cell_type": "code",
   "execution_count": 33,
   "metadata": {},
   "outputs": [],
   "source": [
    "x[2]"
   ]
  },
  {
   "cell_type": "code",
   "execution_count": 36,
   "metadata": {},
   "outputs": [],
   "source": [
    "strings = list(range(0,10))"
   ]
  },
  {
   "cell_type": "code",
   "execution_count": 40,
   "metadata": {},
   "outputs": [],
   "source": [
    "strings = []\n",
    "for number in list(range(0,10)):\n",
    "    strings.append(str(number))"
   ]
  },
  {
   "cell_type": "code",
   "execution_count": 41,
   "metadata": {},
   "outputs": [
    {
     "data": {
      "text/plain": [
       "['0', '1', '2', '3', '4', '5', '6', '7', '8', '9']"
      ]
     },
     "execution_count": 41,
     "metadata": {},
     "output_type": "execute_result"
    }
   ],
   "source": [
    "strings"
   ]
  },
  {
   "cell_type": "code",
   "execution_count": 42,
   "metadata": {},
   "outputs": [
    {
     "data": {
      "text/plain": [
       "True"
      ]
     },
     "execution_count": 42,
     "metadata": {},
     "output_type": "execute_result"
    }
   ],
   "source": [
    "x[17][-1] in strings"
   ]
  },
  {
   "cell_type": "code",
   "execution_count": 67,
   "metadata": {},
   "outputs": [],
   "source": [
    "def pull_pods(parameter):\n",
    "    list_dicts = []\n",
    "    urls = []\n",
    "    split = parameter.split()\n",
    "    if len(split) < 2:\n",
    "        split.append('')\n",
    "    html_page = requests.get('https://tunein.com/search/?query='+split[0]+'%'+'20'+split[1])\n",
    "    soup = BeautifulSoup(html_page.content, 'html.parser', from_encoding='utf-8')\n",
    "    pods = soup.findAll('a')\n",
    "    strings = []\n",
    "    for number in list(range(0,10)):\n",
    "        strings.append(str(number))\n",
    "    for pod in pods[6:]:\n",
    "        if pod.get('href') is not None:\n",
    "            if pod.get('href')[-1] in strings:\n",
    "                url = \"https://tunein.com/embed/player/t\"+pod.get('href')[-9:]+\"/\"\n",
    "                data = {'author':'audio', 'content':'audio','description':'audio','publishedAt':'audio', 'source_id':'audio', 'source_name':'audio','title':'audio','url':url,'urlToImage':'audio', 'medium':'audio'}\n",
    "                if url in urls:\n",
    "                    pass\n",
    "                else:\n",
    "                    list_dicts.append(data)\n",
    "                urls.append(url)\n",
    "    return list_dicts"
   ]
  },
  {
   "cell_type": "code",
   "execution_count": 68,
   "metadata": {},
   "outputs": [
    {
     "data": {
      "text/plain": [
       "[{'author': 'audio',\n",
       "  'content': 'audio',\n",
       "  'description': 'audio',\n",
       "  'publishedAt': 'audio',\n",
       "  'source_id': 'audio',\n",
       "  'source_name': 'audio',\n",
       "  'title': 'audio',\n",
       "  'url': 'https://tunein.com/embed/player/t105761977/',\n",
       "  'urlToImage': 'audio',\n",
       "  'medium': 'audio'},\n",
       " {'author': 'audio',\n",
       "  'content': 'audio',\n",
       "  'description': 'audio',\n",
       "  'publishedAt': 'audio',\n",
       "  'source_id': 'audio',\n",
       "  'source_name': 'audio',\n",
       "  'title': 'audio',\n",
       "  'url': 'https://tunein.com/embed/player/t124860913/',\n",
       "  'urlToImage': 'audio',\n",
       "  'medium': 'audio'},\n",
       " {'author': 'audio',\n",
       "  'content': 'audio',\n",
       "  'description': 'audio',\n",
       "  'publishedAt': 'audio',\n",
       "  'source_id': 'audio',\n",
       "  'source_name': 'audio',\n",
       "  'title': 'audio',\n",
       "  'url': 'https://tunein.com/embed/player/t124964297/',\n",
       "  'urlToImage': 'audio',\n",
       "  'medium': 'audio'},\n",
       " {'author': 'audio',\n",
       "  'content': 'audio',\n",
       "  'description': 'audio',\n",
       "  'publishedAt': 'audio',\n",
       "  'source_id': 'audio',\n",
       "  'source_name': 'audio',\n",
       "  'title': 'audio',\n",
       "  'url': 'https://tunein.com/embed/player/t=47751137/',\n",
       "  'urlToImage': 'audio',\n",
       "  'medium': 'audio'},\n",
       " {'author': 'audio',\n",
       "  'content': 'audio',\n",
       "  'description': 'audio',\n",
       "  'publishedAt': 'audio',\n",
       "  'source_id': 'audio',\n",
       "  'source_name': 'audio',\n",
       "  'title': 'audio',\n",
       "  'url': 'https://tunein.com/embed/player/t123730923/',\n",
       "  'urlToImage': 'audio',\n",
       "  'medium': 'audio'},\n",
       " {'author': 'audio',\n",
       "  'content': 'audio',\n",
       "  'description': 'audio',\n",
       "  'publishedAt': 'audio',\n",
       "  'source_id': 'audio',\n",
       "  'source_name': 'audio',\n",
       "  'title': 'audio',\n",
       "  'url': 'https://tunein.com/embed/player/t100550029/',\n",
       "  'urlToImage': 'audio',\n",
       "  'medium': 'audio'},\n",
       " {'author': 'audio',\n",
       "  'content': 'audio',\n",
       "  'description': 'audio',\n",
       "  'publishedAt': 'audio',\n",
       "  'source_id': 'audio',\n",
       "  'source_name': 'audio',\n",
       "  'title': 'audio',\n",
       "  'url': 'https://tunein.com/embed/player/t124872986/',\n",
       "  'urlToImage': 'audio',\n",
       "  'medium': 'audio'},\n",
       " {'author': 'audio',\n",
       "  'content': 'audio',\n",
       "  'description': 'audio',\n",
       "  'publishedAt': 'audio',\n",
       "  'source_id': 'audio',\n",
       "  'source_name': 'audio',\n",
       "  'title': 'audio',\n",
       "  'url': 'https://tunein.com/embed/player/t100040667/',\n",
       "  'urlToImage': 'audio',\n",
       "  'medium': 'audio'},\n",
       " {'author': 'audio',\n",
       "  'content': 'audio',\n",
       "  'description': 'audio',\n",
       "  'publishedAt': 'audio',\n",
       "  'source_id': 'audio',\n",
       "  'source_name': 'audio',\n",
       "  'title': 'audio',\n",
       "  'url': 'https://tunein.com/embed/player/t124865725/',\n",
       "  'urlToImage': 'audio',\n",
       "  'medium': 'audio'}]"
      ]
     },
     "execution_count": 68,
     "metadata": {},
     "output_type": "execute_result"
    }
   ],
   "source": [
    "pull_pods('Jimmy Butler')"
   ]
  },
  {
   "cell_type": "code",
   "execution_count": null,
   "metadata": {},
   "outputs": [],
   "source": []
  }
 ],
 "metadata": {
  "kernelspec": {
   "display_name": "Python 3",
   "language": "python",
   "name": "python3"
  },
  "language_info": {
   "codemirror_mode": {
    "name": "ipython",
    "version": 3
   },
   "file_extension": ".py",
   "mimetype": "text/x-python",
   "name": "python",
   "nbconvert_exporter": "python",
   "pygments_lexer": "ipython3",
   "version": "3.6.5"
  }
 },
 "nbformat": 4,
 "nbformat_minor": 2
}
