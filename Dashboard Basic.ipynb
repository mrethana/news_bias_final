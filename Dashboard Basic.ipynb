{
 "cells": [
  {
   "cell_type": "code",
   "execution_count": 1,
   "metadata": {
    "extensions": {
     "jupyter_dashboards": {
      "version": 1,
      "views": {
       "grid_default": {
        "hidden": true
       },
       "report_default": {
        "hidden": true
       }
      }
     }
    }
   },
   "outputs": [],
   "source": [
    "import ipywidgets as widgets\n",
    "from bs4 import BeautifulSoup\n",
    "import requests\n",
    "import re\n",
    "import pandas as pd\n",
    "import matplotlib.pyplot as plt\n",
    "import numpy as np\n",
    "from __future__ import print_function\n",
    "from ipywidgets import interact, interactive, fixed, interact_manual\n",
    "import ipywidgets as widgets\n",
    "from IPython.display import Image\n",
    "from IPython.core.display import HTML \n",
    "import time\n",
    "from ipywidgets import FloatProgress\n",
    "from IPython.display import display\n",
    "import pafy\n",
    "from bs4 import BeautifulSoup\n",
    "import requests\n",
    "import re\n",
    "from IPython.display import HTML\n",
    "import numpy as np\n",
    "import pandas as pd\n",
    "from os import path\n",
    "from PIL import Image\n",
    "from wordcloud import WordCloud, STOPWORDS, ImageColorGenerator\n",
    "from IPython.display import Image"
   ]
  },
  {
   "cell_type": "code",
   "execution_count": 2,
   "metadata": {
    "extensions": {
     "jupyter_dashboards": {
      "version": 1,
      "views": {
       "grid_default": {
        "hidden": true
       },
       "report_default": {
        "hidden": true
       }
      }
     }
    }
   },
   "outputs": [],
   "source": [
    "from newsapi import NewsApiClient\n",
    "newsapi = NewsApiClient(api_key='a539d7df2c7b43e1ac4d12f386d901e8')"
   ]
  },
  {
   "cell_type": "code",
   "execution_count": 48,
   "metadata": {
    "extensions": {
     "jupyter_dashboards": {
      "version": 1,
      "views": {
       "grid_default": {
        "hidden": true
       },
       "report_default": {
        "hidden": true
       }
      }
     }
    }
   },
   "outputs": [],
   "source": [
    "search_parameter = 'brett kavanaugh'\n",
    "sources_list = ['abc-news',\n",
    " 'associated-press',\n",
    " 'axios',\n",
    " 'bbc-news',\n",
    " 'bbc-sport',\n",
    " 'bleacher-report',\n",
    " 'bloomberg',\n",
    " 'breitbart-news',\n",
    " 'business-insider',\n",
    " 'buzzfeed',\n",
    " 'cbc-news',\n",
    " 'cbs-news',\n",
    " 'cnbc',\n",
    " 'cnn',\n",
    " 'crypto-coins-news',\n",
    " 'daily-mail',\n",
    " 'engadget',\n",
    " 'entertainment-weekly',\n",
    " 'espn',\n",
    " 'financial-post',\n",
    " 'financial-times',\n",
    " 'fox-news',\n",
    " 'fox-sports',\n",
    " 'google-news',\n",
    " 'hacker-news',\n",
    " 'ign',\n",
    " 'independent',\n",
    " 'mashable',\n",
    " 'medical-news-today',\n",
    " 'msnbc',\n",
    " 'mtv-news',\n",
    " 'national-geographic',\n",
    " 'national-review',\n",
    " 'nbc-news',\n",
    " 'new-scientist',\n",
    " 'newsweek',\n",
    " 'new-york-magazine',\n",
    " 'nfl-news',\n",
    " 'nhl-news',\n",
    " 'nrk',\n",
    " 'politico',\n",
    " 'recode',\n",
    " 'reddit-r-all',\n",
    " 'reuters',\n",
    " 'techcrunch',\n",
    " 'techradar',\n",
    " 'the-american-conservative',\n",
    " 'the-economist',\n",
    " 'the-guardian-au',\n",
    " 'the-guardian-uk',\n",
    " 'the-huffington-post',\n",
    " 'the-lad-bible',\n",
    " 'the-new-york-times',\n",
    " 'the-next-web',\n",
    " 'the-sport-bible',\n",
    " 'the-telegraph',\n",
    " 'the-verge',\n",
    " 'the-wall-street-journal',\n",
    " 'the-washington-post',\n",
    " 'the-washington-times',\n",
    " 'time',\n",
    " 'usa-today',\n",
    " 'vice-news',\n",
    " 'wired',\n",
    " 'ynet']\n",
    "sources_joined = ','.join(sources_list)"
   ]
  },
  {
   "cell_type": "code",
   "execution_count": null,
   "metadata": {
    "extensions": {
     "jupyter_dashboards": {
      "version": 1,
      "views": {
       "grid_default": {
        "hidden": true
       },
       "report_default": {}
      }
     }
    }
   },
   "outputs": [],
   "source": []
  },
  {
   "cell_type": "code",
   "execution_count": 49,
   "metadata": {
    "extensions": {
     "jupyter_dashboards": {
      "version": 1,
      "views": {
       "grid_default": {
        "hidden": true
       },
       "report_default": {
        "hidden": true
       }
      }
     }
    }
   },
   "outputs": [],
   "source": [
    "def counter_results(used_sources, approved_sources):\n",
    "    new_sources = []\n",
    "    for item in approved_sources:\n",
    "        if item in used_sources:\n",
    "            pass\n",
    "        else:\n",
    "            new_sources.append(item)\n",
    "    new_sources = ','.join(new_sources)\n",
    "    return new_sources"
   ]
  },
  {
   "cell_type": "code",
   "execution_count": 50,
   "metadata": {
    "extensions": {
     "jupyter_dashboards": {
      "version": 1,
      "views": {
       "grid_default": {
        "hidden": true
       },
       "report_default": {
        "hidden": true
       }
      }
     }
    }
   },
   "outputs": [],
   "source": [
    "def split_source_info(list_of_dicts):\n",
    "    for item in list_of_dicts:\n",
    "        item['source_id'] = item['source']['id']\n",
    "        item['source_name'] = item['source']['name']"
   ]
  },
  {
   "cell_type": "code",
   "execution_count": 51,
   "metadata": {
    "extensions": {
     "jupyter_dashboards": {
      "version": 1,
      "views": {
       "grid_default": {
        "hidden": true
       },
       "report_default": {
        "hidden": true
       }
      }
     }
    }
   },
   "outputs": [],
   "source": [
    "def pull_videos(parameter):\n",
    "    list_dicts = []\n",
    "    split = parameter.split()\n",
    "    if len(split) < 2:\n",
    "        split.append('')\n",
    "    html_page = requests.get('https://www.youtube.com/results?search_query='+split[0]+'+'+'+'+split[1])\n",
    "    soup = BeautifulSoup(html_page.content, 'html.parser', from_encoding='utf-8')\n",
    "    videos = soup.findAll('a')\n",
    "    videos = videos[40:]\n",
    "    for video in videos:\n",
    "        if video.get('href')[:9] == '/watch?v=':\n",
    "            url = \"https://www.youtube.com\" + video.get('href')\n",
    "            video = pafy.new(url)\n",
    "            data = {'author':video.author, 'content':video.category,'description':video.description,'publishedAt':video.published, 'source_id':video.username, 'source_name':video.author,'title':video.title,'url':url,'urlToImage':video.thumb, 'medium':'video'}\n",
    "            list_dicts.append(data)\n",
    "    return list_dicts"
   ]
  },
  {
   "cell_type": "code",
   "execution_count": 52,
   "metadata": {
    "extensions": {
     "jupyter_dashboards": {
      "version": 1,
      "views": {
       "grid_default": {
        "hidden": true
       },
       "report_default": {}
      }
     }
    }
   },
   "outputs": [],
   "source": [
    "def pull_pods(parameter):\n",
    "    list_dicts = []\n",
    "    urls = []\n",
    "    split = parameter.split()\n",
    "    if len(split) < 2:\n",
    "        split.append('')\n",
    "    html_page = requests.get('https://tunein.com/search/?query='+split[0]+'%'+'20'+split[1])\n",
    "    soup = BeautifulSoup(html_page.content, 'html.parser', from_encoding='utf-8')\n",
    "    pods = soup.findAll('a')\n",
    "    strings = []\n",
    "    for number in list(range(0,10)):\n",
    "        strings.append(str(number))\n",
    "    for pod in pods[6:]:\n",
    "        if pod.get('href') is not None:\n",
    "            if pod.get('href')[-1] in strings:\n",
    "                url = \"https://tunein.com/embed/player/t\"+pod.get('href')[-9:]+\"/\"\n",
    "                data = {'author':'audio', 'content':'audio','description':'audio','publishedAt':'audio', 'source_id':'audio', 'source_name':'audio','title':'audio','url':url,'urlToImage':'audio', 'medium':'audio'}\n",
    "                if url in urls:\n",
    "                    pass\n",
    "                else:\n",
    "                    list_dicts.append(data)\n",
    "                urls.append(url)\n",
    "    return list_dicts"
   ]
  },
  {
   "cell_type": "code",
   "execution_count": 53,
   "metadata": {
    "extensions": {
     "jupyter_dashboards": {
      "version": 1,
      "views": {
       "grid_default": {
        "col": 0,
        "height": 3,
        "hidden": false,
        "row": 0,
        "width": 12
       },
       "report_default": {
        "hidden": true
       }
      }
     }
    }
   },
   "outputs": [
    {
     "data": {
      "application/vnd.jupyter.widget-view+json": {
       "model_id": "b9159da8bd1841b99a20b63b20eaabd2",
       "version_major": 2,
       "version_minor": 0
      },
      "text/plain": [
       "interactive(children=(Text(value='', description='Search:', placeholder='Search News'), Output()), _dom_classe…"
      ]
     },
     "metadata": {},
     "output_type": "display_data"
    }
   ],
   "source": [
    "search_widget = widgets.Text(placeholder = 'Search News', description='Search:', disabled=False)\n",
    "\n",
    "def search_news(parameter):\n",
    "    if len(parameter) > 0:\n",
    "        time.sleep(5)\n",
    "        print('Aggregating...')\n",
    "        article_results_rel = newsapi.get_everything(q=parameter,sort_by = 'relevancy',language='en', page_size=50, sources=sources_joined)\n",
    "        sources = list(set([article['source']['id'] for article in article_results_rel['articles']]))\n",
    "        opposing_sources = counter_results(sources, sources_list)\n",
    "        article_results_opp = newsapi.get_everything(q=parameter,sort_by = 'relevancy',language='en', page_size=50, sources=opposing_sources)\n",
    "        article_results_rel = article_results_rel['articles']\n",
    "        article_results_opp = article_results_opp['articles']\n",
    "        print('Pulling videos...')\n",
    "        video_df = pd.DataFrame(pull_videos(parameter))\n",
    "        print('Pulling audio...')\n",
    "        audio_df = pd.DataFrame(pull_pods(parameter))\n",
    "        consolidated = article_results_opp + article_results_rel\n",
    "        split_source_info(consolidated)\n",
    "        df = pd.DataFrame(consolidated)\n",
    "        df = df.drop('source',axis =1)\n",
    "        df['medium'] = 'text'\n",
    "        df = df.append(video_df, ignore_index=True)\n",
    "        df = df.append(audio_df, ignore_index=True)\n",
    "        display(df[(df.medium == 'video')])\n",
    "        #temporary fillers\n",
    "        sample_size = len(list(df.medium))\n",
    "        random_polarity = np.random.random_sample(sample_size)\n",
    "        random_article_similarity =np.random.random_sample(sample_size)\n",
    "        random_source_similarity =np.random.random_sample(sample_size)\n",
    "        random_article_lengths = np.random.randint(1,20,size=sample_size)\n",
    "        random_cosine_similarity = np.random.random_sample(sample_size)\n",
    "        random_subject = np.random.randint(1,10,size=sample_size)\n",
    "        random_cluster = np.random.randint(1,4,size=sample_size)\n",
    "        df['polarity'] = random_polarity\n",
    "        df['length'] = random_article_lengths\n",
    "        df['article_similarity'] = random_article_similarity\n",
    "        df['source_similarity'] = random_source_similarity\n",
    "        df['cosine_similarity'] = random_cosine_similarity\n",
    "        df['subject_matter'] = random_subject\n",
    "        df['cluster'] = random_cluster\n",
    "        df.to_csv('current_search.csv')\n",
    "        time.sleep(5)\n",
    "        print('Data Loaded!')\n",
    "#         time.sleep(1800)\n",
    "    else:\n",
    "        print('Enter Search Parameter')\n",
    "\n",
    "interact(search_news, parameter=search_widget);"
   ]
  },
  {
   "cell_type": "code",
   "execution_count": 55,
   "metadata": {
    "extensions": {
     "jupyter_dashboards": {
      "version": 1,
      "views": {
       "grid_default": {
        "col": 0,
        "height": 8,
        "hidden": true,
        "row": 42,
        "width": 12
       },
       "report_default": {
        "hidden": true
       }
      }
     }
    }
   },
   "outputs": [],
   "source": [
    "# search_news('Brett Kavanaugh')"
   ]
  },
  {
   "cell_type": "markdown",
   "metadata": {
    "extensions": {
     "jupyter_dashboards": {
      "version": 1,
      "views": {
       "grid_default": {
        "col": 0,
        "height": 4,
        "hidden": false,
        "row": 3,
        "width": 6
       },
       "report_default": {
        "hidden": false
       }
      }
     }
    }
   },
   "source": [
    "# Perspective 1"
   ]
  },
  {
   "cell_type": "code",
   "execution_count": 15,
   "metadata": {
    "extensions": {
     "jupyter_dashboards": {
      "version": 1,
      "views": {
       "grid_default": {
        "col": 0,
        "height": 12,
        "hidden": true,
        "row": 50,
        "width": 12
       },
       "report_default": {}
      }
     }
    }
   },
   "outputs": [],
   "source": [
    "# pd.read_csv('current_search.csv')"
   ]
  },
  {
   "cell_type": "code",
   "execution_count": 56,
   "metadata": {
    "extensions": {
     "jupyter_dashboards": {
      "version": 1,
      "views": {
       "grid_default": {
        "col": 0,
        "height": 15,
        "hidden": false,
        "row": 7,
        "width": 6
       },
       "report_default": {
        "hidden": false
       }
      }
     }
    },
    "scrolled": false
   },
   "outputs": [
    {
     "data": {
      "application/vnd.jupyter.widget-view+json": {
       "model_id": "0d6ec04081634f809a301d2b1ffb85ad",
       "version_major": 2,
       "version_minor": 0
      },
      "text/plain": [
       "interactive(children=(IntRangeSlider(value=(1, 19), description='Length', max=19, min=1), Dropdown(description…"
      ]
     },
     "metadata": {},
     "output_type": "display_data"
    }
   ],
   "source": [
    "df = pd.read_csv('current_search.csv', index_col=0)\n",
    "Length_widget1 = widgets.IntRangeSlider(min=df.length.min(), max=df.length.max(), step=1, value = [1,19])\n",
    "Perspective_widget1 = widgets.Dropdown(options=set(list(df.cluster)),value = 1,description = 'Perspective', disabled = False)\n",
    "Limit_widget1 = widgets.IntSlider(min=1, max=20, step=1, value=1)\n",
    "Medium_widget1 = widgets.ToggleButtons(options = ['Text', 'Audio','Video'], description ='Medium', button_style='')\n",
    "\n",
    "def pull_articles(Length, Perspective, Limit, Medium):\n",
    "    df = pd.read_csv('current_search.csv', index_col=0)\n",
    "    df = df.dropna()\n",
    "    if Medium == 'Text':\n",
    "        df2 = df[(df.length > Length[0]) & (df.length < Length[1]) & (df.cluster == Perspective) & (df.medium == 'text')]\n",
    "        list_tuples = []\n",
    "        for i in range (0, Limit):\n",
    "            title = list(df2.title)[i]\n",
    "            link = list(df2.url)[i]\n",
    "            image = list(df2.urlToImage)[i]\n",
    "            source_name = list(df2.source_name)[i]\n",
    "            display(HTML(\"<a href=\"+link+\">\"+source_name+': '+title+\"</a>\"))\n",
    "            display(Image(url= image))\n",
    "    elif Medium == 'Video':\n",
    "        df2 = df[(df.length > Length[0]) & (df.length < Length[1]) & (df.cluster == Perspective) & (df.medium == 'video')]\n",
    "        list_tuples = []\n",
    "        for i in range (0, Limit):\n",
    "            title = list(df2.title)[i]\n",
    "            link = list(df2.url)[i]\n",
    "            link = link[-11:]\n",
    "            source_name = list(df2.source_name)[i]\n",
    "            display(HTML(\"<a href=\"+link+\">\"+source_name+': '+title+\"</a>\"))\n",
    "            display(HTML('<iframe width=\"560\" height=\"315\" src=\"https://www.youtube.com/embed/'+link+'?rel=0&amp;controls=0&amp;showinfo=0\" frameborder=\"0\" allowfullscreen></iframe>'))\n",
    "    else:\n",
    "        df2 = df[(df.length > Length[0]) & (df.length < Length[1]) & (df.cluster == Perspective) & (df.medium == 'audio')]\n",
    "        list_tuples = []\n",
    "        if len(list(df2.index)) < 1:\n",
    "            print('No Audio')\n",
    "        else:\n",
    "            for i in range (0, Limit):\n",
    "                link = list(df2.url)[i]\n",
    "                display(HTML(\"<iframe src=\"+\"'\"+link+\"'\"+ \"style='width:100%; height:100px;' scrolling='no' frameborder='no'></iframe>\"))\n",
    "\n",
    "\n",
    "\n",
    "\n",
    "interact(pull_articles,Length=Length_widget1, Perspective=Perspective_widget1, Limit = Limit_widget1, Medium = Medium_widget1);"
   ]
  },
  {
   "cell_type": "markdown",
   "metadata": {
    "extensions": {
     "jupyter_dashboards": {
      "version": 1,
      "views": {
       "grid_default": {
        "col": 6,
        "height": 4,
        "hidden": false,
        "row": 3,
        "width": 6
       },
       "report_default": {
        "hidden": false
       }
      }
     }
    }
   },
   "source": [
    "# Perspective 2"
   ]
  },
  {
   "cell_type": "code",
   "execution_count": 57,
   "metadata": {
    "extensions": {
     "jupyter_dashboards": {
      "version": 1,
      "views": {
       "grid_default": {
        "col": 6,
        "height": 15,
        "hidden": false,
        "row": 7,
        "width": 6
       },
       "report_default": {
        "hidden": false
       }
      }
     }
    },
    "scrolled": false
   },
   "outputs": [
    {
     "data": {
      "application/vnd.jupyter.widget-view+json": {
       "model_id": "71902f28aff24a60a4ef89ac894f8642",
       "version_major": 2,
       "version_minor": 0
      },
      "text/plain": [
       "interactive(children=(IntRangeSlider(value=(1, 19), description='Length', max=19, min=1), Dropdown(description…"
      ]
     },
     "metadata": {},
     "output_type": "display_data"
    }
   ],
   "source": [
    "Length_widget2 = widgets.IntRangeSlider(min=df.length.min(), max=df.length.max(), step=1, value = [1,19])\n",
    "Perspective_widget2 = widgets.Dropdown(options=set(list(df.cluster)),value = 2,description = 'Perspective', disabled = False)\n",
    "Limit_widget2 = widgets.IntSlider(min=1, max=20, step=1, value=1)\n",
    "Medium_widget2 = widgets.ToggleButtons(options = ['Text', 'Audio','Video'], description ='Medium', button_style='')\n",
    "\n",
    "def pull_articles(Length, Perspective, Limit, Medium):\n",
    "    df = pd.read_csv('current_search.csv', index_col=0)\n",
    "    df = df.dropna()\n",
    "    if Medium == 'Text':\n",
    "        df2 = df[(df.length > Length[0]) & (df.length < Length[1]) & (df.cluster == Perspective) & (df.medium == 'text')]\n",
    "        list_tuples = []\n",
    "        for i in range (0, Limit):\n",
    "            title = list(df2.title)[i]\n",
    "            link = list(df2.url)[i]\n",
    "            image = list(df2.urlToImage)[i]\n",
    "            source_name = list(df2.source_name)[i]\n",
    "            display(HTML(\"<a href=\"+link+\">\"+source_name+': '+title+\"</a>\"))\n",
    "            display(Image(url= image))\n",
    "    elif Medium == 'Video':\n",
    "        df2 = df[(df.length > Length[0]) & (df.length < Length[1]) & (df.cluster == Perspective) & (df.medium == 'video')]\n",
    "        list_tuples = []\n",
    "        for i in range (0, Limit):\n",
    "            title = list(df2.title)[i]\n",
    "            link = list(df2.url)[i]\n",
    "            link = link[-11:]\n",
    "            source_name = list(df2.source_name)[i]\n",
    "            display(HTML(\"<a href=\"+link+\">\"+source_name+': '+title+\"</a>\"))\n",
    "            display(HTML('<iframe width=\"560\" height=\"315\" src=\"https://www.youtube.com/embed/'+link+'?rel=0&amp;controls=0&amp;showinfo=0\" frameborder=\"0\" allowfullscreen></iframe>'))\n",
    "    else:\n",
    "        df2 = df[(df.length > Length[0]) & (df.length < Length[1]) & (df.cluster == Perspective) & (df.medium == 'audio')]\n",
    "        list_tuples = []\n",
    "        if len(list(df2.index)) < 1:\n",
    "            print('No Audio')\n",
    "        else:\n",
    "            for i in range (0, Limit):\n",
    "                link = list(df2.url)[i]\n",
    "                display(HTML(\"<iframe src=\"+\"'\"+link+\"'\"+ \"style='width:100%; height:100px;' scrolling='no' frameborder='no'></iframe>\"))\n",
    "\n",
    "\n",
    "interact(pull_articles,Length=Length_widget2, Perspective=Perspective_widget2, Limit = Limit_widget2, Medium = Medium_widget2);"
   ]
  },
  {
   "cell_type": "markdown",
   "metadata": {
    "extensions": {
     "jupyter_dashboards": {
      "version": 1,
      "views": {
       "grid_default": {
        "col": 0,
        "height": 4,
        "hidden": false,
        "row": 22,
        "width": 6
       },
       "report_default": {
        "hidden": false
       }
      }
     }
    }
   },
   "source": [
    "# Perspective 3"
   ]
  },
  {
   "cell_type": "code",
   "execution_count": 58,
   "metadata": {
    "extensions": {
     "jupyter_dashboards": {
      "version": 1,
      "views": {
       "grid_default": {
        "col": 0,
        "height": 16,
        "hidden": false,
        "row": 26,
        "width": 6
       },
       "report_default": {
        "hidden": false
       }
      }
     }
    },
    "scrolled": false
   },
   "outputs": [
    {
     "data": {
      "application/vnd.jupyter.widget-view+json": {
       "model_id": "bf38bcb17cd24a0899281130464b1896",
       "version_major": 2,
       "version_minor": 0
      },
      "text/plain": [
       "interactive(children=(IntRangeSlider(value=(1, 19), description='Length', max=19, min=1), Dropdown(description…"
      ]
     },
     "metadata": {},
     "output_type": "display_data"
    }
   ],
   "source": [
    "Length_widget3 = widgets.IntRangeSlider(min=df.length.min(), max=df.length.max(), step=1, value = [1,19])\n",
    "Perspective_widget3 = widgets.Dropdown(options=set(list(df.cluster)),value = 3,description = 'Perspective', disabled = False)\n",
    "Limit_widget3 = widgets.IntSlider(min=1, max=20, step=1, value=1)\n",
    "Medium_widget3 = widgets.ToggleButtons(options = ['Text', 'Audio','Video'], description ='Medium', button_style='')\n",
    "\n",
    "def pull_articles(Length, Perspective, Limit, Medium):\n",
    "    df = pd.read_csv('current_search.csv', index_col=0)\n",
    "    df = df.dropna()\n",
    "    if Medium == 'Text':\n",
    "        df2 = df[(df.length > Length[0]) & (df.length < Length[1]) & (df.cluster == Perspective) & (df.medium == 'text')]\n",
    "        list_tuples = []\n",
    "        for i in range (0, Limit):\n",
    "            title = list(df2.title)[i]\n",
    "            link = list(df2.url)[i]\n",
    "            image = list(df2.urlToImage)[i]\n",
    "            source_name = list(df2.source_name)[i]\n",
    "            display(HTML(\"<a href=\"+link+\">\"+source_name+': '+title+\"</a>\"))\n",
    "            display(Image(url= image))\n",
    "    elif Medium == 'Video':\n",
    "        df2 = df[(df.length > Length[0]) & (df.length < Length[1]) & (df.cluster == Perspective) & (df.medium == 'video')]\n",
    "        list_tuples = []\n",
    "        for i in range (0, Limit):\n",
    "            title = list(df2.title)[i]\n",
    "            link = list(df2.url)[i]\n",
    "            link = link[-11:]\n",
    "            source_name = list(df2.source_name)[i]\n",
    "            display(HTML(\"<a href=\"+link+\">\"+source_name+': '+title+\"</a>\"))\n",
    "            display(HTML('<iframe width=\"560\" height=\"315\" src=\"https://www.youtube.com/embed/'+link+'?rel=0&amp;controls=0&amp;showinfo=0\" frameborder=\"0\" allowfullscreen></iframe>'))\n",
    "    else:\n",
    "        df2 = df[(df.length > Length[0]) & (df.length < Length[1]) & (df.cluster == Perspective) & (df.medium == 'audio')]\n",
    "        list_tuples = []\n",
    "        if len(list(df2.index)) < 1:\n",
    "            print('No Audio')\n",
    "        else:\n",
    "            for i in range (0, Limit):\n",
    "                link = list(df2.url)[i]\n",
    "                display(HTML(\"<iframe src=\"+\"'\"+link+\"'\"+ \"style='width:100%; height:100px;' scrolling='no' frameborder='no'></iframe>\"))\n",
    "\n",
    "\n",
    "\n",
    "interact(pull_articles,Length=Length_widget3, Perspective=Perspective_widget3, Limit = Limit_widget3, Medium = Medium_widget3);"
   ]
  },
  {
   "cell_type": "markdown",
   "metadata": {
    "extensions": {
     "jupyter_dashboards": {
      "version": 1,
      "views": {
       "grid_default": {
        "col": 6,
        "height": 4,
        "hidden": false,
        "row": 22,
        "width": 6
       },
       "report_default": {
        "hidden": true
       }
      }
     }
    }
   },
   "source": [
    "# Perspective Metrics"
   ]
  },
  {
   "cell_type": "code",
   "execution_count": 33,
   "metadata": {
    "extensions": {
     "jupyter_dashboards": {
      "version": 1,
      "views": {
       "grid_default": {
        "hidden": true
       },
       "report_default": {
        "hidden": true
       }
      }
     }
    }
   },
   "outputs": [],
   "source": [
    "df2 = df[(df.cluster == 1)]"
   ]
  },
  {
   "cell_type": "code",
   "execution_count": 14,
   "metadata": {
    "extensions": {
     "jupyter_dashboards": {
      "version": 1,
      "views": {
       "grid_default": {
        "col": 6,
        "height": 16,
        "hidden": false,
        "row": 26,
        "width": 6
       },
       "report_default": {
        "hidden": false
       }
      }
     }
    },
    "scrolled": true
   },
   "outputs": [
    {
     "data": {
      "application/vnd.jupyter.widget-view+json": {
       "model_id": "8af47b85a6df461f98e5b008278af4d7",
       "version_major": 2,
       "version_minor": 0
      },
      "text/plain": [
       "interactive(children=(Dropdown(description='Source', index=8, options=('The Washington Post', 'Mashable', 'Reu…"
      ]
     },
     "metadata": {},
     "output_type": "display_data"
    }
   ],
   "source": [
    "all_words = pd.read_csv('word_metrics.csv')\n",
    "final_df = pd.read_csv('bk_corpus.csv')\n",
    "all_words['word']= all_words['word'].astype(str)\n",
    "subjectivity_widget = widgets.FloatSlider(min=0, max=1, step=.1, value = .8)\n",
    "source_widget = widgets.Dropdown(options=set(list(final_df.source_name)),value = 'The New York Times',description = 'Source', disabled = False)\n",
    "\n",
    "\n",
    "def word_cloud(source_name,subjectivity_floor):\n",
    "    \n",
    "    list_words = all_words.word[(all_words.subjectivity < subjectivity_floor)]\n",
    "    df2 = final_df[(final_df.source_name == source_name)]\n",
    "    all_text = []\n",
    "    for blob in df2.text:\n",
    "        all_text.append(blob)\n",
    "    corpus = '-'.join(all_text)\n",
    "    corpus = corpus.lower()\n",
    "    stopwords = set(STOPWORDS)\n",
    "    stopwords.update(list_words)\n",
    "\n",
    "    # Generate a word cloud image\n",
    "    wordcloud = WordCloud(background_color=\"white\", stopwords=stopwords).generate(corpus)\n",
    "    # Display the generated image:\n",
    "    plt.imshow(wordcloud, interpolation='bilinear')\n",
    "    plt.axis(\"off\")\n",
    "    plt.show()\n",
    "interact(word_cloud,source_name = source_widget, subjectivity_floor = subjectivity_widget);"
   ]
  },
  {
   "cell_type": "code",
   "execution_count": null,
   "metadata": {
    "extensions": {
     "jupyter_dashboards": {
      "version": 1,
      "views": {
       "grid_default": {
        "hidden": true
       },
       "report_default": {
        "hidden": true
       }
      }
     }
    }
   },
   "outputs": [],
   "source": []
  }
 ],
 "metadata": {
  "extensions": {
   "jupyter_dashboards": {
    "activeView": "grid_default",
    "version": 1,
    "views": {
     "grid_default": {
      "cellMargin": 10,
      "defaultCellHeight": 20,
      "maxColumns": 12,
      "name": "grid",
      "type": "grid"
     },
     "report_default": {
      "name": "report",
      "type": "report"
     }
    }
   }
  },
  "kernelspec": {
   "display_name": "Python 3",
   "language": "python",
   "name": "python3"
  },
  "language_info": {
   "codemirror_mode": {
    "name": "ipython",
    "version": 3
   },
   "file_extension": ".py",
   "mimetype": "text/x-python",
   "name": "python",
   "nbconvert_exporter": "python",
   "pygments_lexer": "ipython3",
   "version": "3.6.5"
  }
 },
 "nbformat": 4,
 "nbformat_minor": 2
}
