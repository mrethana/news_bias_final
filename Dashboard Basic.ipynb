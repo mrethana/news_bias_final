{
 "cells": [
  {
   "cell_type": "code",
   "execution_count": 1,
   "metadata": {
    "extensions": {
     "jupyter_dashboards": {
      "version": 1,
      "views": {
       "grid_default": {
        "hidden": true
       },
       "report_default": {
        "hidden": true
       }
      }
     }
    }
   },
   "outputs": [],
   "source": [
    "import ipywidgets as widgets\n",
    "from bs4 import BeautifulSoup\n",
    "import requests\n",
    "import re\n",
    "import pandas as pd\n",
    "import matplotlib.pyplot as plt\n",
    "import numpy as np\n",
    "from __future__ import print_function\n",
    "from ipywidgets import interact, interactive, fixed, interact_manual\n",
    "import ipywidgets as widgets\n",
    "from IPython.display import Image\n",
    "from IPython.core.display import HTML \n",
    "import time\n",
    "from ipywidgets import FloatProgress\n",
    "from IPython.display import display\n",
    "import pafy\n",
    "from bs4 import BeautifulSoup\n",
    "import requests\n",
    "import re\n",
    "from IPython.display import HTML\n",
    "import numpy as np\n",
    "import pandas as pd\n",
    "from os import path\n",
    "from PIL import Image\n",
    "from wordcloud import WordCloud, STOPWORDS, ImageColorGenerator\n",
    "from IPython.display import Image"
   ]
  },
  {
   "cell_type": "code",
   "execution_count": 2,
   "metadata": {
    "extensions": {
     "jupyter_dashboards": {
      "version": 1,
      "views": {
       "grid_default": {
        "hidden": true
       },
       "report_default": {
        "hidden": true
       }
      }
     }
    }
   },
   "outputs": [],
   "source": [
    "from newsapi import NewsApiClient\n",
    "newsapi = NewsApiClient(api_key='a539d7df2c7b43e1ac4d12f386d901e8')"
   ]
  },
  {
   "cell_type": "code",
   "execution_count": 48,
   "metadata": {
    "extensions": {
     "jupyter_dashboards": {
      "version": 1,
      "views": {
       "grid_default": {
        "hidden": true
       },
       "report_default": {
        "hidden": true
       }
      }
     }
    }
   },
   "outputs": [],
   "source": [
    "search_parameter = 'brett kavanaugh'\n",
    "sources_list = ['abc-news',\n",
    " 'associated-press',\n",
    " 'axios',\n",
    " 'bbc-news',\n",
    " 'bbc-sport',\n",
    " 'bleacher-report',\n",
    " 'bloomberg',\n",
    " 'breitbart-news',\n",
    " 'business-insider',\n",
    " 'buzzfeed',\n",
    " 'cbc-news',\n",
    " 'cbs-news',\n",
    " 'cnbc',\n",
    " 'cnn',\n",
    " 'crypto-coins-news',\n",
    " 'daily-mail',\n",
    " 'engadget',\n",
    " 'entertainment-weekly',\n",
    " 'espn',\n",
    " 'financial-post',\n",
    " 'financial-times',\n",
    " 'fox-news',\n",
    " 'fox-sports',\n",
    " 'google-news',\n",
    " 'hacker-news',\n",
    " 'ign',\n",
    " 'independent',\n",
    " 'mashable',\n",
    " 'medical-news-today',\n",
    " 'msnbc',\n",
    " 'mtv-news',\n",
    " 'national-geographic',\n",
    " 'national-review',\n",
    " 'nbc-news',\n",
    " 'new-scientist',\n",
    " 'newsweek',\n",
    " 'new-york-magazine',\n",
    " 'nfl-news',\n",
    " 'nhl-news',\n",
    " 'nrk',\n",
    " 'politico',\n",
    " 'recode',\n",
    " 'reddit-r-all',\n",
    " 'reuters',\n",
    " 'techcrunch',\n",
    " 'techradar',\n",
    " 'the-american-conservative',\n",
    " 'the-economist',\n",
    " 'the-guardian-au',\n",
    " 'the-guardian-uk',\n",
    " 'the-huffington-post',\n",
    " 'the-lad-bible',\n",
    " 'the-new-york-times',\n",
    " 'the-next-web',\n",
    " 'the-sport-bible',\n",
    " 'the-telegraph',\n",
    " 'the-verge',\n",
    " 'the-wall-street-journal',\n",
    " 'the-washington-post',\n",
    " 'the-washington-times',\n",
    " 'time',\n",
    " 'usa-today',\n",
    " 'vice-news',\n",
    " 'wired',\n",
    " 'ynet']\n",
    "sources_joined = ','.join(sources_list)"
   ]
  },
  {
   "cell_type": "code",
   "execution_count": null,
   "metadata": {
    "extensions": {
     "jupyter_dashboards": {
      "version": 1,
      "views": {
       "grid_default": {
        "hidden": true
       },
       "report_default": {}
      }
     }
    }
   },
   "outputs": [],
   "source": []
  },
  {
   "cell_type": "code",
   "execution_count": 49,
   "metadata": {
    "extensions": {
     "jupyter_dashboards": {
      "version": 1,
      "views": {
       "grid_default": {
        "hidden": true
       },
       "report_default": {
        "hidden": true
       }
      }
     }
    }
   },
   "outputs": [],
   "source": [
    "def counter_results(used_sources, approved_sources):\n",
    "    new_sources = []\n",
    "    for item in approved_sources:\n",
    "        if item in used_sources:\n",
    "            pass\n",
    "        else:\n",
    "            new_sources.append(item)\n",
    "    new_sources = ','.join(new_sources)\n",
    "    return new_sources"
   ]
  },
  {
   "cell_type": "code",
   "execution_count": 50,
   "metadata": {
    "extensions": {
     "jupyter_dashboards": {
      "version": 1,
      "views": {
       "grid_default": {
        "hidden": true
       },
       "report_default": {
        "hidden": true
       }
      }
     }
    }
   },
   "outputs": [],
   "source": [
    "def split_source_info(list_of_dicts):\n",
    "    for item in list_of_dicts:\n",
    "        item['source_id'] = item['source']['id']\n",
    "        item['source_name'] = item['source']['name']"
   ]
  },
  {
   "cell_type": "code",
   "execution_count": 51,
   "metadata": {
    "extensions": {
     "jupyter_dashboards": {
      "version": 1,
      "views": {
       "grid_default": {
        "hidden": true
       },
       "report_default": {
        "hidden": true
       }
      }
     }
    }
   },
   "outputs": [],
   "source": [
    "def pull_videos(parameter):\n",
    "    list_dicts = []\n",
    "    split = parameter.split()\n",
    "    if len(split) < 2:\n",
    "        split.append('')\n",
    "    html_page = requests.get('https://www.youtube.com/results?search_query='+split[0]+'+'+'+'+split[1])\n",
    "    soup = BeautifulSoup(html_page.content, 'html.parser', from_encoding='utf-8')\n",
    "    videos = soup.findAll('a')\n",
    "    videos = videos[40:]\n",
    "    for video in videos:\n",
    "        if video.get('href')[:9] == '/watch?v=':\n",
    "            url = \"https://www.youtube.com\" + video.get('href')\n",
    "            video = pafy.new(url)\n",
    "            data = {'author':video.author, 'content':video.category,'description':video.description,'publishedAt':video.published, 'source_id':video.username, 'source_name':video.author,'title':video.title,'url':url,'urlToImage':video.thumb, 'medium':'video'}\n",
    "            list_dicts.append(data)\n",
    "    return list_dicts"
   ]
  },
  {
   "cell_type": "code",
   "execution_count": 52,
   "metadata": {
    "extensions": {
     "jupyter_dashboards": {
      "version": 1,
      "views": {
       "grid_default": {
        "hidden": true
       },
       "report_default": {}
      }
     }
    }
   },
   "outputs": [],
   "source": [
    "def pull_pods(parameter):\n",
    "    list_dicts = []\n",
    "    urls = []\n",
    "    split = parameter.split()\n",
    "    if len(split) < 2:\n",
    "        split.append('')\n",
    "    html_page = requests.get('https://tunein.com/search/?query='+split[0]+'%'+'20'+split[1])\n",
    "    soup = BeautifulSoup(html_page.content, 'html.parser', from_encoding='utf-8')\n",
    "    pods = soup.findAll('a')\n",
    "    strings = []\n",
    "    for number in list(range(0,10)):\n",
    "        strings.append(str(number))\n",
    "    for pod in pods[6:]:\n",
    "        if pod.get('href') is not None:\n",
    "            if pod.get('href')[-1] in strings:\n",
    "                url = \"https://tunein.com/embed/player/t\"+pod.get('href')[-9:]+\"/\"\n",
    "                data = {'author':'audio', 'content':'audio','description':'audio','publishedAt':'audio', 'source_id':'audio', 'source_name':'audio','title':'audio','url':url,'urlToImage':'audio', 'medium':'audio'}\n",
    "                if url in urls:\n",
    "                    pass\n",
    "                else:\n",
    "                    list_dicts.append(data)\n",
    "                urls.append(url)\n",
    "    return list_dicts"
   ]
  },
  {
   "cell_type": "code",
   "execution_count": 53,
   "metadata": {
    "extensions": {
     "jupyter_dashboards": {
      "version": 1,
      "views": {
       "grid_default": {
        "col": 0,
        "height": 3,
        "hidden": false,
        "row": 0,
        "width": 12
       },
       "report_default": {
        "hidden": true
       }
      }
     }
    }
   },
   "outputs": [
    {
     "data": {
      "application/vnd.jupyter.widget-view+json": {
       "model_id": "b9159da8bd1841b99a20b63b20eaabd2",
       "version_major": 2,
       "version_minor": 0
      },
      "text/plain": [
       "interactive(children=(Text(value='', description='Search:', placeholder='Search News'), Output()), _dom_classe…"
      ]
     },
     "metadata": {},
     "output_type": "display_data"
    }
   ],
   "source": [
    "search_widget = widgets.Text(placeholder = 'Search News', description='Search:', disabled=False)\n",
    "\n",
    "def search_news(parameter):\n",
    "    if len(parameter) > 0:\n",
    "        time.sleep(5)\n",
    "        print('Aggregating...')\n",
    "        article_results_rel = newsapi.get_everything(q=parameter,sort_by = 'relevancy',language='en', page_size=50, sources=sources_joined)\n",
    "        sources = list(set([article['source']['id'] for article in article_results_rel['articles']]))\n",
    "        opposing_sources = counter_results(sources, sources_list)\n",
    "        article_results_opp = newsapi.get_everything(q=parameter,sort_by = 'relevancy',language='en', page_size=50, sources=opposing_sources)\n",
    "        article_results_rel = article_results_rel['articles']\n",
    "        article_results_opp = article_results_opp['articles']\n",
    "        print('Pulling videos...')\n",
    "        video_df = pd.DataFrame(pull_videos(parameter))\n",
    "        print('Pulling audio...')\n",
    "        audio_df = pd.DataFrame(pull_pods(parameter))\n",
    "        consolidated = article_results_opp + article_results_rel\n",
    "        split_source_info(consolidated)\n",
    "        df = pd.DataFrame(consolidated)\n",
    "        df = df.drop('source',axis =1)\n",
    "        df['medium'] = 'text'\n",
    "        df = df.append(video_df, ignore_index=True)\n",
    "        df = df.append(audio_df, ignore_index=True)\n",
    "        display(df[(df.medium == 'video')])\n",
    "        #temporary fillers\n",
    "        sample_size = len(list(df.medium))\n",
    "        random_polarity = np.random.random_sample(sample_size)\n",
    "        random_article_similarity =np.random.random_sample(sample_size)\n",
    "        random_source_similarity =np.random.random_sample(sample_size)\n",
    "        random_article_lengths = np.random.randint(1,20,size=sample_size)\n",
    "        random_cosine_similarity = np.random.random_sample(sample_size)\n",
    "        random_subject = np.random.randint(1,10,size=sample_size)\n",
    "        random_cluster = np.random.randint(1,4,size=sample_size)\n",
    "        df['polarity'] = random_polarity\n",
    "        df['length'] = random_article_lengths\n",
    "        df['article_similarity'] = random_article_similarity\n",
    "        df['source_similarity'] = random_source_similarity\n",
    "        df['cosine_similarity'] = random_cosine_similarity\n",
    "        df['subject_matter'] = random_subject\n",
    "        df['cluster'] = random_cluster\n",
    "        df.to_csv('current_search.csv')\n",
    "        time.sleep(5)\n",
    "        print('Data Loaded!')\n",
    "#         time.sleep(1800)\n",
    "    else:\n",
    "        print('Enter Search Parameter')\n",
    "\n",
    "interact(search_news, parameter=search_widget);"
   ]
  },
  {
   "cell_type": "code",
   "execution_count": 55,
   "metadata": {
    "extensions": {
     "jupyter_dashboards": {
      "version": 1,
      "views": {
       "grid_default": {
        "col": 0,
        "height": 8,
        "hidden": true,
        "row": 42,
        "width": 12
       },
       "report_default": {
        "hidden": true
       }
      }
     }
    }
   },
   "outputs": [],
   "source": [
    "# search_news('Brett Kavanaugh')"
   ]
  },
  {
   "cell_type": "markdown",
   "metadata": {
    "extensions": {
     "jupyter_dashboards": {
      "version": 1,
      "views": {
       "grid_default": {
        "col": 0,
        "height": 4,
        "hidden": false,
        "row": 3,
        "width": 6
       },
       "report_default": {
        "hidden": false
       }
      }
     }
    }
   },
   "source": [
    "# Perspective 1"
   ]
  },
  {
   "cell_type": "code",
   "execution_count": 15,
   "metadata": {
    "extensions": {
     "jupyter_dashboards": {
      "version": 1,
      "views": {
       "grid_default": {
        "col": 0,
        "height": 12,
        "hidden": true,
        "row": 50,
        "width": 12
       },
       "report_default": {}
      }
     }
    }
   },
   "outputs": [],
   "source": [
    "# pd.read_csv('current_search.csv')"
   ]
  },
  {
   "cell_type": "code",
   "execution_count": 56,
   "metadata": {
    "extensions": {
     "jupyter_dashboards": {
      "version": 1,
      "views": {
       "grid_default": {
        "col": 0,
        "height": 15,
        "hidden": false,
        "row": 7,
        "width": 6
       },
       "report_default": {
        "hidden": false
       }
      }
     }
    },
    "scrolled": false
   },
   "outputs": [
    {
     "data": {
      "application/vnd.jupyter.widget-view+json": {
       "model_id": "0d6ec04081634f809a301d2b1ffb85ad",
       "version_major": 2,
       "version_minor": 0
      },
      "text/plain": [
       "interactive(children=(IntRangeSlider(value=(1, 19), description='Length', max=19, min=1), Dropdown(description…"
      ]
     },
     "metadata": {},
     "output_type": "display_data"
    }
   ],
   "source": [
    "df = pd.read_csv('current_search.csv', index_col=0)\n",
    "Length_widget1 = widgets.IntRangeSlider(min=df.length.min(), max=df.length.max(), step=1, value = [1,19])\n",
    "Perspective_widget1 = widgets.Dropdown(options=set(list(df.cluster)),value = 1,description = 'Perspective', disabled = False)\n",
    "Limit_widget1 = widgets.IntSlider(min=1, max=20, step=1, value=1)\n",
    "Medium_widget1 = widgets.ToggleButtons(options = ['Text', 'Audio','Video'], description ='Medium', button_style='')\n",
    "\n",
    "def pull_articles(Length, Perspective, Limit, Medium):\n",
    "    df = pd.read_csv('current_search.csv', index_col=0)\n",
    "    df = df.dropna()\n",
    "    if Medium == 'Text':\n",
    "        df2 = df[(df.length > Length[0]) & (df.length < Length[1]) & (df.cluster == Perspective) & (df.medium == 'text')]\n",
    "        list_tuples = []\n",
    "        for i in range (0, Limit):\n",
    "            title = list(df2.title)[i]\n",
    "            link = list(df2.url)[i]\n",
    "            image = list(df2.urlToImage)[i]\n",
    "            source_name = list(df2.source_name)[i]\n",
    "            display(HTML(\"<a href=\"+link+\">\"+source_name+': '+title+\"</a>\"))\n",
    "            display(Image(url= image))\n",
    "    elif Medium == 'Video':\n",
    "        df2 = df[(df.length > Length[0]) & (df.length < Length[1]) & (df.cluster == Perspective) & (df.medium == 'video')]\n",
    "        list_tuples = []\n",
    "        for i in range (0, Limit):\n",
    "            title = list(df2.title)[i]\n",
    "            link = list(df2.url)[i]\n",
    "            link = link[-11:]\n",
    "            source_name = list(df2.source_name)[i]\n",
    "            display(HTML(\"<a href=\"+link+\">\"+source_name+': '+title+\"</a>\"))\n",
    "            display(HTML('<iframe width=\"560\" height=\"315\" src=\"https://www.youtube.com/embed/'+link+'?rel=0&amp;controls=0&amp;showinfo=0\" frameborder=\"0\" allowfullscreen></iframe>'))\n",
    "    else:\n",
    "        df2 = df[(df.length > Length[0]) & (df.length < Length[1]) & (df.cluster == Perspective) & (df.medium == 'audio')]\n",
    "        list_tuples = []\n",
    "        if len(list(df2.index)) < 1:\n",
    "            print('No Audio')\n",
    "        else:\n",
    "            for i in range (0, Limit):\n",
    "                link = list(df2.url)[i]\n",
    "                display(HTML(\"<iframe src=\"+\"'\"+link+\"'\"+ \"style='width:100%; height:100px;' scrolling='no' frameborder='no'></iframe>\"))\n",
    "\n",
    "\n",
    "\n",
    "\n",
    "interact(pull_articles,Length=Length_widget1, Perspective=Perspective_widget1, Limit = Limit_widget1, Medium = Medium_widget1);"
   ]
  },
  {
   "cell_type": "markdown",
   "metadata": {
    "extensions": {
     "jupyter_dashboards": {
      "version": 1,
      "views": {
       "grid_default": {
        "col": 6,
        "height": 4,
        "hidden": false,
        "row": 3,
        "width": 6
       },
       "report_default": {
        "hidden": false
       }
      }
     }
    }
   },
   "source": [
    "# Perspective 2"
   ]
  },
  {
   "cell_type": "code",
   "execution_count": 57,
   "metadata": {
    "extensions": {
     "jupyter_dashboards": {
      "version": 1,
      "views": {
       "grid_default": {
        "col": 6,
        "height": 15,
        "hidden": false,
        "row": 7,
        "width": 6
       },
       "report_default": {
        "hidden": false
       }
      }
     }
    },
    "scrolled": false
   },
   "outputs": [
    {
     "data": {
      "application/vnd.jupyter.widget-view+json": {
       "model_id": "71902f28aff24a60a4ef89ac894f8642",
       "version_major": 2,
       "version_minor": 0
      },
      "text/plain": [
       "interactive(children=(IntRangeSlider(value=(1, 19), description='Length', max=19, min=1), Dropdown(description…"
      ]
     },
     "metadata": {},
     "output_type": "display_data"
    }
   ],
   "source": [
    "Length_widget2 = widgets.IntRangeSlider(min=df.length.min(), max=df.length.max(), step=1, value = [1,19])\n",
    "Perspective_widget2 = widgets.Dropdown(options=set(list(df.cluster)),value = 2,description = 'Perspective', disabled = False)\n",
    "Limit_widget2 = widgets.IntSlider(min=1, max=20, step=1, value=1)\n",
    "Medium_widget2 = widgets.ToggleButtons(options = ['Text', 'Audio','Video'], description ='Medium', button_style='')\n",
    "\n",
    "def pull_articles(Length, Perspective, Limit, Medium):\n",
    "    df = pd.read_csv('current_search.csv', index_col=0)\n",
    "    df = df.dropna()\n",
    "    if Medium == 'Text':\n",
    "        df2 = df[(df.length > Length[0]) & (df.length < Length[1]) & (df.cluster == Perspective) & (df.medium == 'text')]\n",
    "        list_tuples = []\n",
    "        for i in range (0, Limit):\n",
    "            title = list(df2.title)[i]\n",
    "            link = list(df2.url)[i]\n",
    "            image = list(df2.urlToImage)[i]\n",
    "            source_name = list(df2.source_name)[i]\n",
    "            display(HTML(\"<a href=\"+link+\">\"+source_name+': '+title+\"</a>\"))\n",
    "            display(Image(url= image))\n",
    "    elif Medium == 'Video':\n",
    "        df2 = df[(df.length > Length[0]) & (df.length < Length[1]) & (df.cluster == Perspective) & (df.medium == 'video')]\n",
    "        list_tuples = []\n",
    "        for i in range (0, Limit):\n",
    "            title = list(df2.title)[i]\n",
    "            link = list(df2.url)[i]\n",
    "            link = link[-11:]\n",
    "            source_name = list(df2.source_name)[i]\n",
    "            display(HTML(\"<a href=\"+link+\">\"+source_name+': '+title+\"</a>\"))\n",
    "            display(HTML('<iframe width=\"560\" height=\"315\" src=\"https://www.youtube.com/embed/'+link+'?rel=0&amp;controls=0&amp;showinfo=0\" frameborder=\"0\" allowfullscreen></iframe>'))\n",
    "    else:\n",
    "        df2 = df[(df.length > Length[0]) & (df.length < Length[1]) & (df.cluster == Perspective) & (df.medium == 'audio')]\n",
    "        list_tuples = []\n",
    "        if len(list(df2.index)) < 1:\n",
    "            print('No Audio')\n",
    "        else:\n",
    "            for i in range (0, Limit):\n",
    "                link = list(df2.url)[i]\n",
    "                display(HTML(\"<iframe src=\"+\"'\"+link+\"'\"+ \"style='width:100%; height:100px;' scrolling='no' frameborder='no'></iframe>\"))\n",
    "\n",
    "\n",
    "interact(pull_articles,Length=Length_widget2, Perspective=Perspective_widget2, Limit = Limit_widget2, Medium = Medium_widget2);"
   ]
  },
  {
   "cell_type": "markdown",
   "metadata": {
    "extensions": {
     "jupyter_dashboards": {
      "version": 1,
      "views": {
       "grid_default": {
        "col": 0,
        "height": 4,
        "hidden": false,
        "row": 22,
        "width": 6
       },
       "report_default": {
        "hidden": false
       }
      }
     }
    }
   },
   "source": [
    "# Perspective 3"
   ]
  },
  {
   "cell_type": "code",
   "execution_count": 58,
   "metadata": {
    "extensions": {
     "jupyter_dashboards": {
      "version": 1,
      "views": {
       "grid_default": {
        "col": 0,
        "height": 16,
        "hidden": false,
        "row": 26,
        "width": 6
       },
       "report_default": {
        "hidden": false
       }
      }
     }
    },
    "scrolled": false
   },
   "outputs": [
    {
     "data": {
      "application/vnd.jupyter.widget-view+json": {
       "model_id": "bf38bcb17cd24a0899281130464b1896",
       "version_major": 2,
       "version_minor": 0
      },
      "text/plain": [
       "interactive(children=(IntRangeSlider(value=(1, 19), description='Length', max=19, min=1), Dropdown(description…"
      ]
     },
     "metadata": {},
     "output_type": "display_data"
    }
   ],
   "source": [
    "Length_widget3 = widgets.IntRangeSlider(min=df.length.min(), max=df.length.max(), step=1, value = [1,19])\n",
    "Perspective_widget3 = widgets.Dropdown(options=set(list(df.cluster)),value = 3,description = 'Perspective', disabled = False)\n",
    "Limit_widget3 = widgets.IntSlider(min=1, max=20, step=1, value=1)\n",
    "Medium_widget3 = widgets.ToggleButtons(options = ['Text', 'Audio','Video'], description ='Medium', button_style='')\n",
    "\n",
    "def pull_articles(Length, Perspective, Limit, Medium):\n",
    "    df = pd.read_csv('current_search.csv', index_col=0)\n",
    "    df = df.dropna()\n",
    "    if Medium == 'Text':\n",
    "        df2 = df[(df.length > Length[0]) & (df.length < Length[1]) & (df.cluster == Perspective) & (df.medium == 'text')]\n",
    "        list_tuples = []\n",
    "        for i in range (0, Limit):\n",
    "            title = list(df2.title)[i]\n",
    "            link = list(df2.url)[i]\n",
    "            image = list(df2.urlToImage)[i]\n",
    "            source_name = list(df2.source_name)[i]\n",
    "            display(HTML(\"<a href=\"+link+\">\"+source_name+': '+title+\"</a>\"))\n",
    "            display(Image(url= image))\n",
    "    elif Medium == 'Video':\n",
    "        df2 = df[(df.length > Length[0]) & (df.length < Length[1]) & (df.cluster == Perspective) & (df.medium == 'video')]\n",
    "        list_tuples = []\n",
    "        for i in range (0, Limit):\n",
    "            title = list(df2.title)[i]\n",
    "            link = list(df2.url)[i]\n",
    "            link = link[-11:]\n",
    "            source_name = list(df2.source_name)[i]\n",
    "            display(HTML(\"<a href=\"+link+\">\"+source_name+': '+title+\"</a>\"))\n",
    "            display(HTML('<iframe width=\"560\" height=\"315\" src=\"https://www.youtube.com/embed/'+link+'?rel=0&amp;controls=0&amp;showinfo=0\" frameborder=\"0\" allowfullscreen></iframe>'))\n",
    "    else:\n",
    "        df2 = df[(df.length > Length[0]) & (df.length < Length[1]) & (df.cluster == Perspective) & (df.medium == 'audio')]\n",
    "        list_tuples = []\n",
    "        if len(list(df2.index)) < 1:\n",
    "            print('No Audio')\n",
    "        else:\n",
    "            for i in range (0, Limit):\n",
    "                link = list(df2.url)[i]\n",
    "                display(HTML(\"<iframe src=\"+\"'\"+link+\"'\"+ \"style='width:100%; height:100px;' scrolling='no' frameborder='no'></iframe>\"))\n",
    "\n",
    "\n",
    "\n",
    "interact(pull_articles,Length=Length_widget3, Perspective=Perspective_widget3, Limit = Limit_widget3, Medium = Medium_widget3);"
   ]
  },
  {
   "cell_type": "markdown",
   "metadata": {
    "extensions": {
     "jupyter_dashboards": {
      "version": 1,
      "views": {
       "grid_default": {
        "col": 6,
        "height": 4,
        "hidden": false,
        "row": 22,
        "width": 6
       },
       "report_default": {
        "hidden": true
       }
      }
     }
    }
   },
   "source": [
    "# Perspective Metrics"
   ]
  },
  {
   "cell_type": "code",
   "execution_count": 33,
   "metadata": {
    "extensions": {
     "jupyter_dashboards": {
      "version": 1,
      "views": {
       "grid_default": {
        "hidden": true
       },
       "report_default": {
        "hidden": true
       }
      }
     }
    }
   },
   "outputs": [],
   "source": [
    "df2 = df[(df.cluster == 1)]"
   ]
  },
  {
   "cell_type": "code",
   "execution_count": 14,
   "metadata": {
    "extensions": {
     "jupyter_dashboards": {
      "version": 1,
      "views": {
       "grid_default": {
        "col": 6,
        "height": 16,
        "hidden": false,
        "row": 26,
        "width": 6
       },
       "report_default": {
        "hidden": false
       }
      }
     }
    },
    "scrolled": true
   },
   "outputs": [
    {
     "data": {
      "application/vnd.jupyter.widget-view+json": {
       "model_id": "8af47b85a6df461f98e5b008278af4d7",
       "version_major": 2,
       "version_minor": 0
      },
      "text/plain": [
       "interactive(children=(Dropdown(description='Source', index=8, options=('The Washington Post', 'Mashable', 'Reu…"
      ]
     },
     "metadata": {},
     "output_type": "display_data"
    }
   ],
   "source": [
    "all_words = pd.read_csv('word_metrics.csv')\n",
    "final_df = pd.read_csv('bk_corpus.csv')\n",
    "all_words['word']= all_words['word'].astype(str)\n",
    "subjectivity_widget = widgets.FloatSlider(min=0, max=1, step=.1, value = .8)\n",
    "source_widget = widgets.Dropdown(options=set(list(final_df.source_name)),value = 'The New York Times',description = 'Source', disabled = False)\n",
    "\n",
    "\n",
    "def word_cloud(source_name,subjectivity_floor):\n",
    "    \n",
    "    list_words = all_words.word[(all_words.subjectivity < subjectivity_floor)]\n",
    "    df2 = final_df[(final_df.source_name == source_name)]\n",
    "    all_text = []\n",
    "    for blob in df2.text:\n",
    "        all_text.append(blob)\n",
    "    corpus = '-'.join(all_text)\n",
    "    corpus = corpus.lower()\n",
    "    stopwords = set(STOPWORDS)\n",
    "    stopwords.update(list_words)\n",
    "\n",
    "    # Generate a word cloud image\n",
    "    wordcloud = WordCloud(background_color=\"white\", stopwords=stopwords).generate(corpus)\n",
    "    # Display the generated image:\n",
    "    plt.imshow(wordcloud, interpolation='bilinear')\n",
    "    plt.axis(\"off\")\n",
    "    plt.show()\n",
    "interact(word_cloud,source_name = source_widget, subjectivity_floor = subjectivity_widget);"
   ]
  },
  {
   "cell_type": "code",
   "execution_count": null,
   "metadata": {
    "extensions": {
     "jupyter_dashboards": {
      "version": 1,
      "views": {
       "grid_default": {
        "hidden": true
       },
       "report_default": {}
      }
     }
    }
   },
   "outputs": [],
   "source": [
    "sources_list = ['abc-news',\n",
    " 'associated-press',\n",
    " 'axios',\n",
    " 'bbc-news',\n",
    " 'bbc-sport',\n",
    " 'bleacher-report',\n",
    " 'bloomberg',\n",
    " 'breitbart-news',\n",
    " 'business-insider',\n",
    " 'buzzfeed',\n",
    " 'cbc-news',\n",
    " 'cbs-news',\n",
    " 'cnbc',\n",
    " 'cnn',\n",
    " 'crypto-coins-news',\n",
    " 'daily-mail',\n",
    " 'engadget',\n",
    " 'entertainment-weekly',\n",
    " 'espn',\n",
    " 'financial-post',\n",
    " 'financial-times',\n",
    " 'fox-news',\n",
    " 'fox-sports',\n",
    " 'google-news',\n",
    " 'hacker-news',\n",
    " 'ign',\n",
    " 'independent',\n",
    " 'mashable',\n",
    " 'medical-news-today',\n",
    " 'msnbc',\n",
    " 'mtv-news',\n",
    " 'national-geographic',\n",
    " 'national-review',\n",
    " 'nbc-news',\n",
    " 'new-scientist',\n",
    " 'newsweek',\n",
    " 'new-york-magazine',\n",
    " 'nfl-news',\n",
    " 'nhl-news',\n",
    " 'nrk',\n",
    " 'politico',\n",
    " 'recode',\n",
    " 'reddit-r-all',\n",
    " 'reuters',\n",
    " 'techcrunch',\n",
    " 'techradar',\n",
    " 'the-american-conservative',\n",
    " 'the-economist',\n",
    " 'the-guardian-au',\n",
    " 'the-guardian-uk',\n",
    " 'the-huffington-post',\n",
    " 'the-lad-bible',\n",
    " 'the-new-york-times',\n",
    " 'the-next-web',\n",
    " 'the-sport-bible',\n",
    " 'the-telegraph',\n",
    " 'the-verge',\n",
    " 'the-wall-street-journal',\n",
    " 'the-washington-post',\n",
    " 'the-washington-times',\n",
    " 'time',\n",
    " 'usa-today',\n",
    " 'vice-news',\n",
    " 'wired',\n",
    " 'ynet']"
   ]
  },
  {
   "cell_type": "code",
   "execution_count": 63,
   "metadata": {
    "extensions": {
     "jupyter_dashboards": {
      "version": 1,
      "views": {
       "grid_default": {
        "hidden": true
       },
       "report_default": {
        "hidden": true
       }
      }
     }
    }
   },
   "outputs": [],
   "source": [
    "def search_news(parameter, source_code):\n",
    "        article_results_rel = newsapi.get_everything(q=parameter,sort_by = 'relevancy',language='en', page_size=100, sources=source_code)\n",
    "        article_results_rel = article_results_rel['articles']\n",
    "        return pd.DataFrame(article_results_rel)"
   ]
  },
  {
   "cell_type": "code",
   "execution_count": 64,
   "metadata": {
    "extensions": {
     "jupyter_dashboards": {
      "version": 1,
      "views": {
       "grid_default": {
        "hidden": true
       },
       "report_default": {}
      }
     }
    }
   },
   "outputs": [],
   "source": [
    "breit = search_news('Brett Kavanaugh', 'breitbart-news') #extreme right"
   ]
  },
  {
   "cell_type": "code",
   "execution_count": 96,
   "metadata": {
    "extensions": {
     "jupyter_dashboards": {
      "version": 1,
      "views": {
       "grid_default": {
        "hidden": true
       },
       "report_default": {}
      }
     }
    }
   },
   "outputs": [],
   "source": [
    "breit['label'] = 'right'"
   ]
  },
  {
   "cell_type": "code",
   "execution_count": 66,
   "metadata": {
    "extensions": {
     "jupyter_dashboards": {
      "version": 1,
      "views": {
       "grid_default": {
        "hidden": true
       },
       "report_default": {}
      }
     }
    }
   },
   "outputs": [],
   "source": [
    "am_conservative = search_news('Brett Kavanaugh', 'the-american-conservative') #right"
   ]
  },
  {
   "cell_type": "code",
   "execution_count": 97,
   "metadata": {
    "extensions": {
     "jupyter_dashboards": {
      "version": 1,
      "views": {
       "grid_default": {
        "hidden": true
       },
       "report_default": {}
      }
     }
    }
   },
   "outputs": [],
   "source": [
    "am_conservative['label'] = 'right'"
   ]
  },
  {
   "cell_type": "code",
   "execution_count": 68,
   "metadata": {
    "extensions": {
     "jupyter_dashboards": {
      "version": 1,
      "views": {
       "grid_default": {
        "hidden": true
       },
       "report_default": {}
      }
     }
    }
   },
   "outputs": [],
   "source": [
    "wsj= search_news('Brett Kavanaugh', 'the-wall-street-journal') #right Center"
   ]
  },
  {
   "cell_type": "code",
   "execution_count": 98,
   "metadata": {
    "extensions": {
     "jupyter_dashboards": {
      "version": 1,
      "views": {
       "grid_default": {
        "hidden": true
       },
       "report_default": {}
      }
     }
    }
   },
   "outputs": [],
   "source": [
    "wsj['label'] = 'center'"
   ]
  },
  {
   "cell_type": "code",
   "execution_count": 70,
   "metadata": {
    "extensions": {
     "jupyter_dashboards": {
      "version": 1,
      "views": {
       "grid_default": {
        "hidden": true
       },
       "report_default": {}
      }
     }
    }
   },
   "outputs": [],
   "source": [
    "nyt = search_news('Brett Kavanaugh', 'the-new-york-times') #left center"
   ]
  },
  {
   "cell_type": "code",
   "execution_count": 99,
   "metadata": {
    "extensions": {
     "jupyter_dashboards": {
      "version": 1,
      "views": {
       "grid_default": {
        "hidden": true
       },
       "report_default": {}
      }
     }
    }
   },
   "outputs": [],
   "source": [
    "nyt['label'] = 'center'"
   ]
  },
  {
   "cell_type": "code",
   "execution_count": 72,
   "metadata": {
    "extensions": {
     "jupyter_dashboards": {
      "version": 1,
      "views": {
       "grid_default": {
        "hidden": true
       },
       "report_default": {}
      }
     }
    }
   },
   "outputs": [],
   "source": [
    "cnn = search_news('Brett Kavanaugh', 'cnn') #left"
   ]
  },
  {
   "cell_type": "code",
   "execution_count": 100,
   "metadata": {
    "extensions": {
     "jupyter_dashboards": {
      "version": 1,
      "views": {
       "grid_default": {
        "hidden": true
       },
       "report_default": {}
      }
     }
    }
   },
   "outputs": [],
   "source": [
    "cnn['label'] = 'left'"
   ]
  },
  {
   "cell_type": "code",
   "execution_count": 74,
   "metadata": {
    "extensions": {
     "jupyter_dashboards": {
      "version": 1,
      "views": {
       "grid_default": {
        "hidden": true
       },
       "report_default": {}
      }
     }
    }
   },
   "outputs": [],
   "source": [
    "fox = search_news('Brett Kavanaugh', 'fox-news') # far right "
   ]
  },
  {
   "cell_type": "code",
   "execution_count": 101,
   "metadata": {
    "extensions": {
     "jupyter_dashboards": {
      "version": 1,
      "views": {
       "grid_default": {
        "hidden": true
       },
       "report_default": {}
      }
     }
    }
   },
   "outputs": [],
   "source": [
    "fox['label'] = 'right'"
   ]
  },
  {
   "cell_type": "code",
   "execution_count": 76,
   "metadata": {
    "extensions": {
     "jupyter_dashboards": {
      "version": 1,
      "views": {
       "grid_default": {
        "col": 0,
        "height": 12,
        "hidden": false,
        "row": 42,
        "width": 12
       },
       "report_default": {}
      }
     }
    }
   },
   "outputs": [],
   "source": [
    "wash_times = search_news('Brett Kavanaugh', 'the-washington-times') #right_center"
   ]
  },
  {
   "cell_type": "code",
   "execution_count": 102,
   "metadata": {
    "extensions": {
     "jupyter_dashboards": {
      "version": 1,
      "views": {
       "grid_default": {
        "hidden": true
       },
       "report_default": {}
      }
     }
    }
   },
   "outputs": [],
   "source": [
    "wash_times['label'] = 'center'"
   ]
  },
  {
   "cell_type": "code",
   "execution_count": 78,
   "metadata": {
    "extensions": {
     "jupyter_dashboards": {
      "version": 1,
      "views": {
       "grid_default": {
        "hidden": true
       },
       "report_default": {}
      }
     }
    }
   },
   "outputs": [],
   "source": [
    "reuters = search_news('Brett Kavanaugh', 'reuters') #center"
   ]
  },
  {
   "cell_type": "code",
   "execution_count": 104,
   "metadata": {
    "extensions": {
     "jupyter_dashboards": {
      "version": 1,
      "views": {
       "grid_default": {
        "hidden": true
       },
       "report_default": {}
      }
     }
    }
   },
   "outputs": [],
   "source": [
    "reuters['label'] = 'center'"
   ]
  },
  {
   "cell_type": "code",
   "execution_count": 80,
   "metadata": {
    "extensions": {
     "jupyter_dashboards": {
      "version": 1,
      "views": {
       "grid_default": {
        "hidden": true
       },
       "report_default": {}
      }
     }
    }
   },
   "outputs": [],
   "source": [
    "vice = search_news('Brett Kavanaugh', 'vice-news') #far left"
   ]
  },
  {
   "cell_type": "code",
   "execution_count": 105,
   "metadata": {
    "extensions": {
     "jupyter_dashboards": {
      "version": 1,
      "views": {
       "grid_default": {
        "hidden": true
       },
       "report_default": {}
      }
     }
    }
   },
   "outputs": [],
   "source": [
    "vice['label'] = 'left'"
   ]
  },
  {
   "cell_type": "code",
   "execution_count": 82,
   "metadata": {
    "extensions": {
     "jupyter_dashboards": {
      "version": 1,
      "views": {
       "grid_default": {
        "hidden": true
       },
       "report_default": {}
      }
     }
    }
   },
   "outputs": [],
   "source": [
    "msnbc = search_news('Brett Kavanaugh', 'msnbc') #far left"
   ]
  },
  {
   "cell_type": "code",
   "execution_count": 106,
   "metadata": {
    "extensions": {
     "jupyter_dashboards": {
      "version": 1,
      "views": {
       "grid_default": {
        "hidden": true
       },
       "report_default": {}
      }
     }
    }
   },
   "outputs": [],
   "source": [
    "msnbc['label'] = 'left'"
   ]
  },
  {
   "cell_type": "code",
   "execution_count": 83,
   "metadata": {
    "extensions": {
     "jupyter_dashboards": {
      "version": 1,
      "views": {
       "grid_default": {
        "hidden": true
       },
       "report_default": {}
      }
     }
    }
   },
   "outputs": [],
   "source": [
    "nat_review = search_news('Brett Kavanaugh', 'national-review') #far right"
   ]
  },
  {
   "cell_type": "code",
   "execution_count": 107,
   "metadata": {
    "extensions": {
     "jupyter_dashboards": {
      "version": 1,
      "views": {
       "grid_default": {
        "hidden": true
       },
       "report_default": {}
      }
     }
    }
   },
   "outputs": [],
   "source": [
    "nat_review['label'] = 'right'"
   ]
  },
  {
   "cell_type": "code",
   "execution_count": 85,
   "metadata": {
    "extensions": {
     "jupyter_dashboards": {
      "version": 1,
      "views": {
       "grid_default": {
        "hidden": true
       },
       "report_default": {}
      }
     }
    }
   },
   "outputs": [],
   "source": [
    "economist = search_news('Brett Kavanaugh', 'the-economist') #center"
   ]
  },
  {
   "cell_type": "code",
   "execution_count": 108,
   "metadata": {
    "extensions": {
     "jupyter_dashboards": {
      "version": 1,
      "views": {
       "grid_default": {
        "hidden": true
       },
       "report_default": {}
      }
     }
    }
   },
   "outputs": [],
   "source": [
    "economist['label'] = 'center'"
   ]
  },
  {
   "cell_type": "code",
   "execution_count": 120,
   "metadata": {
    "extensions": {
     "jupyter_dashboards": {
      "version": 1,
      "views": {
       "grid_default": {
        "hidden": true
       },
       "report_default": {}
      }
     }
    }
   },
   "outputs": [],
   "source": [
    "daily_mail = search_news('Brett Kavanaugh', 'daily-mail')"
   ]
  },
  {
   "cell_type": "code",
   "execution_count": 122,
   "metadata": {
    "extensions": {
     "jupyter_dashboards": {
      "version": 1,
      "views": {
       "grid_default": {
        "hidden": true
       },
       "report_default": {}
      }
     }
    }
   },
   "outputs": [],
   "source": [
    "daily_mail['label'] = 'right'"
   ]
  },
  {
   "cell_type": "code",
   "execution_count": 123,
   "metadata": {
    "extensions": {
     "jupyter_dashboards": {
      "version": 1,
      "views": {
       "grid_default": {
        "hidden": true
       },
       "report_default": {}
      }
     }
    }
   },
   "outputs": [],
   "source": [
    "associated_press = search_news('Brett Kavanaugh', 'associated-press')"
   ]
  },
  {
   "cell_type": "code",
   "execution_count": 129,
   "metadata": {
    "extensions": {
     "jupyter_dashboards": {
      "version": 1,
      "views": {
       "grid_default": {
        "hidden": true
       },
       "report_default": {}
      }
     }
    }
   },
   "outputs": [],
   "source": [
    "associated_press['label'] = 'center'"
   ]
  },
  {
   "cell_type": "code",
   "execution_count": 131,
   "metadata": {
    "extensions": {
     "jupyter_dashboards": {
      "version": 1,
      "views": {
       "grid_default": {
        "hidden": true
       },
       "report_default": {}
      }
     }
    }
   },
   "outputs": [],
   "source": [
    "time = search_news('Brett Kavanaugh', 'time')"
   ]
  },
  {
   "cell_type": "code",
   "execution_count": 132,
   "metadata": {
    "extensions": {
     "jupyter_dashboards": {
      "version": 1,
      "views": {
       "grid_default": {
        "hidden": true
       },
       "report_default": {}
      }
     }
    }
   },
   "outputs": [],
   "source": [
    "time['label'] = 'left'"
   ]
  },
  {
   "cell_type": "code",
   "execution_count": 147,
   "metadata": {
    "extensions": {
     "jupyter_dashboards": {
      "version": 1,
      "views": {
       "grid_default": {
        "hidden": true
       },
       "report_default": {}
      }
     }
    }
   },
   "outputs": [],
   "source": [
    "all_df = breit\n",
    "all_df = all_df.append(am_conservative, ignore_index = True)\n",
    "all_df = all_df.append(wsj, ignore_index = True)\n",
    "all_df = all_df.append(nyt, ignore_index = True)\n",
    "all_df = all_df.append(cnn, ignore_index = True)\n",
    "all_df = all_df.append(fox, ignore_index = True)\n",
    "all_df = all_df.append(wash_times, ignore_index = True)\n",
    "all_df = all_df.append(reuters, ignore_index = True)\n",
    "all_df = all_df.append(vice, ignore_index = True)\n",
    "all_df = all_df.append(msnbc, ignore_index = True)\n",
    "all_df = all_df.append(nat_review, ignore_index = True)\n",
    "all_df = all_df.append(economist, ignore_index = True)\n",
    "all_df = all_df.append(daily_mail, ignore_index = True)\n",
    "all_df = all_df.append(associated_press, ignore_index = True)\n",
    "all_df = all_df.append(time, ignore_index = True)"
   ]
  },
  {
   "cell_type": "code",
   "execution_count": 148,
   "metadata": {
    "extensions": {
     "jupyter_dashboards": {
      "version": 1,
      "views": {
       "grid_default": {
        "col": 0,
        "height": 7,
        "hidden": false,
        "row": 54,
        "width": 4
       },
       "report_default": {}
      }
     }
    }
   },
   "outputs": [
    {
     "data": {
      "text/plain": [
       "author         110\n",
       "content        140\n",
       "description      0\n",
       "publishedAt      0\n",
       "source           0\n",
       "title            0\n",
       "url              0\n",
       "urlToImage       8\n",
       "label            0\n",
       "dtype: int64"
      ]
     },
     "execution_count": 148,
     "metadata": {},
     "output_type": "execute_result"
    }
   ],
   "source": [
    "all_df.isna().sum()"
   ]
  },
  {
   "cell_type": "code",
   "execution_count": 167,
   "metadata": {
    "extensions": {
     "jupyter_dashboards": {
      "version": 1,
      "views": {
       "grid_default": {
        "col": 4,
        "height": 6,
        "hidden": false,
        "row": 54,
        "width": 7
       },
       "report_default": {}
      }
     }
    }
   },
   "outputs": [
    {
     "data": {
      "text/html": [
       "<div>\n",
       "<style scoped>\n",
       "    .dataframe tbody tr th:only-of-type {\n",
       "        vertical-align: middle;\n",
       "    }\n",
       "\n",
       "    .dataframe tbody tr th {\n",
       "        vertical-align: top;\n",
       "    }\n",
       "\n",
       "    .dataframe thead th {\n",
       "        text-align: right;\n",
       "    }\n",
       "</style>\n",
       "<table border=\"1\" class=\"dataframe\">\n",
       "  <thead>\n",
       "    <tr style=\"text-align: right;\">\n",
       "      <th></th>\n",
       "      <th>author</th>\n",
       "      <th>content</th>\n",
       "      <th>description</th>\n",
       "      <th>publishedAt</th>\n",
       "      <th>source_id</th>\n",
       "      <th>source_name</th>\n",
       "      <th>title</th>\n",
       "      <th>url</th>\n",
       "      <th>urlToImage</th>\n",
       "    </tr>\n",
       "    <tr>\n",
       "      <th>label</th>\n",
       "      <th></th>\n",
       "      <th></th>\n",
       "      <th></th>\n",
       "      <th></th>\n",
       "      <th></th>\n",
       "      <th></th>\n",
       "      <th></th>\n",
       "      <th></th>\n",
       "      <th></th>\n",
       "    </tr>\n",
       "  </thead>\n",
       "  <tbody>\n",
       "    <tr>\n",
       "      <th>center</th>\n",
       "      <td>392</td>\n",
       "      <td>416</td>\n",
       "      <td>421</td>\n",
       "      <td>421</td>\n",
       "      <td>421</td>\n",
       "      <td>421</td>\n",
       "      <td>421</td>\n",
       "      <td>421</td>\n",
       "      <td>416</td>\n",
       "    </tr>\n",
       "    <tr>\n",
       "      <th>left</th>\n",
       "      <td>324</td>\n",
       "      <td>262</td>\n",
       "      <td>369</td>\n",
       "      <td>369</td>\n",
       "      <td>369</td>\n",
       "      <td>369</td>\n",
       "      <td>369</td>\n",
       "      <td>369</td>\n",
       "      <td>368</td>\n",
       "    </tr>\n",
       "    <tr>\n",
       "      <th>right</th>\n",
       "      <td>369</td>\n",
       "      <td>377</td>\n",
       "      <td>405</td>\n",
       "      <td>405</td>\n",
       "      <td>405</td>\n",
       "      <td>405</td>\n",
       "      <td>405</td>\n",
       "      <td>405</td>\n",
       "      <td>403</td>\n",
       "    </tr>\n",
       "  </tbody>\n",
       "</table>\n",
       "</div>"
      ],
      "text/plain": [
       "        author  content  description  publishedAt  source_id  source_name  \\\n",
       "label                                                                       \n",
       "center     392      416          421          421        421          421   \n",
       "left       324      262          369          369        369          369   \n",
       "right      369      377          405          405        405          405   \n",
       "\n",
       "        title  url  urlToImage  \n",
       "label                           \n",
       "center    421  421         416  \n",
       "left      369  369         368  \n",
       "right     405  405         403  "
      ]
     },
     "execution_count": 167,
     "metadata": {},
     "output_type": "execute_result"
    }
   ],
   "source": [
    "all_df.groupby('label').count()"
   ]
  },
  {
   "cell_type": "code",
   "execution_count": 161,
   "metadata": {
    "extensions": {
     "jupyter_dashboards": {
      "version": 1,
      "views": {
       "grid_default": {
        "hidden": true
       },
       "report_default": {}
      }
     }
    }
   },
   "outputs": [],
   "source": [
    "dict_place = all_df.to_dict('records')"
   ]
  },
  {
   "cell_type": "code",
   "execution_count": 162,
   "metadata": {
    "extensions": {
     "jupyter_dashboards": {
      "version": 1,
      "views": {
       "grid_default": {
        "hidden": true
       },
       "report_default": {}
      }
     }
    }
   },
   "outputs": [],
   "source": [
    "split_source_info(dict_place)"
   ]
  },
  {
   "cell_type": "code",
   "execution_count": 163,
   "metadata": {
    "extensions": {
     "jupyter_dashboards": {
      "version": 1,
      "views": {
       "grid_default": {
        "hidden": true
       },
       "report_default": {}
      }
     }
    }
   },
   "outputs": [],
   "source": [
    "all_df = pd.DataFrame(dict_place)"
   ]
  },
  {
   "cell_type": "code",
   "execution_count": 164,
   "metadata": {
    "extensions": {
     "jupyter_dashboards": {
      "version": 1,
      "views": {
       "grid_default": {
        "hidden": true
       },
       "report_default": {}
      }
     }
    }
   },
   "outputs": [],
   "source": [
    "all_df = all_df.drop('source',axis =1)"
   ]
  },
  {
   "cell_type": "code",
   "execution_count": 166,
   "metadata": {
    "extensions": {
     "jupyter_dashboards": {
      "version": 1,
      "views": {
       "grid_default": {
        "hidden": true
       },
       "report_default": {}
      }
     }
    }
   },
   "outputs": [],
   "source": [
    "all_df.to_csv('all_kav.csv')"
   ]
  },
  {
   "cell_type": "code",
   "execution_count": 201,
   "metadata": {
    "extensions": {
     "jupyter_dashboards": {
      "version": 1,
      "views": {
       "grid_default": {
        "hidden": true
       },
       "report_default": {}
      }
     }
    }
   },
   "outputs": [],
   "source": [
    "sources_labels = set([(row.source_id, row.label) for index,row in all_df.iterrows()])"
   ]
  },
  {
   "cell_type": "code",
   "execution_count": 202,
   "metadata": {
    "extensions": {
     "jupyter_dashboards": {
      "version": 1,
      "views": {
       "grid_default": {
        "hidden": true
       },
       "report_default": {}
      }
     }
    }
   },
   "outputs": [],
   "source": [
    "sources_labels = list(sources_labels)"
   ]
  },
  {
   "cell_type": "code",
   "execution_count": 249,
   "metadata": {
    "extensions": {
     "jupyter_dashboards": {
      "version": 1,
      "views": {
       "grid_default": {
        "col": 4,
        "height": 4,
        "hidden": false,
        "row": 60,
        "width": 4
       },
       "report_default": {}
      }
     }
    }
   },
   "outputs": [
    {
     "data": {
      "text/plain": [
       "15"
      ]
     },
     "execution_count": 249,
     "metadata": {},
     "output_type": "execute_result"
    }
   ],
   "source": [
    "len(sources_labels)"
   ]
  },
  {
   "cell_type": "code",
   "execution_count": 233,
   "metadata": {
    "extensions": {
     "jupyter_dashboards": {
      "version": 1,
      "views": {
       "grid_default": {
        "hidden": true
       },
       "report_default": {}
      }
     }
    }
   },
   "outputs": [],
   "source": [
    "def everything(source_code, page):\n",
    "        article_results_rel = newsapi.get_everything(language='en',sort_by='popularity', page_size=100, sources=source_code, page=page)\n",
    "        article_results_rel = article_results_rel['articles']\n",
    "        return pd.DataFrame(article_results_rel)"
   ]
  },
  {
   "cell_type": "code",
   "execution_count": 241,
   "metadata": {
    "extensions": {
     "jupyter_dashboards": {
      "version": 1,
      "views": {
       "grid_default": {
        "hidden": true
       },
       "report_default": {}
      }
     }
    }
   },
   "outputs": [],
   "source": [
    "def update_corpus(page):\n",
    "    all_dicts = []\n",
    "    for source, label in sources_labels:\n",
    "#         print(source)\n",
    "#         print(label)\n",
    "        results = everything(source, page)\n",
    "        results['label'] = label\n",
    "        dict_place = results.to_dict('records')\n",
    "        all_dicts.extend(dict_place)\n",
    "#         print(len(all_dicts))\n",
    "    split_source_info(all_dicts)\n",
    "    df = pd.DataFrame(all_dicts)\n",
    "#     display(df.head())\n",
    "    df = df.drop('source',axis =1)\n",
    "    return df"
   ]
  },
  {
   "cell_type": "code",
   "execution_count": 273,
   "metadata": {
    "extensions": {
     "jupyter_dashboards": {
      "version": 1,
      "views": {
       "grid_default": {
        "hidden": true
       },
       "report_default": {}
      }
     }
    }
   },
   "outputs": [],
   "source": [
    "# additional_news_8 = additional_news_7.append(update_corpus(8), ignore_index=True)"
   ]
  },
  {
   "cell_type": "code",
   "execution_count": 271,
   "metadata": {
    "extensions": {
     "jupyter_dashboards": {
      "version": 1,
      "views": {
       "grid_default": {
        "hidden": true
       },
       "report_default": {}
      }
     }
    }
   },
   "outputs": [],
   "source": [
    "# additional_news_8.groupby('label').count()"
   ]
  },
  {
   "cell_type": "code",
   "execution_count": 272,
   "metadata": {
    "extensions": {
     "jupyter_dashboards": {
      "version": 1,
      "views": {
       "grid_default": {
        "hidden": true
       },
       "report_default": {}
      }
     }
    }
   },
   "outputs": [],
   "source": [
    "# additional_news_8"
   ]
  },
  {
   "cell_type": "code",
   "execution_count": 270,
   "metadata": {
    "extensions": {
     "jupyter_dashboards": {
      "version": 1,
      "views": {
       "grid_default": {
        "hidden": true
       },
       "report_default": {}
      }
     }
    }
   },
   "outputs": [],
   "source": [
    "additional_news_8.to_csv('master_corpus.csv')"
   ]
  },
  {
   "cell_type": "code",
   "execution_count": null,
   "metadata": {
    "extensions": {
     "jupyter_dashboards": {
      "version": 1,
      "views": {
       "grid_default": {
        "hidden": true
       },
       "report_default": {}
      }
     }
    }
   },
   "outputs": [],
   "source": []
  }
 ],
 "metadata": {
  "extensions": {
   "jupyter_dashboards": {
    "activeView": "grid_default",
    "version": 1,
    "views": {
     "grid_default": {
      "cellMargin": 10,
      "defaultCellHeight": 20,
      "maxColumns": 12,
      "name": "grid",
      "type": "grid"
     },
     "report_default": {
      "name": "report",
      "type": "report"
     }
    }
   }
  },
  "kernelspec": {
   "display_name": "Python 3",
   "language": "python",
   "name": "python3"
  },
  "language_info": {
   "codemirror_mode": {
    "name": "ipython",
    "version": 3
   },
   "file_extension": ".py",
   "mimetype": "text/x-python",
   "name": "python",
   "nbconvert_exporter": "python",
   "pygments_lexer": "ipython3",
   "version": "3.6.5"
  }
 },
 "nbformat": 4,
 "nbformat_minor": 2
}
