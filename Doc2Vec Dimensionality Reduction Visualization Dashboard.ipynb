{
 "cells": [
  {
   "cell_type": "code",
   "execution_count": 1,
   "metadata": {
    "extensions": {
     "jupyter_dashboards": {
      "version": 1,
      "views": {
       "grid_default": {
        "hidden": true
       },
       "report_default": {
        "hidden": true
       }
      }
     }
    }
   },
   "outputs": [],
   "source": [
    "import ipywidgets as widgets\n",
    "from ipywidgets import interact, interactive, fixed, interact_manual\n",
    "import ipywidgets as widgets\n",
    "from IPython.display import Image\n",
    "from IPython.core.display import HTML \n",
    "import time\n",
    "from ipywidgets import FloatProgress\n",
    "from IPython.display import display\n",
    "from bs4 import BeautifulSoup\n",
    "import requests\n",
    "import re\n",
    "from os import path\n",
    "from PIL import Image\n",
    "import pandas as pd\n",
    "from pca_func import *"
   ]
  },
  {
   "cell_type": "code",
   "execution_count": 2,
   "metadata": {
    "extensions": {
     "jupyter_dashboards": {
      "version": 1,
      "views": {
       "grid_default": {
        "hidden": true
       },
       "report_default": {
        "hidden": true
       }
      }
     }
    }
   },
   "outputs": [],
   "source": [
    "sample_df = pd.read_csv('Archive_CSV/sample_df_for_training.csv',index_col=0)\n",
    "Bigram_DBOW= Doc2Vec.load(\"D2V_models/d2v.model\")\n",
    "Bigram_DMM = Doc2Vec.load(\"D2V_models/d2v_DMM.model\")\n",
    "Bigram_DMC = Doc2Vec.load(\"D2V_models/d2v_DMC.model\")\n",
    "Bigram_DBOW200 = Doc2Vec.load(\"D2V_models/d2v_dbow200.model\")\n",
    "Trigram_DBOW = Doc2Vec.load(\"D2V_models/TRI_d2v_dbow100.model\")\n",
    "All_models = [Bigram_DBOW,Bigram_DMC,Bigram_DMM, Bigram_DBOW200, Trigram_DBOW]"
   ]
  },
  {
   "cell_type": "code",
   "execution_count": 6,
   "metadata": {},
   "outputs": [],
   "source": [
    "Bigram_DBOW.save(\"D2V_models/d2v.model\")\n",
    "Bigram_DMM.save(\"D2V_models/d2v_DMM.model\")\n",
    "Bigram_DMC.save(\"D2V_models/d2v_DMC.model\")\n",
    "Bigram_DBOW200.save(\"D2V_models/d2v_dbow200.model\")\n",
    "Trigram_DBOW.save(\"D2V_models/TRI_d2v_dbow100.model\")"
   ]
  },
  {
   "cell_type": "markdown",
   "metadata": {
    "extensions": {
     "jupyter_dashboards": {
      "version": 1,
      "views": {
       "grid_default": {},
       "report_default": {
        "hidden": false
       }
      }
     }
    }
   },
   "source": [
    "# Single Models "
   ]
  },
  {
   "cell_type": "code",
   "execution_count": 3,
   "metadata": {
    "extensions": {
     "jupyter_dashboards": {
      "version": 1,
      "views": {
       "grid_default": {
        "col": 0,
        "height": 32,
        "hidden": false,
        "row": 0,
        "width": 4
       },
       "report_default": {
        "hidden": false
       }
      }
     }
    },
    "scrolled": false
   },
   "outputs": [
    {
     "data": {
      "application/vnd.jupyter.widget-view+json": {
       "model_id": "73faf4c1076246388da3c13b0ff5a68c",
       "version_major": 2,
       "version_minor": 0
      },
      "text/plain": [
       "interactive(children=(Dropdown(description='Model', options=(<gensim.models.doc2vec.Doc2Vec object at 0x1a182f…"
      ]
     },
     "metadata": {},
     "output_type": "display_data"
    }
   ],
   "source": [
    "Model_widget = widgets.Dropdown(options=All_models,value = Bigram_DBOW,description = 'Model', disabled = False)\n",
    "Size_widget = widgets.ToggleButtons(options = [100,200], description ='Vector Size', button_style='')\n",
    "\n",
    "\n",
    "# def dynamic_PCA(model, vec_size):\n",
    "#     sample_df = pd.read_csv('Archive_CSV/sample_df_for_training.csv',index_col=0)\n",
    "#     model1_pvecs = get_perspective_vectors(model, vec_size)\n",
    "#     model1_svecs = get_source_vectors(model, sample_df, vec_size)\n",
    "#     model1_avecs = get_all_vectors_labels(model, vec_size,sample_df)\n",
    "#     all_vecs = model1_avecs.append(model1_svecs)\n",
    "#     all_vecs = all_vecs.append(model1_pvecs)\n",
    "#     pc_df = PCA_modeling(all_vecs,vec_size)\n",
    "#     return PCA_plot(pc_df)\n",
    "    \n",
    "interact(dynamic_PCA,model=Model_widget, vec_size=Size_widget);  "
   ]
  },
  {
   "cell_type": "markdown",
   "metadata": {
    "extensions": {
     "jupyter_dashboards": {
      "version": 1,
      "views": {
       "grid_default": {},
       "report_default": {
        "hidden": false
       }
      }
     }
    }
   },
   "source": [
    "# Hybrid Models"
   ]
  },
  {
   "cell_type": "code",
   "execution_count": 5,
   "metadata": {
    "extensions": {
     "jupyter_dashboards": {
      "version": 1,
      "views": {
       "grid_default": {},
       "report_default": {
        "hidden": false
       }
      }
     }
    }
   },
   "outputs": [
    {
     "data": {
      "application/vnd.jupyter.widget-view+json": {
       "model_id": "932ead226f61443c931e689a17a96364",
       "version_major": 2,
       "version_minor": 0
      },
      "text/plain": [
       "interactive(children=(Dropdown(description='Model 1', options=(<gensim.models.doc2vec.Doc2Vec object at 0x1a18…"
      ]
     },
     "metadata": {},
     "output_type": "display_data"
    }
   ],
   "source": [
    "Model_widgetH1 = widgets.Dropdown(options=All_models,value = Bigram_DBOW,description = 'Model 1', disabled = False)\n",
    "Model_widgetH2 = widgets.Dropdown(options=All_models,value = Bigram_DMM,description = 'Model 2', disabled = False)\n",
    "Size_widgetH = widgets.ToggleButtons(options = [200], description ='Vector Size', button_style='')\n",
    "\n",
    "\n",
    "def dynamic_PCA_concat(model_1,model_2, vec_size):\n",
    "    sample_df = pd.read_csv('Archive_CSV/sample_df_for_training.csv',index_col=0)\n",
    "    model1_pvecs = get_perspective_vectors_concat(model_1,model_2, vec_size)\n",
    "    model1_svecs = get_source_vectors_concat(model_1,model_2, sample_df, vec_size)\n",
    "    model1_avecs = get_all_vectors_labels_concat(model_1,model_2, vec_size,sample_df)\n",
    "    all_vecs = model1_avecs.append(model1_svecs)\n",
    "    all_vecs = all_vecs.append(model1_pvecs)\n",
    "    pc_df = PCA_modeling(all_vecs,vec_size)\n",
    "    return PCA_plot(pc_df)\n",
    "    \n",
    "interact(dynamic_PCA_concat,model_1=Model_widgetH1,model_2=Model_widgetH2, vec_size=Size_widgetH);  "
   ]
  },
  {
   "cell_type": "code",
   "execution_count": null,
   "metadata": {
    "extensions": {
     "jupyter_dashboards": {
      "version": 1,
      "views": {
       "grid_default": {},
       "report_default": {
        "hidden": true
       }
      }
     }
    }
   },
   "outputs": [],
   "source": []
  }
 ],
 "metadata": {
  "extensions": {
   "jupyter_dashboards": {
    "activeView": "report_default",
    "version": 1,
    "views": {
     "grid_default": {
      "cellMargin": 10,
      "defaultCellHeight": 20,
      "maxColumns": 12,
      "name": "grid",
      "type": "grid"
     },
     "report_default": {
      "name": "report",
      "type": "report"
     }
    }
   }
  },
  "kernelspec": {
   "display_name": "Python 3",
   "language": "python",
   "name": "python3"
  },
  "language_info": {
   "codemirror_mode": {
    "name": "ipython",
    "version": 3
   },
   "file_extension": ".py",
   "mimetype": "text/x-python",
   "name": "python",
   "nbconvert_exporter": "python",
   "pygments_lexer": "ipython3",
   "version": "3.6.5"
  }
 },
 "nbformat": 4,
 "nbformat_minor": 2
}
