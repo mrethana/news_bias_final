{
 "cells": [
  {
   "cell_type": "code",
   "execution_count": 44,
   "metadata": {},
   "outputs": [],
   "source": [
    "from bs4 import BeautifulSoup\n",
    "import requests\n",
    "import re\n",
    "import pandas as pd\n",
    "import matplotlib.pyplot as plt\n",
    "import numpy as np\n",
    "from __future__ import print_function\n",
    "import time\n",
    "import pafy\n",
    "from bs4 import BeautifulSoup\n",
    "import requests\n",
    "import re\n",
    "import webbrowser\n",
    "import nltk\n",
    "from nltk.corpus import stopwords\n",
    "from nltk.tokenize import sent_tokenize, word_tokenize\n",
    "from nltk.sentiment.vader import SentimentIntensityAnalyzer\n",
    "import matplotlib\n",
    "import matplotlib.pyplot as plt\n",
    "from ipywidgets import interact, interactive, fixed, interact_manual\n",
    "import ipywidgets as widgets\n",
    "from IPython.display import Image\n",
    "from IPython.core.display import HTML \n",
    "import time\n",
    "from ipywidgets import FloatProgress\n",
    "from IPython.display import display\n",
    "from textblob import TextBlob\n",
    "import numpy as np\n",
    "import pandas as pd\n",
    "from os import path\n",
    "from PIL import Image\n",
    "from wordcloud import WordCloud, STOPWORDS, ImageColorGenerator\n",
    "from IPython.display import Image\n",
    "from nltk.tokenize import RegexpTokenizer\n",
    "from gensim.models.doc2vec import Doc2Vec, TaggedDocument\n",
    "from nltk.tokenize import word_tokenize\n",
    "import multiprocessing\n",
    "import gensim.models.doc2vec\n",
    "from gensim.models.phrases import Phrases, Phraser\n",
    "import sklearn"
   ]
  },
  {
   "cell_type": "code",
   "execution_count": 77,
   "metadata": {},
   "outputs": [],
   "source": [
    "corpus_df = pd.read_csv('ALL_rows_scraped.csv', index_col=0)"
   ]
  },
  {
   "cell_type": "code",
   "execution_count": 143,
   "metadata": {},
   "outputs": [],
   "source": [
    "sources_labels = set([(row.source_id, row.label) for index,row in corpus_df.iterrows()])"
   ]
  },
  {
   "cell_type": "code",
   "execution_count": 144,
   "metadata": {},
   "outputs": [
    {
     "data": {
      "text/plain": [
       "{('associated-press', 'center'),\n",
       " ('breitbart-news', 'right'),\n",
       " ('cnn', 'left'),\n",
       " ('daily-mail', 'right'),\n",
       " ('fox-news', 'right'),\n",
       " ('msnbc', 'left'),\n",
       " ('national-review', 'right'),\n",
       " ('reuters', 'center'),\n",
       " ('the-american-conservative', 'right'),\n",
       " ('the-economist', 'center'),\n",
       " ('the-new-york-times', 'center'),\n",
       " ('the-wall-street-journal', 'center'),\n",
       " ('the-washington-times', 'center'),\n",
       " ('time', 'left'),\n",
       " ('vice-news', 'left')}"
      ]
     },
     "execution_count": 144,
     "metadata": {},
     "output_type": "execute_result"
    }
   ],
   "source": [
    "sources_labels"
   ]
  },
  {
   "cell_type": "code",
   "execution_count": 53,
   "metadata": {},
   "outputs": [],
   "source": [
    "# corpus_df = corpus_df.head(1000)"
   ]
  },
  {
   "cell_type": "code",
   "execution_count": 172,
   "metadata": {},
   "outputs": [],
   "source": [
    "sample_df = corpus_df.sample(5000)\n",
    "sample_df = sample_df.reset_index()\n",
    "# sample_df = sample_df.drop('index', axis=1)"
   ]
  },
  {
   "cell_type": "code",
   "execution_count": 173,
   "metadata": {},
   "outputs": [
    {
     "data": {
      "text/html": [
       "<div>\n",
       "<style scoped>\n",
       "    .dataframe tbody tr th:only-of-type {\n",
       "        vertical-align: middle;\n",
       "    }\n",
       "\n",
       "    .dataframe tbody tr th {\n",
       "        vertical-align: top;\n",
       "    }\n",
       "\n",
       "    .dataframe thead th {\n",
       "        text-align: right;\n",
       "    }\n",
       "</style>\n",
       "<table border=\"1\" class=\"dataframe\">\n",
       "  <thead>\n",
       "    <tr style=\"text-align: right;\">\n",
       "      <th></th>\n",
       "      <th>index</th>\n",
       "      <th>author</th>\n",
       "      <th>content</th>\n",
       "      <th>description</th>\n",
       "      <th>label</th>\n",
       "      <th>publishedAt</th>\n",
       "      <th>source_id</th>\n",
       "      <th>source_name</th>\n",
       "      <th>title</th>\n",
       "      <th>url</th>\n",
       "      <th>urlToImage</th>\n",
       "      <th>text</th>\n",
       "      <th>neg</th>\n",
       "      <th>neu</th>\n",
       "      <th>pos</th>\n",
       "      <th>compound</th>\n",
       "      <th>subjectivity</th>\n",
       "    </tr>\n",
       "  </thead>\n",
       "  <tbody>\n",
       "    <tr>\n",
       "      <th>0</th>\n",
       "      <td>3259</td>\n",
       "      <td>none_provided</td>\n",
       "      <td>JEFFERSON CITY, Mo. (AP) — Missouri Highway Pa...</td>\n",
       "      <td>JEFFERSON CITY, Mo. (AP) — Missouri Highway Pa...</td>\n",
       "      <td>center</td>\n",
       "      <td>2018-08-24T19:59:02Z</td>\n",
       "      <td>associated-press</td>\n",
       "      <td>Associated Press</td>\n",
       "      <td>Missouri Highway Patrol leader to retire, lead...</td>\n",
       "      <td>https://apnews.com/5f182d21ff4f413cac3acb24d88...</td>\n",
       "      <td>https://bloximages.newyork1.vip.townnews.com/r...</td>\n",
       "      <td>JEFFERSON CITY, Mo. (AP)  Missouri Highway Pat...</td>\n",
       "      <td>0.019</td>\n",
       "      <td>0.952</td>\n",
       "      <td>0.029</td>\n",
       "      <td>0.0772</td>\n",
       "      <td>0.283889</td>\n",
       "    </tr>\n",
       "  </tbody>\n",
       "</table>\n",
       "</div>"
      ],
      "text/plain": [
       "   index         author                                            content  \\\n",
       "0   3259  none_provided  JEFFERSON CITY, Mo. (AP) — Missouri Highway Pa...   \n",
       "\n",
       "                                         description   label  \\\n",
       "0  JEFFERSON CITY, Mo. (AP) — Missouri Highway Pa...  center   \n",
       "\n",
       "            publishedAt         source_id       source_name  \\\n",
       "0  2018-08-24T19:59:02Z  associated-press  Associated Press   \n",
       "\n",
       "                                               title  \\\n",
       "0  Missouri Highway Patrol leader to retire, lead...   \n",
       "\n",
       "                                                 url  \\\n",
       "0  https://apnews.com/5f182d21ff4f413cac3acb24d88...   \n",
       "\n",
       "                                          urlToImage  \\\n",
       "0  https://bloximages.newyork1.vip.townnews.com/r...   \n",
       "\n",
       "                                                text    neg    neu    pos  \\\n",
       "0  JEFFERSON CITY, Mo. (AP)  Missouri Highway Pat...  0.019  0.952  0.029   \n",
       "\n",
       "   compound  subjectivity  \n",
       "0    0.0772      0.283889  "
      ]
     },
     "execution_count": 173,
     "metadata": {},
     "output_type": "execute_result"
    }
   ],
   "source": [
    "sample_df.head(1)"
   ]
  },
  {
   "cell_type": "code",
   "execution_count": 174,
   "metadata": {},
   "outputs": [],
   "source": [
    "x_train = sample_df.text"
   ]
  },
  {
   "cell_type": "code",
   "execution_count": 175,
   "metadata": {},
   "outputs": [],
   "source": [
    "tokenized_train = [article.split() for article in x_train]\n",
    "phrases = Phrases(tokenized_train)\n",
    "bigram = Phraser(phrases)"
   ]
  },
  {
   "cell_type": "code",
   "execution_count": 176,
   "metadata": {},
   "outputs": [],
   "source": [
    "# print(bigram[x_train[0].split()])"
   ]
  },
  {
   "cell_type": "code",
   "execution_count": 177,
   "metadata": {},
   "outputs": [],
   "source": [
    "tokenizer = RegexpTokenizer('[A-Za-z]\\w+')\n",
    "data = list(sample_df.text)\n",
    "labels = list(sample_df.label)\n",
    "sources = list(sample_df.source_name)\n",
    "\n",
    "tagged_data = [TaggedDocument(words=bigram[tokenizer.tokenize(word)], tags=[labels[index],sources[index] ,str(sources[index])+' '+str(labels[index])+' '+ str(index)]) for index, word in enumerate(data)]\n",
    "    "
   ]
  },
  {
   "cell_type": "code",
   "execution_count": 188,
   "metadata": {},
   "outputs": [
    {
     "data": {
      "text/plain": [
       "TaggedDocument(words=['As', 'Donald_Trump', 'threatens', 'further', 'tariffs_on', 'Chinese_imports', 'the', 'prospect_of', 'deal', 'is', 'receding', 'IT_IS', 'becoming_increasingly', 'likely', 'that', 'the', 'phoney', 'trade_war', 'between', 'America', 'and', 'China', 'will', 'develop', 'into', 'the', 'real', 'thing', 'On_June', 'th', 'the', 'Trump_administration', 'published', 'two', 'lists', 'of', 'Chinese', 'products', 'it', 'plans', 'to', 'hit', 'with', 'tariffs', 'of', 'worth', 'bn', 'in', 'The', 'first', 'will', 'come', 'into', 'force', 'on', 'July', 'th', 'The', 'Chinese', 'snapped', 'back', 'with', 'their_own', 'list', 'laying_out', 'retaliation', 'of', 'equal', 'size', 'Then', 'on', 'June', 'th', 'President_Donald', 'Trump', 'directed', 'Robert_Lighthizer', 'the', 'United_States', 'Trade_Representative', 'USTR', 'to', 'draw', 'up', 'further', 'list_of', 'products', 'worth', 'bn', 'that', 'would', 'face', 'tariffs', 'of', 'and', 'threatened', 'yet_another', 'covering', 'an_additional', 'bn', 'of', 'goods', 'if', 'the', 'Chinese', 'retaliated', 'again', 'At_least', 'some', 'of', 'these', 'tough', 'words', 'will_probably', 'turn_into', 'deeds', 'Both_sides', 'can_expect', 'to', 'take', 'casualties', 'China', 'regards', 'the', 'first_round', 'of', 'American', 'tariffs', 'as', 'unilateral', 'violation_of', 'global', 'trading', 'rules', 'It', 'has', 'lodged', 'complaint', 'at', 'the', 'World_Trade', 'Organisation', 'WTO', 'But', 'Mr_Trumps', 'team', 'maintains', 'that', 'China', 'started', 'the', 'conflict', 'by', 'stealing', 'Americas', 'intellectual_property', 'and', 'engaging_in', 'unfair', 'industrial', 'policy', 'Once', 'tariffs', 'have_been', 'imposed', 'the', 'rights', 'and', 'wrongsand', 'even', 'the', 'role', 'of', 'the', 'WTO', 'itself', 'in', 'the', 'disputecould', 'be', 'forgotten', 'Upgrade_your', 'inbox', 'and', 'get_our', 'Daily_Dispatch', 'and', 'Editor', 'Picks', 'There_is', 'still', 'faint', 'hope', 'that', 'July', 'th', 'will', 'pass', 'without', 'the', 'tariffs', 'coming_into', 'force', 'The', 'fact_that', 'the', 'tariffs', 'were', 'not', 'imposed', 'immediately', 'could', 'allow', 'time', 'for', 'further', 'negotiation', 'But', 'the', 'prospects_for', 'peace', 'are', 'dimming', 'On_June', 'th', 'Peter', 'Navarro', 'Mr_Trumps', 'adviser', 'said', 'there_were', 'no_immediate', 'plans', 'for', 'talks', 'The', 'delay', 'between', 'announcing', 'the', 'tariffs', 'and', 'imposing', 'them', 'was', 'to', 'give', 'American', 'customs', 'authorities', 'time', 'to', 'prepare', 'The', 'office', 'of', 'the', 'USTR', 'has', 'also', 'taken', 'its', 'time', 'to', 'decide', 'which', 'products', 'should_be', 'subject', 'to', 'tariffs', 'It', 'wants', 'to', 'inflict', 'as', 'little', 'pain', 'as', 'possible', 'on', 'American', 'consumers', 'and', 'as', 'much', 'as', 'possible', 'on', 'Chinese', 'exporters', 'Of', 'the', 'products', 'announced', 'on', 'June', 'th', 'by', 'the', 'value', 'of', 'American', 'imports', 'were', 'capital', 'or', 'intermediate', 'goods', 'That', 'should', 'lessen', 'the', 'immediate', 'effect_on', 'consumer', 'prices', 'in', 'America', 'as', 'only', 'fraction_of', 'production', 'costs', 'will', 'rise', 'because', 'of', 'tariffs', 'The', 'USTR', 'has', 'also', 'sought', 'to_ensure', 'that', 'American', 'importers', 'would_be', 'able_to', 'find', 'alternative', 'suppliers', 'According_to', 'the', 'International', 'Trade', 'Centre', 'multilateral', 'agency', 'China', 'accounts', 'for', 'just', 'of', 'Americas', 'total', 'imports', 'of', 'the', 'affected', 'products', 'Still', 'tariffs', 'will', 'hurt', 'American_companies', 'by', 'imposing', 'costs', 'their', 'competitors', 'do_not', 'face', 'Even', 'for', 'products', 'where', 'China', 'accounts', 'for', 'small', 'share', 'of', 'imports', 'rebuilding', 'supply_chains', 'may_be', 'easier', 'said', 'than', 'done', 'In', 'public', 'testimony', 'GE', 'an_industrial', 'conglomerate', 'pointed_out', 'that', 'its', 'specialised', 'components', 'go_through', 'all_sorts', 'of', 'quality', 'control', 'processes', 'and', 'regulatory', 'approval', 'But', 'of', 'the', 'products', 'the', 'firm', 'asked', 'to', 'be', 'removed_from', 'the', 'list', 'not', 'single', 'one', 'was', 'Inflicting', 'pain', 'on', 'China', 'could', 'also', 'be', 'easier', 'said', 'than', 'done', 'The', 'Trump_administration', 'wants', 'to', 'stymie', 'Chinas', 'ambitions', 'in', 'the', 'strategic', 'sectors', 'it', 'has', 'identified_as', 'part_of', 'its', 'Made', 'in', 'China', 'policy', 'But', 'according_to', 'Yang', 'Liang', 'of', 'Syracuse', 'University', 'and', 'Mary', 'Lovely', 'of', 'the', 'Peterson', 'Institute_for', 'International', 'Economics', 'think_tank', 'in', 'Washington', 'DC', 'of', 'high', 'tech', 'Chinese', 'exports', 'to', 'America', 'in', 'came', 'from', 'wholly', 'foreign', 'owned', 'enterprises', 'The', 'bn', 'of', 'semiconductor', 'imports_from', 'China', 'in', 'the', 'firing', 'line', 'are', 'mostly', 'from', 'subsidiaries', 'of', 'American_companies', 'contain', 'chips', 'designed', 'and', 'made', 'in', 'America', 'and', 'are', 'in', 'China', 'only', 'for', 'labour', 'intensive', 'assembly', 'and', 'testing', 'Collateral', 'damage', 'Chinas', 'opening', 'blows', 'will', 'hit', 'agricultural', 'products', 'that', 'largely', 'come', 'from', 'states', 'which', 'voted_for', 'Mr_Trump', 'But', 'as', 'trade_war', 'escalates', 'the', 'pain', 'becomes', 'more', 'indiscriminate', 'In', 'America', 'imported', 'bn', 'of', 'goods', 'from', 'China', 'If', 'tariffs', 'are', 'expanded', 'to', 'cover', 'Chinese_imports', 'worth', 'bn', 'let_alone', 'bn', 'avoiding', 'consumer_products', 'such_as', 'clothes', 'and', 'electronics', 'will', 'become', 'impossible', 'Products', 'with', 'few', 'alternative', 'suppliers', 'will_be', 'hit', 'American', 'importers', 'will', 'find', 'it_harder', 'to_avoid', 'passing', 'on', 'rising', 'costs', 'to', 'consumers', 'trade_war', 'says', 'Dmitry', 'Grozoubinski', 'of', 'the', 'International', 'Centre_for', 'Trade', 'and', 'Sustainable', 'Development', 'think_tank', 'involves', 'blowing_up', 'your_own', 'cities', 'and', 'wafting', 'the', 'resulting', 'smoke', 'across', 'the', 'border', 'in', 'the', 'hopes', 'it', 'will', 'sting', 'their', 'eyes', 'Chinas', 'room', 'to', 'charge', 'tariffs', 'has', 'lower', 'ceiling', 'in', 'it', 'imported', 'just', 'bn', 'of', 'goods', 'from', 'America', 'But', 'it', 'has', 'other_options', 'It', 'could', 'stop', 'Chinese', 'students', 'and', 'tourists', 'going_to', 'America', 'It', 'could', 'find', 'regulatory', 'pretexts', 'to', 'disrupt', 'the', 'Chinese', 'operations', 'of', 'American_firms', 'According_to', 'the', 'US', 'China', 'Business', 'Council', 'the', 'Chinese_government', 'has', 'discussed', 'with', 'Chinese_firms', 'finding', 'replacements', 'for', 'the', 'American', 'products', 'they', 'use', 'In', 'normal', 'times', 'that', 'would', 'give', 'China', 'leverage', 'as', 'American_businesses', 'clamoured', 'for', 'relief', 'But', 'these', 'are', 'not', 'normal', 'times', 'For', 'some', 'within', 'the', 'administration', 'making', 'investment', 'in', 'China', 'less_attractive', 'is', 'not', 'an', 'unfortunate', 'side_effect', 'of', 'trade_war', 'but', 'one', 'of', 'its', 'aims', 'Whatever', 'form', 'this', 'conflict', 'takes', 'and', 'however', 'long', 'it', 'lasts', 'there', 'will_be', 'no', 'winner', 'Each', 'week', 'over_one', 'million_subscribers', 'trust_us', 'to', 'help_them', 'make_sense', 'of', 'the', 'world', 'Join', 'them', 'Subscribe_to', 'The_Economist', 'today_and', 'enjoy_great', 'savings_plus', 'receive', 'free', 'notebook', 'or_Sign', 'up', 'to', 'continue_reading', 'three_free', 'articles_Tell', 'us_what', 'you_think', 'of', 'Economist', 'com', 'Need_assistance', 'with', 'your', 'subscription', 'Get', 'free_articles', 'per', 'week', 'daily_newsletters', 'and', 'more', 'Published_since', 'September', 'to', 'take_part', 'in', 'severe_contest', 'between', 'intelligence', 'which_presses', 'forward', 'and', 'an', 'unworthy', 'timid_ignorance', 'obstructing_our', 'progress', 'Copyright_The', 'Economist_Newspaper', 'Limited', 'All_rights', 'reserved'], tags=['center', 'The Economist', 'The Economist center 5'])"
      ]
     },
     "execution_count": 188,
     "metadata": {},
     "output_type": "execute_result"
    }
   ],
   "source": [
    "tagged_data[5]"
   ]
  },
  {
   "cell_type": "code",
   "execution_count": 178,
   "metadata": {},
   "outputs": [
    {
     "name": "stderr",
     "output_type": "stream",
     "text": [
      "/anaconda3/lib/python3.6/site-packages/gensim/models/doc2vec.py:570: UserWarning: The parameter `size` is deprecated, will be removed in 4.0.0, use `vector_size` instead.\n",
      "  warnings.warn(\"The parameter `size` is deprecated, will be removed in 4.0.0, use `vector_size` instead.\")\n"
     ]
    },
    {
     "name": "stdout",
     "output_type": "stream",
     "text": [
      "iteration 0\n"
     ]
    },
    {
     "name": "stderr",
     "output_type": "stream",
     "text": [
      "/anaconda3/lib/python3.6/site-packages/ipykernel_launcher.py:19: DeprecationWarning: Call to deprecated `iter` (Attribute will be removed in 4.0.0, use self.epochs instead).\n"
     ]
    },
    {
     "name": "stdout",
     "output_type": "stream",
     "text": [
      "iteration 1\n",
      "iteration 2\n",
      "iteration 3\n",
      "iteration 4\n",
      "iteration 5\n",
      "iteration 6\n",
      "iteration 7\n",
      "iteration 8\n",
      "iteration 9\n",
      "iteration 10\n",
      "iteration 11\n",
      "iteration 12\n",
      "iteration 13\n",
      "iteration 14\n",
      "iteration 15\n",
      "iteration 16\n",
      "iteration 17\n",
      "iteration 18\n",
      "iteration 19\n",
      "iteration 20\n",
      "iteration 21\n",
      "iteration 22\n",
      "iteration 23\n",
      "iteration 24\n",
      "iteration 25\n",
      "iteration 26\n",
      "iteration 27\n",
      "iteration 28\n",
      "iteration 29\n",
      "iteration 30\n",
      "iteration 31\n",
      "iteration 32\n",
      "iteration 33\n",
      "iteration 34\n",
      "iteration 35\n",
      "iteration 36\n",
      "iteration 37\n",
      "iteration 38\n",
      "iteration 39\n",
      "iteration 40\n",
      "iteration 41\n",
      "iteration 42\n",
      "iteration 43\n",
      "iteration 44\n",
      "iteration 45\n",
      "iteration 46\n",
      "iteration 47\n",
      "iteration 48\n",
      "iteration 49\n",
      "iteration 50\n",
      "iteration 51\n",
      "iteration 52\n",
      "iteration 53\n",
      "iteration 54\n",
      "iteration 55\n",
      "iteration 56\n",
      "iteration 57\n",
      "iteration 58\n",
      "iteration 59\n",
      "iteration 60\n",
      "iteration 61\n",
      "iteration 62\n",
      "iteration 63\n",
      "iteration 64\n",
      "iteration 65\n",
      "iteration 66\n",
      "iteration 67\n",
      "iteration 68\n",
      "iteration 69\n",
      "iteration 70\n",
      "iteration 71\n",
      "iteration 72\n",
      "iteration 73\n",
      "iteration 74\n",
      "iteration 75\n",
      "iteration 76\n",
      "iteration 77\n",
      "iteration 78\n",
      "iteration 79\n",
      "iteration 80\n",
      "iteration 81\n",
      "iteration 82\n",
      "iteration 83\n",
      "iteration 84\n",
      "iteration 85\n",
      "iteration 86\n",
      "iteration 87\n",
      "iteration 88\n",
      "iteration 89\n",
      "iteration 90\n",
      "iteration 91\n",
      "iteration 92\n",
      "iteration 93\n",
      "iteration 94\n",
      "iteration 95\n",
      "iteration 96\n",
      "iteration 97\n",
      "iteration 98\n",
      "iteration 99\n",
      "iteration 100\n",
      "iteration 101\n",
      "iteration 102\n",
      "iteration 103\n",
      "iteration 104\n",
      "iteration 105\n",
      "iteration 106\n",
      "iteration 107\n",
      "iteration 108\n",
      "iteration 109\n",
      "iteration 110\n",
      "iteration 111\n",
      "iteration 112\n",
      "iteration 113\n",
      "iteration 114\n",
      "iteration 115\n",
      "iteration 116\n",
      "iteration 117\n",
      "iteration 118\n",
      "iteration 119\n",
      "iteration 120\n",
      "iteration 121\n",
      "iteration 122\n",
      "iteration 123\n",
      "iteration 124\n",
      "iteration 125\n",
      "iteration 126\n",
      "iteration 127\n",
      "iteration 128\n",
      "iteration 129\n",
      "iteration 130\n",
      "iteration 131\n",
      "iteration 132\n",
      "iteration 133\n",
      "iteration 134\n",
      "iteration 135\n",
      "iteration 136\n",
      "iteration 137\n",
      "iteration 138\n",
      "iteration 139\n",
      "iteration 140\n",
      "iteration 141\n",
      "iteration 142\n",
      "iteration 143\n",
      "iteration 144\n",
      "iteration 145\n",
      "iteration 146\n",
      "iteration 147\n",
      "iteration 148\n",
      "iteration 149\n",
      "iteration 150\n",
      "iteration 151\n",
      "iteration 152\n",
      "iteration 153\n",
      "iteration 154\n",
      "iteration 155\n",
      "iteration 156\n",
      "iteration 157\n",
      "iteration 158\n",
      "iteration 159\n",
      "iteration 160\n",
      "iteration 161\n",
      "iteration 162\n",
      "iteration 163\n",
      "iteration 164\n",
      "iteration 165\n",
      "iteration 166\n",
      "iteration 167\n",
      "iteration 168\n",
      "iteration 169\n",
      "iteration 170\n",
      "iteration 171\n",
      "iteration 172\n",
      "iteration 173\n",
      "iteration 174\n",
      "iteration 175\n",
      "iteration 176\n",
      "iteration 177\n",
      "iteration 178\n",
      "iteration 179\n",
      "iteration 180\n",
      "iteration 181\n",
      "iteration 182\n",
      "iteration 183\n",
      "iteration 184\n",
      "iteration 185\n",
      "iteration 186\n",
      "iteration 187\n",
      "iteration 188\n",
      "iteration 189\n",
      "iteration 190\n",
      "iteration 191\n",
      "iteration 192\n",
      "iteration 193\n",
      "iteration 194\n",
      "iteration 195\n",
      "iteration 196\n",
      "iteration 197\n",
      "iteration 198\n",
      "iteration 199\n",
      "Model Saved\n"
     ]
    }
   ],
   "source": [
    "assert gensim.models.doc2vec.FAST_VERSION > -1\n",
    "max_epochs = 200\n",
    "vec_size = 50\n",
    "alpha = 0.025\n",
    "cores = multiprocessing.cpu_count()\n",
    "\n",
    "model = Doc2Vec(size=vec_size,\n",
    "                alpha=alpha, \n",
    "                min_alpha=0.00025,\n",
    "                min_count=2,\n",
    "                dm =0, workers=cores)\n",
    "  \n",
    "model.build_vocab(tagged_data)\n",
    "\n",
    "for epoch in range(max_epochs):\n",
    "    print('iteration {0}'.format(epoch))\n",
    "    model.train(sklearn.utils.shuffle(tagged_data),\n",
    "                total_examples=model.corpus_count,\n",
    "                epochs=model.iter)\n",
    "    # decrease the learning rate\n",
    "    model.alpha -= 0.0002\n",
    "    # fix the learning rate, no decay\n",
    "    model.min_alpha = model.alpha\n",
    "\n",
    "model.save(\"d2v.model\")\n",
    "print(\"Model Saved\")"
   ]
  },
  {
   "cell_type": "code",
   "execution_count": 196,
   "metadata": {},
   "outputs": [
    {
     "name": "stderr",
     "output_type": "stream",
     "text": [
      "/anaconda3/lib/python3.6/site-packages/ipykernel_launcher.py:1: DeprecationWarning: Call to deprecated `most_similar` (Method will be removed in 4.0.0, use self.wv.most_similar() instead).\n",
      "  \"\"\"Entry point for launching an IPython kernel.\n",
      "/anaconda3/lib/python3.6/site-packages/gensim/matutils.py:737: FutureWarning: Conversion of the second argument of issubdtype from `int` to `np.signedinteger` is deprecated. In future, it will be treated as `np.int64 == np.dtype(int).type`.\n",
      "  if np.issubdtype(vec.dtype, np.int):\n"
     ]
    },
    {
     "data": {
      "text/plain": [
       "[('London', 0.5576285123825073),\n",
       " ('BOOKER', 0.5544752478599548),\n",
       " ('Vaticans', 0.5210408568382263),\n",
       " ('Ronald', 0.5157053470611572),\n",
       " ('exploring', 0.5055341124534607),\n",
       " ('thunderstorms', 0.5032579302787781),\n",
       " ('dont_remember', 0.49266496300697327),\n",
       " ('Chiang', 0.4885493516921997),\n",
       " ('affixed', 0.48729604482650757),\n",
       " ('abstain', 0.4819973111152649)]"
      ]
     },
     "execution_count": 196,
     "metadata": {},
     "output_type": "execute_result"
    }
   ],
   "source": [
    "model.most_similar('great')"
   ]
  },
  {
   "cell_type": "code",
   "execution_count": 194,
   "metadata": {},
   "outputs": [
    {
     "name": "stdout",
     "output_type": "stream",
     "text": [
      "[('The American Conservative', 0.9369813799858093), ('Time', 0.9279861450195312), ('National Review right 4512', 0.5756717920303345), ('National Review right 1101', 0.5621157288551331), ('National Review right 910', 0.5481550693511963), ('MSNBC left 2228', 0.5106648802757263), ('CNN left 3845', -0.013068556785583496), ('CNN left 2300', -0.022524692118167877), ('MSNBC left 1541', -0.0862095057964325), ('Associated Press center 1754', -0.1268918812274933)]\n"
     ]
    },
    {
     "name": "stderr",
     "output_type": "stream",
     "text": [
      "/anaconda3/lib/python3.6/site-packages/gensim/matutils.py:737: FutureWarning: Conversion of the second argument of issubdtype from `int` to `np.signedinteger` is deprecated. In future, it will be treated as `np.int64 == np.dtype(int).type`.\n",
      "  if np.issubdtype(vec.dtype, np.int):\n"
     ]
    }
   ],
   "source": [
    "# to find most similar doc using tags\n",
    "similar_doc = model.docvecs.most_similar('Fox News')\n",
    "print(similar_doc)\n",
    "\n",
    "# print(model.docvecs['1']) #print doc vector"
   ]
  },
  {
   "cell_type": "code",
   "execution_count": 190,
   "metadata": {},
   "outputs": [
    {
     "name": "stdout",
     "output_type": "stream",
     "text": [
      "[('Vice News', 0.9902253150939941), ('center', 0.9772250056266785), ('The Economist', 0.9745921492576599), ('The New York Times', 0.9671074151992798), ('right', 0.9652225971221924), ('Reuters', 0.9580557346343994), ('Daily Mail', 0.956326961517334), ('Breitbart News', 0.9547126293182373), ('Associated Press', 0.9361096024513245), ('National Review', 0.9012750387191772)]\n"
     ]
    },
    {
     "name": "stderr",
     "output_type": "stream",
     "text": [
      "/anaconda3/lib/python3.6/site-packages/ipykernel_launcher.py:1: DeprecationWarning: Call to deprecated `most_similar` (Method will be removed in 4.0.0, use self.wv.most_similar() instead).\n",
      "  \"\"\"Entry point for launching an IPython kernel.\n",
      "/anaconda3/lib/python3.6/site-packages/gensim/matutils.py:737: FutureWarning: Conversion of the second argument of issubdtype from `int` to `np.signedinteger` is deprecated. In future, it will be treated as `np.int64 == np.dtype(int).type`.\n",
      "  if np.issubdtype(vec.dtype, np.int):\n"
     ]
    }
   ],
   "source": [
    "testing_math = model.most_similar(positive=['Alex_Jones'], negative=['right'])\n",
    "print(similar_doc)"
   ]
  },
  {
   "cell_type": "code",
   "execution_count": 179,
   "metadata": {},
   "outputs": [],
   "source": [
    "# {('associated-press', 'center'),\n",
    "#  ('breitbart-news', 'right'),\n",
    "#  ('cnn', 'left'),\n",
    "#  ('daily-mail', 'right'),\n",
    "#  ('fox-news', 'right'),\n",
    "#  ('msnbc', 'left'),\n",
    "#  ('national-review', 'right'),\n",
    "#  ('reuters', 'center'),\n",
    "#  ('the-american-conservative', 'right'),\n",
    "#  ('the-economist', 'center'),\n",
    "#  ('the-new-york-times', 'center'),\n",
    "#  ('the-wall-street-journal', 'center'),\n",
    "#  ('the-washington-times', 'center'),\n",
    "#  ('time', 'left'),\n",
    "#  ('vice-news', 'left')}"
   ]
  },
  {
   "cell_type": "code",
   "execution_count": null,
   "metadata": {},
   "outputs": [],
   "source": []
  }
 ],
 "metadata": {
  "kernelspec": {
   "display_name": "Python 3",
   "language": "python",
   "name": "python3"
  },
  "language_info": {
   "codemirror_mode": {
    "name": "ipython",
    "version": 3
   },
   "file_extension": ".py",
   "mimetype": "text/x-python",
   "name": "python",
   "nbconvert_exporter": "python",
   "pygments_lexer": "ipython3",
   "version": "3.6.5"
  }
 },
 "nbformat": 4,
 "nbformat_minor": 2
}
