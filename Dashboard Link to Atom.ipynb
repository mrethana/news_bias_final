{
 "cells": [
  {
   "cell_type": "code",
   "execution_count": 2,
   "metadata": {
    "extensions": {
     "jupyter_dashboards": {
      "version": 1,
      "views": {
       "grid_default": {
        "hidden": true
       },
       "report_default": {
        "hidden": true
       }
      }
     }
    }
   },
   "outputs": [],
   "source": [
    "import ipywidgets as widgets\n",
    "from ipywidgets import interact, interactive, fixed, interact_manual\n",
    "import ipywidgets as widgets\n",
    "from IPython.display import Image\n",
    "from IPython.core.display import HTML \n",
    "import time\n",
    "from ipywidgets import FloatProgress\n",
    "from IPython.display import display\n",
    "from bs4 import BeautifulSoup\n",
    "import requests\n",
    "import re\n",
    "from os import path\n",
    "from PIL import Image\n",
    "import pandas as pd\n",
    "import warnings\n",
    "warnings.filterwarnings(\"ignore\")\n",
    "from jupyter_dash import *\n",
    "from d2v_func import *\n",
    "from model_evaluation import *\n",
    "from pca_func import *"
   ]
  },
  {
   "cell_type": "markdown",
   "metadata": {
    "extensions": {
     "jupyter_dashboards": {
      "version": 1,
      "views": {
       "grid_default": {
        "col": 0,
        "height": 3,
        "hidden": false,
        "row": 0,
        "width": 4
       },
       "report_default": {}
      }
     }
    }
   },
   "source": [
    "# Live Search"
   ]
  },
  {
   "cell_type": "code",
   "execution_count": 3,
   "metadata": {
    "extensions": {
     "jupyter_dashboards": {
      "version": 1,
      "views": {
       "grid_default": {
        "col": 0,
        "height": 6,
        "hidden": false,
        "row": 3,
        "width": 4
       },
       "report_default": {}
      }
     }
    }
   },
   "outputs": [
    {
     "data": {
      "application/vnd.jupyter.widget-view+json": {
       "model_id": "6cbdd8e85898408f819d7a3c41d3c279",
       "version_major": 2,
       "version_minor": 0
      },
      "text/plain": [
       "interactive(children=(Text(value='', continuous_update=False, description='Search:', placeholder='Search News'…"
      ]
     },
     "metadata": {},
     "output_type": "display_data"
    }
   ],
   "source": [
    "search_widget = widgets.Text(placeholder = 'Search News', description='Search:', disabled=False,continuous_update=False)\n",
    "interact(quick_search, parameter=search_widget);"
   ]
  },
  {
   "cell_type": "code",
   "execution_count": 4,
   "metadata": {
    "extensions": {
     "jupyter_dashboards": {
      "version": 1,
      "views": {
       "grid_default": {
        "col": 4,
        "height": 25,
        "hidden": false,
        "row": 0,
        "width": 8
       },
       "report_default": {
        "hidden": true
       }
      }
     }
    }
   },
   "outputs": [
    {
     "data": {
      "application/vnd.jupyter.widget-view+json": {
       "model_id": "597f11708f2042c1a0935302a3ae73e0",
       "version_major": 2,
       "version_minor": 0
      },
      "text/plain": [
       "interactive(children=(IntSlider(value=1, description='Limit', max=20, min=1), ToggleButtons(description='Mediu…"
      ]
     },
     "metadata": {},
     "output_type": "display_data"
    }
   ],
   "source": [
    "Limit_widgetq = widgets.IntSlider(min=1, max=20, step=1, value=1)\n",
    "Medium_widgetq = widgets.ToggleButtons(options = ['Text', 'Audio','Video'], description ='Medium', button_style='')\n",
    "\n",
    "\n",
    "interact(quick_pull_content,Limit = Limit_widgetq, Medium = Medium_widgetq);\n"
   ]
  },
  {
   "cell_type": "code",
   "execution_count": 5,
   "metadata": {
    "extensions": {
     "jupyter_dashboards": {
      "version": 1,
      "views": {
       "grid_default": {
        "col": 0,
        "height": 8,
        "hidden": true,
        "row": 42,
        "width": 12
       },
       "report_default": {
        "hidden": true
       }
      }
     }
    }
   },
   "outputs": [],
   "source": [
    "# search_news('Brett Kavanaugh')\n",
    "# search_news('Russian hacking')\n",
    "# search_news('Donald Trump')"
   ]
  },
  {
   "cell_type": "code",
   "execution_count": 6,
   "metadata": {
    "extensions": {
     "jupyter_dashboards": {
      "version": 1,
      "views": {
       "grid_default": {
        "col": 0,
        "height": 3,
        "hidden": true,
        "row": 184,
        "width": 10
       },
       "report_default": {
        "hidden": false
       }
      }
     }
    }
   },
   "outputs": [],
   "source": [
    "# pd.read_csv('Archive_CSV/Russian_hackingcurrent_search.csv')"
   ]
  },
  {
   "cell_type": "markdown",
   "metadata": {
    "extensions": {
     "jupyter_dashboards": {
      "version": 1,
      "views": {
       "grid_default": {
        "col": 0,
        "height": 8,
        "hidden": false,
        "row": 9,
        "width": 4
       },
       "report_default": {}
      }
     }
    }
   },
   "source": [
    "# Followed Stories\n",
    "# 1. Brett Kavanaugh\n",
    "# 2. Russia Investigation\n",
    "# 3. Donald Trump\n"
   ]
  },
  {
   "cell_type": "code",
   "execution_count": 7,
   "metadata": {
    "extensions": {
     "jupyter_dashboards": {
      "version": 1,
      "views": {
       "grid_default": {
        "col": 0,
        "height": 8,
        "hidden": false,
        "row": 17,
        "width": 4
       },
       "report_default": {}
      }
     }
    }
   },
   "outputs": [
    {
     "data": {
      "application/vnd.jupyter.widget-view+json": {
       "model_id": "0fcf88d9258b4d949787fdbdf62f7565",
       "version_major": 2,
       "version_minor": 0
      },
      "text/plain": [
       "interactive(children=(Text(value='', continuous_update=False, description='Topic 1:', placeholder='Search News…"
      ]
     },
     "metadata": {},
     "output_type": "display_data"
    },
    {
     "data": {
      "application/vnd.jupyter.widget-view+json": {
       "model_id": "1d1fdceea6b3408c8f12b0992795757f",
       "version_major": 2,
       "version_minor": 0
      },
      "text/plain": [
       "interactive(children=(Text(value='', continuous_update=False, description='Topic 2:', placeholder='Search News…"
      ]
     },
     "metadata": {},
     "output_type": "display_data"
    },
    {
     "data": {
      "application/vnd.jupyter.widget-view+json": {
       "model_id": "27936bfd74fe4bd4b04a911d99a567ea",
       "version_major": 2,
       "version_minor": 0
      },
      "text/plain": [
       "interactive(children=(Text(value='', continuous_update=False, description='Topic 3:', placeholder='Search News…"
      ]
     },
     "metadata": {},
     "output_type": "display_data"
    }
   ],
   "source": [
    "search_widget_follow1 = widgets.Text(placeholder = 'Search News', description='Topic 1:', disabled=False,continuous_update=False)\n",
    "follow_widget = widgets.ToggleButtons(options = ['1'], description = '1', button_style='')\n",
    "interact(search_news, parameter=search_widget_follow1, follow_order = follow_widget);\n",
    "\n",
    "search_widget_follow2 = widgets.Text(placeholder = 'Search News', description='Topic 2:', disabled=False,continuous_update=False)\n",
    "follow_widget2 = widgets.ToggleButtons(options = ['2'], description = '2', button_style='')\n",
    "interact(search_news, parameter=search_widget_follow2, follow_order = follow_widget2);\n",
    "\n",
    "search_widget_follow3 = widgets.Text(placeholder = 'Search News', description='Topic 3:', disabled=False,continuous_update=False)\n",
    "follow_widget3 = widgets.ToggleButtons(options = ['3'], description = '3', button_style='')\n",
    "interact(search_news, parameter=search_widget_follow3, follow_order = follow_widget3);\n"
   ]
  },
  {
   "cell_type": "markdown",
   "metadata": {
    "extensions": {
     "jupyter_dashboards": {
      "version": 1,
      "views": {
       "grid_default": {
        "col": 0,
        "height": 3,
        "hidden": false,
        "row": 25,
        "width": 12
       },
       "report_default": {
        "hidden": false
       }
      }
     }
    }
   },
   "source": [
    "# Brett Kavanaugh"
   ]
  },
  {
   "cell_type": "code",
   "execution_count": 8,
   "metadata": {
    "extensions": {
     "jupyter_dashboards": {
      "version": 1,
      "views": {
       "grid_default": {
        "col": 0,
        "height": 12,
        "hidden": true,
        "row": 50,
        "width": 12
       },
       "report_default": {
        "hidden": true
       }
      }
     }
    }
   },
   "outputs": [],
   "source": [
    "# pd.read_csv('current_search.csv')"
   ]
  },
  {
   "cell_type": "code",
   "execution_count": 9,
   "metadata": {
    "extensions": {
     "jupyter_dashboards": {
      "version": 1,
      "views": {
       "grid_default": {
        "col": 0,
        "height": 17,
        "hidden": false,
        "row": 28,
        "width": 4
       },
       "report_default": {
        "hidden": true
       }
      }
     }
    },
    "scrolled": false
   },
   "outputs": [
    {
     "data": {
      "application/vnd.jupyter.widget-view+json": {
       "model_id": "386390e89c4a45b288139b5c15c99347",
       "version_major": 2,
       "version_minor": 0
      },
      "text/plain": [
       "interactive(children=(IntRangeSlider(value=(5, 50), description='Length', max=50), Dropdown(description='Persp…"
      ]
     },
     "metadata": {},
     "output_type": "display_data"
    }
   ],
   "source": [
    "# df = pd.read_csv('Archive_CSV/'+'Brett_Kavanaugh'+'current_search.csv', index_col=0)\n",
    "Length_widget1 = widgets.IntRangeSlider(min=0, max=50, step=1, value = [5,50])\n",
    "Perspective_widget1 = widgets.Dropdown(options=['right','left','center'],value = 'left',description = 'Perspective', disabled = False)\n",
    "Limit_widget1 = widgets.IntSlider(min=1, max=20, step=1, value=1)\n",
    "Medium_widget1 = widgets.ToggleButtons(options = ['Text', 'Audio','Video'], description ='Medium', button_style='')\n",
    "topic_widget1 = widgets.Dropdown(options = ['1'],value='1', description ='Topic', disabled=False)\n",
    "\n",
    "\n",
    "\n",
    "interact(pull_content,Length=Length_widget1, Perspective=Perspective_widget1, Limit = Limit_widget1, Medium = Medium_widget1, follow_order=topic_widget1);"
   ]
  },
  {
   "cell_type": "code",
   "execution_count": 10,
   "metadata": {
    "extensions": {
     "jupyter_dashboards": {
      "version": 1,
      "views": {
       "grid_default": {
        "col": 8,
        "height": 17,
        "hidden": false,
        "row": 28,
        "width": 4
       },
       "report_default": {}
      }
     }
    }
   },
   "outputs": [
    {
     "data": {
      "application/vnd.jupyter.widget-view+json": {
       "model_id": "1cb3f5df93064f65834db603e1b3f5a7",
       "version_major": 2,
       "version_minor": 0
      },
      "text/plain": [
       "interactive(children=(IntRangeSlider(value=(5, 50), description='Length', max=50), Dropdown(description='Persp…"
      ]
     },
     "metadata": {},
     "output_type": "display_data"
    }
   ],
   "source": [
    "Length_widget1_2 = widgets.IntRangeSlider(min=0, max=50, step=1, value = [5,50])\n",
    "Perspective_widget1_2 = widgets.Dropdown(options=['right','left','center'],value = 'right',description = 'Perspective', disabled = False)\n",
    "Limit_widget1_2 = widgets.IntSlider(min=1, max=20, step=1, value=1)\n",
    "Medium_widget1_2 = widgets.ToggleButtons(options = ['Text', 'Audio','Video'], description ='Medium', button_style='')\n",
    "topic_widget1_2 = widgets.Dropdown(options = ['1'],value='1', description ='Topic', disabled=False)\n",
    "\n",
    "\n",
    "\n",
    "interact(pull_content,Length=Length_widget1_2, Perspective=Perspective_widget1_2, Limit = Limit_widget1_2, Medium = Medium_widget1_2, follow_order=topic_widget1_2);\n",
    "\n"
   ]
  },
  {
   "cell_type": "code",
   "execution_count": 11,
   "metadata": {
    "extensions": {
     "jupyter_dashboards": {
      "version": 1,
      "views": {
       "grid_default": {
        "col": 4,
        "height": 17,
        "hidden": false,
        "row": 28,
        "width": 4
       },
       "report_default": {}
      }
     }
    }
   },
   "outputs": [
    {
     "data": {
      "application/vnd.jupyter.widget-view+json": {
       "model_id": "3f4072b7e7a34e3a9afbcfdbcb81dee8",
       "version_major": 2,
       "version_minor": 0
      },
      "text/plain": [
       "interactive(children=(IntRangeSlider(value=(5, 50), description='Length', max=50), Dropdown(description='Persp…"
      ]
     },
     "metadata": {},
     "output_type": "display_data"
    }
   ],
   "source": [
    "Length_widget1_3 = widgets.IntRangeSlider(min=0, max=50, step=1, value = [5,50])\n",
    "Perspective_widget1_3 = widgets.Dropdown(options=['right','left','center'],value = 'center',description = 'Perspective', disabled = False)\n",
    "Limit_widget1_3 = widgets.IntSlider(min=1, max=20, step=1, value=1)\n",
    "Medium_widget1_3 = widgets.ToggleButtons(options = ['Text', 'Audio','Video'], description ='Medium', button_style='')\n",
    "topic_widget1_3 = widgets.Dropdown(options = ['1'],value='1', description ='Topic', disabled=False)\n",
    "\n",
    "\n",
    "\n",
    "interact(pull_content,Length=Length_widget1_3, Perspective=Perspective_widget1_3, Limit = Limit_widget1_3, Medium = Medium_widget1_3, follow_order=topic_widget1_3);\n",
    "\n"
   ]
  },
  {
   "cell_type": "code",
   "execution_count": 12,
   "metadata": {
    "extensions": {
     "jupyter_dashboards": {
      "version": 1,
      "views": {
       "grid_default": {
        "col": 0,
        "height": 19,
        "hidden": false,
        "row": 45,
        "width": 12
       },
       "report_default": {
        "hidden": false
       }
      }
     }
    }
   },
   "outputs": [
    {
     "data": {
      "text/html": [
       "<iframe id=\"igraph\" scrolling=\"no\" style=\"border:none;\" seamless=\"seamless\" src=\"https://plot.ly/~mrethana/90.embed\" height=\"525px\" width=\"100%\"></iframe>"
      ],
      "text/plain": [
       "<plotly.tools.PlotlyDisplay object>"
      ]
     },
     "execution_count": 12,
     "metadata": {},
     "output_type": "execute_result"
    }
   ],
   "source": [
    "\n",
    "def plot_metrics_vs_topics_side(metric, title):\n",
    "    plot_data = []\n",
    "    perspective = []\n",
    "    master_df = pd.read_csv('Archive_CSV/1current_search.csv',index_col=0)\n",
    "    for perspective in ['left','center','right']:\n",
    "        plot_data.append(master_df[metric][(master_df.label == perspective)])\n",
    "    trace0 = go.Box(y=plot_data[0],name = 'Left',marker = dict(color = 'blue'))\n",
    "    trace1 = go.Box(y=plot_data[1],name = 'Center',marker = dict(color = 'green'))\n",
    "    trace2 = go.Box(y=plot_data[2],name = 'Right',marker = dict(color = 'red'))\n",
    "    data = [trace0, trace1, trace2]\n",
    "    layout = go.Layout(title = \"% Opinion in Articles About Brett Kavanaugh by Political Leaning\",\n",
    "                       margin=go.Margin(l=25,r=25,b=50,t=50,pad=4))\n",
    "    fig = go.Figure(data=data,layout=layout)\n",
    "    return py.iplot(fig, filename = \"plot from API (20)\")\n",
    "plot_metrics_vs_topics_side('percent_opinion', 'Brett Kavanaugh')"
   ]
  },
  {
   "cell_type": "markdown",
   "metadata": {
    "extensions": {
     "jupyter_dashboards": {
      "version": 1,
      "views": {
       "grid_default": {
        "col": 0,
        "height": 4,
        "hidden": false,
        "row": 64,
        "width": 12
       },
       "report_default": {
        "hidden": false
       }
      }
     }
    }
   },
   "source": [
    "# Russia Investigation"
   ]
  },
  {
   "cell_type": "code",
   "execution_count": 13,
   "metadata": {
    "extensions": {
     "jupyter_dashboards": {
      "version": 1,
      "views": {
       "grid_default": {
        "col": 0,
        "height": 16,
        "hidden": false,
        "row": 68,
        "width": 4
       },
       "report_default": {
        "hidden": false
       }
      }
     }
    },
    "scrolled": false
   },
   "outputs": [
    {
     "data": {
      "application/vnd.jupyter.widget-view+json": {
       "model_id": "f2333a9cce574f00a98346673e4b667f",
       "version_major": 2,
       "version_minor": 0
      },
      "text/plain": [
       "interactive(children=(IntRangeSlider(value=(5, 50), description='Length', max=50), Dropdown(description='Persp…"
      ]
     },
     "metadata": {},
     "output_type": "display_data"
    }
   ],
   "source": [
    "Length_widget2 = widgets.IntRangeSlider(min=0, max=50, step=1, value = [5,50])\n",
    "Perspective_widget2 = widgets.Dropdown(options=['right','left','center'],value = 'left',description = 'Perspective', disabled = False)\n",
    "Limit_widget2 = widgets.IntSlider(min=1, max=20, step=1, value=1)\n",
    "Medium_widget2 = widgets.ToggleButtons(options = ['Text', 'Audio','Video'], description ='Medium', button_style='')\n",
    "topic_widget2 = widgets.Dropdown(options = ['2'],value='2', description ='Topic', disabled=False)\n",
    "\n",
    "\n",
    "interact(pull_content,Length=Length_widget2, Perspective=Perspective_widget2, Limit = Limit_widget2, Medium = Medium_widget2, follow_order=topic_widget2);"
   ]
  },
  {
   "cell_type": "code",
   "execution_count": 14,
   "metadata": {
    "extensions": {
     "jupyter_dashboards": {
      "version": 1,
      "views": {
       "grid_default": {
        "col": 4,
        "height": 16,
        "hidden": false,
        "row": 68,
        "width": 4
       },
       "report_default": {}
      }
     }
    }
   },
   "outputs": [
    {
     "data": {
      "application/vnd.jupyter.widget-view+json": {
       "model_id": "2757b025839e446ea6e16de34f919262",
       "version_major": 2,
       "version_minor": 0
      },
      "text/plain": [
       "interactive(children=(IntRangeSlider(value=(5, 50), description='Length', max=50), Dropdown(description='Persp…"
      ]
     },
     "metadata": {},
     "output_type": "display_data"
    }
   ],
   "source": [
    "Length_widget2_2 = widgets.IntRangeSlider(min=0, max=50, step=1, value = [5,50])\n",
    "Perspective_widget2_2 = widgets.Dropdown(options=['right','left','center'],value = 'center',description = 'Perspective', disabled = False)\n",
    "Limit_widget2_2 = widgets.IntSlider(min=1, max=20, step=1, value=1)\n",
    "Medium_widget2_2 = widgets.ToggleButtons(options = ['Text', 'Audio','Video'], description ='Medium', button_style='')\n",
    "topic_widget2_2 = widgets.Dropdown(options = ['2'],value='2', description ='Topic', disabled=False)\n",
    "\n",
    "\n",
    "interact(pull_content,Length=Length_widget2_2, Perspective=Perspective_widget2_2, Limit = Limit_widget2_2, Medium = Medium_widget2_2, follow_order=topic_widget2_2);"
   ]
  },
  {
   "cell_type": "code",
   "execution_count": 15,
   "metadata": {
    "extensions": {
     "jupyter_dashboards": {
      "version": 1,
      "views": {
       "grid_default": {
        "col": 8,
        "height": 16,
        "hidden": false,
        "row": 68,
        "width": 4
       },
       "report_default": {}
      }
     }
    }
   },
   "outputs": [
    {
     "data": {
      "application/vnd.jupyter.widget-view+json": {
       "model_id": "3178a90623d2483cb385610f9d697918",
       "version_major": 2,
       "version_minor": 0
      },
      "text/plain": [
       "interactive(children=(IntRangeSlider(value=(5, 50), description='Length', max=50), Dropdown(description='Persp…"
      ]
     },
     "metadata": {},
     "output_type": "display_data"
    }
   ],
   "source": [
    "Length_widget2_3 = widgets.IntRangeSlider(min=0, max=50, step=1, value = [5,50])\n",
    "Perspective_widget2_3 = widgets.Dropdown(options=['right','left','center'],value = 'right',description = 'Perspective', disabled = False)\n",
    "Limit_widget2_3 = widgets.IntSlider(min=1, max=20, step=1, value=1)\n",
    "Medium_widget2_3 = widgets.ToggleButtons(options = ['Text', 'Audio','Video'], description ='Medium', button_style='')\n",
    "topic_widget2_3 = widgets.Dropdown(options = ['2'],value='2', description ='Topic', disabled=False)\n",
    "\n",
    "\n",
    "interact(pull_content,Length=Length_widget2_3, Perspective=Perspective_widget2_3, Limit = Limit_widget2_3, Medium = Medium_widget2_3, follow_order=topic_widget2_3);"
   ]
  },
  {
   "cell_type": "code",
   "execution_count": 16,
   "metadata": {
    "extensions": {
     "jupyter_dashboards": {
      "version": 1,
      "views": {
       "grid_default": {
        "col": 0,
        "height": 19,
        "hidden": false,
        "row": 84,
        "width": 12
       },
       "report_default": {
        "hidden": false
       }
      }
     }
    }
   },
   "outputs": [
    {
     "data": {
      "text/html": [
       "<iframe id=\"igraph\" scrolling=\"no\" style=\"border:none;\" seamless=\"seamless\" src=\"https://plot.ly/~mrethana/90.embed\" height=\"525px\" width=\"100%\"></iframe>"
      ],
      "text/plain": [
       "<plotly.tools.PlotlyDisplay object>"
      ]
     },
     "execution_count": 16,
     "metadata": {},
     "output_type": "execute_result"
    }
   ],
   "source": [
    "def plot_metrics_vs_topics_side(metric, title):\n",
    "    plot_data = []\n",
    "    perspective = []\n",
    "    master_df = pd.read_csv('Archive_CSV/2current_search.csv',index_col=0)\n",
    "    for perspective in ['left','center','right']:\n",
    "        plot_data.append(master_df[metric][(master_df.label == perspective)])\n",
    "    trace0 = go.Box(y=plot_data[0],name = 'Left',marker = dict(color = 'blue'))\n",
    "    trace1 = go.Box(y=plot_data[1],name = 'Center',marker = dict(color = 'green'))\n",
    "    trace2 = go.Box(y=plot_data[2],name = 'Right',marker = dict(color = 'red'))\n",
    "    data = [trace0, trace1, trace2]\n",
    "    layout = go.Layout(title = \"% Opinion in Articles About Russia Investigation by Political Leaning\",\n",
    "                       margin=go.Margin(l=25,r=25,b=50,t=50,pad=4))\n",
    "    fig = go.Figure(data=data,layout=layout)\n",
    "    return py.iplot(fig, filename = \"plot from API (20)\")\n",
    "plot_metrics_vs_topics_side('percent_opinion', 'Russian Hacking')"
   ]
  },
  {
   "cell_type": "markdown",
   "metadata": {
    "extensions": {
     "jupyter_dashboards": {
      "version": 1,
      "views": {
       "grid_default": {
        "col": 0,
        "height": 4,
        "hidden": false,
        "row": 103,
        "width": 12
       },
       "report_default": {
        "hidden": false
       }
      }
     }
    }
   },
   "source": [
    "# Donald Trump"
   ]
  },
  {
   "cell_type": "code",
   "execution_count": 17,
   "metadata": {
    "extensions": {
     "jupyter_dashboards": {
      "version": 1,
      "views": {
       "grid_default": {
        "col": 0,
        "height": 17,
        "hidden": false,
        "row": 107,
        "width": 4
       },
       "report_default": {
        "hidden": false
       }
      }
     }
    },
    "scrolled": false
   },
   "outputs": [
    {
     "data": {
      "application/vnd.jupyter.widget-view+json": {
       "model_id": "63495bacccd54276921f3936a0e8d887",
       "version_major": 2,
       "version_minor": 0
      },
      "text/plain": [
       "interactive(children=(IntRangeSlider(value=(5, 50), description='Length', max=50), Dropdown(description='Persp…"
      ]
     },
     "metadata": {},
     "output_type": "display_data"
    }
   ],
   "source": [
    "Length_widget3 = widgets.IntRangeSlider(min=0, max=50, step=1, value = [5,50])\n",
    "Perspective_widget3 = widgets.Dropdown(options=['right','left','center'],value = 'left',description = 'Perspective', disabled = False)\n",
    "Limit_widget3 = widgets.IntSlider(min=1, max=20, step=1, value=1)\n",
    "Medium_widget3 = widgets.ToggleButtons(options = ['Text', 'Audio','Video'], description ='Medium', button_style='')\n",
    "topic_widget3 = widgets.Dropdown(options = ['3'],value='3', description ='Topic', disabled=False)\n",
    "\n",
    "\n",
    "\n",
    "interact(pull_content,Length=Length_widget3, Perspective=Perspective_widget3, Limit = Limit_widget3, Medium = Medium_widget3, follow_order=topic_widget3);\n"
   ]
  },
  {
   "cell_type": "code",
   "execution_count": 18,
   "metadata": {
    "extensions": {
     "jupyter_dashboards": {
      "version": 1,
      "views": {
       "grid_default": {
        "col": 4,
        "height": 17,
        "hidden": false,
        "row": 107,
        "width": 4
       },
       "report_default": {}
      }
     }
    }
   },
   "outputs": [
    {
     "data": {
      "application/vnd.jupyter.widget-view+json": {
       "model_id": "aad589d0adfb49cf86f9e5dfddaef697",
       "version_major": 2,
       "version_minor": 0
      },
      "text/plain": [
       "interactive(children=(IntRangeSlider(value=(5, 50), description='Length', max=50), Dropdown(description='Persp…"
      ]
     },
     "metadata": {},
     "output_type": "display_data"
    }
   ],
   "source": [
    "Length_widget3_2 = widgets.IntRangeSlider(min=0, max=50, step=1, value = [5,50])\n",
    "Perspective_widget3_2 = widgets.Dropdown(options=['right','left','center'],value = 'center',description = 'Perspective', disabled = False)\n",
    "Limit_widget3_2 = widgets.IntSlider(min=1, max=20, step=1, value=1)\n",
    "Medium_widget3_2 = widgets.ToggleButtons(options = ['Text', 'Audio','Video'], description ='Medium', button_style='')\n",
    "topic_widget3_2 = widgets.Dropdown(options = ['3'],value='3', description ='Topic', disabled=False)\n",
    "\n",
    "\n",
    "\n",
    "interact(pull_content,Length=Length_widget3_2, Perspective=Perspective_widget3_2, Limit = Limit_widget3_2, Medium = Medium_widget3_2, follow_order=topic_widget3_2);\n"
   ]
  },
  {
   "cell_type": "code",
   "execution_count": 19,
   "metadata": {
    "extensions": {
     "jupyter_dashboards": {
      "version": 1,
      "views": {
       "grid_default": {
        "col": 8,
        "height": 17,
        "hidden": false,
        "row": 107,
        "width": 4
       },
       "report_default": {}
      }
     }
    }
   },
   "outputs": [
    {
     "data": {
      "application/vnd.jupyter.widget-view+json": {
       "model_id": "d9494b6578544f6ebcd4b680386dc1aa",
       "version_major": 2,
       "version_minor": 0
      },
      "text/plain": [
       "interactive(children=(IntRangeSlider(value=(5, 50), description='Length', max=50), Dropdown(description='Persp…"
      ]
     },
     "metadata": {},
     "output_type": "display_data"
    }
   ],
   "source": [
    "Length_widget3_3 = widgets.IntRangeSlider(min=0, max=50, step=1, value = [5,50])\n",
    "Perspective_widget3_3 = widgets.Dropdown(options=['right','left','center'],value = 'right',description = 'Perspective', disabled = False)\n",
    "Limit_widget3_3 = widgets.IntSlider(min=1, max=20, step=1, value=1)\n",
    "Medium_widget3_3 = widgets.ToggleButtons(options = ['Text', 'Audio','Video'], description ='Medium', button_style='')\n",
    "topic_widget3_3 = widgets.Dropdown(options = ['3'],value='3', description ='Topic', disabled=False)\n",
    "\n",
    "\n",
    "\n",
    "interact(pull_content,Length=Length_widget3_3, Perspective=Perspective_widget3_3, Limit = Limit_widget3_3, Medium = Medium_widget3_3, follow_order=topic_widget3_3);\n"
   ]
  },
  {
   "cell_type": "code",
   "execution_count": 20,
   "metadata": {
    "extensions": {
     "jupyter_dashboards": {
      "version": 1,
      "views": {
       "grid_default": {
        "col": 0,
        "height": 19,
        "hidden": false,
        "row": 124,
        "width": 12
       },
       "report_default": {
        "hidden": false
       }
      }
     }
    }
   },
   "outputs": [
    {
     "data": {
      "text/html": [
       "<iframe id=\"igraph\" scrolling=\"no\" style=\"border:none;\" seamless=\"seamless\" src=\"https://plot.ly/~mrethana/90.embed\" height=\"525px\" width=\"100%\"></iframe>"
      ],
      "text/plain": [
       "<plotly.tools.PlotlyDisplay object>"
      ]
     },
     "execution_count": 20,
     "metadata": {},
     "output_type": "execute_result"
    }
   ],
   "source": [
    "def plot_metrics_vs_topics_side(metric, title):\n",
    "    plot_data = []\n",
    "    perspective = []\n",
    "    master_df = pd.read_csv('Archive_CSV/3current_search.csv',index_col=0)\n",
    "    for perspective in ['left','center','right']:\n",
    "        plot_data.append(master_df[metric][(master_df.label == perspective)])\n",
    "    trace0 = go.Box(y=plot_data[0],name = 'Left',marker = dict(color = 'blue'))\n",
    "    trace1 = go.Box(y=plot_data[1],name = 'Center',marker = dict(color = 'green'))\n",
    "    trace2 = go.Box(y=plot_data[2],name = 'Right',marker = dict(color = 'red'))\n",
    "    data = [trace0, trace1, trace2]\n",
    "    \n",
    "    layout = go.Layout(title = \"% Opinion in Articles About Donald Trump by Political Leaning\",\n",
    "                       margin=go.Margin(l=25,r=25,b=50,t=50,pad=4))\n",
    "    fig = go.Figure(data=data,layout=layout)\n",
    "    return py.iplot(fig, filename = \"plot from API (20)\")\n",
    "plot_metrics_vs_topics_side('percent_opinion', 'Donald Trump')"
   ]
  },
  {
   "cell_type": "markdown",
   "metadata": {
    "extensions": {
     "jupyter_dashboards": {
      "version": 1,
      "views": {
       "grid_default": {
        "col": 0,
        "height": 4,
        "hidden": false,
        "row": 143,
        "width": 12
       },
       "report_default": {
        "hidden": true
       }
      }
     }
    }
   },
   "source": [
    "# Perspective Metrics"
   ]
  },
  {
   "cell_type": "code",
   "execution_count": 21,
   "metadata": {
    "extensions": {
     "jupyter_dashboards": {
      "version": 1,
      "views": {
       "grid_default": {
        "hidden": true
       },
       "report_default": {
        "hidden": true
       }
      }
     }
    }
   },
   "outputs": [],
   "source": [
    "Trigram_DBOW = Doc2Vec.load(\"D2V_models/TRI_d2v_dbow100.model\")\n"
   ]
  },
  {
   "cell_type": "code",
   "execution_count": 22,
   "metadata": {
    "extensions": {
     "jupyter_dashboards": {
      "version": 1,
      "views": {
       "grid_default": {
        "col": 0,
        "height": 41,
        "hidden": false,
        "row": 147,
        "width": 12
       },
       "report_default": {
        "hidden": false
       }
      }
     }
    }
   },
   "outputs": [
    {
     "data": {
      "application/vnd.jupyter.widget-view+json": {
       "model_id": "6afa1b8eac7343539f8c66d90d7cf4ee",
       "version_major": 2,
       "version_minor": 0
      },
      "text/plain": [
       "interactive(children=(ToggleButtons(description='Stats', options=('PCA', 'CM'), value='PCA'), Output()), _dom_…"
      ]
     },
     "metadata": {},
     "output_type": "display_data"
    }
   ],
   "source": [
    "Metric_widget = widgets.ToggleButtons(options = ['PCA', 'CM'], description ='Stats', button_style='')\n",
    "\n",
    "def choose_metric(metric):\n",
    "    if metric == 'PCA':\n",
    "        return dynamic_PCA(Trigram_DBOW,100)\n",
    "    else:\n",
    "        return evaluate_classifier_model('Trigram_DBOW', RF_fixed)\n",
    "\n",
    "interact(choose_metric, metric = Metric_widget);"
   ]
  },
  {
   "cell_type": "code",
   "execution_count": 23,
   "metadata": {
    "extensions": {
     "jupyter_dashboards": {
      "version": 1,
      "views": {
       "grid_default": {
        "hidden": true
       },
       "report_default": {
        "hidden": true
       }
      }
     }
    }
   },
   "outputs": [],
   "source": [
    "# labels = all_df.set_index('source_name')['label'].to_dict()"
   ]
  },
  {
   "cell_type": "code",
   "execution_count": 24,
   "metadata": {
    "extensions": {
     "jupyter_dashboards": {
      "version": 1,
      "views": {
       "grid_default": {
        "hidden": true
       },
       "report_default": {
        "hidden": true
       }
      }
     }
    }
   },
   "outputs": [],
   "source": [
    "# scraped_df = pd.read_csv('scraped_df.csv',index_col = 0)"
   ]
  },
  {
   "cell_type": "code",
   "execution_count": 25,
   "metadata": {
    "extensions": {
     "jupyter_dashboards": {
      "version": 1,
      "views": {
       "grid_default": {
        "hidden": true
       },
       "report_default": {
        "hidden": true
       }
      }
     }
    }
   },
   "outputs": [],
   "source": [
    "# def label_scraped_data(label_dict,scraped_data):\n",
    "#     label_list = []\n",
    "#     for index, row in scraped_data.iterrows():\n",
    "#         if row.source_name in list(label_dict.keys()):\n",
    "#             label_list.append(label_dict[row.source_name])\n",
    "#         else:\n",
    "#             label_list.append('na')\n",
    "#     scraped_data['labels'] = label_list\n",
    "#     return scraped_data"
   ]
  },
  {
   "cell_type": "code",
   "execution_count": 28,
   "metadata": {
    "extensions": {
     "jupyter_dashboards": {
      "version": 1,
      "views": {
       "grid_default": {
        "hidden": true
       },
       "report_default": {}
      }
     }
    }
   },
   "outputs": [],
   "source": [
    "df = pd.read_csv('Archive_CSV/current_search.csv', index_col=0)"
   ]
  },
  {
   "cell_type": "code",
   "execution_count": 29,
   "metadata": {
    "extensions": {
     "jupyter_dashboards": {
      "version": 1,
      "views": {
       "grid_default": {
        "col": 0,
        "height": 18,
        "hidden": false,
        "row": 188,
        "width": 12
       },
       "report_default": {}
      }
     }
    }
   },
   "outputs": [
    {
     "data": {
      "text/html": [
       "<div>\n",
       "<style scoped>\n",
       "    .dataframe tbody tr th:only-of-type {\n",
       "        vertical-align: middle;\n",
       "    }\n",
       "\n",
       "    .dataframe tbody tr th {\n",
       "        vertical-align: top;\n",
       "    }\n",
       "\n",
       "    .dataframe thead th {\n",
       "        text-align: right;\n",
       "    }\n",
       "</style>\n",
       "<table border=\"1\" class=\"dataframe\">\n",
       "  <thead>\n",
       "    <tr style=\"text-align: right;\">\n",
       "      <th></th>\n",
       "      <th>author</th>\n",
       "      <th>content</th>\n",
       "      <th>description</th>\n",
       "      <th>medium</th>\n",
       "      <th>publishedAt</th>\n",
       "      <th>source_id</th>\n",
       "      <th>source_name</th>\n",
       "      <th>title</th>\n",
       "      <th>url</th>\n",
       "      <th>urlToImage</th>\n",
       "    </tr>\n",
       "  </thead>\n",
       "  <tbody>\n",
       "    <tr>\n",
       "      <th>0</th>\n",
       "      <td>The Associated Press</td>\n",
       "      <td>A race by U.S. tech companies to build a new g...</td>\n",
       "      <td>Get breaking national and world news, broadcas...</td>\n",
       "      <td>text</td>\n",
       "      <td>2018-09-24T14:16:52Z</td>\n",
       "      <td>abc-news</td>\n",
       "      <td>ABC News</td>\n",
       "      <td>AP Explains: The US push to boost 'quantum com...</td>\n",
       "      <td>https://abcnews.go.com/Technology/wireStory/ap...</td>\n",
       "      <td>https://s.abcnews.com/images/Technology/WireAP...</td>\n",
       "    </tr>\n",
       "    <tr>\n",
       "      <th>1</th>\n",
       "      <td>Robin McKie Science Editor</td>\n",
       "      <td>A small group of scientists will achieve inter...</td>\n",
       "      <td>It is the ultimate accolade, but critics claim...</td>\n",
       "      <td>text</td>\n",
       "      <td>2018-09-30T07:00:48Z</td>\n",
       "      <td>the-guardian-au</td>\n",
       "      <td>The Guardian (AU)</td>\n",
       "      <td>Why Nobel prizes fail 21st-century science</td>\n",
       "      <td>https://www.theguardian.com/science/2018/sep/3...</td>\n",
       "      <td>https://i.guim.co.uk/img/media/a6b02afe61aad1a...</td>\n",
       "    </tr>\n",
       "    <tr>\n",
       "      <th>2</th>\n",
       "      <td>https://www.facebook.com/bbcnews</td>\n",
       "      <td>Image caption Dr Ross Donaldson hopes to achie...</td>\n",
       "      <td>A team at Heriot-Watt University in Edinburgh ...</td>\n",
       "      <td>text</td>\n",
       "      <td>2018-09-18T23:43:39Z</td>\n",
       "      <td>bbc-news</td>\n",
       "      <td>BBC News</td>\n",
       "      <td>Academics in drive to make code from space unb...</td>\n",
       "      <td>https://www.bbc.co.uk/news/uk-scotland-edinbur...</td>\n",
       "      <td>https://ichef.bbci.co.uk/news/1024/branded_new...</td>\n",
       "    </tr>\n",
       "    <tr>\n",
       "      <th>3</th>\n",
       "      <td>Guardian Staff</td>\n",
       "      <td>I s Mark Zuckerberg too powerful? The Facebook...</td>\n",
       "      <td>Anti-monopoly law has not kept abreast of soci...</td>\n",
       "      <td>text</td>\n",
       "      <td>2018-09-30T06:00:46Z</td>\n",
       "      <td>the-guardian-au</td>\n",
       "      <td>The Guardian (AU)</td>\n",
       "      <td>Zuckerberg now runs not a business but an empi...</td>\n",
       "      <td>https://www.theguardian.com/technology/2018/se...</td>\n",
       "      <td>https://i.guim.co.uk/img/media/a1a9f9b9aec1020...</td>\n",
       "    </tr>\n",
       "    <tr>\n",
       "      <th>4</th>\n",
       "      <td>The Associated Press</td>\n",
       "      <td>The path to peace in a trade war between the U...</td>\n",
       "      <td>Get breaking national and world news, broadcas...</td>\n",
       "      <td>text</td>\n",
       "      <td>2018-09-19T20:09:58Z</td>\n",
       "      <td>abc-news</td>\n",
       "      <td>ABC News</td>\n",
       "      <td>No way out? US, China tariffs may become the '...</td>\n",
       "      <td>https://abcnews.go.com/Business/wireStory/us-c...</td>\n",
       "      <td>https://s.abcnews.com/images/Business/WireAP_f...</td>\n",
       "    </tr>\n",
       "  </tbody>\n",
       "</table>\n",
       "</div>"
      ],
      "text/plain": [
       "                             author  \\\n",
       "0              The Associated Press   \n",
       "1        Robin McKie Science Editor   \n",
       "2  https://www.facebook.com/bbcnews   \n",
       "3                    Guardian Staff   \n",
       "4              The Associated Press   \n",
       "\n",
       "                                             content  \\\n",
       "0  A race by U.S. tech companies to build a new g...   \n",
       "1  A small group of scientists will achieve inter...   \n",
       "2  Image caption Dr Ross Donaldson hopes to achie...   \n",
       "3  I s Mark Zuckerberg too powerful? The Facebook...   \n",
       "4  The path to peace in a trade war between the U...   \n",
       "\n",
       "                                         description medium  \\\n",
       "0  Get breaking national and world news, broadcas...   text   \n",
       "1  It is the ultimate accolade, but critics claim...   text   \n",
       "2  A team at Heriot-Watt University in Edinburgh ...   text   \n",
       "3  Anti-monopoly law has not kept abreast of soci...   text   \n",
       "4  Get breaking national and world news, broadcas...   text   \n",
       "\n",
       "            publishedAt        source_id        source_name  \\\n",
       "0  2018-09-24T14:16:52Z         abc-news           ABC News   \n",
       "1  2018-09-30T07:00:48Z  the-guardian-au  The Guardian (AU)   \n",
       "2  2018-09-18T23:43:39Z         bbc-news           BBC News   \n",
       "3  2018-09-30T06:00:46Z  the-guardian-au  The Guardian (AU)   \n",
       "4  2018-09-19T20:09:58Z         abc-news           ABC News   \n",
       "\n",
       "                                               title  \\\n",
       "0  AP Explains: The US push to boost 'quantum com...   \n",
       "1         Why Nobel prizes fail 21st-century science   \n",
       "2  Academics in drive to make code from space unb...   \n",
       "3  Zuckerberg now runs not a business but an empi...   \n",
       "4  No way out? US, China tariffs may become the '...   \n",
       "\n",
       "                                                 url  \\\n",
       "0  https://abcnews.go.com/Technology/wireStory/ap...   \n",
       "1  https://www.theguardian.com/science/2018/sep/3...   \n",
       "2  https://www.bbc.co.uk/news/uk-scotland-edinbur...   \n",
       "3  https://www.theguardian.com/technology/2018/se...   \n",
       "4  https://abcnews.go.com/Business/wireStory/us-c...   \n",
       "\n",
       "                                          urlToImage  \n",
       "0  https://s.abcnews.com/images/Technology/WireAP...  \n",
       "1  https://i.guim.co.uk/img/media/a6b02afe61aad1a...  \n",
       "2  https://ichef.bbci.co.uk/news/1024/branded_new...  \n",
       "3  https://i.guim.co.uk/img/media/a1a9f9b9aec1020...  \n",
       "4  https://s.abcnews.com/images/Business/WireAP_f...  "
      ]
     },
     "execution_count": 29,
     "metadata": {},
     "output_type": "execute_result"
    }
   ],
   "source": [
    "df.head()"
   ]
  },
  {
   "cell_type": "code",
   "execution_count": null,
   "metadata": {
    "extensions": {
     "jupyter_dashboards": {
      "version": 1,
      "views": {
       "grid_default": {
        "hidden": true
       },
       "report_default": {}
      }
     }
    }
   },
   "outputs": [],
   "source": []
  }
 ],
 "metadata": {
  "extensions": {
   "jupyter_dashboards": {
    "activeView": "grid_default",
    "version": 1,
    "views": {
     "grid_default": {
      "cellMargin": 10,
      "defaultCellHeight": 20,
      "maxColumns": 12,
      "name": "grid",
      "type": "grid"
     },
     "report_default": {
      "name": "report",
      "type": "report"
     }
    }
   }
  },
  "kernelspec": {
   "display_name": "Python 3",
   "language": "python",
   "name": "python3"
  },
  "language_info": {
   "codemirror_mode": {
    "name": "ipython",
    "version": 3
   },
   "file_extension": ".py",
   "mimetype": "text/x-python",
   "name": "python",
   "nbconvert_exporter": "python",
   "pygments_lexer": "ipython3",
   "version": "3.6.5"
  }
 },
 "nbformat": 4,
 "nbformat_minor": 2
}
